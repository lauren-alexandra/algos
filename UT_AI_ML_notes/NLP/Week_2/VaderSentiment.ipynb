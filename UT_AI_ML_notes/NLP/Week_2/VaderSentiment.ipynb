{
  "nbformat": 4,
  "nbformat_minor": 0,
  "metadata": {
    "kernelspec": {
      "display_name": "Python 3",
      "language": "python",
      "name": "python3"
    },
    "colab": {
      "name": "VaderSentiment.ipynb",
      "provenance": [],
      "collapsed_sections": []
    }
  },
  "cells": [
    {
      "cell_type": "markdown",
      "metadata": {
        "id": "txGbsNxSJU17"
      },
      "source": [
        "Proprietary content. ©Great Learning. All Rights Reserved. Unauthorized use or distribution prohibited"
      ]
    },
    {
      "cell_type": "code",
      "metadata": {
        "colab": {
          "base_uri": "https://localhost:8080/"
        },
        "id": "izzKhjpsJU2C",
        "outputId": "49c7a825-0e33-48b4-bac2-0fbd9f3bf358"
      },
      "source": [
        "from textblob import TextBlob\n",
        "text=TextBlob(\"I am happy\")\n",
        "print(text.sentiment)"
      ],
      "execution_count": 1,
      "outputs": [
        {
          "output_type": "stream",
          "text": [
            "Sentiment(polarity=0.8, subjectivity=1.0)\n"
          ],
          "name": "stdout"
        }
      ]
    },
    {
      "cell_type": "code",
      "metadata": {
        "colab": {
          "base_uri": "https://localhost:8080/"
        },
        "id": "WskYiRreJU2E",
        "outputId": "4a705436-9ad4-49c6-b5e0-e57599e1e6bd"
      },
      "source": [
        "!pip install vaderSentiment\n",
        "from vaderSentiment.vaderSentiment import SentimentIntensityAnalyzer\n",
        "text=SentimentIntensityAnalyzer()\n",
        "score=text.polarity_scores(\"I am happy\")\n",
        "print(score)\n"
      ],
      "execution_count": 2,
      "outputs": [
        {
          "output_type": "stream",
          "text": [
            "Collecting vaderSentiment\n",
            "\u001b[?25l  Downloading https://files.pythonhosted.org/packages/76/fc/310e16254683c1ed35eeb97386986d6c00bc29df17ce280aed64d55537e9/vaderSentiment-3.3.2-py2.py3-none-any.whl (125kB)\n",
            "\r\u001b[K     |██▋                             | 10kB 14.7MB/s eta 0:00:01\r\u001b[K     |█████▏                          | 20kB 14.3MB/s eta 0:00:01\r\u001b[K     |███████▉                        | 30kB 8.7MB/s eta 0:00:01\r\u001b[K     |██████████▍                     | 40kB 8.2MB/s eta 0:00:01\r\u001b[K     |█████████████                   | 51kB 5.3MB/s eta 0:00:01\r\u001b[K     |███████████████▋                | 61kB 5.8MB/s eta 0:00:01\r\u001b[K     |██████████████████▏             | 71kB 5.8MB/s eta 0:00:01\r\u001b[K     |████████████████████▉           | 81kB 6.2MB/s eta 0:00:01\r\u001b[K     |███████████████████████▍        | 92kB 6.5MB/s eta 0:00:01\r\u001b[K     |██████████████████████████      | 102kB 6.3MB/s eta 0:00:01\r\u001b[K     |████████████████████████████▋   | 112kB 6.3MB/s eta 0:00:01\r\u001b[K     |███████████████████████████████▏| 122kB 6.3MB/s eta 0:00:01\r\u001b[K     |████████████████████████████████| 133kB 6.3MB/s \n",
            "\u001b[?25hRequirement already satisfied: requests in /usr/local/lib/python3.6/dist-packages (from vaderSentiment) (2.23.0)\n",
            "Requirement already satisfied: certifi>=2017.4.17 in /usr/local/lib/python3.6/dist-packages (from requests->vaderSentiment) (2020.12.5)\n",
            "Requirement already satisfied: idna<3,>=2.5 in /usr/local/lib/python3.6/dist-packages (from requests->vaderSentiment) (2.10)\n",
            "Requirement already satisfied: chardet<4,>=3.0.2 in /usr/local/lib/python3.6/dist-packages (from requests->vaderSentiment) (3.0.4)\n",
            "Requirement already satisfied: urllib3!=1.25.0,!=1.25.1,<1.26,>=1.21.1 in /usr/local/lib/python3.6/dist-packages (from requests->vaderSentiment) (1.24.3)\n",
            "Installing collected packages: vaderSentiment\n",
            "Successfully installed vaderSentiment-3.3.2\n",
            "{'neg': 0.0, 'neu': 0.351, 'pos': 0.649, 'compound': 0.5719}\n"
          ],
          "name": "stdout"
        }
      ]
    }
  ]
}