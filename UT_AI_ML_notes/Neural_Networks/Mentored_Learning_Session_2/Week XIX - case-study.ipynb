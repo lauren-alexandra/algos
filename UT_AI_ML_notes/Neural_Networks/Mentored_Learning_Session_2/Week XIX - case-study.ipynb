{
 "cells": [
  {
   "cell_type": "code",
   "execution_count": null,
   "metadata": {},
   "outputs": [],
   "source": [
    "X1, X2, X3"
   ]
  },
  {
   "cell_type": "code",
   "execution_count": null,
   "metadata": {},
   "outputs": [],
   "source": [
    "2 hidden layers\n",
    "\n",
    "2 nodes, 2 nodes"
   ]
  },
  {
   "cell_type": "code",
   "execution_count": null,
   "metadata": {},
   "outputs": [],
   "source": [
    "h1_1 <0: 0\n",
    "h1_1 >= 0: h1_1"
   ]
  },
  {
   "cell_type": "code",
   "execution_count": null,
   "metadata": {},
   "outputs": [],
   "source": [
    "\n",
    "h1_1 = a1_1*x1 + a1_2*x2 + a1_3*x3 + b1_1\n",
    "activation_function\n",
    "\n",
    "h1_2 = a2_1*x1 + a2_2*x2 + a2_3*x3 + b1_2\n"
   ]
  },
  {
   "cell_type": "code",
   "execution_count": null,
   "metadata": {},
   "outputs": [],
   "source": [
    "\n",
    "h2_1 = c1_1*h1_1 + c1_2*h1_2 + b2_1\n",
    "h2_2 = c2_1*h1_1 + c2_2*h1_2 + b2_2\n"
   ]
  },
  {
   "cell_type": "code",
   "execution_count": null,
   "metadata": {},
   "outputs": [],
   "source": [
    "\n",
    "\n",
    "h2_1 = c1_1*(a1_1*x1 + a1_2*x2 + a1_3*x3 + b1_1) + c1_2*h1_2 + b2_1\n",
    "\n",
    " = c1_1*a1_1*x1 + c1_1*a1_2*x2\n",
    " = d1_1*x1"
   ]
  },
  {
   "cell_type": "code",
   "execution_count": null,
   "metadata": {},
   "outputs": [],
   "source": []
  },
  {
   "cell_type": "code",
   "execution_count": null,
   "metadata": {},
   "outputs": [],
   "source": []
  },
  {
   "cell_type": "code",
   "execution_count": null,
   "metadata": {},
   "outputs": [],
   "source": [
    "\n",
    "sigmoid() : 0 and 1\n",
    "\n"
   ]
  },
  {
   "cell_type": "code",
   "execution_count": null,
   "metadata": {},
   "outputs": [],
   "source": []
  },
  {
   "cell_type": "code",
   "execution_count": 2,
   "metadata": {
    "ExecuteTime": {
     "end_time": "2021-01-17T17:50:16.605863Z",
     "start_time": "2021-01-17T17:50:13.146979Z"
    }
   },
   "outputs": [],
   "source": [
    "import tensorflow as tf\n",
    "import tensorflow.keras.layers as L"
   ]
  },
  {
   "cell_type": "code",
   "execution_count": 3,
   "metadata": {
    "ExecuteTime": {
     "end_time": "2021-01-17T17:50:17.557847Z",
     "start_time": "2021-01-17T17:50:16.607777Z"
    }
   },
   "outputs": [],
   "source": [
    "import pandas as pd\n",
    "from sklearn.model_selection import train_test_split\n",
    "from sklearn.preprocessing import StandardScaler\n",
    "\n",
    "%matplotlib inline\n",
    "import matplotlib.pyplot as plt"
   ]
  },
  {
   "cell_type": "code",
   "execution_count": 4,
   "metadata": {
    "ExecuteTime": {
     "end_time": "2021-01-17T17:50:17.562711Z",
     "start_time": "2021-01-17T17:50:17.560021Z"
    }
   },
   "outputs": [],
   "source": [
    "FILE_PATH = \"creditcard.csv\"\n",
    "SEED =123"
   ]
  },
  {
   "cell_type": "code",
   "execution_count": 5,
   "metadata": {
    "ExecuteTime": {
     "end_time": "2021-01-17T17:50:19.308592Z",
     "start_time": "2021-01-17T17:50:17.565014Z"
    }
   },
   "outputs": [],
   "source": [
    "data = pd.read_csv(FILE_PATH)"
   ]
  },
  {
   "cell_type": "code",
   "execution_count": 6,
   "metadata": {
    "ExecuteTime": {
     "end_time": "2021-01-17T17:50:19.314613Z",
     "start_time": "2021-01-17T17:50:19.310155Z"
    }
   },
   "outputs": [
    {
     "data": {
      "text/plain": [
       "(284807, 31)"
      ]
     },
     "execution_count": 6,
     "metadata": {},
     "output_type": "execute_result"
    }
   ],
   "source": [
    "data.shape"
   ]
  },
  {
   "cell_type": "code",
   "execution_count": 7,
   "metadata": {
    "ExecuteTime": {
     "end_time": "2021-01-17T17:50:19.344706Z",
     "start_time": "2021-01-17T17:50:19.316555Z"
    }
   },
   "outputs": [
    {
     "data": {
      "text/html": [
       "<div>\n",
       "<style scoped>\n",
       "    .dataframe tbody tr th:only-of-type {\n",
       "        vertical-align: middle;\n",
       "    }\n",
       "\n",
       "    .dataframe tbody tr th {\n",
       "        vertical-align: top;\n",
       "    }\n",
       "\n",
       "    .dataframe thead th {\n",
       "        text-align: right;\n",
       "    }\n",
       "</style>\n",
       "<table border=\"1\" class=\"dataframe\">\n",
       "  <thead>\n",
       "    <tr style=\"text-align: right;\">\n",
       "      <th></th>\n",
       "      <th>Time</th>\n",
       "      <th>V1</th>\n",
       "      <th>V2</th>\n",
       "      <th>V3</th>\n",
       "      <th>V4</th>\n",
       "      <th>V5</th>\n",
       "      <th>V6</th>\n",
       "      <th>V7</th>\n",
       "      <th>V8</th>\n",
       "      <th>V9</th>\n",
       "      <th>...</th>\n",
       "      <th>V21</th>\n",
       "      <th>V22</th>\n",
       "      <th>V23</th>\n",
       "      <th>V24</th>\n",
       "      <th>V25</th>\n",
       "      <th>V26</th>\n",
       "      <th>V27</th>\n",
       "      <th>V28</th>\n",
       "      <th>Amount</th>\n",
       "      <th>Class</th>\n",
       "    </tr>\n",
       "  </thead>\n",
       "  <tbody>\n",
       "    <tr>\n",
       "      <th>0</th>\n",
       "      <td>0.0</td>\n",
       "      <td>-1.359807</td>\n",
       "      <td>-0.072781</td>\n",
       "      <td>2.536347</td>\n",
       "      <td>1.378155</td>\n",
       "      <td>-0.338321</td>\n",
       "      <td>0.462388</td>\n",
       "      <td>0.239599</td>\n",
       "      <td>0.098698</td>\n",
       "      <td>0.363787</td>\n",
       "      <td>...</td>\n",
       "      <td>-0.018307</td>\n",
       "      <td>0.277838</td>\n",
       "      <td>-0.110474</td>\n",
       "      <td>0.066928</td>\n",
       "      <td>0.128539</td>\n",
       "      <td>-0.189115</td>\n",
       "      <td>0.133558</td>\n",
       "      <td>-0.021053</td>\n",
       "      <td>149.62</td>\n",
       "      <td>0</td>\n",
       "    </tr>\n",
       "    <tr>\n",
       "      <th>1</th>\n",
       "      <td>0.0</td>\n",
       "      <td>1.191857</td>\n",
       "      <td>0.266151</td>\n",
       "      <td>0.166480</td>\n",
       "      <td>0.448154</td>\n",
       "      <td>0.060018</td>\n",
       "      <td>-0.082361</td>\n",
       "      <td>-0.078803</td>\n",
       "      <td>0.085102</td>\n",
       "      <td>-0.255425</td>\n",
       "      <td>...</td>\n",
       "      <td>-0.225775</td>\n",
       "      <td>-0.638672</td>\n",
       "      <td>0.101288</td>\n",
       "      <td>-0.339846</td>\n",
       "      <td>0.167170</td>\n",
       "      <td>0.125895</td>\n",
       "      <td>-0.008983</td>\n",
       "      <td>0.014724</td>\n",
       "      <td>2.69</td>\n",
       "      <td>0</td>\n",
       "    </tr>\n",
       "    <tr>\n",
       "      <th>2</th>\n",
       "      <td>1.0</td>\n",
       "      <td>-1.358354</td>\n",
       "      <td>-1.340163</td>\n",
       "      <td>1.773209</td>\n",
       "      <td>0.379780</td>\n",
       "      <td>-0.503198</td>\n",
       "      <td>1.800499</td>\n",
       "      <td>0.791461</td>\n",
       "      <td>0.247676</td>\n",
       "      <td>-1.514654</td>\n",
       "      <td>...</td>\n",
       "      <td>0.247998</td>\n",
       "      <td>0.771679</td>\n",
       "      <td>0.909412</td>\n",
       "      <td>-0.689281</td>\n",
       "      <td>-0.327642</td>\n",
       "      <td>-0.139097</td>\n",
       "      <td>-0.055353</td>\n",
       "      <td>-0.059752</td>\n",
       "      <td>378.66</td>\n",
       "      <td>0</td>\n",
       "    </tr>\n",
       "    <tr>\n",
       "      <th>3</th>\n",
       "      <td>1.0</td>\n",
       "      <td>-0.966272</td>\n",
       "      <td>-0.185226</td>\n",
       "      <td>1.792993</td>\n",
       "      <td>-0.863291</td>\n",
       "      <td>-0.010309</td>\n",
       "      <td>1.247203</td>\n",
       "      <td>0.237609</td>\n",
       "      <td>0.377436</td>\n",
       "      <td>-1.387024</td>\n",
       "      <td>...</td>\n",
       "      <td>-0.108300</td>\n",
       "      <td>0.005274</td>\n",
       "      <td>-0.190321</td>\n",
       "      <td>-1.175575</td>\n",
       "      <td>0.647376</td>\n",
       "      <td>-0.221929</td>\n",
       "      <td>0.062723</td>\n",
       "      <td>0.061458</td>\n",
       "      <td>123.50</td>\n",
       "      <td>0</td>\n",
       "    </tr>\n",
       "    <tr>\n",
       "      <th>4</th>\n",
       "      <td>2.0</td>\n",
       "      <td>-1.158233</td>\n",
       "      <td>0.877737</td>\n",
       "      <td>1.548718</td>\n",
       "      <td>0.403034</td>\n",
       "      <td>-0.407193</td>\n",
       "      <td>0.095921</td>\n",
       "      <td>0.592941</td>\n",
       "      <td>-0.270533</td>\n",
       "      <td>0.817739</td>\n",
       "      <td>...</td>\n",
       "      <td>-0.009431</td>\n",
       "      <td>0.798278</td>\n",
       "      <td>-0.137458</td>\n",
       "      <td>0.141267</td>\n",
       "      <td>-0.206010</td>\n",
       "      <td>0.502292</td>\n",
       "      <td>0.219422</td>\n",
       "      <td>0.215153</td>\n",
       "      <td>69.99</td>\n",
       "      <td>0</td>\n",
       "    </tr>\n",
       "  </tbody>\n",
       "</table>\n",
       "<p>5 rows × 31 columns</p>\n",
       "</div>"
      ],
      "text/plain": [
       "   Time        V1        V2        V3        V4        V5        V6        V7  \\\n",
       "0   0.0 -1.359807 -0.072781  2.536347  1.378155 -0.338321  0.462388  0.239599   \n",
       "1   0.0  1.191857  0.266151  0.166480  0.448154  0.060018 -0.082361 -0.078803   \n",
       "2   1.0 -1.358354 -1.340163  1.773209  0.379780 -0.503198  1.800499  0.791461   \n",
       "3   1.0 -0.966272 -0.185226  1.792993 -0.863291 -0.010309  1.247203  0.237609   \n",
       "4   2.0 -1.158233  0.877737  1.548718  0.403034 -0.407193  0.095921  0.592941   \n",
       "\n",
       "         V8        V9  ...       V21       V22       V23       V24       V25  \\\n",
       "0  0.098698  0.363787  ... -0.018307  0.277838 -0.110474  0.066928  0.128539   \n",
       "1  0.085102 -0.255425  ... -0.225775 -0.638672  0.101288 -0.339846  0.167170   \n",
       "2  0.247676 -1.514654  ...  0.247998  0.771679  0.909412 -0.689281 -0.327642   \n",
       "3  0.377436 -1.387024  ... -0.108300  0.005274 -0.190321 -1.175575  0.647376   \n",
       "4 -0.270533  0.817739  ... -0.009431  0.798278 -0.137458  0.141267 -0.206010   \n",
       "\n",
       "        V26       V27       V28  Amount  Class  \n",
       "0 -0.189115  0.133558 -0.021053  149.62      0  \n",
       "1  0.125895 -0.008983  0.014724    2.69      0  \n",
       "2 -0.139097 -0.055353 -0.059752  378.66      0  \n",
       "3 -0.221929  0.062723  0.061458  123.50      0  \n",
       "4  0.502292  0.219422  0.215153   69.99      0  \n",
       "\n",
       "[5 rows x 31 columns]"
      ]
     },
     "execution_count": 7,
     "metadata": {},
     "output_type": "execute_result"
    }
   ],
   "source": [
    "data.head()"
   ]
  },
  {
   "cell_type": "code",
   "execution_count": 8,
   "metadata": {
    "ExecuteTime": {
     "end_time": "2021-01-17T17:50:51.072005Z",
     "start_time": "2021-01-17T17:50:51.022667Z"
    }
   },
   "outputs": [],
   "source": [
    "data = data.drop(\"Time\", axis = 1)"
   ]
  },
  {
   "cell_type": "code",
   "execution_count": 9,
   "metadata": {
    "ExecuteTime": {
     "end_time": "2021-01-17T17:50:52.069828Z",
     "start_time": "2021-01-17T17:50:52.066346Z"
    }
   },
   "outputs": [],
   "source": [
    "DEP_DRIVER = \"Class\""
   ]
  },
  {
   "cell_type": "code",
   "execution_count": 14,
   "metadata": {
    "ExecuteTime": {
     "end_time": "2021-01-17T17:53:20.038744Z",
     "start_time": "2021-01-17T17:53:20.025558Z"
    }
   },
   "outputs": [
    {
     "data": {
      "text/plain": [
       "0    284315\n",
       "1       492\n",
       "Name: Class, dtype: int64"
      ]
     },
     "execution_count": 14,
     "metadata": {},
     "output_type": "execute_result"
    }
   ],
   "source": [
    "data[DEP_DRIVER].value_counts()"
   ]
  },
  {
   "cell_type": "code",
   "execution_count": 10,
   "metadata": {
    "ExecuteTime": {
     "end_time": "2021-01-17T17:50:57.112358Z",
     "start_time": "2021-01-17T17:50:57.066881Z"
    }
   },
   "outputs": [],
   "source": [
    "\n",
    "X = data.drop(DEP_DRIVER, axis=1)\n",
    "Y = data[DEP_DRIVER]\n"
   ]
  },
  {
   "cell_type": "code",
   "execution_count": 11,
   "metadata": {
    "ExecuteTime": {
     "end_time": "2021-01-17T17:51:05.290943Z",
     "start_time": "2021-01-17T17:51:05.164978Z"
    }
   },
   "outputs": [],
   "source": [
    "X_train, X_validation, y_train, y_validation = train_test_split(X, Y, test_size = 0.2, random_state = SEED)"
   ]
  },
  {
   "cell_type": "code",
   "execution_count": 12,
   "metadata": {
    "ExecuteTime": {
     "end_time": "2021-01-17T17:51:18.848438Z",
     "start_time": "2021-01-17T17:51:18.679811Z"
    }
   },
   "outputs": [
    {
     "data": {
      "text/plain": [
       "StandardScaler(copy=True, with_mean=True, with_std=True)"
      ]
     },
     "execution_count": 12,
     "metadata": {},
     "output_type": "execute_result"
    }
   ],
   "source": [
    "\n",
    "sc = StandardScaler()\n",
    "sc.fit(X_train)\n"
   ]
  },
  {
   "cell_type": "code",
   "execution_count": 13,
   "metadata": {
    "ExecuteTime": {
     "end_time": "2021-01-17T17:51:20.557202Z",
     "start_time": "2021-01-17T17:51:20.512559Z"
    }
   },
   "outputs": [],
   "source": [
    "X_train_std = sc.transform(X_train)\n",
    "X_validation_std = sc.transform(X_validation)"
   ]
  },
  {
   "cell_type": "markdown",
   "metadata": {},
   "source": [
    "### Building model in Keras"
   ]
  },
  {
   "cell_type": "markdown",
   "metadata": {},
   "source": [
    "### Model Architecture"
   ]
  },
  {
   "cell_type": "code",
   "execution_count": null,
   "metadata": {
    "ExecuteTime": {
     "end_time": "2020-11-07T17:39:34.254264Z",
     "start_time": "2020-11-07T17:39:34.249110Z"
    }
   },
   "outputs": [],
   "source": [
    "def build_model():\n",
    "    model = tf.keras.models.Sequential(\n",
    "                                [L.Dense(32, activation='tanh', input_shape = (29,)),\n",
    "                                  L.Dense(16, activation='tanh'),\n",
    "                                  L.Dense(1, activation='sigmoid')])\n",
    "    \n",
    "    optimizer = tf.keras.optimizers.Adam(lr = 0.001)\n",
    "    #optimizer = tf.keras.optimizers.SGD(lr = 0.001)\n",
    "    loss = tf.keras.losses.BinaryCrossentropy()\n",
    "    \n",
    "    model.compile(optimizer=optimizer,\n",
    "             loss=loss,\n",
    "             metrics=['accuracy'])\n",
    "    \n",
    "    return model"
   ]
  },
  {
   "cell_type": "code",
   "execution_count": 17,
   "metadata": {
    "ExecuteTime": {
     "end_time": "2021-01-17T17:59:53.100601Z",
     "start_time": "2021-01-17T17:59:53.070436Z"
    }
   },
   "outputs": [],
   "source": [
    "model = tf.keras.models.Sequential(\n",
    "                            [L.Dense(3, activation='tanh', input_shape = (3,)),\n",
    "                              L.Dense(2, activation='tanh'),\n",
    "                              L.Dense(1, activation='sigmoid')])"
   ]
  },
  {
   "cell_type": "code",
   "execution_count": 18,
   "metadata": {
    "ExecuteTime": {
     "end_time": "2021-01-17T18:02:38.866249Z",
     "start_time": "2021-01-17T18:02:38.860813Z"
    }
   },
   "outputs": [
    {
     "data": {
      "text/plain": [
       "23"
      ]
     },
     "execution_count": 18,
     "metadata": {},
     "output_type": "execute_result"
    }
   ],
   "source": [
    "(3*3 + 3) + (3*2 + 2) + (2*1 + 1)"
   ]
  },
  {
   "cell_type": "code",
   "execution_count": 19,
   "metadata": {
    "ExecuteTime": {
     "end_time": "2021-01-17T18:02:52.249608Z",
     "start_time": "2021-01-17T18:02:52.244182Z"
    }
   },
   "outputs": [
    {
     "name": "stdout",
     "output_type": "stream",
     "text": [
      "Model: \"sequential_1\"\n",
      "_________________________________________________________________\n",
      "Layer (type)                 Output Shape              Param #   \n",
      "=================================================================\n",
      "dense_3 (Dense)              (None, 3)                 12        \n",
      "_________________________________________________________________\n",
      "dense_4 (Dense)              (None, 2)                 8         \n",
      "_________________________________________________________________\n",
      "dense_5 (Dense)              (None, 1)                 3         \n",
      "=================================================================\n",
      "Total params: 23\n",
      "Trainable params: 23\n",
      "Non-trainable params: 0\n",
      "_________________________________________________________________\n"
     ]
    }
   ],
   "source": [
    "model.summary()"
   ]
  },
  {
   "cell_type": "code",
   "execution_count": null,
   "metadata": {
    "ExecuteTime": {
     "end_time": "2020-11-07T17:39:47.521068Z",
     "start_time": "2020-11-07T17:39:47.403989Z"
    }
   },
   "outputs": [],
   "source": [
    "model = build_model()"
   ]
  },
  {
   "cell_type": "code",
   "execution_count": 16,
   "metadata": {
    "ExecuteTime": {
     "end_time": "2021-01-17T17:56:32.341137Z",
     "start_time": "2021-01-17T17:56:32.332788Z"
    }
   },
   "outputs": [
    {
     "name": "stdout",
     "output_type": "stream",
     "text": [
      "Model: \"sequential\"\n",
      "_________________________________________________________________\n",
      "Layer (type)                 Output Shape              Param #   \n",
      "=================================================================\n",
      "dense (Dense)                (None, 3)                 90        \n",
      "_________________________________________________________________\n",
      "dense_1 (Dense)              (None, 2)                 8         \n",
      "_________________________________________________________________\n",
      "dense_2 (Dense)              (None, 1)                 3         \n",
      "=================================================================\n",
      "Total params: 101\n",
      "Trainable params: 101\n",
      "Non-trainable params: 0\n",
      "_________________________________________________________________\n"
     ]
    }
   ],
   "source": [
    "model.summary()"
   ]
  },
  {
   "cell_type": "code",
   "execution_count": 20,
   "metadata": {
    "ExecuteTime": {
     "end_time": "2021-01-17T18:07:08.416373Z",
     "start_time": "2021-01-17T18:07:08.389266Z"
    }
   },
   "outputs": [],
   "source": [
    "model = tf.keras.models.Sequential(\n",
    "                                [L.Dense(32, activation='tanh', input_shape = (29,)),\n",
    "                                  L.Dense(16, activation='tanh'),\n",
    "                                  L.Dense(1, activation='sigmoid')])"
   ]
  },
  {
   "cell_type": "markdown",
   "metadata": {},
   "source": [
    "### Optimizer"
   ]
  },
  {
   "cell_type": "code",
   "execution_count": 21,
   "metadata": {
    "ExecuteTime": {
     "end_time": "2021-01-17T18:07:09.661840Z",
     "start_time": "2021-01-17T18:07:09.656963Z"
    }
   },
   "outputs": [],
   "source": [
    "optimizer = tf.keras.optimizers.Adam(lr = 0.001)\n",
    "#optimizer = tf.keras.optimizers.SGD(lr = 0.001)"
   ]
  },
  {
   "cell_type": "markdown",
   "metadata": {},
   "source": [
    "### Loss function"
   ]
  },
  {
   "cell_type": "code",
   "execution_count": 22,
   "metadata": {
    "ExecuteTime": {
     "end_time": "2021-01-17T18:07:10.957148Z",
     "start_time": "2021-01-17T18:07:10.953258Z"
    }
   },
   "outputs": [],
   "source": [
    "loss = tf.keras.losses.BinaryCrossentropy()"
   ]
  },
  {
   "cell_type": "markdown",
   "metadata": {},
   "source": [
    "### Compile"
   ]
  },
  {
   "cell_type": "code",
   "execution_count": 23,
   "metadata": {
    "ExecuteTime": {
     "end_time": "2021-01-17T18:07:13.650087Z",
     "start_time": "2021-01-17T18:07:13.599458Z"
    }
   },
   "outputs": [],
   "source": [
    "model.compile(optimizer=optimizer,\n",
    "             loss=loss,\n",
    "             metrics=['accuracy'])"
   ]
  },
  {
   "cell_type": "markdown",
   "metadata": {},
   "source": [
    "### Check model architecture"
   ]
  },
  {
   "cell_type": "code",
   "execution_count": 24,
   "metadata": {
    "ExecuteTime": {
     "end_time": "2021-01-17T18:07:15.634486Z",
     "start_time": "2021-01-17T18:07:15.627100Z"
    }
   },
   "outputs": [
    {
     "name": "stdout",
     "output_type": "stream",
     "text": [
      "Model: \"sequential_2\"\n",
      "_________________________________________________________________\n",
      "Layer (type)                 Output Shape              Param #   \n",
      "=================================================================\n",
      "dense_6 (Dense)              (None, 32)                960       \n",
      "_________________________________________________________________\n",
      "dense_7 (Dense)              (None, 16)                528       \n",
      "_________________________________________________________________\n",
      "dense_8 (Dense)              (None, 1)                 17        \n",
      "=================================================================\n",
      "Total params: 1,505\n",
      "Trainable params: 1,505\n",
      "Non-trainable params: 0\n",
      "_________________________________________________________________\n"
     ]
    }
   ],
   "source": [
    "model.summary()"
   ]
  },
  {
   "cell_type": "markdown",
   "metadata": {},
   "source": [
    "### Calulcate Parameters"
   ]
  },
  {
   "cell_type": "markdown",
   "metadata": {},
   "source": [
    "### Train the model"
   ]
  },
  {
   "cell_type": "code",
   "execution_count": 25,
   "metadata": {
    "ExecuteTime": {
     "end_time": "2021-01-17T18:13:20.521219Z",
     "start_time": "2021-01-17T18:12:56.768926Z"
    },
    "collapsed": true
   },
   "outputs": [
    {
     "name": "stdout",
     "output_type": "stream",
     "text": [
      "Train on 227845 samples, validate on 56962 samples\n",
      "Epoch 1/10\n",
      "227845/227845 [==============================] - 3s 12us/sample - loss: 0.0391 - accuracy: 0.9904 - val_loss: 0.0034 - val_accuracy: 0.9993\n",
      "Epoch 2/10\n",
      "227845/227845 [==============================] - 2s 10us/sample - loss: 0.0030 - accuracy: 0.9994 - val_loss: 0.0031 - val_accuracy: 0.9993\n",
      "Epoch 3/10\n",
      "227845/227845 [==============================] - 2s 10us/sample - loss: 0.0027 - accuracy: 0.9995 - val_loss: 0.0030 - val_accuracy: 0.9993\n",
      "Epoch 4/10\n",
      "227845/227845 [==============================] - 2s 9us/sample - loss: 0.0025 - accuracy: 0.9995 - val_loss: 0.0032 - val_accuracy: 0.9993\n",
      "Epoch 5/10\n",
      "227845/227845 [==============================] - 2s 9us/sample - loss: 0.0023 - accuracy: 0.9995 - val_loss: 0.0029 - val_accuracy: 0.9993\n",
      "Epoch 6/10\n",
      "227845/227845 [==============================] - 2s 10us/sample - loss: 0.0022 - accuracy: 0.9996 - val_loss: 0.0037 - val_accuracy: 0.9989\n",
      "Epoch 7/10\n",
      "227845/227845 [==============================] - 2s 11us/sample - loss: 0.0021 - accuracy: 0.9996 - val_loss: 0.0030 - val_accuracy: 0.9993\n",
      "Epoch 8/10\n",
      "227845/227845 [==============================] - 3s 11us/sample - loss: 0.0020 - accuracy: 0.9996 - val_loss: 0.0028 - val_accuracy: 0.9994\n",
      "Epoch 9/10\n",
      "227845/227845 [==============================] - 2s 10us/sample - loss: 0.0018 - accuracy: 0.9996 - val_loss: 0.0029 - val_accuracy: 0.9994\n",
      "Epoch 10/10\n",
      "227845/227845 [==============================] - 2s 10us/sample - loss: 0.0018 - accuracy: 0.9996 - val_loss: 0.0030 - val_accuracy: 0.9994\n"
     ]
    },
    {
     "data": {
      "text/plain": [
       "<tensorflow.python.keras.callbacks.History at 0x1502e2d50>"
      ]
     },
     "execution_count": 25,
     "metadata": {},
     "output_type": "execute_result"
    }
   ],
   "source": [
    "model.fit(X_train_std,\n",
    "          y_train,\n",
    "          batch_size=128, \n",
    "          epochs=10,\n",
    "          verbose = 1,\n",
    "         validation_data=(X_validation_std, y_validation))"
   ]
  },
  {
   "cell_type": "code",
   "execution_count": null,
   "metadata": {
    "ExecuteTime": {
     "end_time": "2020-10-10T13:34:36.713161Z",
     "start_time": "2020-10-10T13:34:12.899018Z"
    }
   },
   "outputs": [],
   "source": [
    "model.fit(X_train_std,\n",
    "          y_train,\n",
    "          batch_size=128, \n",
    "          epochs=10,\n",
    "          verbose = 1,\n",
    "         validation_data=(X_validation_std, y_validation))"
   ]
  },
  {
   "cell_type": "markdown",
   "metadata": {},
   "source": [
    "### Checking model performance"
   ]
  },
  {
   "cell_type": "code",
   "execution_count": 26,
   "metadata": {
    "ExecuteTime": {
     "end_time": "2021-01-17T18:15:02.309448Z",
     "start_time": "2021-01-17T18:14:08.127140Z"
    }
   },
   "outputs": [],
   "source": [
    "history = model.fit(X_train_std,\n",
    "          y_train,\n",
    "          batch_size=128,\n",
    "          epochs=30,\n",
    "          verbose = 0,\n",
    "         validation_data=(X_validation_std, y_validation))"
   ]
  },
  {
   "cell_type": "code",
   "execution_count": 27,
   "metadata": {
    "ExecuteTime": {
     "end_time": "2021-01-17T18:15:04.892593Z",
     "start_time": "2021-01-17T18:15:04.883865Z"
    },
    "collapsed": true
   },
   "outputs": [
    {
     "data": {
      "text/plain": [
       "{'loss': [0.0017346472404883252,\n",
       "  0.001622629188369741,\n",
       "  0.001597070411663146,\n",
       "  0.0015778547228551827,\n",
       "  0.0015021178725056865,\n",
       "  0.001497154492587144,\n",
       "  0.001413224946407521,\n",
       "  0.0013360480456608699,\n",
       "  0.001316627897938679,\n",
       "  0.0011858371404287076,\n",
       "  0.001250577291247185,\n",
       "  0.001140873687998846,\n",
       "  0.0011918951757178998,\n",
       "  0.001177222175808496,\n",
       "  0.0010466525604888948,\n",
       "  0.0010327326244547047,\n",
       "  0.0009666043877902138,\n",
       "  0.0009878337624169462,\n",
       "  0.0009642255335435609,\n",
       "  0.0009328015617550829,\n",
       "  0.0008677935789030014,\n",
       "  0.000839229170445084,\n",
       "  0.00087777335210992,\n",
       "  0.0008812879901970448,\n",
       "  0.0007645577885427862,\n",
       "  0.0007525304347359601,\n",
       "  0.0007601790787997366,\n",
       "  0.0007431311149475923,\n",
       "  0.000721796742058922,\n",
       "  0.0007824426218314526],\n",
       " 'accuracy': [0.99962693,\n",
       "  0.9996533,\n",
       "  0.99966645,\n",
       "  0.9996225,\n",
       "  0.9996884,\n",
       "  0.9996752,\n",
       "  0.99969715,\n",
       "  0.9997059,\n",
       "  0.9997059,\n",
       "  0.9997718,\n",
       "  0.9997059,\n",
       "  0.99974984,\n",
       "  0.9997235,\n",
       "  0.99973226,\n",
       "  0.9997542,\n",
       "  0.999763,\n",
       "  0.9998025,\n",
       "  0.99978936,\n",
       "  0.99978054,\n",
       "  0.9997762,\n",
       "  0.9997718,\n",
       "  0.9998069,\n",
       "  0.99978495,\n",
       "  0.99976736,\n",
       "  0.99982005,\n",
       "  0.99982005,\n",
       "  0.9998113,\n",
       "  0.9998332,\n",
       "  0.9998113,\n",
       "  0.99978495],\n",
       " 'val_loss': [0.003325673501601422,\n",
       "  0.0032868988012198417,\n",
       "  0.003136943515676348,\n",
       "  0.0029923525730461246,\n",
       "  0.00344766779812384,\n",
       "  0.0029584436136915857,\n",
       "  0.0033930764599369016,\n",
       "  0.002993682747664253,\n",
       "  0.0033780019645566818,\n",
       "  0.0032966867306409102,\n",
       "  0.0034276652771340413,\n",
       "  0.003516476734911407,\n",
       "  0.003350810551131215,\n",
       "  0.0033662799405287523,\n",
       "  0.003656426665358236,\n",
       "  0.0036951444152199314,\n",
       "  0.0035606713189830098,\n",
       "  0.003411819883945522,\n",
       "  0.0035168922350338186,\n",
       "  0.003622378971163929,\n",
       "  0.003659783168778863,\n",
       "  0.003858909644529783,\n",
       "  0.00433826673098477,\n",
       "  0.003762809494766605,\n",
       "  0.0038734513454773763,\n",
       "  0.00408386795339552,\n",
       "  0.004269197722357991,\n",
       "  0.0038504622081043404,\n",
       "  0.0040405227432156274,\n",
       "  0.003951936964413733],\n",
       " 'val_accuracy': [0.9992802,\n",
       "  0.9993153,\n",
       "  0.9993153,\n",
       "  0.9994382,\n",
       "  0.9992802,\n",
       "  0.99942064,\n",
       "  0.9993153,\n",
       "  0.9994382,\n",
       "  0.99921,\n",
       "  0.9994382,\n",
       "  0.9993504,\n",
       "  0.9993329,\n",
       "  0.9994031,\n",
       "  0.999368,\n",
       "  0.9992978,\n",
       "  0.9993329,\n",
       "  0.9993153,\n",
       "  0.99938554,\n",
       "  0.999368,\n",
       "  0.9992978,\n",
       "  0.9992451,\n",
       "  0.9992802,\n",
       "  0.9991398,\n",
       "  0.999368,\n",
       "  0.9993504,\n",
       "  0.999368,\n",
       "  0.9992978,\n",
       "  0.9993504,\n",
       "  0.9994031,\n",
       "  0.9994031]}"
      ]
     },
     "execution_count": 27,
     "metadata": {},
     "output_type": "execute_result"
    }
   ],
   "source": [
    "history.history"
   ]
  },
  {
   "cell_type": "code",
   "execution_count": 28,
   "metadata": {
    "ExecuteTime": {
     "end_time": "2021-01-17T18:15:32.585266Z",
     "start_time": "2021-01-17T18:15:31.969668Z"
    }
   },
   "outputs": [
    {
     "data": {
      "image/png": "[encoded data removed]",
      "text/plain": [
       "<Figure size 432x288 with 1 Axes>"
      ]
     },
     "metadata": {
      "needs_background": "light"
     },
     "output_type": "display_data"
    },
    {
     "data": {
      "image/png": "[encoded data removed]",
      "text/plain": [
       "<Figure size 432x288 with 1 Axes>"
      ]
     },
     "metadata": {
      "needs_background": "light"
     },
     "output_type": "display_data"
    }
   ],
   "source": [
    "\n",
    "acc      = history.history[     'accuracy' ]\n",
    "val_acc  = history.history[ 'val_accuracy' ]\n",
    "loss     = history.history[    'loss' ]\n",
    "val_loss = history.history['val_loss' ]\n",
    "\n",
    "epochs   = range(len(acc)) # Get number of epochs\n",
    "\n",
    "\n",
    "plt.plot  ( epochs,     acc ,label='training')\n",
    "plt.plot  ( epochs, val_acc,label='validation' )\n",
    "plt.title ('Training and validation accuracy')\n",
    "plt.legend()\n",
    "plt.figure()\n",
    "\n",
    "plt.plot  ( epochs,     loss , label='training')\n",
    "plt.plot  ( epochs, val_loss , label='validation')\n",
    "plt.title ('Training and validation loss'   )\n",
    "plt.legend()\n",
    "plt.show()"
   ]
  },
  {
   "cell_type": "code",
   "execution_count": 33,
   "metadata": {
    "ExecuteTime": {
     "end_time": "2021-01-17T18:18:29.330696Z",
     "start_time": "2021-01-17T18:18:29.327772Z"
    }
   },
   "outputs": [],
   "source": [
    "import numpy as np"
   ]
  },
  {
   "cell_type": "code",
   "execution_count": 39,
   "metadata": {
    "ExecuteTime": {
     "end_time": "2021-01-17T18:25:21.410129Z",
     "start_time": "2021-01-17T18:25:20.642720Z"
    },
    "collapsed": true
   },
   "outputs": [
    {
     "data": {
      "text/plain": [
       "array([[3.3015880e-07],\n",
       "       [4.3595841e-07],\n",
       "       [1.1352874e-05],\n",
       "       ...,\n",
       "       [4.9198576e-07],\n",
       "       [9.6431427e-07],\n",
       "       [1.4711753e-05]], dtype=float32)"
      ]
     },
     "execution_count": 39,
     "metadata": {},
     "output_type": "execute_result"
    }
   ],
   "source": [
    "model.predict(X_validation_std)"
   ]
  },
  {
   "cell_type": "code",
   "execution_count": 40,
   "metadata": {
    "ExecuteTime": {
     "end_time": "2021-01-17T18:25:59.222862Z",
     "start_time": "2021-01-17T18:25:58.072906Z"
    }
   },
   "outputs": [
    {
     "name": "stdout",
     "output_type": "stream",
     "text": [
      "56962/56962 [==============================] - 1s 19us/sample - loss: 0.0040 - accuracy: 0.9994\n"
     ]
    },
    {
     "data": {
      "text/plain": [
       "[0.003951936986289186, 0.9994031]"
      ]
     },
     "execution_count": 40,
     "metadata": {},
     "output_type": "execute_result"
    }
   ],
   "source": [
    "model.evaluate(X_validation_std, y_validation)"
   ]
  },
  {
   "cell_type": "code",
   "execution_count": 38,
   "metadata": {
    "ExecuteTime": {
     "end_time": "2021-01-17T18:20:40.383986Z",
     "start_time": "2021-01-17T18:20:40.350067Z"
    }
   },
   "outputs": [
    {
     "data": {
      "text/plain": [
       "array([[0.00080351]], dtype=float32)"
      ]
     },
     "execution_count": 38,
     "metadata": {},
     "output_type": "execute_result"
    }
   ],
   "source": [
    "model.predict(np.array(range(29)).reshape(1,29))"
   ]
  },
  {
   "cell_type": "markdown",
   "metadata": {},
   "source": [
    "### Callbacks"
   ]
  },
  {
   "cell_type": "code",
   "execution_count": null,
   "metadata": {},
   "outputs": [],
   "source": [
    "checkpoint_path = \"./training2/cp-{epoch:04d}.ckpt\""
   ]
  },
  {
   "cell_type": "code",
   "execution_count": null,
   "metadata": {
    "ExecuteTime": {
     "end_time": "2020-11-07T18:04:13.671123Z",
     "start_time": "2020-11-07T18:04:09.019392Z"
    }
   },
   "outputs": [],
   "source": [
    "checkpoint_path = \"./training2/cp-{epoch:04d}.ckpt\"\n",
    "\n",
    "model_checkpoint_callback = tf.keras.callbacks.ModelCheckpoint(checkpoint_path, \n",
    "                                     monitor='val_loss', \n",
    "                                     verbose=0, \n",
    "                                     save_weights_only=True, \n",
    "                                     save_freq='epoch')\n",
    "\n",
    "# Model weights are saved at the end of every epoch, if it's the best seen\n",
    "# so far.\n",
    "model.fit(X_train_std,\n",
    "          y_train,\n",
    "          batch_size=128, \n",
    "          epochs=2,\n",
    "          verbose = 1,\n",
    "         validation_data=(X_validation_std, y_validation),\n",
    "         callbacks=[model_checkpoint_callback])\n",
    "\n",
    "# The model weights (that are considered the best) are loaded into the model.\n",
    "#model.load_weights(checkpoint_filepath)"
   ]
  },
  {
   "cell_type": "code",
   "execution_count": null,
   "metadata": {
    "ExecuteTime": {
     "end_time": "2020-11-07T18:05:17.262633Z",
     "start_time": "2020-11-07T18:05:17.203320Z"
    }
   },
   "outputs": [],
   "source": [
    "new_model = build_model()"
   ]
  },
  {
   "cell_type": "code",
   "execution_count": null,
   "metadata": {
    "ExecuteTime": {
     "end_time": "2020-11-07T18:06:27.001194Z",
     "start_time": "2020-11-07T18:06:26.992898Z"
    }
   },
   "outputs": [],
   "source": [
    "new_model.summary()"
   ]
  },
  {
   "cell_type": "code",
   "execution_count": null,
   "metadata": {
    "ExecuteTime": {
     "end_time": "2020-11-07T18:06:55.271772Z",
     "start_time": "2020-11-07T18:06:55.237927Z"
    }
   },
   "outputs": [],
   "source": [
    "new_model.load_weights(\"./training2/cp-{epoch:04d}.ckpt\".format(epoch=2))"
   ]
  },
  {
   "cell_type": "code",
   "execution_count": 29,
   "metadata": {
    "ExecuteTime": {
     "end_time": "2021-01-17T18:17:38.147020Z",
     "start_time": "2021-01-17T18:17:37.088083Z"
    }
   },
   "outputs": [
    {
     "name": "stdout",
     "output_type": "stream",
     "text": [
      "56962/56962 [==============================] - 1s 18us/sample - loss: 0.0040 - accuracy: 0.9994\n",
      "model, accuracy: 99.94%\n"
     ]
    }
   ],
   "source": [
    "loss, acc = model.evaluate(X_validation_std,  y_validation, verbose=1)\n",
    "#print('Restored model, accuracy: {:5.2f}%'.format(100*acc))\n",
    "print('model, accuracy: {:5.2f}%'.format(100*acc))"
   ]
  },
  {
   "cell_type": "code",
   "execution_count": null,
   "metadata": {
    "ExecuteTime": {
     "end_time": "2020-11-07T18:07:26.345295Z",
     "start_time": "2020-11-07T18:07:22.675236Z"
    }
   },
   "outputs": [],
   "source": [
    "loss, acc = new_model.evaluate(X_train_std,  y_train, verbose=1)\n",
    "print('Restored model, accuracy: {:5.2f}%'.format(100*acc))"
   ]
  },
  {
   "cell_type": "code",
   "execution_count": null,
   "metadata": {
    "ExecuteTime": {
     "end_time": "2020-11-07T18:09:09.561333Z",
     "start_time": "2020-11-07T18:09:09.557565Z"
    }
   },
   "outputs": [],
   "source": [
    "import numpy as np"
   ]
  },
  {
   "cell_type": "code",
   "execution_count": null,
   "metadata": {
    "ExecuteTime": {
     "end_time": "2020-11-07T18:09:32.199378Z",
     "start_time": "2020-11-07T18:09:32.195569Z"
    }
   },
   "outputs": [],
   "source": [
    "new_obs = np.random.random(size=(29))"
   ]
  },
  {
   "cell_type": "code",
   "execution_count": null,
   "metadata": {
    "ExecuteTime": {
     "end_time": "2020-11-07T18:10:00.900357Z",
     "start_time": "2020-11-07T18:10:00.893344Z"
    }
   },
   "outputs": [],
   "source": [
    "new_obs"
   ]
  },
  {
   "cell_type": "code",
   "execution_count": null,
   "metadata": {
    "ExecuteTime": {
     "end_time": "2020-11-07T18:09:48.456197Z",
     "start_time": "2020-11-07T18:09:48.450342Z"
    }
   },
   "outputs": [],
   "source": [
    "new_obs.shape"
   ]
  },
  {
   "cell_type": "code",
   "execution_count": null,
   "metadata": {
    "ExecuteTime": {
     "end_time": "2020-11-07T18:10:51.337301Z",
     "start_time": "2020-11-07T18:10:51.277728Z"
    }
   },
   "outputs": [],
   "source": [
    "new_model.predict([[0.88226539, 0.50008984, 0.86158959, 0.023153  , 0.2662461 ,\n",
    "       0.30361379, 0.13188233, 0.16325545, 0.5090592 , 0.25650365,\n",
    "       0.86119785, 0.5836758 , 0.91921402, 0.24484113, 0.37231449,\n",
    "       0.06100179, 0.78504055, 0.03717705, 0.16082321, 0.5662642 ,\n",
    "       0.23487959, 0.19478872, 0.97542478, 0.6204025 , 0.43309188,\n",
    "       0.29145127, 0.82469414, 0.65328207, 0.85764348]])"
   ]
  },
  {
   "cell_type": "code",
   "execution_count": null,
   "metadata": {
    "ExecuteTime": {
     "end_time": "2020-10-10T11:28:27.709404Z",
     "start_time": "2020-10-10T11:28:26.726194Z"
    }
   },
   "outputs": [],
   "source": []
  },
  {
   "cell_type": "code",
   "execution_count": null,
   "metadata": {
    "ExecuteTime": {
     "end_time": "2020-10-10T13:50:35.825693Z",
     "start_time": "2020-10-10T13:50:27.905173Z"
    }
   },
   "outputs": [],
   "source": [
    "checkpoint_path = \"./training3/cp-{epoch:04d}.ckpt\"\n",
    "\n",
    "model_checkpoint_callback = tf.keras.callbacks.ModelCheckpoint(checkpoint_path, \n",
    "                                     monitor='val_loss', \n",
    "                                     verbose=0, \n",
    "                                     save_best_only=False,\n",
    "                                     save_weights_only=False, \n",
    "                                     save_freq='epoch')\n",
    "\n",
    "# Model weights are saved at the end of every epoch, if it's the best seen\n",
    "# so far.\n",
    "\n",
    "model.reset_states()\n",
    "model.fit(X_train_std,\n",
    "          y_train,\n",
    "          batch_size=128, \n",
    "          epochs=3,\n",
    "          verbose = 1,\n",
    "         validation_data=(X_validation_std, y_validation),\n",
    "         callbacks=[model_checkpoint_callback])\n",
    "\n",
    "# The model weights (that are considered the best) are loaded into the model.\n",
    "#model.load_weights(checkpoint_filepath)"
   ]
  },
  {
   "cell_type": "code",
   "execution_count": null,
   "metadata": {
    "ExecuteTime": {
     "end_time": "2020-10-10T13:51:13.848897Z",
     "start_time": "2020-10-10T13:51:13.615265Z"
    }
   },
   "outputs": [],
   "source": [
    "new_model = tf.keras.models.load_model(\"./training3/cp-{epoch:04d}.ckpt\".format(epoch=2))\n"
   ]
  },
  {
   "cell_type": "markdown",
   "metadata": {},
   "source": [
    "### Tensorboard"
   ]
  },
  {
   "cell_type": "code",
   "execution_count": null,
   "metadata": {
    "ExecuteTime": {
     "end_time": "2020-11-07T18:15:16.393988Z",
     "start_time": "2020-11-07T18:15:16.390441Z"
    }
   },
   "outputs": [],
   "source": [
    "import datetime"
   ]
  },
  {
   "cell_type": "code",
   "execution_count": null,
   "metadata": {
    "ExecuteTime": {
     "end_time": "2020-11-07T18:15:17.132854Z",
     "start_time": "2020-11-07T18:15:17.127804Z"
    }
   },
   "outputs": [],
   "source": [
    "%load_ext tensorboard"
   ]
  },
  {
   "cell_type": "code",
   "execution_count": null,
   "metadata": {
    "ExecuteTime": {
     "end_time": "2020-11-07T18:15:20.237356Z",
     "start_time": "2020-11-07T18:15:20.108674Z"
    }
   },
   "outputs": [],
   "source": [
    "!rm -rf ./logs1/"
   ]
  },
  {
   "cell_type": "code",
   "execution_count": null,
   "metadata": {
    "ExecuteTime": {
     "end_time": "2020-11-07T18:15:24.894014Z",
     "start_time": "2020-11-07T18:15:24.888292Z"
    }
   },
   "outputs": [],
   "source": [
    "\n",
    "log_dir = \"logs1/fit1/\" + datetime.datetime.now().strftime(\"%Y%m%d-%H%M%S\")\n",
    "tensorboard_callback = tf.keras.callbacks.TensorBoard(log_dir=log_dir,\n",
    "                                                      histogram_freq=1)\n"
   ]
  },
  {
   "cell_type": "code",
   "execution_count": null,
   "metadata": {
    "ExecuteTime": {
     "end_time": "2020-11-07T18:15:25.702601Z",
     "start_time": "2020-11-07T18:15:25.619108Z"
    }
   },
   "outputs": [],
   "source": [
    "model = tf.keras.models.Sequential(\n",
    "                            [L.Dense(32, activation='tanh', input_shape = (29,), name=\"dense_32\"),\n",
    "                              L.Dense(16, activation='tanh', name=\"dense_16\"),\n",
    "                              L.Dense(1, activation='sigmoid', name=\"dense_sigmoid\")])\n",
    "\n",
    "optimizer = tf.keras.optimizers.Adam(lr = 0.001)\n",
    "#optimizer = tf.keras.optimizers.SGD(lr = 0.001)\n",
    "loss = tf.keras.losses.BinaryCrossentropy()\n",
    "\n",
    "model.compile(optimizer=optimizer,\n",
    "         loss=loss,\n",
    "         metrics=['accuracy'])\n"
   ]
  },
  {
   "cell_type": "code",
   "execution_count": null,
   "metadata": {
    "ExecuteTime": {
     "end_time": "2020-11-07T18:15:54.821809Z",
     "start_time": "2020-11-07T18:15:28.736120Z"
    }
   },
   "outputs": [],
   "source": [
    "model.fit(X_train_std,\n",
    "          y_train,\n",
    "          batch_size=128, \n",
    "          epochs=10,\n",
    "          verbose = 1,\n",
    "         validation_data=(X_validation_std, y_validation),\n",
    "         callbacks=[model_checkpoint_callback, tensorboard_callback])"
   ]
  },
  {
   "cell_type": "code",
   "execution_count": null,
   "metadata": {
    "ExecuteTime": {
     "end_time": "2020-11-07T17:05:28.521540Z",
     "start_time": "2020-11-07T17:05:28.497954Z"
    }
   },
   "outputs": [],
   "source": [
    "0.01*0.03"
   ]
  },
  {
   "cell_type": "code",
   "execution_count": 1,
   "metadata": {
    "ExecuteTime": {
     "end_time": "2021-01-17T17:44:51.183106Z",
     "start_time": "2021-01-17T17:44:51.157518Z"
    }
   },
   "outputs": [
    {
     "data": {
      "text/plain": [
       "3.2399999999999997e-10"
      ]
     },
     "execution_count": 1,
     "metadata": {},
     "output_type": "execute_result"
    }
   ],
   "source": [
    "0.01*0.03*0.01*0.03*0.01*0.03*12"
   ]
  },
  {
   "cell_type": "code",
   "execution_count": null,
   "metadata": {
    "ExecuteTime": {
     "end_time": "2020-11-07T17:10:37.914148Z",
     "start_time": "2020-11-07T17:10:37.907618Z"
    }
   },
   "outputs": [],
   "source": [
    "0.1*0.1*0.1*0.1"
   ]
  },
  {
   "cell_type": "code",
   "execution_count": null,
   "metadata": {
    "ExecuteTime": {
     "end_time": "2020-10-10T14:22:59.594096Z",
     "start_time": "2020-10-10T14:22:59.588275Z"
    }
   },
   "outputs": [],
   "source": [
    "0.01*0.03"
   ]
  },
  {
   "cell_type": "code",
   "execution_count": null,
   "metadata": {
    "ExecuteTime": {
     "end_time": "2020-11-07T17:06:36.479965Z",
     "start_time": "2020-11-07T17:06:36.474410Z"
    }
   },
   "outputs": [],
   "source": [
    "0.01*0.03*0.9*0.002*0.0002"
   ]
  },
  {
   "cell_type": "code",
   "execution_count": null,
   "metadata": {},
   "outputs": [],
   "source": []
  }
 ],
 "metadata": {
  "kernelspec": {
   "display_name": "Python 3",
   "language": "python",
   "name": "python3"
  },
  "language_info": {
   "codemirror_mode": {
    "name": "ipython",
    "version": 3
   },
   "file_extension": ".py",
   "mimetype": "text/x-python",
   "name": "python",
   "nbconvert_exporter": "python",
   "pygments_lexer": "ipython3",
   "version": "3.7.4"
  }
 },
 "nbformat": 4,
 "nbformat_minor": 2
}
