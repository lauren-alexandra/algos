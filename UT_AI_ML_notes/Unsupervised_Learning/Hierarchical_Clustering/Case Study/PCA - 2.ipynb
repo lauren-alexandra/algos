{
 "cells": [
  {
   "cell_type": "code",
   "execution_count": 10,
   "metadata": {
    "ExecuteTime": {
     "end_time": "2020-11-22T16:31:18.653211Z",
     "start_time": "2020-11-22T16:31:17.127018Z"
    }
   },
   "outputs": [],
   "source": [
    "import warnings\n",
    "warnings.filterwarnings('ignore')\n",
    "import numpy as np \n",
    "from sklearn.linear_model import LinearRegression\n",
    "import pandas as pd    \n",
    "import matplotlib.pyplot as plt \n",
    "%matplotlib inline \n",
    "import seaborn as sns\n",
    "from sklearn.decomposition import PCA"
   ]
  },
  {
   "cell_type": "code",
   "execution_count": 11,
   "metadata": {
    "ExecuteTime": {
     "end_time": "2020-11-22T16:31:18.658467Z",
     "start_time": "2020-11-22T16:31:18.654966Z"
    }
   },
   "outputs": [],
   "source": [
    "pd.set_option('max_rows', 200)\n",
    "pd.set_option('max_columns', None)"
   ]
  },
  {
   "cell_type": "code",
   "execution_count": 12,
   "metadata": {
    "ExecuteTime": {
     "end_time": "2020-11-22T16:31:18.663305Z",
     "start_time": "2020-11-22T16:31:18.660679Z"
    }
   },
   "outputs": [],
   "source": [
    "FILE_NAME = \"data_banknote_authentication.txt\"\n",
    "SEED = 123"
   ]
  },
  {
   "cell_type": "code",
   "execution_count": 13,
   "metadata": {
    "ExecuteTime": {
     "end_time": "2020-11-22T16:31:18.730509Z",
     "start_time": "2020-11-22T16:31:18.720498Z"
    }
   },
   "outputs": [],
   "source": [
    "columns = [\"var\",\"skewness\",\"curtosis\",\"entropy\",\"class\"]\n",
    "df = pd.read_csv(FILE_NAME,index_col=False, names = columns)"
   ]
  },
  {
   "cell_type": "code",
   "execution_count": 14,
   "metadata": {
    "ExecuteTime": {
     "end_time": "2020-11-22T16:31:22.998836Z",
     "start_time": "2020-11-22T16:31:22.982326Z"
    }
   },
   "outputs": [
    {
     "data": {
      "text/html": [
       "<div>\n",
       "<style scoped>\n",
       "    .dataframe tbody tr th:only-of-type {\n",
       "        vertical-align: middle;\n",
       "    }\n",
       "\n",
       "    .dataframe tbody tr th {\n",
       "        vertical-align: top;\n",
       "    }\n",
       "\n",
       "    .dataframe thead th {\n",
       "        text-align: right;\n",
       "    }\n",
       "</style>\n",
       "<table border=\"1\" class=\"dataframe\">\n",
       "  <thead>\n",
       "    <tr style=\"text-align: right;\">\n",
       "      <th></th>\n",
       "      <th>var</th>\n",
       "      <th>skewness</th>\n",
       "      <th>curtosis</th>\n",
       "      <th>entropy</th>\n",
       "      <th>class</th>\n",
       "    </tr>\n",
       "  </thead>\n",
       "  <tbody>\n",
       "    <tr>\n",
       "      <th>0</th>\n",
       "      <td>3.62160</td>\n",
       "      <td>8.6661</td>\n",
       "      <td>-2.8073</td>\n",
       "      <td>-0.44699</td>\n",
       "      <td>0</td>\n",
       "    </tr>\n",
       "    <tr>\n",
       "      <th>1</th>\n",
       "      <td>4.54590</td>\n",
       "      <td>8.1674</td>\n",
       "      <td>-2.4586</td>\n",
       "      <td>-1.46210</td>\n",
       "      <td>0</td>\n",
       "    </tr>\n",
       "    <tr>\n",
       "      <th>2</th>\n",
       "      <td>3.86600</td>\n",
       "      <td>-2.6383</td>\n",
       "      <td>1.9242</td>\n",
       "      <td>0.10645</td>\n",
       "      <td>0</td>\n",
       "    </tr>\n",
       "    <tr>\n",
       "      <th>3</th>\n",
       "      <td>3.45660</td>\n",
       "      <td>9.5228</td>\n",
       "      <td>-4.0112</td>\n",
       "      <td>-3.59440</td>\n",
       "      <td>0</td>\n",
       "    </tr>\n",
       "    <tr>\n",
       "      <th>4</th>\n",
       "      <td>0.32924</td>\n",
       "      <td>-4.4552</td>\n",
       "      <td>4.5718</td>\n",
       "      <td>-0.98880</td>\n",
       "      <td>0</td>\n",
       "    </tr>\n",
       "  </tbody>\n",
       "</table>\n",
       "</div>"
      ],
      "text/plain": [
       "       var  skewness  curtosis  entropy  class\n",
       "0  3.62160    8.6661   -2.8073 -0.44699      0\n",
       "1  4.54590    8.1674   -2.4586 -1.46210      0\n",
       "2  3.86600   -2.6383    1.9242  0.10645      0\n",
       "3  3.45660    9.5228   -4.0112 -3.59440      0\n",
       "4  0.32924   -4.4552    4.5718 -0.98880      0"
      ]
     },
     "execution_count": 14,
     "metadata": {},
     "output_type": "execute_result"
    }
   ],
   "source": [
    "df.head()"
   ]
  },
  {
   "cell_type": "code",
   "execution_count": 15,
   "metadata": {
    "ExecuteTime": {
     "end_time": "2020-11-22T16:32:59.943198Z",
     "start_time": "2020-11-22T16:32:59.643314Z"
    }
   },
   "outputs": [
    {
     "data": {
      "text/plain": [
       "<AxesSubplot:>"
      ]
     },
     "execution_count": 15,
     "metadata": {},
     "output_type": "execute_result"
    },
    {
     "data": {
      "image/png": "[encoded data removed]",
      "text/plain": [
       "<Figure size 432x288 with 2 Axes>"
      ]
     },
     "metadata": {
      "needs_background": "light"
     },
     "output_type": "display_data"
    }
   ],
   "source": [
    "corr = df.corr()\n",
    "sns.heatmap(corr, annot = True)"
   ]
  },
  {
   "cell_type": "markdown",
   "metadata": {
    "ExecuteTime": {
     "end_time": "2020-11-22T15:16:08.035614Z",
     "start_time": "2020-11-22T15:16:08.032486Z"
    }
   },
   "source": [
    "- calculate VIF to see the presence of multi-collinearity"
   ]
  },
  {
   "cell_type": "code",
   "execution_count": 16,
   "metadata": {
    "ExecuteTime": {
     "end_time": "2020-11-22T16:34:15.365287Z",
     "start_time": "2020-11-22T16:34:15.352470Z"
    }
   },
   "outputs": [
    {
     "data": {
      "text/html": [
       "<div>\n",
       "<style scoped>\n",
       "    .dataframe tbody tr th:only-of-type {\n",
       "        vertical-align: middle;\n",
       "    }\n",
       "\n",
       "    .dataframe tbody tr th {\n",
       "        vertical-align: top;\n",
       "    }\n",
       "\n",
       "    .dataframe thead th {\n",
       "        text-align: right;\n",
       "    }\n",
       "</style>\n",
       "<table border=\"1\" class=\"dataframe\">\n",
       "  <thead>\n",
       "    <tr style=\"text-align: right;\">\n",
       "      <th></th>\n",
       "      <th>var</th>\n",
       "      <th>skewness</th>\n",
       "      <th>curtosis</th>\n",
       "      <th>entropy</th>\n",
       "      <th>class</th>\n",
       "    </tr>\n",
       "  </thead>\n",
       "  <tbody>\n",
       "    <tr>\n",
       "      <th>0</th>\n",
       "      <td>3.62160</td>\n",
       "      <td>8.6661</td>\n",
       "      <td>-2.8073</td>\n",
       "      <td>-0.44699</td>\n",
       "      <td>0</td>\n",
       "    </tr>\n",
       "    <tr>\n",
       "      <th>1</th>\n",
       "      <td>4.54590</td>\n",
       "      <td>8.1674</td>\n",
       "      <td>-2.4586</td>\n",
       "      <td>-1.46210</td>\n",
       "      <td>0</td>\n",
       "    </tr>\n",
       "    <tr>\n",
       "      <th>2</th>\n",
       "      <td>3.86600</td>\n",
       "      <td>-2.6383</td>\n",
       "      <td>1.9242</td>\n",
       "      <td>0.10645</td>\n",
       "      <td>0</td>\n",
       "    </tr>\n",
       "    <tr>\n",
       "      <th>3</th>\n",
       "      <td>3.45660</td>\n",
       "      <td>9.5228</td>\n",
       "      <td>-4.0112</td>\n",
       "      <td>-3.59440</td>\n",
       "      <td>0</td>\n",
       "    </tr>\n",
       "    <tr>\n",
       "      <th>4</th>\n",
       "      <td>0.32924</td>\n",
       "      <td>-4.4552</td>\n",
       "      <td>4.5718</td>\n",
       "      <td>-0.98880</td>\n",
       "      <td>0</td>\n",
       "    </tr>\n",
       "  </tbody>\n",
       "</table>\n",
       "</div>"
      ],
      "text/plain": [
       "       var  skewness  curtosis  entropy  class\n",
       "0  3.62160    8.6661   -2.8073 -0.44699      0\n",
       "1  4.54590    8.1674   -2.4586 -1.46210      0\n",
       "2  3.86600   -2.6383    1.9242  0.10645      0\n",
       "3  3.45660    9.5228   -4.0112 -3.59440      0\n",
       "4  0.32924   -4.4552    4.5718 -0.98880      0"
      ]
     },
     "execution_count": 16,
     "metadata": {},
     "output_type": "execute_result"
    }
   ],
   "source": [
    "df.head()"
   ]
  },
  {
   "cell_type": "code",
   "execution_count": 17,
   "metadata": {
    "ExecuteTime": {
     "end_time": "2020-11-22T16:34:17.182206Z",
     "start_time": "2020-11-22T16:34:17.178569Z"
    }
   },
   "outputs": [],
   "source": [
    "X = df.iloc[:,0:4].values\n",
    "y = df.iloc[:,4].values"
   ]
  },
  {
   "cell_type": "code",
   "execution_count": 18,
   "metadata": {
    "ExecuteTime": {
     "end_time": "2020-11-22T16:34:46.256461Z",
     "start_time": "2020-11-22T16:34:46.250445Z"
    }
   },
   "outputs": [],
   "source": [
    "\n",
    "from sklearn.preprocessing import StandardScaler\n",
    "X_sd = StandardScaler().fit_transform(X)\n"
   ]
  },
  {
   "cell_type": "code",
   "execution_count": 19,
   "metadata": {
    "ExecuteTime": {
     "end_time": "2020-11-22T16:38:33.495806Z",
     "start_time": "2020-11-22T16:38:33.480147Z"
    }
   },
   "outputs": [
    {
     "name": "stdout",
     "output_type": "stream",
     "text": [
      "Covariance Matrix \n",
      "%s [[ 1.00072939  0.26421811 -0.38112776  0.2770186 ]\n",
      " [ 0.26421811  1.00072939 -0.78746918 -0.52670474]\n",
      " [-0.38112776 -0.78746918  1.00072939  0.31907345]\n",
      " [ 0.2770186  -0.52670474  0.31907345  1.00072939]]\n",
      "Eigenvectors \n",
      "[[-0.24877213 -0.75459093  0.60346443  0.06734722]\n",
      " [-0.6393234   0.05034037 -0.11596089 -0.75847512]\n",
      " [ 0.6127065   0.1534594   0.5096688  -0.58419061]\n",
      " [ 0.39238854 -0.6360099  -0.6021806  -0.28089352]]\n",
      "\n",
      "Eigenvalues \n",
      "[2.18149408 1.29409812 0.35163873 0.17568664]\n"
     ]
    }
   ],
   "source": [
    "# generating the covariance matrix and the eigen values for the PCA analysis\n",
    "cov_matrix = np.cov(X_sd.T) # the relevanat covariance matrix\n",
    "print('Covariance Matrix \\n%s', cov_matrix)\n",
    "\n",
    "#generating the eigen values and the eigen vectors\n",
    "e_vals, e_vecs = np.linalg.eig(cov_matrix)\n",
    "print('Eigenvectors \\n%s' %e_vecs)\n",
    "print('\\nEigenvalues \\n%s' %e_vals)"
   ]
  },
  {
   "cell_type": "code",
   "execution_count": 20,
   "metadata": {
    "ExecuteTime": {
     "end_time": "2020-11-22T16:39:39.809543Z",
     "start_time": "2020-11-22T16:39:39.801267Z"
    }
   },
   "outputs": [
    {
     "name": "stdout",
     "output_type": "stream",
     "text": [
      "Cumulative Variance Explained [ 54.49760184  86.82647434  95.61103519 100.        ]\n"
     ]
    }
   ],
   "source": [
    "# the \"cumulative variance explained\" analysis \n",
    "tot = sum(e_vals)\n",
    "var_exp = [( i /tot ) * 100 for i in sorted(e_vals, reverse=True)]\n",
    "cum_var_exp = np.cumsum(var_exp)\n",
    "print(\"Cumulative Variance Explained\", cum_var_exp)"
   ]
  },
  {
   "cell_type": "code",
   "execution_count": 21,
   "metadata": {
    "ExecuteTime": {
     "end_time": "2020-11-22T16:44:32.791656Z",
     "start_time": "2020-11-22T16:44:32.786481Z"
    }
   },
   "outputs": [
    {
     "data": {
      "text/plain": [
       "0.54537352"
      ]
     },
     "execution_count": 21,
     "metadata": {},
     "output_type": "execute_result"
    }
   ],
   "source": [
    "2.18149408/4"
   ]
  },
  {
   "cell_type": "code",
   "execution_count": 22,
   "metadata": {
    "ExecuteTime": {
     "end_time": "2020-11-22T16:44:10.743779Z",
     "start_time": "2020-11-22T16:44:10.736935Z"
    }
   },
   "outputs": [
    {
     "name": "stdout",
     "output_type": "stream",
     "text": [
      "[[-0.24877213 -0.6393234   0.6127065   0.39238854]\n",
      " [-0.75459093  0.05034037  0.1534594  -0.6360099 ]\n",
      " [ 0.60346443 -0.11596089  0.5096688  -0.6021806 ]\n",
      " [-0.06734722  0.75847512  0.58419061  0.28089352]]\n",
      "[0.54497602 0.32328872 0.08784561 0.04388965]\n"
     ]
    }
   ],
   "source": [
    "pca3 = PCA(n_components=4)\n",
    "pca3.fit(X_sd)\n",
    "print(pca3.components_)\n",
    "print(pca3.explained_variance_ratio_)"
   ]
  },
  {
   "cell_type": "code",
   "execution_count": 23,
   "metadata": {
    "ExecuteTime": {
     "end_time": "2020-11-22T16:45:39.863475Z",
     "start_time": "2020-11-22T16:45:39.856773Z"
    }
   },
   "outputs": [
    {
     "data": {
      "text/plain": [
       "-1.4728049316898684"
      ]
     },
     "execution_count": 23,
     "metadata": {},
     "output_type": "execute_result"
    }
   ],
   "source": [
    "1.12180565*-0.24877213 + 1.14945512*-0.6393234 + 0.6127065*-0.97597007 + 0.39238854*0.35456135"
   ]
  },
  {
   "cell_type": "code",
   "execution_count": 24,
   "metadata": {},
   "outputs": [
    {
     "ename": "SyntaxError",
     "evalue": "invalid syntax (<ipython-input-24-a57d74c844af>, line 1)",
     "output_type": "error",
     "traceback": [
      "\u001b[0;36m  File \u001b[0;32m\"<ipython-input-24-a57d74c844af>\"\u001b[0;36m, line \u001b[0;32m1\u001b[0m\n\u001b[0;31m    -0.75459093  0.05034037  0.1534594  -0.6360099\u001b[0m\n\u001b[0m                          ^\u001b[0m\n\u001b[0;31mSyntaxError\u001b[0m\u001b[0;31m:\u001b[0m invalid syntax\n"
     ]
    }
   ],
   "source": [
    "-0.75459093  0.05034037  0.1534594  -0.6360099"
   ]
  },
  {
   "cell_type": "code",
   "execution_count": null,
   "metadata": {},
   "outputs": [],
   "source": [
    "-1.4728049316898684, , , ,"
   ]
  },
  {
   "cell_type": "code",
   "execution_count": null,
   "metadata": {
    "ExecuteTime": {
     "end_time": "2020-11-22T16:44:54.819005Z",
     "start_time": "2020-11-22T16:44:54.813011Z"
    }
   },
   "outputs": [],
   "source": [
    "X_sd[0]"
   ]
  },
  {
   "cell_type": "code",
   "execution_count": null,
   "metadata": {
    "ExecuteTime": {
     "end_time": "2020-11-22T16:47:13.139557Z",
     "start_time": "2020-11-22T16:47:13.135136Z"
    }
   },
   "outputs": [],
   "source": [
    "X_pca = pca3.transform(X_sd)"
   ]
  },
  {
   "cell_type": "code",
   "execution_count": null,
   "metadata": {
    "ExecuteTime": {
     "end_time": "2020-11-22T16:47:30.857302Z",
     "start_time": "2020-11-22T16:47:30.850735Z"
    }
   },
   "outputs": [],
   "source": [
    "X_pca[:,0:2]"
   ]
  },
  {
   "cell_type": "code",
   "execution_count": null,
   "metadata": {
    "ExecuteTime": {
     "end_time": "2020-11-22T16:48:20.173817Z",
     "start_time": "2020-11-22T16:48:20.166165Z"
    }
   },
   "outputs": [],
   "source": [
    "X_pca.std(axis=0)**2"
   ]
  },
  {
   "cell_type": "code",
   "execution_count": null,
   "metadata": {
    "ExecuteTime": {
     "end_time": "2020-11-22T16:48:55.984970Z",
     "start_time": "2020-11-22T16:48:55.980072Z"
    }
   },
   "outputs": [],
   "source": [
    "2.17990407/4, 1.2931549/4"
   ]
  },
  {
   "cell_type": "code",
   "execution_count": null,
   "metadata": {
    "ExecuteTime": {
     "end_time": "2020-11-22T16:47:16.150862Z",
     "start_time": "2020-11-22T16:47:16.144715Z"
    }
   },
   "outputs": [],
   "source": [
    "X_pca"
   ]
  },
  {
   "cell_type": "code",
   "execution_count": null,
   "metadata": {
    "ExecuteTime": {
     "end_time": "2020-11-22T17:08:59.557993Z",
     "start_time": "2020-11-22T17:08:59.552565Z"
    }
   },
   "outputs": [],
   "source": [
    "#splitting the data in test and train sets\n",
    "from sklearn.model_selection import train_test_split\n",
    "X_train, X_test, y_train, y_test = train_test_split(X,y, test_size = 0.2, random_state = 10)"
   ]
  },
  {
   "cell_type": "code",
   "execution_count": null,
   "metadata": {
    "ExecuteTime": {
     "end_time": "2020-11-22T17:09:25.082903Z",
     "start_time": "2020-11-22T17:09:25.076237Z"
    }
   },
   "outputs": [],
   "source": [
    "# scaling the data using the standard scaler\n",
    "from sklearn.preprocessing import StandardScaler\n",
    "sc = StandardScaler()\n",
    "X_train_sd = sc.fit_transform(X_train)\n",
    "X_test_sd = sc.transform(X_test)"
   ]
  },
  {
   "cell_type": "code",
   "execution_count": null,
   "metadata": {
    "ExecuteTime": {
     "end_time": "2020-11-22T17:09:36.295058Z",
     "start_time": "2020-11-22T17:09:36.280034Z"
    }
   },
   "outputs": [],
   "source": [
    "\n",
    "pca3 = PCA(n_components=2)\n",
    "pca3.fit(X_train_sd)\n",
    "print(pca3.components_)\n",
    "print(pca3.explained_variance_ratio_)\n"
   ]
  },
  {
   "cell_type": "code",
   "execution_count": null,
   "metadata": {
    "ExecuteTime": {
     "end_time": "2020-11-22T17:09:49.770182Z",
     "start_time": "2020-11-22T17:09:49.765688Z"
    }
   },
   "outputs": [],
   "source": [
    "X_train_sd = pca3.transform(X_train_sd)"
   ]
  },
  {
   "cell_type": "code",
   "execution_count": null,
   "metadata": {
    "ExecuteTime": {
     "end_time": "2020-11-22T17:11:23.863727Z",
     "start_time": "2020-11-22T17:11:23.857678Z"
    }
   },
   "outputs": [],
   "source": [
    "X_train_sd.shape"
   ]
  },
  {
   "cell_type": "code",
   "execution_count": null,
   "metadata": {
    "ExecuteTime": {
     "end_time": "2020-11-22T17:10:32.233075Z",
     "start_time": "2020-11-22T17:10:32.229067Z"
    }
   },
   "outputs": [],
   "source": [
    "X_test_sd = pca3.transform(X_test_sd)"
   ]
  },
  {
   "cell_type": "code",
   "execution_count": null,
   "metadata": {
    "ExecuteTime": {
     "end_time": "2020-11-22T17:11:39.455878Z",
     "start_time": "2020-11-22T17:11:39.444881Z"
    }
   },
   "outputs": [],
   "source": [
    "from sklearn.linear_model import LogisticRegression\n",
    "\n",
    "model = LogisticRegression()\n",
    "model.fit(X_train, y_train)\n",
    "print ('Before PCA score', model.score(X_test, y_test))\n",
    "\n",
    "model.fit(X_train_sd, y_train)\n",
    "print ('After PCA score', model.score(X_test_sd, y_test))\n",
    "\n"
   ]
  },
  {
   "cell_type": "code",
   "execution_count": null,
   "metadata": {},
   "outputs": [],
   "source": [
    "from sklearn.ensemble import RandomForestClassifier\n",
    "\n",
    "clf = RandomForestClassifier()\n",
    "clf.fit(X_train_sd, y_train)\n",
    "print ('Before PCA score', clf.score(X_test_sd, y_test))\n",
    "\n",
    "clf.fit(X_sd_pca, y_train)\n",
    "print ('After PCA score', clf.score(X_test_sd_pca, y_test))\n"
   ]
  },
  {
   "cell_type": "code",
   "execution_count": null,
   "metadata": {},
   "outputs": [],
   "source": [
    "from sklearn.ensemble import AdaBoostClassifier\n",
    "\n",
    "model = AdaBoostClassifier()\n",
    "model.fit(X_train_sd, y_train)\n",
    "print ('Before PCA score', model.score(X_test_sd, y_test))\n",
    "\n",
    "model.fit(X_sd_pca, y_train)\n",
    "print ('After PCA score', model.score(X_test_sd_pca, y_test))"
   ]
  },
  {
   "cell_type": "code",
   "execution_count": null,
   "metadata": {},
   "outputs": [],
   "source": []
  },
  {
   "cell_type": "markdown",
   "metadata": {},
   "source": [
    "### PCA between 2 correlated drivers"
   ]
  },
  {
   "cell_type": "code",
   "execution_count": 25,
   "metadata": {
    "ExecuteTime": {
     "end_time": "2020-09-12T09:35:14.767837Z",
     "start_time": "2020-09-12T09:35:14.763535Z"
    }
   },
   "outputs": [],
   "source": [
    "from scipy.stats import zscore"
   ]
  },
  {
   "cell_type": "code",
   "execution_count": 26,
   "metadata": {
    "ExecuteTime": {
     "end_time": "2020-11-22T11:48:10.849165Z",
     "start_time": "2020-11-22T11:48:10.836982Z"
    }
   },
   "outputs": [
    {
     "data": {
      "text/html": [
       "<div>\n",
       "<style scoped>\n",
       "    .dataframe tbody tr th:only-of-type {\n",
       "        vertical-align: middle;\n",
       "    }\n",
       "\n",
       "    .dataframe tbody tr th {\n",
       "        vertical-align: top;\n",
       "    }\n",
       "\n",
       "    .dataframe thead th {\n",
       "        text-align: right;\n",
       "    }\n",
       "</style>\n",
       "<table border=\"1\" class=\"dataframe\">\n",
       "  <thead>\n",
       "    <tr style=\"text-align: right;\">\n",
       "      <th></th>\n",
       "      <th>var</th>\n",
       "      <th>skewness</th>\n",
       "      <th>curtosis</th>\n",
       "      <th>entropy</th>\n",
       "      <th>class</th>\n",
       "    </tr>\n",
       "  </thead>\n",
       "  <tbody>\n",
       "    <tr>\n",
       "      <th>0</th>\n",
       "      <td>3.62160</td>\n",
       "      <td>8.6661</td>\n",
       "      <td>-2.8073</td>\n",
       "      <td>-0.44699</td>\n",
       "      <td>0</td>\n",
       "    </tr>\n",
       "    <tr>\n",
       "      <th>1</th>\n",
       "      <td>4.54590</td>\n",
       "      <td>8.1674</td>\n",
       "      <td>-2.4586</td>\n",
       "      <td>-1.46210</td>\n",
       "      <td>0</td>\n",
       "    </tr>\n",
       "    <tr>\n",
       "      <th>2</th>\n",
       "      <td>3.86600</td>\n",
       "      <td>-2.6383</td>\n",
       "      <td>1.9242</td>\n",
       "      <td>0.10645</td>\n",
       "      <td>0</td>\n",
       "    </tr>\n",
       "    <tr>\n",
       "      <th>3</th>\n",
       "      <td>3.45660</td>\n",
       "      <td>9.5228</td>\n",
       "      <td>-4.0112</td>\n",
       "      <td>-3.59440</td>\n",
       "      <td>0</td>\n",
       "    </tr>\n",
       "    <tr>\n",
       "      <th>4</th>\n",
       "      <td>0.32924</td>\n",
       "      <td>-4.4552</td>\n",
       "      <td>4.5718</td>\n",
       "      <td>-0.98880</td>\n",
       "      <td>0</td>\n",
       "    </tr>\n",
       "  </tbody>\n",
       "</table>\n",
       "</div>"
      ],
      "text/plain": [
       "       var  skewness  curtosis  entropy  class\n",
       "0  3.62160    8.6661   -2.8073 -0.44699      0\n",
       "1  4.54590    8.1674   -2.4586 -1.46210      0\n",
       "2  3.86600   -2.6383    1.9242  0.10645      0\n",
       "3  3.45660    9.5228   -4.0112 -3.59440      0\n",
       "4  0.32924   -4.4552    4.5718 -0.98880      0"
      ]
     },
     "execution_count": 26,
     "metadata": {},
     "output_type": "execute_result"
    }
   ],
   "source": [
    "df.head()"
   ]
  },
  {
   "cell_type": "code",
   "execution_count": 27,
   "metadata": {
    "ExecuteTime": {
     "end_time": "2020-11-22T12:03:14.927760Z",
     "start_time": "2020-11-22T12:03:14.917378Z"
    }
   },
   "outputs": [
    {
     "name": "stdout",
     "output_type": "stream",
     "text": [
      "[[-0.70710678 -0.70710678]\n",
      " [-0.70710678  0.70710678]]\n",
      "[1.00000000e+00 9.13001784e-33]\n"
     ]
    }
   ],
   "source": [
    "X = df[['skewness', 'skewness']]\n",
    "sc = StandardScaler()\n",
    "X_sd = sc.fit_transform(X)\n",
    "pca3 = PCA(n_components=2)\n",
    "pca3.fit(X_sd)\n",
    "print(pca3.components_)\n",
    "print(pca3.explained_variance_ratio_)"
   ]
  },
  {
   "cell_type": "code",
   "execution_count": 28,
   "metadata": {
    "ExecuteTime": {
     "end_time": "2020-11-22T11:50:42.492294Z",
     "start_time": "2020-11-22T11:50:42.479947Z"
    }
   },
   "outputs": [
    {
     "name": "stdout",
     "output_type": "stream",
     "text": [
      "[[-0.70710678  0.70710678]\n",
      " [ 0.70710678  0.70710678]]\n",
      "[0.89344761 0.10655239]\n"
     ]
    }
   ],
   "source": [
    "X = df[['skewness', 'curtosis']]\n",
    "sc = StandardScaler()\n",
    "X_sd = sc.fit_transform(X)\n",
    "pca3 = PCA(n_components=2)\n",
    "pca3.fit(X_sd)\n",
    "print(pca3.components_)\n",
    "print(pca3.explained_variance_ratio_)"
   ]
  },
  {
   "cell_type": "code",
   "execution_count": 29,
   "metadata": {
    "ExecuteTime": {
     "end_time": "2020-11-22T11:53:10.594650Z",
     "start_time": "2020-11-22T11:53:10.589975Z"
    }
   },
   "outputs": [],
   "source": [
    "X_sd1 = pca3.transform(X_sd)"
   ]
  },
  {
   "cell_type": "code",
   "execution_count": 30,
   "metadata": {
    "ExecuteTime": {
     "end_time": "2020-11-22T11:53:52.282797Z",
     "start_time": "2020-11-22T11:53:52.277407Z"
    }
   },
   "outputs": [
    {
     "data": {
      "text/plain": [
       "0.893447607752"
      ]
     },
     "execution_count": 30,
     "metadata": {},
     "output_type": "execute_result"
    }
   ],
   "source": [
    "1.786895215504/2"
   ]
  },
  {
   "cell_type": "code",
   "execution_count": 31,
   "metadata": {
    "ExecuteTime": {
     "end_time": "2020-11-22T11:53:44.736485Z",
     "start_time": "2020-11-22T11:53:44.730726Z"
    }
   },
   "outputs": [
    {
     "data": {
      "text/plain": [
       "0.2131047774072529"
      ]
     },
     "execution_count": 31,
     "metadata": {},
     "output_type": "execute_result"
    }
   ],
   "source": [
    "0.46163273*0.46163273"
   ]
  },
  {
   "cell_type": "code",
   "execution_count": 32,
   "metadata": {
    "ExecuteTime": {
     "end_time": "2020-11-22T11:53:38.048397Z",
     "start_time": "2020-11-22T11:53:38.042241Z"
    }
   },
   "outputs": [
    {
     "data": {
      "text/plain": [
       "1.786895215504"
      ]
     },
     "execution_count": 32,
     "metadata": {},
     "output_type": "execute_result"
    }
   ],
   "source": [
    "1.336748*1.336748"
   ]
  },
  {
   "cell_type": "code",
   "execution_count": 33,
   "metadata": {
    "ExecuteTime": {
     "end_time": "2020-11-22T11:53:24.722712Z",
     "start_time": "2020-11-22T11:53:24.715796Z"
    }
   },
   "outputs": [
    {
     "data": {
      "text/plain": [
       "array([1.336748  , 0.46163273])"
      ]
     },
     "execution_count": 33,
     "metadata": {},
     "output_type": "execute_result"
    }
   ],
   "source": [
    "X_sd1.std(axis=0)"
   ]
  },
  {
   "cell_type": "code",
   "execution_count": 34,
   "metadata": {
    "ExecuteTime": {
     "end_time": "2020-11-22T11:51:39.492261Z",
     "start_time": "2020-11-22T11:51:39.480461Z"
    }
   },
   "outputs": [
    {
     "data": {
      "text/plain": [
       "LinearRegression()"
      ]
     },
     "execution_count": 34,
     "metadata": {},
     "output_type": "execute_result"
    }
   ],
   "source": [
    "from sklearn.linear_model import LinearRegression\n",
    "\n",
    "model = LinearRegression()\n",
    "model.fit(X_sd[:,0].reshape(-1, 1), X_sd[:,1])"
   ]
  },
  {
   "cell_type": "code",
   "execution_count": null,
   "metadata": {},
   "outputs": [],
   "source": []
  },
  {
   "cell_type": "code",
   "execution_count": null,
   "metadata": {},
   "outputs": [],
   "source": []
  },
  {
   "cell_type": "code",
   "execution_count": null,
   "metadata": {},
   "outputs": [],
   "source": []
  },
  {
   "cell_type": "code",
   "execution_count": 35,
   "metadata": {
    "ExecuteTime": {
     "end_time": "2020-09-12T06:46:29.106535Z",
     "start_time": "2020-09-12T06:46:28.902808Z"
    }
   },
   "outputs": [
    {
     "ename": "NameError",
     "evalue": "name 'Xpca3' is not defined",
     "output_type": "error",
     "traceback": [
      "\u001b[0;31m---------------------------------------------------------------------------\u001b[0m",
      "\u001b[0;31mNameError\u001b[0m                                 Traceback (most recent call last)",
      "\u001b[0;32m<ipython-input-35-8cb466b9f887>\u001b[0m in \u001b[0;36m<module>\u001b[0;34m\u001b[0m\n\u001b[0;32m----> 1\u001b[0;31m \u001b[0msns\u001b[0m\u001b[0;34m.\u001b[0m\u001b[0mscatterplot\u001b[0m\u001b[0;34m(\u001b[0m\u001b[0mdata\u001b[0m \u001b[0;34m=\u001b[0m \u001b[0mXpca3\u001b[0m\u001b[0;34m)\u001b[0m\u001b[0;34m\u001b[0m\u001b[0;34m\u001b[0m\u001b[0m\n\u001b[0m",
      "\u001b[0;31mNameError\u001b[0m: name 'Xpca3' is not defined"
     ]
    }
   ],
   "source": [
    "sns.scatterplot(data = Xpca3)"
   ]
  },
  {
   "cell_type": "code",
   "execution_count": null,
   "metadata": {
    "ExecuteTime": {
     "end_time": "2020-09-12T06:41:51.974410Z",
     "start_time": "2020-09-12T06:41:51.788507Z"
    }
   },
   "outputs": [],
   "source": [
    "sns.scatterplot(data = XScaled)"
   ]
  },
  {
   "cell_type": "markdown",
   "metadata": {},
   "source": [
    "t-SNE"
   ]
  },
  {
   "cell_type": "markdown",
   "metadata": {},
   "source": [
    "- Compression data has varied use cases\n",
    "- Images, videos, - Non Linear Compression\n",
    "- Text data is compressed\n",
    "- Linear data is used for visualization in 2 Dimensional graph"
   ]
  },
  {
   "cell_type": "code",
   "execution_count": 37,
   "metadata": {
    "ExecuteTime": {
     "end_time": "2020-11-22T17:12:43.078767Z",
     "start_time": "2020-11-22T17:12:42.720150Z"
    }
   },
   "outputs": [],
   "source": [
    "df = pd.read_csv(\"complete.csv\")"
   ]
  },
  {
   "cell_type": "code",
   "execution_count": 38,
   "metadata": {
    "ExecuteTime": {
     "end_time": "2020-11-22T17:12:49.063492Z",
     "start_time": "2020-11-22T17:12:48.922783Z"
    }
   },
   "outputs": [
    {
     "data": {
      "text/html": [
       "<div>\n",
       "<style scoped>\n",
       "    .dataframe tbody tr th:only-of-type {\n",
       "        vertical-align: middle;\n",
       "    }\n",
       "\n",
       "    .dataframe tbody tr th {\n",
       "        vertical-align: top;\n",
       "    }\n",
       "\n",
       "    .dataframe thead th {\n",
       "        text-align: right;\n",
       "    }\n",
       "</style>\n",
       "<table border=\"1\" class=\"dataframe\">\n",
       "  <thead>\n",
       "    <tr style=\"text-align: right;\">\n",
       "      <th></th>\n",
       "      <th>ID</th>\n",
       "      <th>name</th>\n",
       "      <th>full_name</th>\n",
       "      <th>club</th>\n",
       "      <th>club_logo</th>\n",
       "      <th>special</th>\n",
       "      <th>age</th>\n",
       "      <th>league</th>\n",
       "      <th>birth_date</th>\n",
       "      <th>height_cm</th>\n",
       "      <th>weight_kg</th>\n",
       "      <th>body_type</th>\n",
       "      <th>real_face</th>\n",
       "      <th>flag</th>\n",
       "      <th>nationality</th>\n",
       "      <th>photo</th>\n",
       "      <th>eur_value</th>\n",
       "      <th>eur_wage</th>\n",
       "      <th>eur_release_clause</th>\n",
       "      <th>overall</th>\n",
       "      <th>potential</th>\n",
       "      <th>pac</th>\n",
       "      <th>sho</th>\n",
       "      <th>pas</th>\n",
       "      <th>dri</th>\n",
       "      <th>def</th>\n",
       "      <th>phy</th>\n",
       "      <th>international_reputation</th>\n",
       "      <th>skill_moves</th>\n",
       "      <th>weak_foot</th>\n",
       "      <th>work_rate_att</th>\n",
       "      <th>work_rate_def</th>\n",
       "      <th>preferred_foot</th>\n",
       "      <th>crossing</th>\n",
       "      <th>finishing</th>\n",
       "      <th>heading_accuracy</th>\n",
       "      <th>short_passing</th>\n",
       "      <th>volleys</th>\n",
       "      <th>dribbling</th>\n",
       "      <th>curve</th>\n",
       "      <th>free_kick_accuracy</th>\n",
       "      <th>long_passing</th>\n",
       "      <th>ball_control</th>\n",
       "      <th>acceleration</th>\n",
       "      <th>sprint_speed</th>\n",
       "      <th>agility</th>\n",
       "      <th>reactions</th>\n",
       "      <th>balance</th>\n",
       "      <th>shot_power</th>\n",
       "      <th>jumping</th>\n",
       "      <th>stamina</th>\n",
       "      <th>strength</th>\n",
       "      <th>long_shots</th>\n",
       "      <th>aggression</th>\n",
       "      <th>interceptions</th>\n",
       "      <th>positioning</th>\n",
       "      <th>vision</th>\n",
       "      <th>penalties</th>\n",
       "      <th>composure</th>\n",
       "      <th>marking</th>\n",
       "      <th>standing_tackle</th>\n",
       "      <th>sliding_tackle</th>\n",
       "      <th>gk_diving</th>\n",
       "      <th>gk_handling</th>\n",
       "      <th>gk_kicking</th>\n",
       "      <th>gk_positioning</th>\n",
       "      <th>gk_reflexes</th>\n",
       "      <th>rs</th>\n",
       "      <th>rw</th>\n",
       "      <th>rf</th>\n",
       "      <th>ram</th>\n",
       "      <th>rcm</th>\n",
       "      <th>rm</th>\n",
       "      <th>rdm</th>\n",
       "      <th>rcb</th>\n",
       "      <th>rb</th>\n",
       "      <th>rwb</th>\n",
       "      <th>st</th>\n",
       "      <th>lw</th>\n",
       "      <th>cf</th>\n",
       "      <th>cam</th>\n",
       "      <th>cm</th>\n",
       "      <th>lm</th>\n",
       "      <th>cdm</th>\n",
       "      <th>cb</th>\n",
       "      <th>lb</th>\n",
       "      <th>lwb</th>\n",
       "      <th>ls</th>\n",
       "      <th>lf</th>\n",
       "      <th>lam</th>\n",
       "      <th>lcm</th>\n",
       "      <th>ldm</th>\n",
       "      <th>lcb</th>\n",
       "      <th>gk</th>\n",
       "      <th>1_on_1_rush_trait</th>\n",
       "      <th>acrobatic_clearance_trait</th>\n",
       "      <th>argues_with_officials_trait</th>\n",
       "      <th>avoids_using_weaker_foot_trait</th>\n",
       "      <th>backs_into_player_trait</th>\n",
       "      <th>bicycle_kicks_trait</th>\n",
       "      <th>cautious_with_crosses_trait</th>\n",
       "      <th>chip_shot_trait</th>\n",
       "      <th>chipped_penalty_trait</th>\n",
       "      <th>comes_for_crosses_trait</th>\n",
       "      <th>corner_specialist_trait</th>\n",
       "      <th>diver_trait</th>\n",
       "      <th>dives_into_tackles_trait</th>\n",
       "      <th>diving_header_trait</th>\n",
       "      <th>driven_pass_trait</th>\n",
       "      <th>early_crosser_trait</th>\n",
       "      <th>fan's_favourite_trait</th>\n",
       "      <th>fancy_flicks_trait</th>\n",
       "      <th>finesse_shot_trait</th>\n",
       "      <th>flair_trait</th>\n",
       "      <th>flair_passes_trait</th>\n",
       "      <th>gk_flat_kick_trait</th>\n",
       "      <th>gk_long_throw_trait</th>\n",
       "      <th>gk_up_for_corners_trait</th>\n",
       "      <th>giant_throw_in_trait</th>\n",
       "      <th>inflexible_trait</th>\n",
       "      <th>injury_free_trait</th>\n",
       "      <th>injury_prone_trait</th>\n",
       "      <th>leadership_trait</th>\n",
       "      <th>long_passer_trait</th>\n",
       "      <th>long_shot_taker_trait</th>\n",
       "      <th>long_throw_in_trait</th>\n",
       "      <th>one_club_player_trait</th>\n",
       "      <th>outside_foot_shot_trait</th>\n",
       "      <th>playmaker_trait</th>\n",
       "      <th>power_free_kick_trait</th>\n",
       "      <th>power_header_trait</th>\n",
       "      <th>puncher_trait</th>\n",
       "      <th>rushes_out_of_goal_trait</th>\n",
       "      <th>saves_with_feet_trait</th>\n",
       "      <th>second_wind_trait</th>\n",
       "      <th>selfish_trait</th>\n",
       "      <th>skilled_dribbling_trait</th>\n",
       "      <th>stutter_penalty_trait</th>\n",
       "      <th>swerve_pass_trait</th>\n",
       "      <th>takes_finesse_free_kicks_trait</th>\n",
       "      <th>target_forward_trait</th>\n",
       "      <th>team_player_trait</th>\n",
       "      <th>technical_dribbler_trait</th>\n",
       "      <th>tries_to_beat_defensive_line_trait</th>\n",
       "      <th>poacher_speciality</th>\n",
       "      <th>speedster_speciality</th>\n",
       "      <th>aerial_threat_speciality</th>\n",
       "      <th>dribbler_speciality</th>\n",
       "      <th>playmaker_speciality</th>\n",
       "      <th>engine_speciality</th>\n",
       "      <th>distance_shooter_speciality</th>\n",
       "      <th>crosser_speciality</th>\n",
       "      <th>free_kick_specialist_speciality</th>\n",
       "      <th>tackling_speciality</th>\n",
       "      <th>tactician_speciality</th>\n",
       "      <th>acrobat_speciality</th>\n",
       "      <th>strength_speciality</th>\n",
       "      <th>clinical_finisher_speciality</th>\n",
       "      <th>prefers_rs</th>\n",
       "      <th>prefers_rw</th>\n",
       "      <th>prefers_rf</th>\n",
       "      <th>prefers_ram</th>\n",
       "      <th>prefers_rcm</th>\n",
       "      <th>prefers_rm</th>\n",
       "      <th>prefers_rdm</th>\n",
       "      <th>prefers_rcb</th>\n",
       "      <th>prefers_rb</th>\n",
       "      <th>prefers_rwb</th>\n",
       "      <th>prefers_st</th>\n",
       "      <th>prefers_lw</th>\n",
       "      <th>prefers_cf</th>\n",
       "      <th>prefers_cam</th>\n",
       "      <th>prefers_cm</th>\n",
       "      <th>prefers_lm</th>\n",
       "      <th>prefers_cdm</th>\n",
       "      <th>prefers_cb</th>\n",
       "      <th>prefers_lb</th>\n",
       "      <th>prefers_lwb</th>\n",
       "      <th>prefers_ls</th>\n",
       "      <th>prefers_lf</th>\n",
       "      <th>prefers_lam</th>\n",
       "      <th>prefers_lcm</th>\n",
       "      <th>prefers_ldm</th>\n",
       "      <th>prefers_lcb</th>\n",
       "      <th>prefers_gk</th>\n",
       "    </tr>\n",
       "  </thead>\n",
       "  <tbody>\n",
       "    <tr>\n",
       "      <th>0</th>\n",
       "      <td>20801</td>\n",
       "      <td>Cristiano Ronaldo</td>\n",
       "      <td>C. Ronaldo dos Santos Aveiro</td>\n",
       "      <td>Real Madrid CF</td>\n",
       "      <td>https://cdn.sofifa.org/18/teams/243.png</td>\n",
       "      <td>2228</td>\n",
       "      <td>32</td>\n",
       "      <td>Spanish Primera División</td>\n",
       "      <td>1985-02-05</td>\n",
       "      <td>185.0</td>\n",
       "      <td>80.0</td>\n",
       "      <td>C. Ronaldo</td>\n",
       "      <td>True</td>\n",
       "      <td>https://cdn.sofifa.org/flags/38@3x.png</td>\n",
       "      <td>Portugal</td>\n",
       "      <td>https://cdn.sofifa.org/18/players/20801.png</td>\n",
       "      <td>95500000.0</td>\n",
       "      <td>565000.0</td>\n",
       "      <td>195800000.0</td>\n",
       "      <td>94</td>\n",
       "      <td>94</td>\n",
       "      <td>90</td>\n",
       "      <td>93</td>\n",
       "      <td>82</td>\n",
       "      <td>90</td>\n",
       "      <td>33</td>\n",
       "      <td>80</td>\n",
       "      <td>5</td>\n",
       "      <td>5</td>\n",
       "      <td>4</td>\n",
       "      <td>High</td>\n",
       "      <td>Low</td>\n",
       "      <td>Right</td>\n",
       "      <td>85</td>\n",
       "      <td>94</td>\n",
       "      <td>88</td>\n",
       "      <td>83</td>\n",
       "      <td>88</td>\n",
       "      <td>91</td>\n",
       "      <td>81</td>\n",
       "      <td>76</td>\n",
       "      <td>77</td>\n",
       "      <td>93</td>\n",
       "      <td>89</td>\n",
       "      <td>91</td>\n",
       "      <td>89</td>\n",
       "      <td>96</td>\n",
       "      <td>63</td>\n",
       "      <td>94</td>\n",
       "      <td>95</td>\n",
       "      <td>92</td>\n",
       "      <td>80</td>\n",
       "      <td>92</td>\n",
       "      <td>63</td>\n",
       "      <td>29</td>\n",
       "      <td>95</td>\n",
       "      <td>85</td>\n",
       "      <td>85</td>\n",
       "      <td>95</td>\n",
       "      <td>22</td>\n",
       "      <td>31</td>\n",
       "      <td>23</td>\n",
       "      <td>7</td>\n",
       "      <td>11</td>\n",
       "      <td>15</td>\n",
       "      <td>14</td>\n",
       "      <td>11</td>\n",
       "      <td>92.0</td>\n",
       "      <td>91.0</td>\n",
       "      <td>91.0</td>\n",
       "      <td>89.0</td>\n",
       "      <td>82.0</td>\n",
       "      <td>89.0</td>\n",
       "      <td>62.0</td>\n",
       "      <td>53.0</td>\n",
       "      <td>61.0</td>\n",
       "      <td>66.0</td>\n",
       "      <td>92.0</td>\n",
       "      <td>91.0</td>\n",
       "      <td>91.0</td>\n",
       "      <td>89.0</td>\n",
       "      <td>82.0</td>\n",
       "      <td>89.0</td>\n",
       "      <td>62.0</td>\n",
       "      <td>53.0</td>\n",
       "      <td>61.0</td>\n",
       "      <td>66.0</td>\n",
       "      <td>92.0</td>\n",
       "      <td>91.0</td>\n",
       "      <td>89.0</td>\n",
       "      <td>82.0</td>\n",
       "      <td>62.0</td>\n",
       "      <td>53.0</td>\n",
       "      <td>NaN</td>\n",
       "      <td>False</td>\n",
       "      <td>False</td>\n",
       "      <td>False</td>\n",
       "      <td>False</td>\n",
       "      <td>False</td>\n",
       "      <td>False</td>\n",
       "      <td>False</td>\n",
       "      <td>False</td>\n",
       "      <td>False</td>\n",
       "      <td>False</td>\n",
       "      <td>False</td>\n",
       "      <td>False</td>\n",
       "      <td>False</td>\n",
       "      <td>False</td>\n",
       "      <td>False</td>\n",
       "      <td>False</td>\n",
       "      <td>False</td>\n",
       "      <td>False</td>\n",
       "      <td>False</td>\n",
       "      <td>True</td>\n",
       "      <td>False</td>\n",
       "      <td>False</td>\n",
       "      <td>False</td>\n",
       "      <td>False</td>\n",
       "      <td>False</td>\n",
       "      <td>False</td>\n",
       "      <td>False</td>\n",
       "      <td>False</td>\n",
       "      <td>False</td>\n",
       "      <td>False</td>\n",
       "      <td>True</td>\n",
       "      <td>False</td>\n",
       "      <td>False</td>\n",
       "      <td>False</td>\n",
       "      <td>False</td>\n",
       "      <td>True</td>\n",
       "      <td>False</td>\n",
       "      <td>False</td>\n",
       "      <td>False</td>\n",
       "      <td>False</td>\n",
       "      <td>False</td>\n",
       "      <td>False</td>\n",
       "      <td>True</td>\n",
       "      <td>False</td>\n",
       "      <td>False</td>\n",
       "      <td>False</td>\n",
       "      <td>False</td>\n",
       "      <td>False</td>\n",
       "      <td>False</td>\n",
       "      <td>False</td>\n",
       "      <td>False</td>\n",
       "      <td>True</td>\n",
       "      <td>False</td>\n",
       "      <td>True</td>\n",
       "      <td>False</td>\n",
       "      <td>False</td>\n",
       "      <td>True</td>\n",
       "      <td>False</td>\n",
       "      <td>False</td>\n",
       "      <td>False</td>\n",
       "      <td>False</td>\n",
       "      <td>True</td>\n",
       "      <td>False</td>\n",
       "      <td>True</td>\n",
       "      <td>False</td>\n",
       "      <td>False</td>\n",
       "      <td>False</td>\n",
       "      <td>False</td>\n",
       "      <td>False</td>\n",
       "      <td>False</td>\n",
       "      <td>False</td>\n",
       "      <td>False</td>\n",
       "      <td>False</td>\n",
       "      <td>False</td>\n",
       "      <td>True</td>\n",
       "      <td>True</td>\n",
       "      <td>False</td>\n",
       "      <td>False</td>\n",
       "      <td>False</td>\n",
       "      <td>False</td>\n",
       "      <td>False</td>\n",
       "      <td>False</td>\n",
       "      <td>False</td>\n",
       "      <td>False</td>\n",
       "      <td>False</td>\n",
       "      <td>False</td>\n",
       "      <td>False</td>\n",
       "      <td>False</td>\n",
       "      <td>False</td>\n",
       "      <td>False</td>\n",
       "      <td>False</td>\n",
       "    </tr>\n",
       "    <tr>\n",
       "      <th>1</th>\n",
       "      <td>158023</td>\n",
       "      <td>L. Messi</td>\n",
       "      <td>Lionel Messi</td>\n",
       "      <td>FC Barcelona</td>\n",
       "      <td>https://cdn.sofifa.org/18/teams/241.png</td>\n",
       "      <td>2158</td>\n",
       "      <td>30</td>\n",
       "      <td>Spanish Primera División</td>\n",
       "      <td>1987-06-24</td>\n",
       "      <td>170.0</td>\n",
       "      <td>72.0</td>\n",
       "      <td>Messi</td>\n",
       "      <td>True</td>\n",
       "      <td>https://cdn.sofifa.org/flags/52@3x.png</td>\n",
       "      <td>Argentina</td>\n",
       "      <td>https://cdn.sofifa.org/18/players/158023.png</td>\n",
       "      <td>105000000.0</td>\n",
       "      <td>565000.0</td>\n",
       "      <td>215300000.0</td>\n",
       "      <td>93</td>\n",
       "      <td>93</td>\n",
       "      <td>89</td>\n",
       "      <td>90</td>\n",
       "      <td>86</td>\n",
       "      <td>96</td>\n",
       "      <td>26</td>\n",
       "      <td>61</td>\n",
       "      <td>5</td>\n",
       "      <td>4</td>\n",
       "      <td>4</td>\n",
       "      <td>Medium</td>\n",
       "      <td>Medium</td>\n",
       "      <td>Left</td>\n",
       "      <td>77</td>\n",
       "      <td>95</td>\n",
       "      <td>71</td>\n",
       "      <td>88</td>\n",
       "      <td>85</td>\n",
       "      <td>97</td>\n",
       "      <td>89</td>\n",
       "      <td>90</td>\n",
       "      <td>87</td>\n",
       "      <td>95</td>\n",
       "      <td>92</td>\n",
       "      <td>87</td>\n",
       "      <td>90</td>\n",
       "      <td>95</td>\n",
       "      <td>95</td>\n",
       "      <td>85</td>\n",
       "      <td>68</td>\n",
       "      <td>73</td>\n",
       "      <td>59</td>\n",
       "      <td>88</td>\n",
       "      <td>48</td>\n",
       "      <td>22</td>\n",
       "      <td>93</td>\n",
       "      <td>90</td>\n",
       "      <td>78</td>\n",
       "      <td>96</td>\n",
       "      <td>13</td>\n",
       "      <td>28</td>\n",
       "      <td>26</td>\n",
       "      <td>6</td>\n",
       "      <td>11</td>\n",
       "      <td>15</td>\n",
       "      <td>14</td>\n",
       "      <td>8</td>\n",
       "      <td>88.0</td>\n",
       "      <td>91.0</td>\n",
       "      <td>92.0</td>\n",
       "      <td>92.0</td>\n",
       "      <td>84.0</td>\n",
       "      <td>90.0</td>\n",
       "      <td>59.0</td>\n",
       "      <td>45.0</td>\n",
       "      <td>57.0</td>\n",
       "      <td>62.0</td>\n",
       "      <td>88.0</td>\n",
       "      <td>91.0</td>\n",
       "      <td>92.0</td>\n",
       "      <td>92.0</td>\n",
       "      <td>84.0</td>\n",
       "      <td>90.0</td>\n",
       "      <td>59.0</td>\n",
       "      <td>45.0</td>\n",
       "      <td>57.0</td>\n",
       "      <td>62.0</td>\n",
       "      <td>88.0</td>\n",
       "      <td>92.0</td>\n",
       "      <td>92.0</td>\n",
       "      <td>84.0</td>\n",
       "      <td>59.0</td>\n",
       "      <td>45.0</td>\n",
       "      <td>NaN</td>\n",
       "      <td>False</td>\n",
       "      <td>False</td>\n",
       "      <td>False</td>\n",
       "      <td>False</td>\n",
       "      <td>False</td>\n",
       "      <td>False</td>\n",
       "      <td>False</td>\n",
       "      <td>True</td>\n",
       "      <td>False</td>\n",
       "      <td>False</td>\n",
       "      <td>False</td>\n",
       "      <td>False</td>\n",
       "      <td>False</td>\n",
       "      <td>False</td>\n",
       "      <td>False</td>\n",
       "      <td>False</td>\n",
       "      <td>False</td>\n",
       "      <td>False</td>\n",
       "      <td>True</td>\n",
       "      <td>False</td>\n",
       "      <td>False</td>\n",
       "      <td>False</td>\n",
       "      <td>False</td>\n",
       "      <td>False</td>\n",
       "      <td>False</td>\n",
       "      <td>False</td>\n",
       "      <td>False</td>\n",
       "      <td>False</td>\n",
       "      <td>False</td>\n",
       "      <td>False</td>\n",
       "      <td>True</td>\n",
       "      <td>False</td>\n",
       "      <td>True</td>\n",
       "      <td>False</td>\n",
       "      <td>True</td>\n",
       "      <td>False</td>\n",
       "      <td>False</td>\n",
       "      <td>False</td>\n",
       "      <td>False</td>\n",
       "      <td>False</td>\n",
       "      <td>False</td>\n",
       "      <td>False</td>\n",
       "      <td>True</td>\n",
       "      <td>False</td>\n",
       "      <td>False</td>\n",
       "      <td>False</td>\n",
       "      <td>False</td>\n",
       "      <td>False</td>\n",
       "      <td>False</td>\n",
       "      <td>False</td>\n",
       "      <td>False</td>\n",
       "      <td>False</td>\n",
       "      <td>False</td>\n",
       "      <td>True</td>\n",
       "      <td>False</td>\n",
       "      <td>False</td>\n",
       "      <td>False</td>\n",
       "      <td>False</td>\n",
       "      <td>True</td>\n",
       "      <td>False</td>\n",
       "      <td>False</td>\n",
       "      <td>True</td>\n",
       "      <td>False</td>\n",
       "      <td>True</td>\n",
       "      <td>False</td>\n",
       "      <td>True</td>\n",
       "      <td>False</td>\n",
       "      <td>False</td>\n",
       "      <td>False</td>\n",
       "      <td>False</td>\n",
       "      <td>False</td>\n",
       "      <td>False</td>\n",
       "      <td>False</td>\n",
       "      <td>False</td>\n",
       "      <td>True</td>\n",
       "      <td>False</td>\n",
       "      <td>True</td>\n",
       "      <td>False</td>\n",
       "      <td>False</td>\n",
       "      <td>False</td>\n",
       "      <td>False</td>\n",
       "      <td>False</td>\n",
       "      <td>False</td>\n",
       "      <td>False</td>\n",
       "      <td>False</td>\n",
       "      <td>False</td>\n",
       "      <td>False</td>\n",
       "      <td>False</td>\n",
       "      <td>False</td>\n",
       "      <td>False</td>\n",
       "      <td>False</td>\n",
       "    </tr>\n",
       "    <tr>\n",
       "      <th>2</th>\n",
       "      <td>190871</td>\n",
       "      <td>Neymar</td>\n",
       "      <td>Neymar da Silva Santos Jr.</td>\n",
       "      <td>Paris Saint-Germain</td>\n",
       "      <td>https://cdn.sofifa.org/18/teams/73.png</td>\n",
       "      <td>2100</td>\n",
       "      <td>25</td>\n",
       "      <td>French Ligue 1</td>\n",
       "      <td>1992-02-05</td>\n",
       "      <td>175.0</td>\n",
       "      <td>68.0</td>\n",
       "      <td>Neymar</td>\n",
       "      <td>True</td>\n",
       "      <td>https://cdn.sofifa.org/flags/54@3x.png</td>\n",
       "      <td>Brazil</td>\n",
       "      <td>https://cdn.sofifa.org/18/players/190871.png</td>\n",
       "      <td>123000000.0</td>\n",
       "      <td>280000.0</td>\n",
       "      <td>236800000.0</td>\n",
       "      <td>92</td>\n",
       "      <td>94</td>\n",
       "      <td>92</td>\n",
       "      <td>84</td>\n",
       "      <td>79</td>\n",
       "      <td>95</td>\n",
       "      <td>30</td>\n",
       "      <td>60</td>\n",
       "      <td>5</td>\n",
       "      <td>5</td>\n",
       "      <td>5</td>\n",
       "      <td>High</td>\n",
       "      <td>Medium</td>\n",
       "      <td>Right</td>\n",
       "      <td>75</td>\n",
       "      <td>89</td>\n",
       "      <td>62</td>\n",
       "      <td>81</td>\n",
       "      <td>83</td>\n",
       "      <td>96</td>\n",
       "      <td>81</td>\n",
       "      <td>84</td>\n",
       "      <td>75</td>\n",
       "      <td>95</td>\n",
       "      <td>94</td>\n",
       "      <td>90</td>\n",
       "      <td>96</td>\n",
       "      <td>88</td>\n",
       "      <td>82</td>\n",
       "      <td>80</td>\n",
       "      <td>61</td>\n",
       "      <td>78</td>\n",
       "      <td>53</td>\n",
       "      <td>77</td>\n",
       "      <td>56</td>\n",
       "      <td>36</td>\n",
       "      <td>90</td>\n",
       "      <td>80</td>\n",
       "      <td>81</td>\n",
       "      <td>92</td>\n",
       "      <td>21</td>\n",
       "      <td>24</td>\n",
       "      <td>33</td>\n",
       "      <td>9</td>\n",
       "      <td>9</td>\n",
       "      <td>15</td>\n",
       "      <td>15</td>\n",
       "      <td>11</td>\n",
       "      <td>84.0</td>\n",
       "      <td>89.0</td>\n",
       "      <td>88.0</td>\n",
       "      <td>88.0</td>\n",
       "      <td>79.0</td>\n",
       "      <td>87.0</td>\n",
       "      <td>59.0</td>\n",
       "      <td>46.0</td>\n",
       "      <td>59.0</td>\n",
       "      <td>64.0</td>\n",
       "      <td>84.0</td>\n",
       "      <td>89.0</td>\n",
       "      <td>88.0</td>\n",
       "      <td>88.0</td>\n",
       "      <td>79.0</td>\n",
       "      <td>87.0</td>\n",
       "      <td>59.0</td>\n",
       "      <td>46.0</td>\n",
       "      <td>59.0</td>\n",
       "      <td>64.0</td>\n",
       "      <td>84.0</td>\n",
       "      <td>88.0</td>\n",
       "      <td>88.0</td>\n",
       "      <td>79.0</td>\n",
       "      <td>59.0</td>\n",
       "      <td>46.0</td>\n",
       "      <td>NaN</td>\n",
       "      <td>False</td>\n",
       "      <td>False</td>\n",
       "      <td>False</td>\n",
       "      <td>False</td>\n",
       "      <td>False</td>\n",
       "      <td>False</td>\n",
       "      <td>False</td>\n",
       "      <td>False</td>\n",
       "      <td>False</td>\n",
       "      <td>False</td>\n",
       "      <td>False</td>\n",
       "      <td>True</td>\n",
       "      <td>False</td>\n",
       "      <td>False</td>\n",
       "      <td>False</td>\n",
       "      <td>False</td>\n",
       "      <td>False</td>\n",
       "      <td>False</td>\n",
       "      <td>False</td>\n",
       "      <td>True</td>\n",
       "      <td>False</td>\n",
       "      <td>False</td>\n",
       "      <td>False</td>\n",
       "      <td>False</td>\n",
       "      <td>False</td>\n",
       "      <td>False</td>\n",
       "      <td>False</td>\n",
       "      <td>False</td>\n",
       "      <td>False</td>\n",
       "      <td>False</td>\n",
       "      <td>False</td>\n",
       "      <td>False</td>\n",
       "      <td>False</td>\n",
       "      <td>False</td>\n",
       "      <td>False</td>\n",
       "      <td>False</td>\n",
       "      <td>False</td>\n",
       "      <td>False</td>\n",
       "      <td>False</td>\n",
       "      <td>False</td>\n",
       "      <td>False</td>\n",
       "      <td>False</td>\n",
       "      <td>True</td>\n",
       "      <td>False</td>\n",
       "      <td>False</td>\n",
       "      <td>True</td>\n",
       "      <td>False</td>\n",
       "      <td>False</td>\n",
       "      <td>True</td>\n",
       "      <td>False</td>\n",
       "      <td>False</td>\n",
       "      <td>True</td>\n",
       "      <td>False</td>\n",
       "      <td>True</td>\n",
       "      <td>False</td>\n",
       "      <td>False</td>\n",
       "      <td>False</td>\n",
       "      <td>False</td>\n",
       "      <td>False</td>\n",
       "      <td>False</td>\n",
       "      <td>False</td>\n",
       "      <td>True</td>\n",
       "      <td>False</td>\n",
       "      <td>False</td>\n",
       "      <td>False</td>\n",
       "      <td>False</td>\n",
       "      <td>False</td>\n",
       "      <td>False</td>\n",
       "      <td>False</td>\n",
       "      <td>False</td>\n",
       "      <td>False</td>\n",
       "      <td>False</td>\n",
       "      <td>False</td>\n",
       "      <td>False</td>\n",
       "      <td>False</td>\n",
       "      <td>True</td>\n",
       "      <td>False</td>\n",
       "      <td>False</td>\n",
       "      <td>False</td>\n",
       "      <td>False</td>\n",
       "      <td>False</td>\n",
       "      <td>False</td>\n",
       "      <td>False</td>\n",
       "      <td>False</td>\n",
       "      <td>False</td>\n",
       "      <td>False</td>\n",
       "      <td>False</td>\n",
       "      <td>False</td>\n",
       "      <td>False</td>\n",
       "      <td>False</td>\n",
       "      <td>False</td>\n",
       "    </tr>\n",
       "    <tr>\n",
       "      <th>3</th>\n",
       "      <td>176580</td>\n",
       "      <td>L. Suárez</td>\n",
       "      <td>Luis Suárez</td>\n",
       "      <td>FC Barcelona</td>\n",
       "      <td>https://cdn.sofifa.org/18/teams/241.png</td>\n",
       "      <td>2291</td>\n",
       "      <td>30</td>\n",
       "      <td>Spanish Primera División</td>\n",
       "      <td>1987-01-24</td>\n",
       "      <td>182.0</td>\n",
       "      <td>86.0</td>\n",
       "      <td>Normal</td>\n",
       "      <td>True</td>\n",
       "      <td>https://cdn.sofifa.org/flags/60@3x.png</td>\n",
       "      <td>Uruguay</td>\n",
       "      <td>https://cdn.sofifa.org/18/players/176580.png</td>\n",
       "      <td>97000000.0</td>\n",
       "      <td>510000.0</td>\n",
       "      <td>198900000.0</td>\n",
       "      <td>92</td>\n",
       "      <td>92</td>\n",
       "      <td>82</td>\n",
       "      <td>90</td>\n",
       "      <td>79</td>\n",
       "      <td>87</td>\n",
       "      <td>42</td>\n",
       "      <td>81</td>\n",
       "      <td>5</td>\n",
       "      <td>4</td>\n",
       "      <td>4</td>\n",
       "      <td>High</td>\n",
       "      <td>Medium</td>\n",
       "      <td>Right</td>\n",
       "      <td>77</td>\n",
       "      <td>94</td>\n",
       "      <td>77</td>\n",
       "      <td>83</td>\n",
       "      <td>88</td>\n",
       "      <td>86</td>\n",
       "      <td>86</td>\n",
       "      <td>84</td>\n",
       "      <td>64</td>\n",
       "      <td>91</td>\n",
       "      <td>88</td>\n",
       "      <td>77</td>\n",
       "      <td>86</td>\n",
       "      <td>93</td>\n",
       "      <td>60</td>\n",
       "      <td>87</td>\n",
       "      <td>69</td>\n",
       "      <td>89</td>\n",
       "      <td>80</td>\n",
       "      <td>86</td>\n",
       "      <td>78</td>\n",
       "      <td>41</td>\n",
       "      <td>92</td>\n",
       "      <td>84</td>\n",
       "      <td>85</td>\n",
       "      <td>83</td>\n",
       "      <td>30</td>\n",
       "      <td>45</td>\n",
       "      <td>38</td>\n",
       "      <td>27</td>\n",
       "      <td>25</td>\n",
       "      <td>31</td>\n",
       "      <td>33</td>\n",
       "      <td>37</td>\n",
       "      <td>88.0</td>\n",
       "      <td>87.0</td>\n",
       "      <td>88.0</td>\n",
       "      <td>87.0</td>\n",
       "      <td>80.0</td>\n",
       "      <td>85.0</td>\n",
       "      <td>65.0</td>\n",
       "      <td>58.0</td>\n",
       "      <td>64.0</td>\n",
       "      <td>68.0</td>\n",
       "      <td>88.0</td>\n",
       "      <td>87.0</td>\n",
       "      <td>88.0</td>\n",
       "      <td>87.0</td>\n",
       "      <td>80.0</td>\n",
       "      <td>85.0</td>\n",
       "      <td>65.0</td>\n",
       "      <td>58.0</td>\n",
       "      <td>64.0</td>\n",
       "      <td>68.0</td>\n",
       "      <td>88.0</td>\n",
       "      <td>88.0</td>\n",
       "      <td>87.0</td>\n",
       "      <td>80.0</td>\n",
       "      <td>65.0</td>\n",
       "      <td>58.0</td>\n",
       "      <td>NaN</td>\n",
       "      <td>False</td>\n",
       "      <td>False</td>\n",
       "      <td>False</td>\n",
       "      <td>False</td>\n",
       "      <td>False</td>\n",
       "      <td>False</td>\n",
       "      <td>False</td>\n",
       "      <td>False</td>\n",
       "      <td>False</td>\n",
       "      <td>False</td>\n",
       "      <td>False</td>\n",
       "      <td>True</td>\n",
       "      <td>False</td>\n",
       "      <td>False</td>\n",
       "      <td>False</td>\n",
       "      <td>False</td>\n",
       "      <td>False</td>\n",
       "      <td>False</td>\n",
       "      <td>False</td>\n",
       "      <td>False</td>\n",
       "      <td>False</td>\n",
       "      <td>False</td>\n",
       "      <td>False</td>\n",
       "      <td>False</td>\n",
       "      <td>False</td>\n",
       "      <td>False</td>\n",
       "      <td>False</td>\n",
       "      <td>False</td>\n",
       "      <td>False</td>\n",
       "      <td>False</td>\n",
       "      <td>False</td>\n",
       "      <td>False</td>\n",
       "      <td>False</td>\n",
       "      <td>False</td>\n",
       "      <td>False</td>\n",
       "      <td>False</td>\n",
       "      <td>False</td>\n",
       "      <td>False</td>\n",
       "      <td>False</td>\n",
       "      <td>False</td>\n",
       "      <td>False</td>\n",
       "      <td>False</td>\n",
       "      <td>False</td>\n",
       "      <td>False</td>\n",
       "      <td>False</td>\n",
       "      <td>False</td>\n",
       "      <td>False</td>\n",
       "      <td>False</td>\n",
       "      <td>True</td>\n",
       "      <td>True</td>\n",
       "      <td>False</td>\n",
       "      <td>False</td>\n",
       "      <td>False</td>\n",
       "      <td>False</td>\n",
       "      <td>False</td>\n",
       "      <td>False</td>\n",
       "      <td>False</td>\n",
       "      <td>False</td>\n",
       "      <td>False</td>\n",
       "      <td>False</td>\n",
       "      <td>False</td>\n",
       "      <td>True</td>\n",
       "      <td>False</td>\n",
       "      <td>True</td>\n",
       "      <td>False</td>\n",
       "      <td>False</td>\n",
       "      <td>False</td>\n",
       "      <td>False</td>\n",
       "      <td>False</td>\n",
       "      <td>False</td>\n",
       "      <td>False</td>\n",
       "      <td>False</td>\n",
       "      <td>False</td>\n",
       "      <td>False</td>\n",
       "      <td>True</td>\n",
       "      <td>False</td>\n",
       "      <td>False</td>\n",
       "      <td>False</td>\n",
       "      <td>False</td>\n",
       "      <td>False</td>\n",
       "      <td>False</td>\n",
       "      <td>False</td>\n",
       "      <td>False</td>\n",
       "      <td>False</td>\n",
       "      <td>False</td>\n",
       "      <td>False</td>\n",
       "      <td>False</td>\n",
       "      <td>False</td>\n",
       "      <td>False</td>\n",
       "      <td>False</td>\n",
       "      <td>False</td>\n",
       "    </tr>\n",
       "    <tr>\n",
       "      <th>4</th>\n",
       "      <td>167495</td>\n",
       "      <td>M. Neuer</td>\n",
       "      <td>Manuel Neuer</td>\n",
       "      <td>FC Bayern Munich</td>\n",
       "      <td>https://cdn.sofifa.org/18/teams/21.png</td>\n",
       "      <td>1493</td>\n",
       "      <td>31</td>\n",
       "      <td>German Bundesliga</td>\n",
       "      <td>1986-03-27</td>\n",
       "      <td>193.0</td>\n",
       "      <td>92.0</td>\n",
       "      <td>Normal</td>\n",
       "      <td>True</td>\n",
       "      <td>https://cdn.sofifa.org/flags/21@3x.png</td>\n",
       "      <td>Germany</td>\n",
       "      <td>https://cdn.sofifa.org/18/players/167495.png</td>\n",
       "      <td>61000000.0</td>\n",
       "      <td>230000.0</td>\n",
       "      <td>100700000.0</td>\n",
       "      <td>92</td>\n",
       "      <td>92</td>\n",
       "      <td>91</td>\n",
       "      <td>90</td>\n",
       "      <td>95</td>\n",
       "      <td>89</td>\n",
       "      <td>60</td>\n",
       "      <td>91</td>\n",
       "      <td>5</td>\n",
       "      <td>1</td>\n",
       "      <td>4</td>\n",
       "      <td>Medium</td>\n",
       "      <td>Medium</td>\n",
       "      <td>Right</td>\n",
       "      <td>15</td>\n",
       "      <td>13</td>\n",
       "      <td>25</td>\n",
       "      <td>55</td>\n",
       "      <td>11</td>\n",
       "      <td>30</td>\n",
       "      <td>14</td>\n",
       "      <td>11</td>\n",
       "      <td>59</td>\n",
       "      <td>48</td>\n",
       "      <td>58</td>\n",
       "      <td>61</td>\n",
       "      <td>52</td>\n",
       "      <td>85</td>\n",
       "      <td>35</td>\n",
       "      <td>25</td>\n",
       "      <td>78</td>\n",
       "      <td>44</td>\n",
       "      <td>83</td>\n",
       "      <td>16</td>\n",
       "      <td>29</td>\n",
       "      <td>30</td>\n",
       "      <td>12</td>\n",
       "      <td>70</td>\n",
       "      <td>47</td>\n",
       "      <td>70</td>\n",
       "      <td>10</td>\n",
       "      <td>10</td>\n",
       "      <td>11</td>\n",
       "      <td>91</td>\n",
       "      <td>90</td>\n",
       "      <td>95</td>\n",
       "      <td>91</td>\n",
       "      <td>89</td>\n",
       "      <td>NaN</td>\n",
       "      <td>NaN</td>\n",
       "      <td>NaN</td>\n",
       "      <td>NaN</td>\n",
       "      <td>NaN</td>\n",
       "      <td>NaN</td>\n",
       "      <td>NaN</td>\n",
       "      <td>NaN</td>\n",
       "      <td>NaN</td>\n",
       "      <td>NaN</td>\n",
       "      <td>NaN</td>\n",
       "      <td>NaN</td>\n",
       "      <td>NaN</td>\n",
       "      <td>NaN</td>\n",
       "      <td>NaN</td>\n",
       "      <td>NaN</td>\n",
       "      <td>NaN</td>\n",
       "      <td>NaN</td>\n",
       "      <td>NaN</td>\n",
       "      <td>NaN</td>\n",
       "      <td>NaN</td>\n",
       "      <td>NaN</td>\n",
       "      <td>NaN</td>\n",
       "      <td>NaN</td>\n",
       "      <td>NaN</td>\n",
       "      <td>NaN</td>\n",
       "      <td>92.0</td>\n",
       "      <td>True</td>\n",
       "      <td>False</td>\n",
       "      <td>False</td>\n",
       "      <td>False</td>\n",
       "      <td>False</td>\n",
       "      <td>False</td>\n",
       "      <td>False</td>\n",
       "      <td>False</td>\n",
       "      <td>False</td>\n",
       "      <td>True</td>\n",
       "      <td>False</td>\n",
       "      <td>False</td>\n",
       "      <td>False</td>\n",
       "      <td>False</td>\n",
       "      <td>False</td>\n",
       "      <td>False</td>\n",
       "      <td>False</td>\n",
       "      <td>False</td>\n",
       "      <td>False</td>\n",
       "      <td>False</td>\n",
       "      <td>False</td>\n",
       "      <td>False</td>\n",
       "      <td>True</td>\n",
       "      <td>False</td>\n",
       "      <td>False</td>\n",
       "      <td>False</td>\n",
       "      <td>False</td>\n",
       "      <td>False</td>\n",
       "      <td>False</td>\n",
       "      <td>False</td>\n",
       "      <td>False</td>\n",
       "      <td>False</td>\n",
       "      <td>False</td>\n",
       "      <td>False</td>\n",
       "      <td>False</td>\n",
       "      <td>False</td>\n",
       "      <td>False</td>\n",
       "      <td>False</td>\n",
       "      <td>True</td>\n",
       "      <td>False</td>\n",
       "      <td>False</td>\n",
       "      <td>False</td>\n",
       "      <td>False</td>\n",
       "      <td>False</td>\n",
       "      <td>False</td>\n",
       "      <td>False</td>\n",
       "      <td>False</td>\n",
       "      <td>False</td>\n",
       "      <td>False</td>\n",
       "      <td>False</td>\n",
       "      <td>False</td>\n",
       "      <td>False</td>\n",
       "      <td>False</td>\n",
       "      <td>False</td>\n",
       "      <td>False</td>\n",
       "      <td>False</td>\n",
       "      <td>False</td>\n",
       "      <td>False</td>\n",
       "      <td>False</td>\n",
       "      <td>False</td>\n",
       "      <td>False</td>\n",
       "      <td>False</td>\n",
       "      <td>False</td>\n",
       "      <td>False</td>\n",
       "      <td>False</td>\n",
       "      <td>False</td>\n",
       "      <td>False</td>\n",
       "      <td>False</td>\n",
       "      <td>False</td>\n",
       "      <td>False</td>\n",
       "      <td>False</td>\n",
       "      <td>False</td>\n",
       "      <td>False</td>\n",
       "      <td>False</td>\n",
       "      <td>False</td>\n",
       "      <td>False</td>\n",
       "      <td>False</td>\n",
       "      <td>False</td>\n",
       "      <td>False</td>\n",
       "      <td>False</td>\n",
       "      <td>False</td>\n",
       "      <td>False</td>\n",
       "      <td>False</td>\n",
       "      <td>False</td>\n",
       "      <td>False</td>\n",
       "      <td>False</td>\n",
       "      <td>False</td>\n",
       "      <td>False</td>\n",
       "      <td>False</td>\n",
       "      <td>False</td>\n",
       "      <td>True</td>\n",
       "    </tr>\n",
       "  </tbody>\n",
       "</table>\n",
       "</div>"
      ],
      "text/plain": [
       "       ID               name                     full_name  \\\n",
       "0   20801  Cristiano Ronaldo  C. Ronaldo dos Santos Aveiro   \n",
       "1  158023           L. Messi                  Lionel Messi   \n",
       "2  190871             Neymar    Neymar da Silva Santos Jr.   \n",
       "3  176580          L. Suárez                   Luis Suárez   \n",
       "4  167495           M. Neuer                  Manuel Neuer   \n",
       "\n",
       "                  club                                club_logo  special  age  \\\n",
       "0       Real Madrid CF  https://cdn.sofifa.org/18/teams/243.png     2228   32   \n",
       "1         FC Barcelona  https://cdn.sofifa.org/18/teams/241.png     2158   30   \n",
       "2  Paris Saint-Germain   https://cdn.sofifa.org/18/teams/73.png     2100   25   \n",
       "3         FC Barcelona  https://cdn.sofifa.org/18/teams/241.png     2291   30   \n",
       "4     FC Bayern Munich   https://cdn.sofifa.org/18/teams/21.png     1493   31   \n",
       "\n",
       "                     league  birth_date  height_cm  weight_kg   body_type  \\\n",
       "0  Spanish Primera División  1985-02-05      185.0       80.0  C. Ronaldo   \n",
       "1  Spanish Primera División  1987-06-24      170.0       72.0       Messi   \n",
       "2            French Ligue 1  1992-02-05      175.0       68.0      Neymar   \n",
       "3  Spanish Primera División  1987-01-24      182.0       86.0      Normal   \n",
       "4         German Bundesliga  1986-03-27      193.0       92.0      Normal   \n",
       "\n",
       "   real_face                                    flag nationality  \\\n",
       "0       True  https://cdn.sofifa.org/flags/38@3x.png    Portugal   \n",
       "1       True  https://cdn.sofifa.org/flags/52@3x.png   Argentina   \n",
       "2       True  https://cdn.sofifa.org/flags/54@3x.png      Brazil   \n",
       "3       True  https://cdn.sofifa.org/flags/60@3x.png     Uruguay   \n",
       "4       True  https://cdn.sofifa.org/flags/21@3x.png     Germany   \n",
       "\n",
       "                                          photo    eur_value  eur_wage  \\\n",
       "0   https://cdn.sofifa.org/18/players/20801.png   95500000.0  565000.0   \n",
       "1  https://cdn.sofifa.org/18/players/158023.png  105000000.0  565000.0   \n",
       "2  https://cdn.sofifa.org/18/players/190871.png  123000000.0  280000.0   \n",
       "3  https://cdn.sofifa.org/18/players/176580.png   97000000.0  510000.0   \n",
       "4  https://cdn.sofifa.org/18/players/167495.png   61000000.0  230000.0   \n",
       "\n",
       "   eur_release_clause  overall  potential  pac  sho  pas  dri  def  phy  \\\n",
       "0         195800000.0       94         94   90   93   82   90   33   80   \n",
       "1         215300000.0       93         93   89   90   86   96   26   61   \n",
       "2         236800000.0       92         94   92   84   79   95   30   60   \n",
       "3         198900000.0       92         92   82   90   79   87   42   81   \n",
       "4         100700000.0       92         92   91   90   95   89   60   91   \n",
       "\n",
       "   international_reputation  skill_moves  weak_foot work_rate_att  \\\n",
       "0                         5            5          4          High   \n",
       "1                         5            4          4        Medium   \n",
       "2                         5            5          5          High   \n",
       "3                         5            4          4          High   \n",
       "4                         5            1          4        Medium   \n",
       "\n",
       "  work_rate_def preferred_foot  crossing  finishing  heading_accuracy  \\\n",
       "0           Low          Right        85         94                88   \n",
       "1        Medium           Left        77         95                71   \n",
       "2        Medium          Right        75         89                62   \n",
       "3        Medium          Right        77         94                77   \n",
       "4        Medium          Right        15         13                25   \n",
       "\n",
       "   short_passing  volleys  dribbling  curve  free_kick_accuracy  long_passing  \\\n",
       "0             83       88         91     81                  76            77   \n",
       "1             88       85         97     89                  90            87   \n",
       "2             81       83         96     81                  84            75   \n",
       "3             83       88         86     86                  84            64   \n",
       "4             55       11         30     14                  11            59   \n",
       "\n",
       "   ball_control  acceleration  sprint_speed  agility  reactions  balance  \\\n",
       "0            93            89            91       89         96       63   \n",
       "1            95            92            87       90         95       95   \n",
       "2            95            94            90       96         88       82   \n",
       "3            91            88            77       86         93       60   \n",
       "4            48            58            61       52         85       35   \n",
       "\n",
       "   shot_power  jumping  stamina  strength  long_shots  aggression  \\\n",
       "0          94       95       92        80          92          63   \n",
       "1          85       68       73        59          88          48   \n",
       "2          80       61       78        53          77          56   \n",
       "3          87       69       89        80          86          78   \n",
       "4          25       78       44        83          16          29   \n",
       "\n",
       "   interceptions  positioning  vision  penalties  composure  marking  \\\n",
       "0             29           95      85         85         95       22   \n",
       "1             22           93      90         78         96       13   \n",
       "2             36           90      80         81         92       21   \n",
       "3             41           92      84         85         83       30   \n",
       "4             30           12      70         47         70       10   \n",
       "\n",
       "   standing_tackle  sliding_tackle  gk_diving  gk_handling  gk_kicking  \\\n",
       "0               31              23          7           11          15   \n",
       "1               28              26          6           11          15   \n",
       "2               24              33          9            9          15   \n",
       "3               45              38         27           25          31   \n",
       "4               10              11         91           90          95   \n",
       "\n",
       "   gk_positioning  gk_reflexes    rs    rw    rf   ram   rcm    rm   rdm  \\\n",
       "0              14           11  92.0  91.0  91.0  89.0  82.0  89.0  62.0   \n",
       "1              14            8  88.0  91.0  92.0  92.0  84.0  90.0  59.0   \n",
       "2              15           11  84.0  89.0  88.0  88.0  79.0  87.0  59.0   \n",
       "3              33           37  88.0  87.0  88.0  87.0  80.0  85.0  65.0   \n",
       "4              91           89   NaN   NaN   NaN   NaN   NaN   NaN   NaN   \n",
       "\n",
       "    rcb    rb   rwb    st    lw    cf   cam    cm    lm   cdm    cb    lb  \\\n",
       "0  53.0  61.0  66.0  92.0  91.0  91.0  89.0  82.0  89.0  62.0  53.0  61.0   \n",
       "1  45.0  57.0  62.0  88.0  91.0  92.0  92.0  84.0  90.0  59.0  45.0  57.0   \n",
       "2  46.0  59.0  64.0  84.0  89.0  88.0  88.0  79.0  87.0  59.0  46.0  59.0   \n",
       "3  58.0  64.0  68.0  88.0  87.0  88.0  87.0  80.0  85.0  65.0  58.0  64.0   \n",
       "4   NaN   NaN   NaN   NaN   NaN   NaN   NaN   NaN   NaN   NaN   NaN   NaN   \n",
       "\n",
       "    lwb    ls    lf   lam   lcm   ldm   lcb    gk  1_on_1_rush_trait  \\\n",
       "0  66.0  92.0  91.0  89.0  82.0  62.0  53.0   NaN              False   \n",
       "1  62.0  88.0  92.0  92.0  84.0  59.0  45.0   NaN              False   \n",
       "2  64.0  84.0  88.0  88.0  79.0  59.0  46.0   NaN              False   \n",
       "3  68.0  88.0  88.0  87.0  80.0  65.0  58.0   NaN              False   \n",
       "4   NaN   NaN   NaN   NaN   NaN   NaN   NaN  92.0               True   \n",
       "\n",
       "   acrobatic_clearance_trait  argues_with_officials_trait  \\\n",
       "0                      False                        False   \n",
       "1                      False                        False   \n",
       "2                      False                        False   \n",
       "3                      False                        False   \n",
       "4                      False                        False   \n",
       "\n",
       "   avoids_using_weaker_foot_trait  backs_into_player_trait  \\\n",
       "0                           False                    False   \n",
       "1                           False                    False   \n",
       "2                           False                    False   \n",
       "3                           False                    False   \n",
       "4                           False                    False   \n",
       "\n",
       "   bicycle_kicks_trait  cautious_with_crosses_trait  chip_shot_trait  \\\n",
       "0                False                        False            False   \n",
       "1                False                        False             True   \n",
       "2                False                        False            False   \n",
       "3                False                        False            False   \n",
       "4                False                        False            False   \n",
       "\n",
       "   chipped_penalty_trait  comes_for_crosses_trait  corner_specialist_trait  \\\n",
       "0                  False                    False                    False   \n",
       "1                  False                    False                    False   \n",
       "2                  False                    False                    False   \n",
       "3                  False                    False                    False   \n",
       "4                  False                     True                    False   \n",
       "\n",
       "   diver_trait  dives_into_tackles_trait  diving_header_trait  \\\n",
       "0        False                     False                False   \n",
       "1        False                     False                False   \n",
       "2         True                     False                False   \n",
       "3         True                     False                False   \n",
       "4        False                     False                False   \n",
       "\n",
       "   driven_pass_trait  early_crosser_trait  fan's_favourite_trait  \\\n",
       "0              False                False                  False   \n",
       "1              False                False                  False   \n",
       "2              False                False                  False   \n",
       "3              False                False                  False   \n",
       "4              False                False                  False   \n",
       "\n",
       "   fancy_flicks_trait  finesse_shot_trait  flair_trait  flair_passes_trait  \\\n",
       "0               False               False         True               False   \n",
       "1               False                True        False               False   \n",
       "2               False               False         True               False   \n",
       "3               False               False        False               False   \n",
       "4               False               False        False               False   \n",
       "\n",
       "   gk_flat_kick_trait  gk_long_throw_trait  gk_up_for_corners_trait  \\\n",
       "0               False                False                    False   \n",
       "1               False                False                    False   \n",
       "2               False                False                    False   \n",
       "3               False                False                    False   \n",
       "4               False                 True                    False   \n",
       "\n",
       "   giant_throw_in_trait  inflexible_trait  injury_free_trait  \\\n",
       "0                 False             False              False   \n",
       "1                 False             False              False   \n",
       "2                 False             False              False   \n",
       "3                 False             False              False   \n",
       "4                 False             False              False   \n",
       "\n",
       "   injury_prone_trait  leadership_trait  long_passer_trait  \\\n",
       "0               False             False              False   \n",
       "1               False             False              False   \n",
       "2               False             False              False   \n",
       "3               False             False              False   \n",
       "4               False             False              False   \n",
       "\n",
       "   long_shot_taker_trait  long_throw_in_trait  one_club_player_trait  \\\n",
       "0                   True                False                  False   \n",
       "1                   True                False                   True   \n",
       "2                  False                False                  False   \n",
       "3                  False                False                  False   \n",
       "4                  False                False                  False   \n",
       "\n",
       "   outside_foot_shot_trait  playmaker_trait  power_free_kick_trait  \\\n",
       "0                    False            False                   True   \n",
       "1                    False             True                  False   \n",
       "2                    False            False                  False   \n",
       "3                    False            False                  False   \n",
       "4                    False            False                  False   \n",
       "\n",
       "   power_header_trait  puncher_trait  rushes_out_of_goal_trait  \\\n",
       "0               False          False                     False   \n",
       "1               False          False                     False   \n",
       "2               False          False                     False   \n",
       "3               False          False                     False   \n",
       "4               False          False                      True   \n",
       "\n",
       "   saves_with_feet_trait  second_wind_trait  selfish_trait  \\\n",
       "0                  False              False          False   \n",
       "1                  False              False          False   \n",
       "2                  False              False          False   \n",
       "3                  False              False          False   \n",
       "4                  False              False          False   \n",
       "\n",
       "   skilled_dribbling_trait  stutter_penalty_trait  swerve_pass_trait  \\\n",
       "0                     True                  False              False   \n",
       "1                     True                  False              False   \n",
       "2                     True                  False              False   \n",
       "3                    False                  False              False   \n",
       "4                    False                  False              False   \n",
       "\n",
       "   takes_finesse_free_kicks_trait  target_forward_trait  team_player_trait  \\\n",
       "0                           False                 False              False   \n",
       "1                           False                 False              False   \n",
       "2                            True                 False              False   \n",
       "3                           False                 False              False   \n",
       "4                           False                 False              False   \n",
       "\n",
       "   technical_dribbler_trait  tries_to_beat_defensive_line_trait  \\\n",
       "0                     False                               False   \n",
       "1                     False                               False   \n",
       "2                      True                               False   \n",
       "3                      True                                True   \n",
       "4                     False                               False   \n",
       "\n",
       "   poacher_speciality  speedster_speciality  aerial_threat_speciality  \\\n",
       "0               False                  True                     False   \n",
       "1               False                 False                     False   \n",
       "2               False                  True                     False   \n",
       "3               False                 False                     False   \n",
       "4               False                 False                     False   \n",
       "\n",
       "   dribbler_speciality  playmaker_speciality  engine_speciality  \\\n",
       "0                 True                 False              False   \n",
       "1                 True                 False              False   \n",
       "2                 True                 False              False   \n",
       "3                False                 False              False   \n",
       "4                False                 False              False   \n",
       "\n",
       "   distance_shooter_speciality  crosser_speciality  \\\n",
       "0                         True               False   \n",
       "1                        False               False   \n",
       "2                        False               False   \n",
       "3                        False               False   \n",
       "4                        False               False   \n",
       "\n",
       "   free_kick_specialist_speciality  tackling_speciality  tactician_speciality  \\\n",
       "0                            False                False                 False   \n",
       "1                             True                False                 False   \n",
       "2                            False                False                 False   \n",
       "3                            False                False                 False   \n",
       "4                            False                False                 False   \n",
       "\n",
       "   acrobat_speciality  strength_speciality  clinical_finisher_speciality  \\\n",
       "0                True                False                          True   \n",
       "1                True                False                          True   \n",
       "2                True                False                         False   \n",
       "3                True                False                          True   \n",
       "4               False                False                         False   \n",
       "\n",
       "   prefers_rs  prefers_rw  prefers_rf  prefers_ram  prefers_rcm  prefers_rm  \\\n",
       "0       False       False       False        False        False       False   \n",
       "1       False        True       False        False        False       False   \n",
       "2       False       False       False        False        False       False   \n",
       "3       False       False       False        False        False       False   \n",
       "4       False       False       False        False        False       False   \n",
       "\n",
       "   prefers_rdm  prefers_rcb  prefers_rb  prefers_rwb  prefers_st  prefers_lw  \\\n",
       "0        False        False       False        False        True        True   \n",
       "1        False        False       False        False        True       False   \n",
       "2        False        False       False        False       False        True   \n",
       "3        False        False       False        False        True       False   \n",
       "4        False        False       False        False       False       False   \n",
       "\n",
       "   prefers_cf  prefers_cam  prefers_cm  prefers_lm  prefers_cdm  prefers_cb  \\\n",
       "0       False        False       False       False        False       False   \n",
       "1        True        False       False       False        False       False   \n",
       "2       False        False       False       False        False       False   \n",
       "3       False        False       False       False        False       False   \n",
       "4       False        False       False       False        False       False   \n",
       "\n",
       "   prefers_lb  prefers_lwb  prefers_ls  prefers_lf  prefers_lam  prefers_lcm  \\\n",
       "0       False        False       False       False        False        False   \n",
       "1       False        False       False       False        False        False   \n",
       "2       False        False       False       False        False        False   \n",
       "3       False        False       False       False        False        False   \n",
       "4       False        False       False       False        False        False   \n",
       "\n",
       "   prefers_ldm  prefers_lcb  prefers_gk  \n",
       "0        False        False       False  \n",
       "1        False        False       False  \n",
       "2        False        False       False  \n",
       "3        False        False       False  \n",
       "4        False        False        True  "
      ]
     },
     "execution_count": 38,
     "metadata": {},
     "output_type": "execute_result"
    }
   ],
   "source": [
    "df.head()"
   ]
  },
  {
   "cell_type": "code",
   "execution_count": 39,
   "metadata": {
    "ExecuteTime": {
     "end_time": "2020-11-22T17:13:04.503662Z",
     "start_time": "2020-11-22T17:13:04.498167Z"
    }
   },
   "outputs": [],
   "source": [
    "selected_features = [\n",
    "    'ball_control',\n",
    "    'dribbling',\n",
    "    'marking',\n",
    "    'sliding_tackle',\n",
    "    'standing_tackle',\n",
    "    'aggression',\n",
    "    'reactions',\n",
    "    'interceptions',\n",
    "    'vision',\n",
    "    'composure',\n",
    "    'crossing',\n",
    "    'acceleration',\n",
    "    'stamina',\n",
    "    'strength',\n",
    "    'balance',\n",
    "    'agility',\n",
    "    'jumping',\n",
    "    'shot_power',\n",
    "    'finishing',\n",
    "    'long_shots',\n",
    "    'curve',\n",
    "    'penalties',\n",
    "    'volleys'\n",
    "]"
   ]
  },
  {
   "cell_type": "code",
   "execution_count": 40,
   "metadata": {
    "ExecuteTime": {
     "end_time": "2020-11-22T17:13:06.535114Z",
     "start_time": "2020-11-22T17:13:06.528506Z"
    }
   },
   "outputs": [
    {
     "data": {
      "text/plain": [
       "23"
      ]
     },
     "execution_count": 40,
     "metadata": {},
     "output_type": "execute_result"
    }
   ],
   "source": [
    "len(selected_features)"
   ]
  },
  {
   "cell_type": "code",
   "execution_count": 41,
   "metadata": {
    "ExecuteTime": {
     "end_time": "2020-09-12T07:32:36.352441Z",
     "start_time": "2020-09-12T07:32:36.269923Z"
    }
   },
   "outputs": [
    {
     "data": {
      "text/html": [
       "<div>\n",
       "<style scoped>\n",
       "    .dataframe tbody tr th:only-of-type {\n",
       "        vertical-align: middle;\n",
       "    }\n",
       "\n",
       "    .dataframe tbody tr th {\n",
       "        vertical-align: top;\n",
       "    }\n",
       "\n",
       "    .dataframe thead th {\n",
       "        text-align: right;\n",
       "    }\n",
       "</style>\n",
       "<table border=\"1\" class=\"dataframe\">\n",
       "  <thead>\n",
       "    <tr style=\"text-align: right;\">\n",
       "      <th></th>\n",
       "      <th>ball_control</th>\n",
       "      <th>dribbling</th>\n",
       "      <th>marking</th>\n",
       "      <th>sliding_tackle</th>\n",
       "      <th>standing_tackle</th>\n",
       "      <th>aggression</th>\n",
       "      <th>reactions</th>\n",
       "      <th>interceptions</th>\n",
       "      <th>vision</th>\n",
       "      <th>composure</th>\n",
       "      <th>crossing</th>\n",
       "      <th>acceleration</th>\n",
       "      <th>stamina</th>\n",
       "      <th>strength</th>\n",
       "      <th>balance</th>\n",
       "      <th>agility</th>\n",
       "      <th>jumping</th>\n",
       "      <th>shot_power</th>\n",
       "      <th>finishing</th>\n",
       "      <th>long_shots</th>\n",
       "      <th>curve</th>\n",
       "      <th>penalties</th>\n",
       "      <th>volleys</th>\n",
       "    </tr>\n",
       "  </thead>\n",
       "  <tbody>\n",
       "    <tr>\n",
       "      <th>count</th>\n",
       "      <td>17994.000000</td>\n",
       "      <td>17994.000000</td>\n",
       "      <td>17994.000000</td>\n",
       "      <td>17994.000000</td>\n",
       "      <td>17994.000000</td>\n",
       "      <td>17994.000000</td>\n",
       "      <td>17994.000000</td>\n",
       "      <td>17994.000000</td>\n",
       "      <td>17994.000000</td>\n",
       "      <td>17994.000000</td>\n",
       "      <td>17994.000000</td>\n",
       "      <td>17994.000000</td>\n",
       "      <td>17994.000000</td>\n",
       "      <td>17994.000000</td>\n",
       "      <td>17994.000000</td>\n",
       "      <td>17994.000000</td>\n",
       "      <td>17994.000000</td>\n",
       "      <td>17994.000000</td>\n",
       "      <td>17994.000000</td>\n",
       "      <td>17994.000000</td>\n",
       "      <td>17994.000000</td>\n",
       "      <td>17994.000000</td>\n",
       "      <td>17994.000000</td>\n",
       "    </tr>\n",
       "    <tr>\n",
       "      <th>mean</th>\n",
       "      <td>58.139880</td>\n",
       "      <td>55.113538</td>\n",
       "      <td>44.124986</td>\n",
       "      <td>45.592086</td>\n",
       "      <td>47.478937</td>\n",
       "      <td>55.828109</td>\n",
       "      <td>61.897021</td>\n",
       "      <td>46.575247</td>\n",
       "      <td>53.030788</td>\n",
       "      <td>57.886684</td>\n",
       "      <td>49.806046</td>\n",
       "      <td>64.647827</td>\n",
       "      <td>63.297766</td>\n",
       "      <td>65.289541</td>\n",
       "      <td>63.807491</td>\n",
       "      <td>63.347838</td>\n",
       "      <td>64.885351</td>\n",
       "      <td>55.672391</td>\n",
       "      <td>45.330388</td>\n",
       "      <td>47.238691</td>\n",
       "      <td>47.327554</td>\n",
       "      <td>48.989163</td>\n",
       "      <td>43.225797</td>\n",
       "    </tr>\n",
       "    <tr>\n",
       "      <th>std</th>\n",
       "      <td>16.750302</td>\n",
       "      <td>18.953630</td>\n",
       "      <td>21.582512</td>\n",
       "      <td>21.477372</td>\n",
       "      <td>21.819514</td>\n",
       "      <td>17.455601</td>\n",
       "      <td>9.139441</td>\n",
       "      <td>20.684196</td>\n",
       "      <td>14.358107</td>\n",
       "      <td>12.905050</td>\n",
       "      <td>18.436764</td>\n",
       "      <td>14.880575</td>\n",
       "      <td>15.875790</td>\n",
       "      <td>12.628182</td>\n",
       "      <td>14.093398</td>\n",
       "      <td>14.755063</td>\n",
       "      <td>11.878768</td>\n",
       "      <td>17.379212</td>\n",
       "      <td>19.479680</td>\n",
       "      <td>19.267705</td>\n",
       "      <td>18.451613</td>\n",
       "      <td>15.802867</td>\n",
       "      <td>17.730451</td>\n",
       "    </tr>\n",
       "    <tr>\n",
       "      <th>min</th>\n",
       "      <td>8.000000</td>\n",
       "      <td>2.000000</td>\n",
       "      <td>4.000000</td>\n",
       "      <td>4.000000</td>\n",
       "      <td>4.000000</td>\n",
       "      <td>11.000000</td>\n",
       "      <td>28.000000</td>\n",
       "      <td>4.000000</td>\n",
       "      <td>10.000000</td>\n",
       "      <td>5.000000</td>\n",
       "      <td>5.000000</td>\n",
       "      <td>11.000000</td>\n",
       "      <td>12.000000</td>\n",
       "      <td>12.000000</td>\n",
       "      <td>11.000000</td>\n",
       "      <td>14.000000</td>\n",
       "      <td>13.000000</td>\n",
       "      <td>3.000000</td>\n",
       "      <td>2.000000</td>\n",
       "      <td>3.000000</td>\n",
       "      <td>6.000000</td>\n",
       "      <td>5.000000</td>\n",
       "      <td>4.000000</td>\n",
       "    </tr>\n",
       "    <tr>\n",
       "      <th>25%</th>\n",
       "      <td>53.000000</td>\n",
       "      <td>48.000000</td>\n",
       "      <td>22.000000</td>\n",
       "      <td>24.000000</td>\n",
       "      <td>26.000000</td>\n",
       "      <td>43.000000</td>\n",
       "      <td>56.000000</td>\n",
       "      <td>26.000000</td>\n",
       "      <td>43.000000</td>\n",
       "      <td>51.000000</td>\n",
       "      <td>38.000000</td>\n",
       "      <td>57.000000</td>\n",
       "      <td>56.000000</td>\n",
       "      <td>58.000000</td>\n",
       "      <td>56.000000</td>\n",
       "      <td>55.000000</td>\n",
       "      <td>58.000000</td>\n",
       "      <td>46.000000</td>\n",
       "      <td>29.000000</td>\n",
       "      <td>33.000000</td>\n",
       "      <td>34.000000</td>\n",
       "      <td>39.000000</td>\n",
       "      <td>30.000000</td>\n",
       "    </tr>\n",
       "    <tr>\n",
       "      <th>50%</th>\n",
       "      <td>63.000000</td>\n",
       "      <td>61.000000</td>\n",
       "      <td>48.000000</td>\n",
       "      <td>52.000000</td>\n",
       "      <td>54.000000</td>\n",
       "      <td>59.000000</td>\n",
       "      <td>62.000000</td>\n",
       "      <td>52.000000</td>\n",
       "      <td>55.000000</td>\n",
       "      <td>60.000000</td>\n",
       "      <td>54.000000</td>\n",
       "      <td>67.000000</td>\n",
       "      <td>66.000000</td>\n",
       "      <td>66.000000</td>\n",
       "      <td>66.000000</td>\n",
       "      <td>65.000000</td>\n",
       "      <td>66.000000</td>\n",
       "      <td>59.000000</td>\n",
       "      <td>48.000000</td>\n",
       "      <td>51.000000</td>\n",
       "      <td>49.000000</td>\n",
       "      <td>50.000000</td>\n",
       "      <td>44.000000</td>\n",
       "    </tr>\n",
       "    <tr>\n",
       "      <th>75%</th>\n",
       "      <td>69.000000</td>\n",
       "      <td>68.000000</td>\n",
       "      <td>63.000000</td>\n",
       "      <td>64.000000</td>\n",
       "      <td>66.000000</td>\n",
       "      <td>69.000000</td>\n",
       "      <td>68.000000</td>\n",
       "      <td>64.000000</td>\n",
       "      <td>64.000000</td>\n",
       "      <td>67.000000</td>\n",
       "      <td>64.000000</td>\n",
       "      <td>75.000000</td>\n",
       "      <td>74.000000</td>\n",
       "      <td>74.000000</td>\n",
       "      <td>74.000000</td>\n",
       "      <td>74.000000</td>\n",
       "      <td>73.000000</td>\n",
       "      <td>69.000000</td>\n",
       "      <td>61.750000</td>\n",
       "      <td>63.000000</td>\n",
       "      <td>62.000000</td>\n",
       "      <td>61.000000</td>\n",
       "      <td>57.000000</td>\n",
       "    </tr>\n",
       "    <tr>\n",
       "      <th>max</th>\n",
       "      <td>95.000000</td>\n",
       "      <td>97.000000</td>\n",
       "      <td>92.000000</td>\n",
       "      <td>91.000000</td>\n",
       "      <td>92.000000</td>\n",
       "      <td>96.000000</td>\n",
       "      <td>96.000000</td>\n",
       "      <td>92.000000</td>\n",
       "      <td>94.000000</td>\n",
       "      <td>96.000000</td>\n",
       "      <td>90.000000</td>\n",
       "      <td>96.000000</td>\n",
       "      <td>95.000000</td>\n",
       "      <td>98.000000</td>\n",
       "      <td>96.000000</td>\n",
       "      <td>96.000000</td>\n",
       "      <td>95.000000</td>\n",
       "      <td>94.000000</td>\n",
       "      <td>95.000000</td>\n",
       "      <td>92.000000</td>\n",
       "      <td>92.000000</td>\n",
       "      <td>92.000000</td>\n",
       "      <td>91.000000</td>\n",
       "    </tr>\n",
       "  </tbody>\n",
       "</table>\n",
       "</div>"
      ],
      "text/plain": [
       "       ball_control     dribbling       marking  sliding_tackle  \\\n",
       "count  17994.000000  17994.000000  17994.000000    17994.000000   \n",
       "mean      58.139880     55.113538     44.124986       45.592086   \n",
       "std       16.750302     18.953630     21.582512       21.477372   \n",
       "min        8.000000      2.000000      4.000000        4.000000   \n",
       "25%       53.000000     48.000000     22.000000       24.000000   \n",
       "50%       63.000000     61.000000     48.000000       52.000000   \n",
       "75%       69.000000     68.000000     63.000000       64.000000   \n",
       "max       95.000000     97.000000     92.000000       91.000000   \n",
       "\n",
       "       standing_tackle    aggression     reactions  interceptions  \\\n",
       "count     17994.000000  17994.000000  17994.000000   17994.000000   \n",
       "mean         47.478937     55.828109     61.897021      46.575247   \n",
       "std          21.819514     17.455601      9.139441      20.684196   \n",
       "min           4.000000     11.000000     28.000000       4.000000   \n",
       "25%          26.000000     43.000000     56.000000      26.000000   \n",
       "50%          54.000000     59.000000     62.000000      52.000000   \n",
       "75%          66.000000     69.000000     68.000000      64.000000   \n",
       "max          92.000000     96.000000     96.000000      92.000000   \n",
       "\n",
       "             vision     composure      crossing  acceleration       stamina  \\\n",
       "count  17994.000000  17994.000000  17994.000000  17994.000000  17994.000000   \n",
       "mean      53.030788     57.886684     49.806046     64.647827     63.297766   \n",
       "std       14.358107     12.905050     18.436764     14.880575     15.875790   \n",
       "min       10.000000      5.000000      5.000000     11.000000     12.000000   \n",
       "25%       43.000000     51.000000     38.000000     57.000000     56.000000   \n",
       "50%       55.000000     60.000000     54.000000     67.000000     66.000000   \n",
       "75%       64.000000     67.000000     64.000000     75.000000     74.000000   \n",
       "max       94.000000     96.000000     90.000000     96.000000     95.000000   \n",
       "\n",
       "           strength       balance       agility       jumping    shot_power  \\\n",
       "count  17994.000000  17994.000000  17994.000000  17994.000000  17994.000000   \n",
       "mean      65.289541     63.807491     63.347838     64.885351     55.672391   \n",
       "std       12.628182     14.093398     14.755063     11.878768     17.379212   \n",
       "min       12.000000     11.000000     14.000000     13.000000      3.000000   \n",
       "25%       58.000000     56.000000     55.000000     58.000000     46.000000   \n",
       "50%       66.000000     66.000000     65.000000     66.000000     59.000000   \n",
       "75%       74.000000     74.000000     74.000000     73.000000     69.000000   \n",
       "max       98.000000     96.000000     96.000000     95.000000     94.000000   \n",
       "\n",
       "          finishing    long_shots         curve     penalties       volleys  \n",
       "count  17994.000000  17994.000000  17994.000000  17994.000000  17994.000000  \n",
       "mean      45.330388     47.238691     47.327554     48.989163     43.225797  \n",
       "std       19.479680     19.267705     18.451613     15.802867     17.730451  \n",
       "min        2.000000      3.000000      6.000000      5.000000      4.000000  \n",
       "25%       29.000000     33.000000     34.000000     39.000000     30.000000  \n",
       "50%       48.000000     51.000000     49.000000     50.000000     44.000000  \n",
       "75%       61.750000     63.000000     62.000000     61.000000     57.000000  \n",
       "max       95.000000     92.000000     92.000000     92.000000     91.000000  "
      ]
     },
     "execution_count": 41,
     "metadata": {},
     "output_type": "execute_result"
    }
   ],
   "source": [
    "df[selected_features].describe(include='all')"
   ]
  },
  {
   "cell_type": "code",
   "execution_count": 42,
   "metadata": {
    "ExecuteTime": {
     "end_time": "2020-09-12T13:57:58.249642Z",
     "start_time": "2020-09-12T13:57:58.242170Z"
    }
   },
   "outputs": [
    {
     "data": {
      "text/plain": [
       "skewness    5.869047\n",
       "curtosis    4.310030\n",
       "dtype: float64"
      ]
     },
     "execution_count": 42,
     "metadata": {},
     "output_type": "execute_result"
    }
   ],
   "source": [
    "X.std()"
   ]
  },
  {
   "cell_type": "code",
   "execution_count": 43,
   "metadata": {
    "ExecuteTime": {
     "end_time": "2020-09-12T13:46:42.244755Z",
     "start_time": "2020-09-12T13:46:42.238548Z"
    }
   },
   "outputs": [
    {
     "data": {
      "text/plain": [
       "(1372, 2)"
      ]
     },
     "execution_count": 43,
     "metadata": {},
     "output_type": "execute_result"
    }
   ],
   "source": [
    "X.shape"
   ]
  },
  {
   "cell_type": "code",
   "execution_count": 44,
   "metadata": {
    "ExecuteTime": {
     "end_time": "2020-09-12T13:47:37.329421Z",
     "start_time": "2020-09-12T13:47:37.306979Z"
    }
   },
   "outputs": [
    {
     "data": {
      "text/html": [
       "<div>\n",
       "<style scoped>\n",
       "    .dataframe tbody tr th:only-of-type {\n",
       "        vertical-align: middle;\n",
       "    }\n",
       "\n",
       "    .dataframe tbody tr th {\n",
       "        vertical-align: top;\n",
       "    }\n",
       "\n",
       "    .dataframe thead th {\n",
       "        text-align: right;\n",
       "    }\n",
       "</style>\n",
       "<table border=\"1\" class=\"dataframe\">\n",
       "  <thead>\n",
       "    <tr style=\"text-align: right;\">\n",
       "      <th></th>\n",
       "      <th>skewness</th>\n",
       "      <th>curtosis</th>\n",
       "    </tr>\n",
       "  </thead>\n",
       "  <tbody>\n",
       "    <tr>\n",
       "      <th>0</th>\n",
       "      <td>8.6661</td>\n",
       "      <td>-2.8073</td>\n",
       "    </tr>\n",
       "  </tbody>\n",
       "</table>\n",
       "</div>"
      ],
      "text/plain": [
       "   skewness  curtosis\n",
       "0    8.6661   -2.8073"
      ]
     },
     "execution_count": 44,
     "metadata": {},
     "output_type": "execute_result"
    }
   ],
   "source": [
    "X[0:1]"
   ]
  },
  {
   "cell_type": "code",
   "execution_count": 45,
   "metadata": {
    "ExecuteTime": {
     "end_time": "2020-09-12T13:47:47.372822Z",
     "start_time": "2020-09-12T13:47:47.366379Z"
    }
   },
   "outputs": [
    {
     "ename": "NameError",
     "evalue": "name 'Xpca3' is not defined",
     "output_type": "error",
     "traceback": [
      "\u001b[0;31m---------------------------------------------------------------------------\u001b[0m",
      "\u001b[0;31mNameError\u001b[0m                                 Traceback (most recent call last)",
      "\u001b[0;32m<ipython-input-45-e7bf815b4369>\u001b[0m in \u001b[0;36m<module>\u001b[0;34m\u001b[0m\n\u001b[0;32m----> 1\u001b[0;31m \u001b[0mXpca3\u001b[0m\u001b[0;34m[\u001b[0m\u001b[0;36m0\u001b[0m\u001b[0;34m:\u001b[0m\u001b[0;36m1\u001b[0m\u001b[0;34m]\u001b[0m\u001b[0;34m\u001b[0m\u001b[0;34m\u001b[0m\u001b[0m\n\u001b[0m",
      "\u001b[0;31mNameError\u001b[0m: name 'Xpca3' is not defined"
     ]
    }
   ],
   "source": [
    "Xpca3[0:1]"
   ]
  },
  {
   "cell_type": "code",
   "execution_count": null,
   "metadata": {
    "ExecuteTime": {
     "end_time": "2020-11-22T17:13:30.711752Z",
     "start_time": "2020-11-22T17:13:30.603769Z"
    }
   },
   "outputs": [],
   "source": [
    "\n",
    "X = df[selected_features]\n",
    "X = (X - X.mean()) / X.std()\n",
    "\n",
    "from sklearn.decomposition import PCA\n",
    "\n",
    "pca3 = PCA(n_components=2)\n",
    "pca3.fit(X)\n",
    "print(pca3.components_)\n",
    "print(pca3.explained_variance_ratio_)\n",
    "Xpca3 = pca3.transform(X)\n"
   ]
  },
  {
   "cell_type": "code",
   "execution_count": null,
   "metadata": {
    "ExecuteTime": {
     "end_time": "2020-11-22T17:14:46.534566Z",
     "start_time": "2020-11-22T17:14:46.523471Z"
    }
   },
   "outputs": [],
   "source": [
    "Xpca3_df.head()"
   ]
  },
  {
   "cell_type": "code",
   "execution_count": null,
   "metadata": {},
   "outputs": [],
   "source": [
    "telecom:\n",
    "pca: number_calls_1_day, _6, : []\n",
    "        \n",
    "pca: sms\n",
    "    \n",
    "    \n",
    "pca: mobile_data[]\n",
    "    \n"
   ]
  },
  {
   "cell_type": "code",
   "execution_count": null,
   "metadata": {},
   "outputs": [],
   "source": []
  },
  {
   "cell_type": "code",
   "execution_count": null,
   "metadata": {
    "ExecuteTime": {
     "end_time": "2020-11-22T17:15:13.611322Z",
     "start_time": "2020-11-22T17:15:13.587765Z"
    }
   },
   "outputs": [],
   "source": [
    "\n",
    "Xpca3_df.sample(n=100)\n"
   ]
  },
  {
   "cell_type": "code",
   "execution_count": null,
   "metadata": {
    "ExecuteTime": {
     "end_time": "2020-11-22T17:15:42.733821Z",
     "start_time": "2020-11-22T17:15:42.727811Z"
    }
   },
   "outputs": [],
   "source": [
    "Xpca3_df.columns"
   ]
  },
  {
   "cell_type": "code",
   "execution_count": null,
   "metadata": {
    "ExecuteTime": {
     "end_time": "2020-11-22T17:16:33.281624Z",
     "start_time": "2020-11-22T17:16:33.260703Z"
    }
   },
   "outputs": [],
   "source": [
    "Xpca3_df = pd.concat([pd.DataFrame(Xpca3), df['prefers_gk']], axis=1)\n",
    "#plt.rcParams[\"figure.figsize\"] = (10,5)\n",
    "sns.scatterplot(x=0,\n",
    "                y = 1,\n",
    "                data=Xpca3_df)\n",
    "plt.show()"
   ]
  },
  {
   "cell_type": "code",
   "execution_count": null,
   "metadata": {},
   "outputs": [],
   "source": []
  }
 ],
 "metadata": {
  "kernelspec": {
   "display_name": "Python 3",
   "language": "python",
   "name": "python3"
  },
  "language_info": {
   "codemirror_mode": {
    "name": "ipython",
    "version": 3
   },
   "file_extension": ".py",
   "mimetype": "text/x-python",
   "name": "python",
   "nbconvert_exporter": "python",
   "pygments_lexer": "ipython3",
   "version": "3.7.3"
  }
 },
 "nbformat": 4,
 "nbformat_minor": 2
}
