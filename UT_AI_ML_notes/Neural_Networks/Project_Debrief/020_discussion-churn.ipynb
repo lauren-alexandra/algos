{
 "cells": [
  {
   "cell_type": "markdown",
   "metadata": {},
   "source": [
    "\n",
    "\n",
    "______"
   ]
  },
  {
   "cell_type": "markdown",
   "metadata": {},
   "source": [
    "____"
   ]
  },
  {
   "cell_type": "markdown",
   "metadata": {},
   "source": [
    "### Overall Flow\n",
    "\n",
    "1. Problem Definition\n",
    "    - Objective: Define Churn\n",
    "    - KPI\n",
    "2. Data Crunching\n",
    "3. Data Processing\n",
    "4. __EDA__\n",
    "5. __Model Building (Model refers to any solution: ML, DNN, Heuristic)__\n",
    "6. __Model Evaluation__\n",
    "7. Model Deployment\n",
    "8. Model Monitoring\n",
    "9. Improvement / Feedback Loop"
   ]
  },
  {
   "cell_type": "markdown",
   "metadata": {},
   "source": [
    "___"
   ]
  },
  {
   "cell_type": "markdown",
   "metadata": {},
   "source": [
    "- Downgrading the plan\n",
    "- Average monthly usage\n",
    "- LTV;\n",
    "- Engagement level; Retention; \n",
    "- Tenure\n",
    "- How frequently he was transacting?\n",
    "\n",
    "- Feedback\n",
    "- "
   ]
  },
  {
   "cell_type": "code",
   "execution_count": null,
   "metadata": {},
   "outputs": [],
   "source": [
    "- X no of months: X ???\n",
    "- "
   ]
  },
  {
   "cell_type": "markdown",
   "metadata": {},
   "source": [
    "### Problem Defintion\n",
    "\n",
    "What is a Churn?\n",
    "\n",
    "- ``Customers who will leave in next 6 months``\n",
    "\n",
    "\n",
    "- You need time to convince customers. Once they have made mind, there is little you can do.\n",
    "- But it becomes equally tough to predict so early. To identify signals.\n",
    "\n",
    "\n",
    "- generally done empirically, how much you are able to reduce churn once you identify?\n",
    "- How accurate you are?\n",
    "\n",
    "\n",
    "- __Gain__: Value from retained customers\n",
    "- __Cost__: Amount spend on incetives\n",
    "\n",
    "\n",
    "- Impact measurement\n",
    "    - Done through __A/B__ testing"
   ]
  },
  {
   "cell_type": "markdown",
   "metadata": {},
   "source": [
    "_____________"
   ]
  },
  {
   "cell_type": "markdown",
   "metadata": {},
   "source": [
    "- Not simple as what we think, other complications as well\n",
    "- Because customer come back even if we do not provide any incentive\n",
    "- Some are seasonal customers (AirBNB vacation homes)\n",
    "- Exam time; Vacation time\n",
    "- Some customers hop on and off\n",
    "    - Prime 30 Days\n",
    "    - netflix 30 days\n",
    "    - Disney 30 Days"
   ]
  },
  {
   "cell_type": "markdown",
   "metadata": {},
   "source": [
    "______"
   ]
  },
  {
   "cell_type": "markdown",
   "metadata": {},
   "source": [
    "- Who have not renewed their subscription or transacted for 'x' months?\n",
    "- Also depend how long they are in system? New customer not renewing need different set of analysis\n"
   ]
  },
  {
   "cell_type": "markdown",
   "metadata": {},
   "source": [
    "___"
   ]
  },
  {
   "cell_type": "markdown",
   "metadata": {},
   "source": [
    "\n",
    "#### Based on 2 metrics\n",
    "\n",
    "- What % of revenue they were contributing in 12 months ?\n",
    "- What % of customers come back?"
   ]
  },
  {
   "cell_type": "markdown",
   "metadata": {},
   "source": [
    "___"
   ]
  },
  {
   "cell_type": "markdown",
   "metadata": {},
   "source": [
    "Define your business objective\n",
    "\n",
    "- Amazon: >=6 Transactions in last 12 months; and no transaction in next 6 months\n",
    "- <> These customers never come back (90%)\n",
    "- <> contributed 25% of revenue in last 12 months"
   ]
  },
  {
   "cell_type": "markdown",
   "metadata": {},
   "source": [
    "___"
   ]
  },
  {
   "cell_type": "code",
   "execution_count": null,
   "metadata": {},
   "outputs": [],
   "source": [
    "Current_month_consumption / Avg(in_last_6months)"
   ]
  },
  {
   "cell_type": "markdown",
   "metadata": {
    "ExecuteTime": {
     "end_time": "2020-10-15T12:11:35.093359Z",
     "start_time": "2020-10-15T12:11:35.071984Z"
    }
   },
   "source": [
    "How can machine learning help in reducing churn?\n",
    "- identify churn (pre-post)\n",
    "- Earlier we can identify; Company can take better actions\n",
    "\n",
    "Post Churn\n",
    "- More of a data analysis\n",
    "- Issue identification\n",
    "- Surveys to churned customers\n",
    "\n"
   ]
  },
  {
   "cell_type": "markdown",
   "metadata": {},
   "source": [
    "----"
   ]
  },
  {
   "cell_type": "markdown",
   "metadata": {},
   "source": [
    "- Look for triggers\n",
    "- Unusual behaviour\n",
    "\n",
    "\n",
    "- For few companies; they do not even get data (Insurance companies)\n",
    "\n",
    "\n",
    "- Netflix: Avg surf time has reduced by 80% in this month compared to previous\n",
    "- Customer is flipping differnt content rapidly within 5 minutes\n",
    "\n",
    "- Customer not logging into the account\n",
    "- Logging frequency have reduced\n",
    "- Unresolved complaints\n",
    "\n",
    "- Analyze customer complaints to look for specific issues\n",
    "- Scrape social media as well for customer complaints, \n",
    "- Trend features\n",
    "\n",
    "- Engagement has come down\n",
    "\n",
    "\n",
    "- Avg balance coming down\n",
    "- Pages browsed on accounts (How to close account)\n",
    "\n",
    "- Anomaly tracker: People searching for this..\n"
   ]
  },
  {
   "cell_type": "markdown",
   "metadata": {},
   "source": [
    "For companies like insurance; seasonal purchase and other companies too\n",
    "\n",
    "- They keep launching some quizes; small games; and lucky draws; \"Brand recall\" Create data as well\n",
    "- Launch loyalty programs\n",
    "- They would request you to download apps; so that they can send you personalized messages"
   ]
  },
  {
   "cell_type": "markdown",
   "metadata": {},
   "source": [
    "___"
   ]
  }
 ],
 "metadata": {
  "kernelspec": {
   "display_name": "Python 3",
   "language": "python",
   "name": "python3"
  },
  "language_info": {
   "codemirror_mode": {
    "name": "ipython",
    "version": 3
   },
   "file_extension": ".py",
   "mimetype": "text/x-python",
   "name": "python",
   "nbconvert_exporter": "python",
   "pygments_lexer": "ipython3",
   "version": "3.7.4"
  }
 },
 "nbformat": 4,
 "nbformat_minor": 2
}
