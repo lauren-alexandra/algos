{
 "cells": [
  {
   "cell_type": "markdown",
   "metadata": {},
   "source": [
    "- Used to find optimum hyperparameter\n",
    "- Hyperparameters:\n",
    "    - Linkage\n",
    "    - Distance metric\n",
    "- Cophenetic correlation should be maximum\n",
    "- Value lie between [0,1]"
   ]
  },
  {
   "cell_type": "markdown",
   "metadata": {},
   "source": [
    "- Once you identfy optimal hyperparameters: linkage and distance\n",
    "- Use silehoutte score to identify optimal number of clusters\n",
    "\n",
    "- If you know of any other method of finding optimum number of clusters, let me know"
   ]
  },
  {
   "cell_type": "code",
   "execution_count": 24,
   "metadata": {
    "ExecuteTime": {
     "end_time": "2020-11-22T15:52:26.127538Z",
     "start_time": "2020-11-22T15:52:26.109314Z"
    }
   },
   "outputs": [],
   "source": [
    "import warnings\n",
    "warnings.filterwarnings('ignore')"
   ]
  },
  {
   "cell_type": "code",
   "execution_count": 25,
   "metadata": {
    "ExecuteTime": {
     "end_time": "2020-11-22T15:52:27.323933Z",
     "start_time": "2020-11-22T15:52:26.470226Z"
    }
   },
   "outputs": [],
   "source": [
    "import pandas as pd\n",
    "\n",
    "import matplotlib.pyplot as plt\n",
    "import seaborn as sns\n",
    "%matplotlib inline\n",
    "\n",
    "from scipy.spatial.distance import pdist\n",
    "from scipy.stats import pearsonr\n",
    "from scipy.cluster.hierarchy import dendrogram, linkage, cophenet"
   ]
  },
  {
   "cell_type": "code",
   "execution_count": 26,
   "metadata": {
    "ExecuteTime": {
     "end_time": "2020-11-22T15:52:27.337290Z",
     "start_time": "2020-11-22T15:52:27.325700Z"
    }
   },
   "outputs": [],
   "source": [
    "df = pd.read_csv('vehicle-1.csv')"
   ]
  },
  {
   "cell_type": "code",
   "execution_count": 27,
   "metadata": {
    "ExecuteTime": {
     "end_time": "2020-11-22T15:52:28.559400Z",
     "start_time": "2020-11-22T15:52:28.538478Z"
    }
   },
   "outputs": [],
   "source": [
    "df.dropna(inplace = True)"
   ]
  },
  {
   "cell_type": "code",
   "execution_count": 28,
   "metadata": {
    "ExecuteTime": {
     "end_time": "2020-11-22T15:52:29.033058Z",
     "start_time": "2020-11-22T15:52:29.028274Z"
    }
   },
   "outputs": [],
   "source": [
    "X = df.drop('class', axis=1)"
   ]
  },
  {
   "cell_type": "code",
   "execution_count": 29,
   "metadata": {
    "ExecuteTime": {
     "end_time": "2020-11-22T15:52:29.452552Z",
     "start_time": "2020-11-22T15:52:29.437015Z"
    }
   },
   "outputs": [],
   "source": [
    "X = (X - X.mean()) / X.std()"
   ]
  },
  {
   "cell_type": "code",
   "execution_count": 30,
   "metadata": {
    "ExecuteTime": {
     "end_time": "2020-11-22T15:52:31.012218Z",
     "start_time": "2020-11-22T15:52:31.003045Z"
    }
   },
   "outputs": [
    {
     "data": {
      "text/plain": [
       "(4, 4)"
      ]
     },
     "execution_count": 30,
     "metadata": {},
     "output_type": "execute_result"
    }
   ],
   "source": [
    "Z = linkage(X[0:5],\n",
    "            method = 'ward',\n",
    "            metric='euclidean')\n",
    "Z.shape"
   ]
  },
  {
   "cell_type": "code",
   "execution_count": 31,
   "metadata": {
    "ExecuteTime": {
     "end_time": "2020-11-22T15:52:31.510525Z",
     "start_time": "2020-11-22T15:52:31.505454Z"
    }
   },
   "outputs": [
    {
     "data": {
      "text/plain": [
       "array([[ 1.        ,  3.        ,  2.79919221,  2.        ],\n",
       "       [ 0.        ,  5.        ,  3.73585146,  3.        ],\n",
       "       [ 2.        ,  6.        ,  6.52041096,  4.        ],\n",
       "       [ 4.        ,  7.        , 17.08039185,  5.        ]])"
      ]
     },
     "execution_count": 31,
     "metadata": {},
     "output_type": "execute_result"
    }
   ],
   "source": [
    "Z"
   ]
  },
  {
   "cell_type": "code",
   "execution_count": 32,
   "metadata": {
    "ExecuteTime": {
     "end_time": "2020-11-22T15:52:33.036082Z",
     "start_time": "2020-11-22T15:52:32.872819Z"
    }
   },
   "outputs": [
    {
     "data": {
      "image/png": "[encoded data removed]",
      "text/plain": [
       "<Figure size 432x288 with 1 Axes>"
      ]
     },
     "metadata": {
      "needs_background": "light"
     },
     "output_type": "display_data"
    }
   ],
   "source": [
    "# Hint: Use truncate_mode='lastp' attribute in dendrogram function to arrive at dendrogram\n",
    "dendrogram(\n",
    "    Z,\n",
    "    truncate_mode='lastp',  # show only the last p merged clusters\n",
    "    p=40,\n",
    ")\n",
    "plt.show()"
   ]
  },
  {
   "cell_type": "code",
   "execution_count": 33,
   "metadata": {
    "ExecuteTime": {
     "end_time": "2020-11-22T15:52:38.068978Z",
     "start_time": "2020-11-22T15:52:38.063805Z"
    }
   },
   "outputs": [],
   "source": [
    "distance_between_pair_of_points = pdist(X[0:5])"
   ]
  },
  {
   "cell_type": "code",
   "execution_count": 34,
   "metadata": {
    "ExecuteTime": {
     "end_time": "2020-11-22T15:52:38.749901Z",
     "start_time": "2020-11-22T15:52:38.743896Z"
    }
   },
   "outputs": [
    {
     "data": {
      "text/plain": [
       "array([ 3.07207498,  4.3367978 ,  3.92619065, 12.98653236,  5.69900095,\n",
       "        2.79919221, 13.78760992,  6.68140125, 13.61390703, 14.74505682])"
      ]
     },
     "execution_count": 34,
     "metadata": {},
     "output_type": "execute_result"
    }
   ],
   "source": [
    "distance_between_pair_of_points"
   ]
  },
  {
   "cell_type": "markdown",
   "metadata": {},
   "source": [
    "- 3.07207498: distance between point 0 and 1\n",
    "- 4.3367978: 0 and 2\n",
    "- 3.92619065: 0 and 3\n",
    "- 12.98653236: 0 and 4\n",
    "- 5.69900095: 1 and 2\n",
    "- 2.79919221: 1 and 3\n",
    "- 13.78760992: 1 and 4\n",
    "- 6.68140125: 2 and 3\n",
    "- 13.61390703: 2 and 4\n",
    "- 14.74505682: 3 and 4"
   ]
  },
  {
   "cell_type": "code",
   "execution_count": 35,
   "metadata": {
    "ExecuteTime": {
     "end_time": "2020-11-22T15:55:34.829294Z",
     "start_time": "2020-11-22T15:55:34.824917Z"
    }
   },
   "outputs": [],
   "source": [
    "cophenet_Z = cophenet(Z)"
   ]
  },
  {
   "cell_type": "markdown",
   "metadata": {},
   "source": [
    "- Copehent show the distance between pair of points in the dendograph\n",
    "- The distance (Y-Axis) when those 2 point meet for the first time\n",
    "- This distance should be small when actual distance between them is small, and vice versa"
   ]
  },
  {
   "cell_type": "code",
   "execution_count": 36,
   "metadata": {
    "ExecuteTime": {
     "end_time": "2020-11-22T15:55:36.455959Z",
     "start_time": "2020-11-22T15:55:36.449708Z"
    }
   },
   "outputs": [
    {
     "data": {
      "text/plain": [
       "array([ 3.73585146,  6.52041096,  3.73585146, 17.08039185,  6.52041096,\n",
       "        2.79919221, 17.08039185,  6.52041096, 17.08039185, 17.08039185])"
      ]
     },
     "execution_count": 36,
     "metadata": {},
     "output_type": "execute_result"
    }
   ],
   "source": [
    "cophenet_Z"
   ]
  },
  {
   "cell_type": "markdown",
   "metadata": {},
   "source": [
    "In the above dendograph, \n",
    "\n",
    "\n",
    "- 3.73585146: distance between point 0 and 1\n",
    "- 6.52041096: point 0 and 2\n",
    "- ...and so on\n",
    "- same as distance matrix"
   ]
  },
  {
   "cell_type": "code",
   "execution_count": 37,
   "metadata": {
    "ExecuteTime": {
     "end_time": "2020-09-12T13:12:56.658276Z",
     "start_time": "2020-09-12T13:12:56.654502Z"
    }
   },
   "outputs": [],
   "source": [
    "cophenet_correlation = pearsonr(cophenet_Z, distance_between_pair_of_points)[0]"
   ]
  },
  {
   "cell_type": "code",
   "execution_count": 38,
   "metadata": {
    "ExecuteTime": {
     "end_time": "2020-09-12T13:12:58.726012Z",
     "start_time": "2020-09-12T13:12:58.721185Z"
    }
   },
   "outputs": [
    {
     "data": {
      "text/plain": [
       "0.9893439474377821"
      ]
     },
     "execution_count": 38,
     "metadata": {},
     "output_type": "execute_result"
    }
   ],
   "source": [
    "cophenet_correlation"
   ]
  },
  {
   "cell_type": "markdown",
   "metadata": {},
   "source": [
    "#### Calulcate with other linkage method"
   ]
  },
  {
   "cell_type": "code",
   "execution_count": 39,
   "metadata": {
    "ExecuteTime": {
     "end_time": "2020-11-22T16:04:19.173588Z",
     "start_time": "2020-11-22T16:04:19.148991Z"
    }
   },
   "outputs": [],
   "source": [
    "Z = linkage(X,\n",
    "            method = 'complete',\n",
    "            metric='euclidean')"
   ]
  },
  {
   "cell_type": "code",
   "execution_count": 40,
   "metadata": {
    "ExecuteTime": {
     "end_time": "2020-11-22T16:04:20.217044Z",
     "start_time": "2020-11-22T16:04:20.063064Z"
    }
   },
   "outputs": [
    {
     "data": {
      "image/png": "[encoded data removed]",
      "text/plain": [
       "<Figure size 432x288 with 1 Axes>"
      ]
     },
     "metadata": {
      "needs_background": "light"
     },
     "output_type": "display_data"
    }
   ],
   "source": [
    "# Hint: Use truncate_mode='lastp' attribute in dendrogram function to arrive at dendrogram\n",
    "dendrogram(\n",
    "    Z,\n",
    "    truncate_mode='lastp',  # show only the last p merged clusters\n",
    "    p=5,\n",
    ")\n",
    "plt.show()"
   ]
  },
  {
   "cell_type": "markdown",
   "metadata": {},
   "source": [
    "- In the above dendograph, distance between point 0 and 1 is just less than 4\n",
    "- distance between 1 and 3 is lowest"
   ]
  },
  {
   "cell_type": "code",
   "execution_count": 41,
   "metadata": {
    "ExecuteTime": {
     "end_time": "2020-11-22T15:58:11.022610Z",
     "start_time": "2020-11-22T15:58:11.017822Z"
    }
   },
   "outputs": [],
   "source": [
    "distance_between_pair_of_points = pdist(X[0:5])"
   ]
  },
  {
   "cell_type": "code",
   "execution_count": 42,
   "metadata": {
    "ExecuteTime": {
     "end_time": "2020-11-22T15:58:11.902727Z",
     "start_time": "2020-11-22T15:58:11.899133Z"
    }
   },
   "outputs": [],
   "source": [
    "cophenet_Z = cophenet(Z)"
   ]
  },
  {
   "cell_type": "code",
   "execution_count": 43,
   "metadata": {
    "ExecuteTime": {
     "end_time": "2020-11-22T15:58:12.751547Z",
     "start_time": "2020-11-22T15:58:12.741800Z"
    }
   },
   "outputs": [
    {
     "ename": "ValueError",
     "evalue": "x and y must have the same length.",
     "output_type": "error",
     "traceback": [
      "\u001b[0;31m---------------------------------------------------------------------------\u001b[0m",
      "\u001b[0;31mValueError\u001b[0m                                Traceback (most recent call last)",
      "\u001b[0;32m<ipython-input-43-ce0104b4ac24>\u001b[0m in \u001b[0;36m<module>\u001b[0;34m\u001b[0m\n\u001b[0;32m----> 1\u001b[0;31m \u001b[0mcophenet_correlation\u001b[0m \u001b[0;34m=\u001b[0m \u001b[0mpearsonr\u001b[0m\u001b[0;34m(\u001b[0m\u001b[0mcophenet\u001b[0m\u001b[0;34m(\u001b[0m\u001b[0mZ\u001b[0m\u001b[0;34m)\u001b[0m\u001b[0;34m,\u001b[0m \u001b[0mdistance_between_pair_of_points\u001b[0m\u001b[0;34m)\u001b[0m\u001b[0;34m[\u001b[0m\u001b[0;36m0\u001b[0m\u001b[0;34m]\u001b[0m\u001b[0;34m\u001b[0m\u001b[0;34m\u001b[0m\u001b[0m\n\u001b[0m\u001b[1;32m      2\u001b[0m \u001b[0mcophenet_correlation\u001b[0m\u001b[0;34m\u001b[0m\u001b[0;34m\u001b[0m\u001b[0m\n",
      "\u001b[0;32m~/anaconda3/lib/python3.7/site-packages/scipy/stats/stats.py\u001b[0m in \u001b[0;36mpearsonr\u001b[0;34m(x, y)\u001b[0m\n\u001b[1;32m   3833\u001b[0m     \u001b[0mn\u001b[0m \u001b[0;34m=\u001b[0m \u001b[0mlen\u001b[0m\u001b[0;34m(\u001b[0m\u001b[0mx\u001b[0m\u001b[0;34m)\u001b[0m\u001b[0;34m\u001b[0m\u001b[0;34m\u001b[0m\u001b[0m\n\u001b[1;32m   3834\u001b[0m     \u001b[0;32mif\u001b[0m \u001b[0mn\u001b[0m \u001b[0;34m!=\u001b[0m \u001b[0mlen\u001b[0m\u001b[0;34m(\u001b[0m\u001b[0my\u001b[0m\u001b[0;34m)\u001b[0m\u001b[0;34m:\u001b[0m\u001b[0;34m\u001b[0m\u001b[0;34m\u001b[0m\u001b[0m\n\u001b[0;32m-> 3835\u001b[0;31m         \u001b[0;32mraise\u001b[0m \u001b[0mValueError\u001b[0m\u001b[0;34m(\u001b[0m\u001b[0;34m'x and y must have the same length.'\u001b[0m\u001b[0;34m)\u001b[0m\u001b[0;34m\u001b[0m\u001b[0;34m\u001b[0m\u001b[0m\n\u001b[0m\u001b[1;32m   3836\u001b[0m \u001b[0;34m\u001b[0m\u001b[0m\n\u001b[1;32m   3837\u001b[0m     \u001b[0;32mif\u001b[0m \u001b[0mn\u001b[0m \u001b[0;34m<\u001b[0m \u001b[0;36m2\u001b[0m\u001b[0;34m:\u001b[0m\u001b[0;34m\u001b[0m\u001b[0;34m\u001b[0m\u001b[0m\n",
      "\u001b[0;31mValueError\u001b[0m: x and y must have the same length."
     ]
    }
   ],
   "source": [
    "cophenet_correlation = pearsonr(cophenet(Z), distance_between_pair_of_points)[0]\n",
    "cophenet_correlation"
   ]
  },
  {
   "cell_type": "code",
   "execution_count": null,
   "metadata": {},
   "outputs": [],
   "source": [
    "for linkage in []:\n",
    "    for distance in []:\n",
    "        copehent..."
   ]
  },
  {
   "cell_type": "markdown",
   "metadata": {},
   "source": [
    "Not changing much, because we have taken only 5 observations"
   ]
  },
  {
   "cell_type": "markdown",
   "metadata": {},
   "source": [
    "Try with bigger data"
   ]
  },
  {
   "cell_type": "code",
   "execution_count": null,
   "metadata": {
    "ExecuteTime": {
     "end_time": "2020-09-12T13:13:34.349995Z",
     "start_time": "2020-09-12T13:13:34.288174Z"
    }
   },
   "outputs": [],
   "source": [
    "Z = linkage(X,\n",
    "            method = 'complete',\n",
    "            metric='euclidean')\n",
    "distance_between_pair_of_points = pdist(X)\n",
    "cophenet_Z = cophenet(Z)\n",
    "cophenet_correlation = pearsonr(cophenet(Z), distance_between_pair_of_points)[0]\n",
    "cophenet_correlation"
   ]
  },
  {
   "cell_type": "code",
   "execution_count": null,
   "metadata": {
    "ExecuteTime": {
     "end_time": "2020-09-12T13:13:39.505579Z",
     "start_time": "2020-09-12T13:13:39.461602Z"
    }
   },
   "outputs": [],
   "source": [
    "Z = linkage(X,\n",
    "            method = 'ward',\n",
    "            metric='euclidean')\n",
    "distance_between_pair_of_points = pdist(X)\n",
    "cophenet_Z = cophenet(Z)\n",
    "cophenet_correlation = pearsonr(cophenet(Z), distance_between_pair_of_points)[0]\n",
    "cophenet_correlation"
   ]
  },
  {
   "cell_type": "code",
   "execution_count": null,
   "metadata": {
    "ExecuteTime": {
     "end_time": "2020-09-12T13:13:43.119939Z",
     "start_time": "2020-09-12T13:13:43.065922Z"
    }
   },
   "outputs": [],
   "source": [
    "Z = linkage(X,\n",
    "            method = 'average',\n",
    "            metric='euclidean')\n",
    "distance_between_pair_of_points = pdist(X)\n",
    "cophenet_Z = cophenet(Z)\n",
    "cophenet_correlation = pearsonr(cophenet(Z), distance_between_pair_of_points)[0]\n",
    "cophenet_correlation"
   ]
  },
  {
   "cell_type": "markdown",
   "metadata": {},
   "source": [
    "- average + euclidean seems to be the best\n",
    "- We have not tried different Distance methods. Not all linkage methods support all distance methods\n",
    "- For example if we take 'mahalanobis': ward linkage method is not supported\n",
    "- when you change distance metric, change both in pdist and linkage function\n"
   ]
  },
  {
   "cell_type": "markdown",
   "metadata": {},
   "source": [
    "Distance methods: 'braycurtis', 'canberra', 'chebyshev', 'cityblock',\n",
    "    'correlation', 'cosine', 'dice', 'euclidean', 'hamming',\n",
    "    'jaccard', 'jensenshannon', 'kulsinski', 'mahalanobis', 'matching',\n",
    "    'minkowski', 'rogerstanimoto', 'russellrao', 'seuclidean',\n",
    "    'sokalmichener', 'sokalsneath', 'sqeuclidean', 'yule'"
   ]
  },
  {
   "cell_type": "code",
   "execution_count": null,
   "metadata": {
    "ExecuteTime": {
     "end_time": "2020-11-22T16:08:51.441378Z",
     "start_time": "2020-11-22T16:08:51.217344Z"
    }
   },
   "outputs": [],
   "source": [
    "Z = linkage(X,\n",
    "            method = 'ward',\n",
    "            metric='mahalanobis')\n",
    "distance_between_pair_of_points = pdist(X, metric='mahalanobis')\n",
    "cophenet_Z = cophenet(Z)\n",
    "cophenet_correlation = pearsonr(cophenet(Z), distance_between_pair_of_points)[0]\n",
    "cophenet_correlation"
   ]
  },
  {
   "cell_type": "code",
   "execution_count": null,
   "metadata": {
    "ExecuteTime": {
     "end_time": "2020-09-12T13:15:04.581560Z",
     "start_time": "2020-09-12T13:15:04.382304Z"
    }
   },
   "outputs": [],
   "source": [
    "Z = linkage(X,\n",
    "            method = 'complete',\n",
    "            metric='mahalanobis')\n",
    "distance_between_pair_of_points = pdist(X, metric='mahalanobis')\n",
    "cophenet_Z = cophenet(Z)\n",
    "cophenet_correlation = pearsonr(cophenet(Z), distance_between_pair_of_points)[0]\n",
    "cophenet_correlation"
   ]
  },
  {
   "cell_type": "markdown",
   "metadata": {},
   "source": [
    "Thank you"
   ]
  }
 ],
 "metadata": {
  "kernelspec": {
   "display_name": "Python 3",
   "language": "python",
   "name": "python3"
  },
  "language_info": {
   "codemirror_mode": {
    "name": "ipython",
    "version": 3
   },
   "file_extension": ".py",
   "mimetype": "text/x-python",
   "name": "python",
   "nbconvert_exporter": "python",
   "pygments_lexer": "ipython3",
   "version": "3.7.3"
  }
 },
 "nbformat": 4,
 "nbformat_minor": 2
}
