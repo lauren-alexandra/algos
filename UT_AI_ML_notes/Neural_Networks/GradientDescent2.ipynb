{
 "cells": [
  {
   "cell_type": "code",
   "execution_count": 1,
   "metadata": {},
   "outputs": [],
   "source": [
    "import numpy as np\n",
    "import matplotlib.pyplot as plt\n",
    "\n",
    "def funct(x,w): # function\n",
    "    f = w[2]*x*x + w[1]*x + w[0] # Parabola\n",
    "    return f\n",
    "\n",
    "def grad_funct(x,w): # gradient\n",
    "    grad_f = 2*w[2]*x + w[1]\n",
    "    return grad_f"
   ]
  },
  {
   "cell_type": "code",
   "execution_count": 2,
   "metadata": {},
   "outputs": [],
   "source": [
    "%matplotlib inline"
   ]
  },
  {
   "cell_type": "code",
   "execution_count": 3,
   "metadata": {},
   "outputs": [
    {
     "data": {
      "text/plain": [
       "Text(0, 0.5, 'f(x)')"
      ]
     },
     "execution_count": 3,
     "metadata": {},
     "output_type": "execute_result"
    },
    {
     "data": {
      "image/png": "[encoded data removed]",
      "text/plain": [
       "<Figure size 432x288 with 1 Axes>"
      ]
     },
     "metadata": {
      "needs_background": "light"
     },
     "output_type": "display_data"
    }
   ],
   "source": [
    "# COOK UP DATA\n",
    "x = np.array([-4, -3, -2, -1, 0, 1, 2, 3, 4, 5, 6, 7, 8, 9]) # Inputs\n",
    "w = np.array([3, -2, 1]) # Actual weights\n",
    "f = funct(x,w) # Model\n",
    "\n",
    "# Plot data\n",
    "plt.scatter(x, f, c=\"b\", marker='x')\n",
    "plt.plot(x, f, c=\"r\")\n",
    "plt.xlabel(\"x\")\n",
    "plt.ylabel(\"f(x)\")"
   ]
  },
  {
   "cell_type": "code",
   "execution_count": 4,
   "metadata": {},
   "outputs": [
    {
     "data": {
      "image/png": "[encoded data removed]",
      "text/plain": [
       "<Figure size 432x288 with 1 Axes>"
      ]
     },
     "metadata": {
      "needs_background": "light"
     },
     "output_type": "display_data"
    }
   ],
   "source": [
    "# Perform Gradient Descent on f(x)\n",
    "\n",
    "# GRADIENT DESCENT\n",
    "\n",
    "x = 6 # Some guess\n",
    "learning_rate = 0.005\n",
    "min_abs_change = 1e-5\n",
    "max_iter = 1000\n",
    "\n",
    "x_series = [x]\n",
    "\n",
    "iterations = 1\n",
    "while True:\n",
    "    f = funct(x,w)\n",
    "    grad_f = grad_funct(x,w)\n",
    "    x_new = x - learning_rate * grad_f\n",
    "    \n",
    "    # Stopping Condition\n",
    "    if np.sum(abs(x_new - x)) < min_abs_change:\n",
    "        break\n",
    "    if iterations > max_iter:\n",
    "        break\n",
    "    \n",
    "    if iterations % (max_iter/10) == 0:\n",
    "        # Plot data\n",
    "        plt.scatter(x, f, c=\"b\", marker='x')\n",
    "        plt.plot(x, f, c=\"r\")\n",
    "        plt.xlabel(\"x\")\n",
    "        plt.ylabel(\"f(x)\")\n",
    "    \n",
    "    iterations += 1\n",
    "    x = x_new\n",
    "    \n",
    "    x_series = np.concatenate((x_series,[x]))"
   ]
  },
  {
   "cell_type": "code",
   "execution_count": 5,
   "metadata": {},
   "outputs": [
    {
     "data": {
      "text/plain": [
       "array([6.        , 5.95      , 5.9005    , 5.851495  , 5.80298005,\n",
       "       5.75495025, 5.70740075, 5.66032674, 5.61372347, 5.56758624,\n",
       "       5.52191038, 5.47669127, 5.43192436, 5.38760511, 5.34372906,\n",
       "       5.30029177, 5.25728886, 5.21471597, 5.17256881, 5.13084312,\n",
       "       5.08953469, 5.04863934, 5.00815295, 4.96807142, 4.9283907 ,\n",
       "       4.8891068 , 4.85021573, 4.81171357, 4.77359644, 4.73586047,\n",
       "       4.69850187, 4.66151685, 4.62490168, 4.58865266, 4.55276614,\n",
       "       4.51723847, 4.48206609, 4.44724543, 4.41277298, 4.37864525,\n",
       "       4.34485879, 4.3114102 , 4.2782961 , 4.24551314, 4.21305801,\n",
       "       4.18092743, 4.14911816, 4.11762697, 4.0864507 , 4.0555862 ,\n",
       "       4.02503034, 3.99478003, 3.96483223, 3.93518391, 3.90583207,\n",
       "       3.87677375, 3.84800601, 3.81952595, 3.79133069, 3.76341739,\n",
       "       3.73578321, 3.70842538, 3.68134113, 3.65452771, 3.62798244,\n",
       "       3.60170261, 3.57568559, 3.54992873, 3.52442944, 3.49918515,\n",
       "       3.4741933 , 3.44945137, 3.42495685, 3.40070728, 3.37670021,\n",
       "       3.35293321, 3.32940388, 3.30610984, 3.28304874, 3.26021825,\n",
       "       3.23761607, 3.21523991, 3.19308751, 3.17115663, 3.14944507,\n",
       "       3.12795062, 3.10667111, 3.0856044 , 3.06474836, 3.04410087,\n",
       "       3.02365986, 3.00342326, 2.98338903, 2.96355514, 2.94391959,\n",
       "       2.92448039, 2.90523559, 2.88618323, 2.8673214 , 2.84864819,\n",
       "       2.83016171, 2.81186009, 2.79374149, 2.77580407, 2.75804603,\n",
       "       2.74046557, 2.72306092, 2.70583031, 2.688772  , 2.67188428,\n",
       "       2.65516544, 2.63861379, 2.62222765, 2.60600537, 2.58994532,\n",
       "       2.57404587, 2.55830541, 2.54272235, 2.52729513, 2.51202218,\n",
       "       2.49690196, 2.48193294, 2.46711361, 2.45244247, 2.43791805,\n",
       "       2.42353887, 2.40930348, 2.39521044, 2.38125834, 2.36744576,\n",
       "       2.3537713 , 2.34023358, 2.32683125, 2.31356294, 2.30042731,\n",
       "       2.28742303, 2.2745488 , 2.26180332, 2.24918528, 2.23669343,\n",
       "       2.2243265 , 2.21208323, 2.1999624 , 2.18796277, 2.17608315,\n",
       "       2.16432231, 2.15267909, 2.1411523 , 2.12974078, 2.11844337,\n",
       "       2.10725894, 2.09618635, 2.08522448, 2.07437224, 2.06362852,\n",
       "       2.05299223, 2.04246231, 2.03203769, 2.02171731, 2.01150014,\n",
       "       2.00138513, 1.99137128, 1.98145757, 1.97164299, 1.96192656,\n",
       "       1.9523073 , 1.94278423, 1.93335638, 1.92402282, 1.91478259,\n",
       "       1.90563477, 1.89657842, 1.88761263, 1.87873651, 1.86994914,\n",
       "       1.86124965, 1.85263715, 1.84411078, 1.83566968, 1.82731298,\n",
       "       1.81903985, 1.81084945, 1.80274096, 1.79471355, 1.78676641,\n",
       "       1.77889875, 1.77110976, 1.76339866, 1.75576467, 1.74820703,\n",
       "       1.74072496, 1.73331771, 1.72598453, 1.71872469, 1.71153744,\n",
       "       1.70442206, 1.69737784, 1.69040407, 1.68350002, 1.67666502,\n",
       "       1.66989837, 1.66319939, 1.6565674 , 1.65000172, 1.64350171,\n",
       "       1.63706669, 1.63069602, 1.62438906, 1.61814517, 1.61196372,\n",
       "       1.60584408, 1.59978564, 1.59378778, 1.58784991, 1.58197141,\n",
       "       1.57615169, 1.57039018, 1.56468627, 1.55903941, 1.55344902,\n",
       "       1.54791453, 1.54243538, 1.53701103, 1.53164092, 1.52632451,\n",
       "       1.52106126, 1.51585065, 1.51069214, 1.50558522, 1.50052937,\n",
       "       1.49552408, 1.49056884, 1.48566315, 1.48080652, 1.47599845,\n",
       "       1.47123847, 1.46652608, 1.46186082, 1.45724221, 1.45266979,\n",
       "       1.44814309, 1.44366166, 1.43922505, 1.4348328 , 1.43048447,\n",
       "       1.42617962, 1.42191783, 1.41769865, 1.41352166, 1.40938645,\n",
       "       1.40529258, 1.40123966, 1.39722726, 1.39325499, 1.38932244,\n",
       "       1.38542921, 1.38157492, 1.37775917, 1.37398158, 1.37024176,\n",
       "       1.36653935, 1.36287395, 1.35924521, 1.35565276, 1.35209623,\n",
       "       1.34857527, 1.34508952, 1.34163862, 1.33822224, 1.33484001,\n",
       "       1.33149161, 1.3281767 , 1.32489493, 1.32164598, 1.31842952,\n",
       "       1.31524523, 1.31209277, 1.30897185, 1.30588213, 1.30282331,\n",
       "       1.29979507, 1.29679712, 1.29382915, 1.29089086, 1.28798195,\n",
       "       1.28510213, 1.28225111, 1.2794286 , 1.27663431, 1.27386797,\n",
       "       1.27112929, 1.268418  , 1.26573382, 1.26307648, 1.26044571,\n",
       "       1.25784126, 1.25526284, 1.25271022, 1.25018311, 1.24768128,\n",
       "       1.24520447, 1.24275243, 1.2403249 , 1.23792165, 1.23554244,\n",
       "       1.23318701, 1.23085514, 1.22854659, 1.22626112, 1.22399851,\n",
       "       1.22175853, 1.21954094, 1.21734553, 1.21517208, 1.21302036,\n",
       "       1.21089015, 1.20878125, 1.20669344, 1.2046265 , 1.20258024,\n",
       "       1.20055444, 1.19854889, 1.1965634 , 1.19459777, 1.19265179,\n",
       "       1.19072527, 1.18881802, 1.18692984, 1.18506054, 1.18320994,\n",
       "       1.18137784, 1.17956406, 1.17776842, 1.17599074, 1.17423083,\n",
       "       1.17248852, 1.17076363, 1.169056  , 1.16736544, 1.16569178,\n",
       "       1.16403487, 1.16239452, 1.16077057, 1.15916287, 1.15757124,\n",
       "       1.15599553, 1.15443557, 1.15289121, 1.1513623 , 1.14984868,\n",
       "       1.14835019, 1.14686669, 1.14539802, 1.14394404, 1.1425046 ,\n",
       "       1.14107956, 1.13966876, 1.13827207, 1.13688935, 1.13552046,\n",
       "       1.13416525, 1.1328236 , 1.13149537, 1.13018041, 1.12887861,\n",
       "       1.12758982, 1.12631392, 1.12505078, 1.12380028, 1.12256227,\n",
       "       1.12133665, 1.12012328, 1.11892205, 1.11773283, 1.1165555 ,\n",
       "       1.11538995, 1.11423605, 1.11309369, 1.11196275, 1.11084312,\n",
       "       1.10973469, 1.10863735, 1.10755097, 1.10647546, 1.10541071,\n",
       "       1.1043566 , 1.10331303, 1.1022799 , 1.10125711, 1.10024453,\n",
       "       1.09924209, 1.09824967, 1.09726717, 1.0962945 , 1.09533155,\n",
       "       1.09437824, 1.09343446, 1.09250011, 1.09157511, 1.09065936,\n",
       "       1.08975277, 1.08885524, 1.08796669, 1.08708702, 1.08621615,\n",
       "       1.08535399, 1.08450045, 1.08365544, 1.08281889, 1.0819907 ,\n",
       "       1.08117079, 1.08035909, 1.07955549, 1.07875994, 1.07797234,\n",
       "       1.07719262, 1.07642069, 1.07565648, 1.07489992, 1.07415092,\n",
       "       1.07340941, 1.07267532, 1.07194856, 1.07122908, 1.07051679,\n",
       "       1.06981162, 1.0691135 , 1.06842237, 1.06773814, 1.06706076,\n",
       "       1.06639015, 1.06572625, 1.06506899, 1.0644183 , 1.06377412,\n",
       "       1.06313638, 1.06250501, 1.06187996, 1.06126116, 1.06064855,\n",
       "       1.06004207, 1.05944165, 1.05884723, 1.05825876, 1.05767617,\n",
       "       1.05709941, 1.05652841, 1.05596313, 1.0554035 , 1.05484946,\n",
       "       1.05430097, 1.05375796, 1.05322038, 1.05268818, 1.05216129,\n",
       "       1.05163968, 1.05112328, 1.05061205, 1.05010593, 1.04960487,\n",
       "       1.04910882, 1.04861773, 1.04813156, 1.04765024, 1.04717374,\n",
       "       1.046702  , 1.04623498, 1.04577263, 1.04531491, 1.04486176,\n",
       "       1.04441314, 1.04396901, 1.04352932, 1.04309402, 1.04266308,\n",
       "       1.04223645, 1.04181409, 1.04139595, 1.04098199, 1.04057217,\n",
       "       1.04016645, 1.03976478, 1.03936713, 1.03897346, 1.03858373,\n",
       "       1.03819789, 1.03781591, 1.03743775, 1.03706338, 1.03669274,\n",
       "       1.03632581, 1.03596256, 1.03560293, 1.0352469 , 1.03489443,\n",
       "       1.03454549, 1.03420003, 1.03385803, 1.03351945, 1.03318426,\n",
       "       1.03285242, 1.03252389, 1.03219865, 1.03187667, 1.0315579 ,\n",
       "       1.03124232, 1.0309299 , 1.0306206 , 1.03031439, 1.03001125,\n",
       "       1.02971114, 1.02941402, 1.02911988, 1.02882869, 1.0285404 ,\n",
       "       1.02825499, 1.02797244, 1.02769272, 1.02741579, 1.02714163,\n",
       "       1.02687022, 1.02660152, 1.0263355 , 1.02607215, 1.02581142,\n",
       "       1.02555331, 1.02529778, 1.0250448 , 1.02479435, 1.02454641,\n",
       "       1.02430094, 1.02405793, 1.02381736, 1.02357918, 1.02334339,\n",
       "       1.02310996, 1.02287886, 1.02265007, 1.02242357, 1.02219933,\n",
       "       1.02197734, 1.02175756, 1.02153999, 1.02132459, 1.02111134,\n",
       "       1.02090023, 1.02069123, 1.02048432, 1.02027947, 1.02007668,\n",
       "       1.01987591, 1.01967715, 1.01948038, 1.01928558, 1.01909272,\n",
       "       1.01890179, 1.01871278, 1.01852565, 1.01834039, 1.01815699,\n",
       "       1.01797542, 1.01779566, 1.01761771, 1.01744153, 1.01726711,\n",
       "       1.01709444, 1.0169235 , 1.01675426, 1.01658672, 1.01642085,\n",
       "       1.01625665, 1.01609408, 1.01593314, 1.01577381, 1.01561607,\n",
       "       1.01545991, 1.01530531, 1.01515226, 1.01500073, 1.01485073,\n",
       "       1.01470222, 1.0145552 , 1.01440964, 1.01426555, 1.01412289,\n",
       "       1.01398166, 1.01384185, 1.01370343, 1.01356639, 1.01343073,\n",
       "       1.01329642, 1.01316346, 1.01303182, 1.01290151, 1.01277249,\n",
       "       1.01264477, 1.01251832, 1.01239313, 1.0122692 , 1.01214651,\n",
       "       1.01202505, 1.0119048 , 1.01178575, 1.01166789, 1.01155121,\n",
       "       1.0114357 , 1.01132134, 1.01120813, 1.01109605, 1.01098509,\n",
       "       1.01087524, 1.01076648, 1.01065882, 1.01055223, 1.01044671,\n",
       "       1.01034224, 1.01023882, 1.01013643, 1.01003507, 1.00993472,\n",
       "       1.00983537, 1.00973702, 1.00963965, 1.00954325, 1.00944782,\n",
       "       1.00935334, 1.0092598 , 1.00916721, 1.00907553, 1.00898478,\n",
       "       1.00889493, 1.00880598, 1.00871792, 1.00863074, 1.00854444,\n",
       "       1.00845899, 1.0083744 , 1.00829066, 1.00820775, 1.00812567,\n",
       "       1.00804442, 1.00796397, 1.00788433, 1.00780549, 1.00772743,\n",
       "       1.00765016, 1.00757366, 1.00749792, 1.00742294, 1.00734871,\n",
       "       1.00727523, 1.00720247, 1.00713045, 1.00705914, 1.00698855,\n",
       "       1.00691867, 1.00684948, 1.00678099, 1.00671318, 1.00664604,\n",
       "       1.00657958, 1.00651379, 1.00644865, 1.00638416, 1.00632032,\n",
       "       1.00625712, 1.00619455, 1.0061326 , 1.00607128, 1.00601056,\n",
       "       1.00595046, 1.00589095, 1.00583204, 1.00577372, 1.00571599,\n",
       "       1.00565883, 1.00560224, 1.00554622, 1.00549075, 1.00543585,\n",
       "       1.00538149, 1.00532767, 1.0052744 , 1.00522165, 1.00516944,\n",
       "       1.00511774, 1.00506656, 1.0050159 , 1.00496574, 1.00491608,\n",
       "       1.00486692, 1.00481825, 1.00477007, 1.00472237, 1.00467514,\n",
       "       1.00462839, 1.00458211, 1.00453629, 1.00449093, 1.00444602,\n",
       "       1.00440156, 1.00435754, 1.00431396, 1.00427083, 1.00422812,\n",
       "       1.00418584, 1.00414398, 1.00410254, 1.00406151, 1.0040209 ,\n",
       "       1.00398069, 1.00394088, 1.00390147, 1.00386246, 1.00382383,\n",
       "       1.00378559, 1.00374774, 1.00371026, 1.00367316, 1.00363643,\n",
       "       1.00360006, 1.00356406, 1.00352842, 1.00349314, 1.00345821,\n",
       "       1.00342362, 1.00338939, 1.00335549, 1.00332194, 1.00328872,\n",
       "       1.00325583, 1.00322327, 1.00319104, 1.00315913, 1.00312754,\n",
       "       1.00309626, 1.0030653 , 1.00303465, 1.0030043 , 1.00297426,\n",
       "       1.00294452, 1.00291507, 1.00288592, 1.00285706, 1.00282849,\n",
       "       1.00280021, 1.0027722 , 1.00274448, 1.00271704, 1.00268987,\n",
       "       1.00266297, 1.00263634, 1.00260997, 1.00258388, 1.00255804,\n",
       "       1.00253246, 1.00250713, 1.00248206, 1.00245724, 1.00243267,\n",
       "       1.00240834, 1.00238426, 1.00236041, 1.00233681, 1.00231344,\n",
       "       1.00229031, 1.0022674 , 1.00224473, 1.00222228, 1.00220006,\n",
       "       1.00217806, 1.00215628, 1.00213472, 1.00211337, 1.00209224,\n",
       "       1.00207131, 1.0020506 , 1.00203009, 1.00200979, 1.0019897 ,\n",
       "       1.0019698 , 1.0019501 , 1.0019306 , 1.00191129, 1.00189218,\n",
       "       1.00187326, 1.00185453, 1.00183598, 1.00181762, 1.00179944,\n",
       "       1.00178145, 1.00176364, 1.001746  , 1.00172854, 1.00171125,\n",
       "       1.00169414, 1.0016772 , 1.00166043, 1.00164382, 1.00162739,\n",
       "       1.00161111, 1.001595  , 1.00157905, 1.00156326, 1.00154763,\n",
       "       1.00153215, 1.00151683, 1.00150166, 1.00148664, 1.00147178,\n",
       "       1.00145706, 1.00144249, 1.00142807, 1.00141378, 1.00139965,\n",
       "       1.00138565, 1.00137179, 1.00135808, 1.00134449, 1.00133105,\n",
       "       1.00131774, 1.00130456, 1.00129152, 1.0012786 , 1.00126582,\n",
       "       1.00125316, 1.00124063, 1.00122822, 1.00121594, 1.00120378,\n",
       "       1.00119174, 1.00117982, 1.00116802, 1.00115634, 1.00114478,\n",
       "       1.00113333, 1.001122  , 1.00111078, 1.00109967, 1.00108868,\n",
       "       1.00107779, 1.00106701, 1.00105634, 1.00104578, 1.00103532,\n",
       "       1.00102497, 1.00101472, 1.00100457, 1.00099452])"
      ]
     },
     "execution_count": 5,
     "metadata": {},
     "output_type": "execute_result"
    }
   ],
   "source": [
    "x_series"
   ]
  },
  {
   "cell_type": "code",
   "execution_count": 6,
   "metadata": {},
   "outputs": [
    {
     "data": {
      "text/plain": [
       "849"
      ]
     },
     "execution_count": 6,
     "metadata": {},
     "output_type": "execute_result"
    }
   ],
   "source": [
    "iterations"
   ]
  },
  {
   "cell_type": "code",
   "execution_count": 7,
   "metadata": {},
   "outputs": [],
   "source": [
    "%matplotlib inline"
   ]
  },
  {
   "cell_type": "code",
   "execution_count": 8,
   "metadata": {},
   "outputs": [],
   "source": [
    "# Perform Gradient Descent with ADAM on f(x)\n",
    "\n",
    "# GRADIENT DESCENT\n",
    "\n",
    "x = 6 # Some guess\n",
    "alpha = 0.1\n",
    "beta1 = 0.9\n",
    "beta2 = 0.9\n",
    "min_abs_change = 1e-4\n",
    "max_iter = 1000\n",
    "m = 0*x\n",
    "v = 0*x\n",
    "epsilon = 10e-8\n",
    "\n",
    "x_series = [x]\n",
    "\n",
    "iterations = 1\n",
    "while True:\n",
    "    f = funct(x,w)\n",
    "    grad_f = grad_funct(x,w)\n",
    "    m = beta1 * m + (1-beta1) * grad_f\n",
    "    v = beta2 * v + (1-beta2) * grad_f * grad_f\n",
    "    m_hat = m / (1-np.power(beta1,iterations))\n",
    "    v_hat = v / (1-np.power(beta2,iterations))\n",
    "    x_new = x - alpha * m_hat / np.sqrt(v_hat + epsilon)\n",
    "    \n",
    "    # Stopping Condition\n",
    "    if np.sum(abs(x_new - x)) < min_abs_change:\n",
    "        break\n",
    "    if iterations > max_iter:\n",
    "        break\n",
    "    \n",
    "    if iterations % (max_iter/2) == 0:\n",
    "        # Plot data\n",
    "        plt.scatter(x, f, c=\"b\", marker='x')\n",
    "        plt.plot(x, f, c=\"r\")\n",
    "        plt.xlabel(\"x\")\n",
    "        plt.ylabel(\"f(x)\")\n",
    "    \n",
    "    iterations += 1\n",
    "    x = x_new\n",
    "    \n",
    "    x_series = np.concatenate((x_series,[x]))"
   ]
  },
  {
   "cell_type": "code",
   "execution_count": 9,
   "metadata": {},
   "outputs": [
    {
     "data": {
      "text/plain": [
       "array([6.        , 5.9       , 5.80000509, 5.70001893, 5.60004539,\n",
       "       5.50008851, 5.40015257, 5.30024207, 5.20036171, 5.10051644,\n",
       "       5.00071145, 4.90095218, 4.80124438, 4.70159405, 4.60200756,\n",
       "       4.50249158, 4.4030532 , 4.30369992, 4.2044397 , 4.10528103,\n",
       "       4.00623298, 3.90730525, 3.80850828, 3.70985333, 3.61135259,\n",
       "       3.51301928, 3.41486781, 3.31691395, 3.219175  , 3.12167   ,\n",
       "       3.02441998, 2.92744828, 2.83078084, 2.73444664, 2.63847809,\n",
       "       2.54291165, 2.44778836, 2.35315464, 2.25906311, 2.16557363,\n",
       "       2.07275442, 1.9806835 , 1.88945028, 1.79915746, 1.70992321,\n",
       "       1.62188368, 1.53519591, 1.45004097, 1.36662755, 1.28519563,\n",
       "       1.20602021, 1.1294147 , 1.05573345, 0.98537283, 0.91876973,\n",
       "       0.85639647, 0.79875107, 0.74634187, 0.6996663 , 0.65918489,\n",
       "       0.62529261, 0.59829123, 0.57836682, 0.56557603, 0.55984317,\n",
       "       0.56096773, 0.5686402 , 0.58246237, 0.60196857, 0.62664467,\n",
       "       0.65594281, 0.68929085, 0.72609639, 0.76574557, 0.80759722,\n",
       "       0.85097329, 0.89514668, 0.93932847, 0.98265775, 1.02419884,\n",
       "       1.06295263, 1.09788867, 1.12800233, 1.15239345, 1.17035243,\n",
       "       1.18143192, 1.18548386, 1.18265454, 1.17334624, 1.15816407,\n",
       "       1.13786649, 1.11333142, 1.08554226, 1.05559143, 1.02469391,\n",
       "       0.99419697, 0.96556522, 0.94031595, 0.91988964, 0.90547161,\n",
       "       0.89782226, 0.89718425, 0.90329473, 0.91547042, 0.93270606,\n",
       "       0.95374197, 0.9770893 , 1.00103308, 1.02366098, 1.0429831 ,\n",
       "       1.05718348, 1.06494781, 1.06571043, 1.05969733, 1.04780129,\n",
       "       1.03142349, 1.01237467, 0.99282549, 0.97520249, 0.96189203,\n",
       "       0.95473867, 0.95458575, 0.96115089, 0.97320831, 0.98882016,\n",
       "       1.00548324, 1.02031304, 1.03051811, 1.03417467, 1.0308092 ,\n",
       "       1.02138996, 1.00799191, 0.99351061, 0.9813199 , 0.97447473,\n",
       "       0.97459959, 0.9813616 , 0.99276754, 1.00563592, 1.01612763,\n",
       "       1.02089496, 1.01856518, 1.01020023, 0.99874876, 0.98834721,\n",
       "       0.98305985, 0.984868  , 0.99274563, 1.00329822, 1.01180665,\n",
       "       1.01421282, 1.00957797, 1.00041404, 0.99150107, 0.98783698,\n",
       "       0.99136011, 0.99976819, 1.00788918, 1.01037618, 1.00575793,\n",
       "       0.99739696, 0.99138945, 0.99232899, 0.99921196, 1.00639071,\n",
       "       1.0076221 , 1.00203673, 0.99485621, 0.99310122, 0.99833783,\n",
       "       1.00503816, 1.00582313, 1.00002468, 0.99449473, 0.99606829,\n",
       "       1.00252354, 1.00526193, 1.00061898, 0.99532708, 0.99733204,\n",
       "       1.00333733, 1.00359884, 0.99786734, 0.99617414, 1.00144851,\n",
       "       1.00371288, 0.99864573, 0.9965991 , 1.00178112, 1.00278416,\n",
       "       0.99745759, 0.99841206, 1.00317742, 0.99965796, 0.99721634,\n",
       "       1.00243088, 1.00055017, 0.99716883, 1.00244237, 0.99990972,\n",
       "       0.99779557, 1.00306243, 0.99777572, 1.00035995, 1.00153832,\n",
       "       0.99700553, 1.00382073, 0.9964387 , 1.00200136, 1.00019353,\n",
       "       0.99777057, 1.00385447, 0.99541491, 1.00342034, 0.99945287,\n",
       "       0.99756077, 1.00427458, 0.99600001, 1.00144896, 1.00178673,\n",
       "       0.99601571, 1.00405919, 0.99824078, 0.99856092, 1.00375618,\n",
       "       0.99590043, 1.00210003, 1.00099275, 0.99655614, 1.00418479,\n",
       "       0.99734458, 0.99972097, 1.00292815, 0.9958042 , 1.00334594,\n",
       "       0.99929506, 0.99784963, 1.00397205, 0.99606014, 1.00182023,\n",
       "       1.00114228, 0.99654031, 1.00423536, 0.99714918, 0.99999322,\n",
       "       1.00271416, 0.99581545, 1.00362952, 0.99886832, 0.99818603,\n",
       "       1.00384487, 0.99590386, 1.00217347, 1.0008178 , 0.99671346,\n",
       "       1.00425798, 0.99694845, 1.00023078, 1.00255685, 0.99585732,\n",
       "       1.00371533, 0.99871546, 0.99831472, 1.00378167, 0.99587602,\n",
       "       1.00227988, 1.00069985, 0.99679197, 1.004254  , 0.99686159,\n",
       "       1.00035747, 1.00245492, 0.99589202, 1.00378346, 0.99857677,\n",
       "       0.99844479, 1.00371262, 0.9958392 , 1.00241667, 1.0005463 ,\n",
       "       0.99689388, 1.00425011, 0.99674708, 1.00052174, 1.0023263 ,\n",
       "       0.9959366 , 1.00386005, 0.99841799, 0.99859233, 1.00363348,\n",
       "       0.99580693, 1.00255494, 1.0003881 , 0.99700043, 1.00423912,\n",
       "       0.99664082, 1.00068152, 1.00219804, 0.99598591, 1.00392704,\n",
       "       0.99826694, 0.99873746, 1.00355181, 0.99578232, 1.0026859 ,\n",
       "       1.00023206, 0.997109  , 1.00422222, 0.9965408 , 1.00083985,\n",
       "       1.00206736, 0.99604028, 1.00398809, 0.99811765, 0.99888515,\n",
       "       1.00346555, 0.99576376, 1.00281367, 1.00007427, 0.99722162,\n",
       "       1.00419944, 0.9964457 , 1.00099817, 1.00193343, 0.99609985,\n",
       "       1.00404306, 0.99797056, 0.99903497, 1.003375  , 0.99575152,\n",
       "       1.00293721, 0.99991578, 0.99733765, 1.00417087, 0.99635628,\n",
       "       1.00115548, 1.00179688, 0.99616435, 1.0040917 , 0.99782629,\n",
       "       0.99918652, 1.00328038, 0.99574555, 1.00305625, 0.99975682,\n",
       "       0.99745702, 1.00413662, 0.99627259, 1.00131164, 1.00165771,\n",
       "       0.99623368, 1.00413403, 0.99768499, 0.99933972, 1.00318176,\n",
       "       0.99574577, 1.00317062, 0.99959756, 0.99757965, 1.00409682,\n",
       "       0.99619476, 1.00146639])"
      ]
     },
     "execution_count": 9,
     "metadata": {},
     "output_type": "execute_result"
    }
   ],
   "source": [
    "x_series"
   ]
  },
  {
   "cell_type": "code",
   "execution_count": 10,
   "metadata": {},
   "outputs": [
    {
     "data": {
      "text/plain": [
       "362"
      ]
     },
     "execution_count": 10,
     "metadata": {},
     "output_type": "execute_result"
    }
   ],
   "source": [
    "iterations"
   ]
  },
  {
   "cell_type": "code",
   "execution_count": null,
   "metadata": {},
   "outputs": [],
   "source": []
  }
 ],
 "metadata": {
  "kernelspec": {
   "display_name": "Python 3",
   "language": "python",
   "name": "python3"
  },
  "language_info": {
   "codemirror_mode": {
    "name": "ipython",
    "version": 3
   },
   "file_extension": ".py",
   "mimetype": "text/x-python",
   "name": "python",
   "nbconvert_exporter": "python",
   "pygments_lexer": "ipython3",
   "version": "3.7.3"
  }
 },
 "nbformat": 4,
 "nbformat_minor": 2
}
