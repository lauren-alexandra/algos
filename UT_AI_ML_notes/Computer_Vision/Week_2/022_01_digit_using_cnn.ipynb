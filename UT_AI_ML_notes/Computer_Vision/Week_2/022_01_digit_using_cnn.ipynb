{
 "cells": [
  {
   "cell_type": "code",
   "execution_count": 1,
   "metadata": {
    "ExecuteTime": {
     "end_time": "2020-10-31T13:49:08.888149Z",
     "start_time": "2020-10-31T13:49:07.211722Z"
    },
    "colab": {
     "base_uri": "https://localhost:8080/",
     "height": 71
    },
    "colab_type": "code",
    "id": "ovA48OkpDrLc",
    "outputId": "4a838340-6dd3-4631-9edc-d42d996a3f0d"
   },
   "outputs": [],
   "source": [
    "import cv2\n",
    "import numpy as np\n",
    "import pandas as pd\n",
    "\n",
    "import seaborn as sns\n",
    "import matplotlib.pyplot as plt\n",
    "%matplotlib inline\n",
    "\n",
    "from sklearn import svm\n",
    "from sklearn.model_selection import train_test_split"
   ]
  },
  {
   "cell_type": "code",
   "execution_count": 2,
   "metadata": {
    "ExecuteTime": {
     "end_time": "2020-10-31T13:49:08.896308Z",
     "start_time": "2020-10-31T13:49:08.892324Z"
    }
   },
   "outputs": [],
   "source": [
    "SEED=123\n",
    "FILE_NAME = \"dataset_week_1.csv\""
   ]
  },
  {
   "cell_type": "code",
   "execution_count": 3,
   "metadata": {
    "ExecuteTime": {
     "end_time": "2020-10-31T13:49:09.602380Z",
     "start_time": "2020-10-31T13:49:08.899182Z"
    },
    "colab": {},
    "colab_type": "code",
    "id": "watsLCCsDrLi"
   },
   "outputs": [],
   "source": [
    "data = pd.read_csv(FILE_NAME)"
   ]
  },
  {
   "cell_type": "code",
   "execution_count": 4,
   "metadata": {
    "ExecuteTime": {
     "end_time": "2020-10-31T13:49:10.116151Z",
     "start_time": "2020-10-31T13:49:10.110404Z"
    }
   },
   "outputs": [
    {
     "data": {
      "text/plain": [
       "(10008, 785)"
      ]
     },
     "execution_count": 4,
     "metadata": {},
     "output_type": "execute_result"
    }
   ],
   "source": [
    "data.shape"
   ]
  },
  {
   "cell_type": "code",
   "execution_count": 5,
   "metadata": {
    "ExecuteTime": {
     "end_time": "2020-10-31T13:49:10.743540Z",
     "start_time": "2020-10-31T13:49:10.735796Z"
    },
    "colab": {},
    "colab_type": "code",
    "id": "TwpHt4vIDrLl"
   },
   "outputs": [],
   "source": [
    "# The labels for images.\n",
    "y = data[\"label\"]"
   ]
  },
  {
   "cell_type": "code",
   "execution_count": 6,
   "metadata": {
    "ExecuteTime": {
     "end_time": "2020-10-31T13:49:11.229537Z",
     "start_time": "2020-10-31T13:49:11.173253Z"
    },
    "colab": {},
    "colab_type": "code",
    "id": "3qHkPllCDrLn"
   },
   "outputs": [],
   "source": [
    "# Drop 'label' column.\n",
    "X = data.drop(columns= [\"label\"])"
   ]
  },
  {
   "cell_type": "code",
   "execution_count": 7,
   "metadata": {
    "ExecuteTime": {
     "end_time": "2020-10-31T13:49:11.840505Z",
     "start_time": "2020-10-31T13:49:11.722451Z"
    },
    "colab": {},
    "colab_type": "code",
    "id": "dCiHsJ5eDrLy"
   },
   "outputs": [],
   "source": [
    "# Normalize the data\n",
    "X = X.astype('float32') / 255.0"
   ]
  },
  {
   "cell_type": "code",
   "execution_count": 8,
   "metadata": {
    "ExecuteTime": {
     "end_time": "2020-10-31T13:49:13.516140Z",
     "start_time": "2020-10-31T13:49:13.513317Z"
    },
    "colab": {},
    "colab_type": "code",
    "id": "fzXfwxBbLe-I"
   },
   "outputs": [],
   "source": [
    "X = X.values # Convert the features (pixel values) to numpy array to feed into the supervised learning model.\n",
    "y = y.values # Convert the labels to numpy array to feed into the supervised learning model."
   ]
  },
  {
   "cell_type": "code",
   "execution_count": 9,
   "metadata": {
    "ExecuteTime": {
     "end_time": "2020-10-31T13:49:14.341511Z",
     "start_time": "2020-10-31T13:49:14.233708Z"
    },
    "colab": {},
    "colab_type": "code",
    "id": "croSzfCaDrL1"
   },
   "outputs": [],
   "source": [
    "# Split data into test and train to build the model.\n",
    "\n",
    "X_train, X_test, y_train, y_test = train_test_split(X, y, train_size=0.75, random_state=SEED)\n"
   ]
  },
  {
   "cell_type": "code",
   "execution_count": 10,
   "metadata": {
    "ExecuteTime": {
     "end_time": "2020-10-31T13:49:27.698953Z",
     "start_time": "2020-10-31T13:49:27.454410Z"
    },
    "colab": {
     "base_uri": "https://localhost:8080/",
     "height": 298
    },
    "colab_type": "code",
    "id": "ogQfrOQJDrL4",
    "outputId": "f24f2432-da8e-4e36-b576-e90e9d9c0d84"
   },
   "outputs": [
    {
     "data": {
      "text/plain": [
       "Text(0.5, 1.0, '0')"
      ]
     },
     "execution_count": 10,
     "metadata": {},
     "output_type": "execute_result"
    },
    {
     "data": {
      "image/png": "[encoded data removed]",
      "text/plain": [
       "<Figure size 432x288 with 1 Axes>"
      ]
     },
     "metadata": {
      "needs_background": "light"
     },
     "output_type": "display_data"
    }
   ],
   "source": [
    "i=1\n",
    "img = X[i]\n",
    "img = img.reshape((28,28))\n",
    "plt.imshow(img, cmap='gray')\n",
    "plt.title(y[i])"
   ]
  },
  {
   "cell_type": "code",
   "execution_count": 11,
   "metadata": {
    "ExecuteTime": {
     "end_time": "2020-10-31T13:49:18.752341Z",
     "start_time": "2020-10-31T13:49:18.297283Z"
    },
    "colab": {
     "base_uri": "https://localhost:8080/",
     "height": 153
    },
    "colab_type": "code",
    "id": "sTlKVDJXSPS5",
    "outputId": "fc51f0ee-61ce-4790-fd3a-4f0d9fad426e"
   },
   "outputs": [
    {
     "name": "stderr",
     "output_type": "stream",
     "text": [
      "/Users/vinodgattani/anaconda3/lib/python3.7/site-packages/sklearn/ensemble/forest.py:245: FutureWarning: The default value of n_estimators will change from 10 in version 0.20 to 100 in 0.22.\n",
      "  \"10 in version 0.20 to 100 in 0.22.\", FutureWarning)\n"
     ]
    },
    {
     "data": {
      "text/plain": [
       "RandomForestClassifier(bootstrap=True, class_weight=None, criterion='gini',\n",
       "                       max_depth=5, max_features='auto', max_leaf_nodes=None,\n",
       "                       min_impurity_decrease=0.0, min_impurity_split=None,\n",
       "                       min_samples_leaf=1, min_samples_split=2,\n",
       "                       min_weight_fraction_leaf=0.0, n_estimators=10,\n",
       "                       n_jobs=None, oob_score=False, random_state=123,\n",
       "                       verbose=0, warm_start=False)"
      ]
     },
     "execution_count": 11,
     "metadata": {},
     "output_type": "execute_result"
    }
   ],
   "source": [
    "from sklearn.ensemble import RandomForestClassifier\n",
    "# random forest model creation\n",
    "clf = RandomForestClassifier(random_state=SEED,\n",
    "                            max_depth=5)\n",
    "clf.fit(X_train, y_train)"
   ]
  },
  {
   "cell_type": "code",
   "execution_count": 12,
   "metadata": {},
   "outputs": [
    {
     "data": {
      "text/plain": [
       "(0.8236077804423129, 0.8081534772182254)"
      ]
     },
     "execution_count": 12,
     "metadata": {},
     "output_type": "execute_result"
    }
   ],
   "source": [
    "clf.score(X_train, y_train), clf.score(X_test, y_test)"
   ]
  },
  {
   "cell_type": "code",
   "execution_count": 26,
   "metadata": {},
   "outputs": [
    {
     "data": {
      "text/plain": [
       "Text(0.5, 1.0, '1')"
      ]
     },
     "execution_count": 26,
     "metadata": {},
     "output_type": "execute_result"
    },
    {
     "data": {
      "image/png": "[encoded data removed]",
      "text/plain": [
       "<Figure size 432x288 with 1 Axes>"
      ]
     },
     "metadata": {
      "needs_background": "light"
     },
     "output_type": "display_data"
    }
   ],
   "source": [
    "i=2\n",
    "img = X[i]\n",
    "img = img.reshape((28,28))\n",
    "plt.imshow(img, cmap='gray')\n",
    "plt.title(y[i])"
   ]
  },
  {
   "cell_type": "code",
   "execution_count": 27,
   "metadata": {
    "ExecuteTime": {
     "end_time": "2020-10-31T13:49:30.417859Z",
     "start_time": "2020-10-31T13:49:30.149818Z"
    }
   },
   "outputs": [
    {
     "data": {
      "text/plain": [
       "<matplotlib.image.AxesImage at 0x13bf37950>"
      ]
     },
     "execution_count": 27,
     "metadata": {},
     "output_type": "execute_result"
    },
    {
     "data": {
      "image/png": "[encoded data removed]",
      "text/plain": [
       "<Figure size 432x288 with 1 Axes>"
      ]
     },
     "metadata": {
      "needs_background": "light"
     },
     "output_type": "display_data"
    }
   ],
   "source": [
    "img1 = np.zeros((28,28))\n",
    "img1[:,4:] = img[:,0:24]\n",
    "plt.imshow(img1, cmap='gray')"
   ]
  },
  {
   "cell_type": "code",
   "execution_count": 28,
   "metadata": {
    "ExecuteTime": {
     "end_time": "2020-10-30T14:53:08.370311Z",
     "start_time": "2020-10-30T14:53:08.362076Z"
    }
   },
   "outputs": [
    {
     "data": {
      "text/plain": [
       "array([[0.  , 0.78, 0.06, 0.02, 0.01, 0.02, 0.01, 0.04, 0.04, 0.02]])"
      ]
     },
     "execution_count": 28,
     "metadata": {},
     "output_type": "execute_result"
    }
   ],
   "source": [
    "clf.predict_proba(X[i].reshape(1, -1)).round(2)"
   ]
  },
  {
   "cell_type": "code",
   "execution_count": 29,
   "metadata": {
    "ExecuteTime": {
     "end_time": "2020-10-30T14:53:08.941040Z",
     "start_time": "2020-10-30T14:53:08.932450Z"
    }
   },
   "outputs": [
    {
     "data": {
      "text/plain": [
       "array([[0.04, 0.05, 0.17, 0.1 , 0.04, 0.06, 0.05, 0.39, 0.04, 0.05]])"
      ]
     },
     "execution_count": 29,
     "metadata": {},
     "output_type": "execute_result"
    }
   ],
   "source": [
    "clf.predict_proba(img1.flatten().reshape(1,-1)).round(2)"
   ]
  },
  {
   "cell_type": "code",
   "execution_count": 17,
   "metadata": {
    "ExecuteTime": {
     "end_time": "2020-10-31T13:50:25.739911Z",
     "start_time": "2020-10-31T13:50:25.736919Z"
    }
   },
   "outputs": [],
   "source": [
    "# Set the batch size, number of epochs.\n",
    "batch_size = 32\n",
    "num_classes = 10\n",
    "epochs = 40\n",
    "num_predictions = 20"
   ]
  },
  {
   "cell_type": "code",
   "execution_count": 31,
   "metadata": {
    "ExecuteTime": {
     "end_time": "2020-10-31T13:49:45.927065Z",
     "start_time": "2020-10-31T13:49:43.450513Z"
    }
   },
   "outputs": [],
   "source": [
    "\n",
    "import tensorflow as tf\n",
    "import tensorflow.keras.layers as L\n"
   ]
  },
  {
   "cell_type": "code",
   "execution_count": 32,
   "metadata": {},
   "outputs": [],
   "source": [
    "tf.random.set_seed(\n",
    "    123\n",
    ")\n",
    "np.random.seed(123)\n",
    "tf.compat.v1.set_random_seed(123)"
   ]
  },
  {
   "cell_type": "code",
   "execution_count": 35,
   "metadata": {},
   "outputs": [
    {
     "data": {
      "text/plain": [
       "(10008, 784)"
      ]
     },
     "execution_count": 35,
     "metadata": {},
     "output_type": "execute_result"
    }
   ],
   "source": [
    "X.shape"
   ]
  },
  {
   "cell_type": "code",
   "execution_count": 38,
   "metadata": {},
   "outputs": [],
   "source": [
    "X = X.reshape(10008,28,28,1)"
   ]
  },
  {
   "cell_type": "code",
   "execution_count": 39,
   "metadata": {},
   "outputs": [
    {
     "name": "stdout",
     "output_type": "stream",
     "text": [
      "Train on 7005 samples, validate on 3003 samples\n",
      "Epoch 1/5\n",
      "7005/7005 [==============================] - 1s 186us/sample - loss: 1.1461 - accuracy: 0.7036 - val_loss: 0.4913 - val_accuracy: 0.8625\n",
      "Epoch 2/5\n",
      "7005/7005 [==============================] - 1s 120us/sample - loss: 0.3823 - accuracy: 0.8885 - val_loss: 0.3531 - val_accuracy: 0.9011\n",
      "Epoch 3/5\n",
      "7005/7005 [==============================] - 1s 118us/sample - loss: 0.2985 - accuracy: 0.9129 - val_loss: 0.2999 - val_accuracy: 0.9161\n",
      "Epoch 4/5\n",
      "7005/7005 [==============================] - 1s 120us/sample - loss: 0.2541 - accuracy: 0.9248 - val_loss: 0.2737 - val_accuracy: 0.9221\n",
      "Epoch 5/5\n",
      "7005/7005 [==============================] - 1s 120us/sample - loss: 0.2259 - accuracy: 0.9336 - val_loss: 0.2532 - val_accuracy: 0.9271\n"
     ]
    },
    {
     "data": {
      "text/plain": [
       "<tensorflow.python.keras.callbacks.History at 0x16895da10>"
      ]
     },
     "execution_count": 39,
     "metadata": {},
     "output_type": "execute_result"
    }
   ],
   "source": [
    "\n",
    "model1 = tf.keras.models.Sequential()\n",
    "model1.add(L.Conv2D(3, (3, 3), padding='same', activation=\"relu\", input_shape=(28,28,1)))\n",
    "model1.add(L.MaxPooling2D((2, 2)))\n",
    "model1.add(L.Flatten())\n",
    "model1.add(L.Dense(10, activation=\"softmax\"))\n",
    "#model.add(L.Dense(256, activation=\"relu\"))\n",
    "model1.compile(loss='sparse_categorical_crossentropy',\n",
    "      optimizer='adam',\n",
    "      metrics=['accuracy'])\n",
    "model1.fit(X, y, epochs=5, validation_split=0.3)\n"
   ]
  },
  {
   "cell_type": "code",
   "execution_count": 86,
   "metadata": {},
   "outputs": [
    {
     "name": "stdout",
     "output_type": "stream",
     "text": [
      "Train on 7005 samples, validate on 3003 samples\n",
      "Epoch 1/6\n",
      "7005/7005 [==============================] - 2s 237us/sample - loss: 1.7794 - accuracy: 0.3830 - val_loss: 0.7293 - val_accuracy: 0.7835\n",
      "Epoch 2/6\n",
      "7005/7005 [==============================] - 1s 210us/sample - loss: 0.4886 - accuracy: 0.8471 - val_loss: 0.4042 - val_accuracy: 0.8728\n",
      "Epoch 3/6\n",
      "7005/7005 [==============================] - 1s 213us/sample - loss: 0.3211 - accuracy: 0.8986 - val_loss: 0.3116 - val_accuracy: 0.9014\n",
      "Epoch 4/6\n",
      "7005/7005 [==============================] - 1s 197us/sample - loss: 0.2625 - accuracy: 0.9195 - val_loss: 0.2683 - val_accuracy: 0.9151\n",
      "Epoch 5/6\n",
      "7005/7005 [==============================] - 2s 214us/sample - loss: 0.2232 - accuracy: 0.9293 - val_loss: 0.2437 - val_accuracy: 0.9251\n",
      "Epoch 6/6\n",
      "7005/7005 [==============================] - 1s 195us/sample - loss: 0.2006 - accuracy: 0.9385 - val_loss: 0.2284 - val_accuracy: 0.9294\n"
     ]
    },
    {
     "data": {
      "text/plain": [
       "<tensorflow.python.keras.callbacks.History at 0x16f450c90>"
      ]
     },
     "execution_count": 86,
     "metadata": {},
     "output_type": "execute_result"
    }
   ],
   "source": [
    "model3 = tf.keras.models.Sequential()\n",
    "\n",
    "model3.add(L.Conv2D(3, (3, 3), padding='same', activation=\"relu\", input_shape=(28,28,1)))\n",
    "model3.add(L.MaxPooling2D((2, 2)))\n",
    "\n",
    "model3.add(L.Conv2D(6, (3, 3), padding='same', activation=\"relu\"))\n",
    "model3.add(L.MaxPooling2D((2, 2)))\n",
    "\n",
    "model3.add(L.Conv2D(9, (3, 3), padding='same', activation=\"relu\"))\n",
    "model3.add(L.MaxPooling2D((2, 2)))\n",
    "\n",
    "model3.add(L.Flatten())\n",
    "model3.add(L.Dense(10, activation=\"softmax\"))\n",
    "#model.add(L.Dense(256, activation=\"relu\"))\n",
    "model3.compile(loss='sparse_categorical_crossentropy',\n",
    "      optimizer='adam',\n",
    "      metrics=['accuracy'])\n",
    "model3.fit(X, y, epochs=6, validation_split=0.3)"
   ]
  },
  {
   "cell_type": "code",
   "execution_count": 57,
   "metadata": {},
   "outputs": [
    {
     "name": "stdout",
     "output_type": "stream",
     "text": [
      "Train on 7005 samples, validate on 3003 samples\n",
      "Epoch 1/3\n",
      "7005/7005 [==============================] - 1s 154us/sample - loss: 0.2358 - accuracy: 0.9305 - val_loss: 0.2444 - val_accuracy: 0.9284\n",
      "Epoch 2/3\n",
      "7005/7005 [==============================] - 1s 165us/sample - loss: 0.1998 - accuracy: 0.9405 - val_loss: 0.2125 - val_accuracy: 0.9371\n",
      "Epoch 3/3\n",
      "7005/7005 [==============================] - 1s 164us/sample - loss: 0.1743 - accuracy: 0.9486 - val_loss: 0.2028 - val_accuracy: 0.9387\n"
     ]
    },
    {
     "data": {
      "text/plain": [
       "<tensorflow.python.keras.callbacks.History at 0x16a470a10>"
      ]
     },
     "execution_count": 57,
     "metadata": {},
     "output_type": "execute_result"
    }
   ],
   "source": [
    "model3.fit(X, y, epochs=3, validation_split=0.3)"
   ]
  },
  {
   "cell_type": "code",
   "execution_count": 89,
   "metadata": {},
   "outputs": [
    {
     "data": {
      "text/plain": [
       "<matplotlib.image.AxesImage at 0x173216c10>"
      ]
     },
     "execution_count": 89,
     "metadata": {},
     "output_type": "execute_result"
    },
    {
     "data": {
      "image/png": "[encoded data removed]",
      "text/plain": [
       "<Figure size 432x288 with 1 Axes>"
      ]
     },
     "metadata": {
      "needs_background": "light"
     },
     "output_type": "display_data"
    }
   ],
   "source": [
    "img = X[99] #99\n",
    "img = img.reshape((28,28))\n",
    "plt.imshow(img, cmap='gray')"
   ]
  },
  {
   "cell_type": "code",
   "execution_count": 91,
   "metadata": {
    "ExecuteTime": {
     "end_time": "2020-10-31T14:03:24.566094Z",
     "start_time": "2020-10-31T14:03:23.752181Z"
    }
   },
   "outputs": [
    {
     "name": "stdout",
     "output_type": "stream",
     "text": [
      "0\t0.4527477093544607\t0.992462\t0.9997905\t\n",
      "\n",
      "1\t0.3397970788696516\t0.9987262\t0.99997604\t\n",
      "\n",
      "2\t0.2979385588097152\t0.9980014\t0.99989617\t\n",
      "\n",
      "3\t0.26663057167131293\t0.9911033\t0.9998927\t\n",
      "\n",
      "4\t0.21519422009559075\t0.95949954\t0.9997509\t\n",
      "\n",
      "5\t0.05327538423479457\t0.7497303\t0.99261075\t\n",
      "\n",
      "6\t0.05653664125228151\t0.26924628\t0.8957263\t\n",
      "\n",
      "7\t0.04966382189466104\t0.05969131\t0.651138\t\n",
      "\n",
      "8\t0.04501829625477236\t0.016372958\t0.5690864\t\n",
      "\n",
      "9\t0.04501829625477236\t0.014721029\t0.07961608\t\n",
      "\n"
     ]
    }
   ],
   "source": [
    "num=5\n",
    "for shift in range(0,10):\n",
    "    img1 = np.zeros((28,28))\n",
    "    img1[:,shift:] = img[:,0:28-shift]\n",
    "    print(shift, end=\"\\t\")\n",
    "    \n",
    "    print(clf.predict_proba(img1.flatten().reshape(1,-1))[0][num], end=\"\\t\")\n",
    "    print(model1.predict(img1.reshape(1,28,28,1))[0][num], end=\"\\t\")\n",
    "    print(model3.predict(img1.reshape(1,28,28,1))[0][num], end=\"\\t\")\n",
    "    \n",
    "    print(\"\\n\")"
   ]
  },
  {
   "cell_type": "code",
   "execution_count": 76,
   "metadata": {},
   "outputs": [
    {
     "data": {
      "text/plain": [
       "<matplotlib.image.AxesImage at 0x16ed8a810>"
      ]
     },
     "execution_count": 76,
     "metadata": {},
     "output_type": "execute_result"
    },
    {
     "data": {
      "image/png": "[encoded data removed]",
      "text/plain": [
       "<Figure size 432x288 with 1 Axes>"
      ]
     },
     "metadata": {
      "needs_background": "light"
     },
     "output_type": "display_data"
    }
   ],
   "source": [
    "img = X_test[888]\n",
    "img = img.reshape((28,28))\n",
    "plt.imshow(img, cmap='gray')"
   ]
  },
  {
   "cell_type": "code",
   "execution_count": 77,
   "metadata": {},
   "outputs": [
    {
     "name": "stdout",
     "output_type": "stream",
     "text": [
      "0.1577233667001932\t0.0014370191\t3.5090095e-06\t"
     ]
    },
    {
     "data": {
      "image/png": "[encoded data removed]",
      "text/plain": [
       "<Figure size 432x288 with 1 Axes>"
      ]
     },
     "metadata": {
      "needs_background": "light"
     },
     "output_type": "display_data"
    }
   ],
   "source": [
    "num=7\n",
    "img1 = np.rot90(img,2)\n",
    "plt.imshow(img1, cmap='gray')\n",
    "print(clf.predict_proba(img1.flatten().reshape(1,-1))[0][num], end=\"\\t\")\n",
    "print(model1.predict(img1.reshape(1,28,28,1))[0][num], end=\"\\t\")\n",
    "print(model3.predict(img1.reshape(1,28,28,1))[0][num], end=\"\\t\")\n"
   ]
  }
 ],
 "metadata": {
  "kernelspec": {
   "display_name": "Python 3",
   "language": "python",
   "name": "python3"
  },
  "language_info": {
   "codemirror_mode": {
    "name": "ipython",
    "version": 3
   },
   "file_extension": ".py",
   "mimetype": "text/x-python",
   "name": "python",
   "nbconvert_exporter": "python",
   "pygments_lexer": "ipython3",
   "version": "3.7.4"
  }
 },
 "nbformat": 4,
 "nbformat_minor": 2
}
