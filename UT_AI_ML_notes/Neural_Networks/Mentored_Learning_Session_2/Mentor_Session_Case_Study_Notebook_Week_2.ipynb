{
 "cells": [
  {
   "cell_type": "markdown",
   "metadata": {
    "colab_type": "text",
    "id": "4ljrXbm43CuG"
   },
   "source": [
    "## Introduction to Neural Networks - Fraud Detection\n",
    "\n",
    "Nilson reports that U.S. card fraud (credit, debt, etc) was reportedly 9 billion dollars in 2016 and expected to increase to 12 billion dollars by 2020. For perspective, in 2017 both PayPal's and Mastercard's revenue was only $10.8 billion each.\n",
    "\n",
    "\n",
    "**Objective:** In this session, given the credit card transactions, we will build a simple neural network (i.e., Multilayer perceptrons) for Fraud Detection using Keras."
   ]
  },
  {
   "cell_type": "markdown",
   "metadata": {
    "colab_type": "text",
    "id": "Ilr-y66cDLn7"
   },
   "source": [
    "This notebooks covers,\n",
    "\n",
    "1. Creating a Model\n",
    "\n",
    "2. Adding Layers\n",
    "\n",
    "3. Activations\n",
    "\n",
    "4. Optimizers and Loss functions\n",
    "\n",
    "5. Evaluation"
   ]
  },
  {
   "cell_type": "markdown",
   "metadata": {
    "colab_type": "text",
    "id": "g3u3Z-GA1dFK"
   },
   "source": [
    "### Dataset Description\n",
    "\n",
    "The datasets contains transactions made by credit cards in September 2013 by european cardholders. This dataset presents transactions that occurred in two days, where we have 492 frauds out of 284,807 transactions. The dataset is highly unbalanced, the positive class (frauds) account for 0.172% of all transactions.\n",
    "\n",
    "It contains only numerical input variables which are the result of a PCA transformation. Unfortunately, due to confidentiality issues, the original features and more background information about the data is not provided. Features V1, V2, ... V28 are the principal components obtained with PCA, the only features which have not been transformed with PCA are 'Time' and 'Amount'. Feature 'Time' contains the seconds elapsed between each transaction and the first transaction in the dataset. The feature 'Amount' is the transaction Amount, this feature can be used for example-dependant cost-senstive learning. Feature 'Class' is the response variable and it takes value 1 in case of fraud and 0 otherwise.\n",
    "\n",
    "Source: https://www.kaggle.com/mlg-ulb/creditcardfraud"
   ]
  },
  {
   "cell_type": "code",
   "execution_count": 1,
   "metadata": {
    "colab": {
     "base_uri": "https://localhost:8080/",
     "height": 1000
    },
    "colab_type": "code",
    "id": "vOYk8UicQrZ5",
    "outputId": "974a82f8-b975-49fe-b0d1-6c12e375a0bb"
   },
   "outputs": [
    {
     "name": "stdout",
     "output_type": "stream",
     "text": [
      "Requirement already satisfied: tensorflow==2.0 in /home/laurenpease18/anaconda3/lib/python3.7/site-packages (2.0.0)\n",
      "Requirement already satisfied: termcolor>=1.1.0 in /home/laurenpease18/anaconda3/lib/python3.7/site-packages (from tensorflow==2.0) (1.1.0)\n",
      "Requirement already satisfied: wrapt>=1.11.1 in /home/laurenpease18/anaconda3/lib/python3.7/site-packages (from tensorflow==2.0) (1.11.2)\n",
      "Requirement already satisfied: absl-py>=0.7.0 in /home/laurenpease18/anaconda3/lib/python3.7/site-packages (from tensorflow==2.0) (0.11.0)\n",
      "Requirement already satisfied: keras-preprocessing>=1.0.5 in /home/laurenpease18/anaconda3/lib/python3.7/site-packages (from tensorflow==2.0) (1.1.2)\n",
      "Requirement already satisfied: protobuf>=3.6.1 in /home/laurenpease18/anaconda3/lib/python3.7/site-packages (from tensorflow==2.0) (3.14.0)\n",
      "Requirement already satisfied: tensorflow-estimator<2.1.0,>=2.0.0 in /home/laurenpease18/anaconda3/lib/python3.7/site-packages (from tensorflow==2.0) (2.0.1)\n",
      "Requirement already satisfied: grpcio>=1.8.6 in /home/laurenpease18/anaconda3/lib/python3.7/site-packages (from tensorflow==2.0) (1.34.0)\n",
      "Requirement already satisfied: opt-einsum>=2.3.2 in /home/laurenpease18/anaconda3/lib/python3.7/site-packages (from tensorflow==2.0) (3.3.0)\n",
      "Requirement already satisfied: keras-applications>=1.0.8 in /home/laurenpease18/anaconda3/lib/python3.7/site-packages (from tensorflow==2.0) (1.0.8)\n",
      "Requirement already satisfied: gast==0.2.2 in /home/laurenpease18/anaconda3/lib/python3.7/site-packages (from tensorflow==2.0) (0.2.2)\n",
      "Requirement already satisfied: numpy<2.0,>=1.16.0 in /home/laurenpease18/anaconda3/lib/python3.7/site-packages (from tensorflow==2.0) (1.16.4)\n",
      "Requirement already satisfied: wheel>=0.26 in /home/laurenpease18/anaconda3/lib/python3.7/site-packages (from tensorflow==2.0) (0.33.4)\n",
      "Requirement already satisfied: google-pasta>=0.1.6 in /home/laurenpease18/anaconda3/lib/python3.7/site-packages (from tensorflow==2.0) (0.2.0)\n",
      "Requirement already satisfied: astor>=0.6.0 in /home/laurenpease18/anaconda3/lib/python3.7/site-packages (from tensorflow==2.0) (0.8.1)\n",
      "Requirement already satisfied: tensorboard<2.1.0,>=2.0.0 in /home/laurenpease18/anaconda3/lib/python3.7/site-packages (from tensorflow==2.0) (2.0.2)\n",
      "Requirement already satisfied: six>=1.10.0 in /home/laurenpease18/anaconda3/lib/python3.7/site-packages (from tensorflow==2.0) (1.12.0)\n",
      "Requirement already satisfied: h5py in /home/laurenpease18/anaconda3/lib/python3.7/site-packages (from keras-applications>=1.0.8->tensorflow==2.0) (2.9.0)\n",
      "Requirement already satisfied: setuptools>=41.0.0 in /home/laurenpease18/anaconda3/lib/python3.7/site-packages (from tensorboard<2.1.0,>=2.0.0->tensorflow==2.0) (41.0.1)\n",
      "Requirement already satisfied: google-auth<2,>=1.6.3 in /home/laurenpease18/anaconda3/lib/python3.7/site-packages (from tensorboard<2.1.0,>=2.0.0->tensorflow==2.0) (1.24.0)\n",
      "Requirement already satisfied: google-auth-oauthlib<0.5,>=0.4.1 in /home/laurenpease18/anaconda3/lib/python3.7/site-packages (from tensorboard<2.1.0,>=2.0.0->tensorflow==2.0) (0.4.2)\n",
      "Requirement already satisfied: requests<3,>=2.21.0 in /home/laurenpease18/anaconda3/lib/python3.7/site-packages (from tensorboard<2.1.0,>=2.0.0->tensorflow==2.0) (2.24.0)\n",
      "Requirement already satisfied: werkzeug>=0.11.15 in /home/laurenpease18/anaconda3/lib/python3.7/site-packages (from tensorboard<2.1.0,>=2.0.0->tensorflow==2.0) (0.15.4)\n",
      "Requirement already satisfied: markdown>=2.6.8 in /home/laurenpease18/anaconda3/lib/python3.7/site-packages (from tensorboard<2.1.0,>=2.0.0->tensorflow==2.0) (3.3.3)\n",
      "Requirement already satisfied: cachetools<5.0,>=2.0.0 in /home/laurenpease18/anaconda3/lib/python3.7/site-packages (from google-auth<2,>=1.6.3->tensorboard<2.1.0,>=2.0.0->tensorflow==2.0) (4.2.0)\n",
      "Requirement already satisfied: pyasn1-modules>=0.2.1 in /home/laurenpease18/anaconda3/lib/python3.7/site-packages (from google-auth<2,>=1.6.3->tensorboard<2.1.0,>=2.0.0->tensorflow==2.0) (0.2.8)\n",
      "Requirement already satisfied: rsa<5,>=3.1.4; python_version >= \"3.6\" in /home/laurenpease18/anaconda3/lib/python3.7/site-packages (from google-auth<2,>=1.6.3->tensorboard<2.1.0,>=2.0.0->tensorflow==2.0) (4.6)\n",
      "Requirement already satisfied: requests-oauthlib>=0.7.0 in /home/laurenpease18/anaconda3/lib/python3.7/site-packages (from google-auth-oauthlib<0.5,>=0.4.1->tensorboard<2.1.0,>=2.0.0->tensorflow==2.0) (1.3.0)\n",
      "Requirement already satisfied: certifi>=2017.4.17 in /home/laurenpease18/anaconda3/lib/python3.7/site-packages (from requests<3,>=2.21.0->tensorboard<2.1.0,>=2.0.0->tensorflow==2.0) (2020.6.20)\n",
      "Requirement already satisfied: urllib3!=1.25.0,!=1.25.1,<1.26,>=1.21.1 in /home/laurenpease18/anaconda3/lib/python3.7/site-packages (from requests<3,>=2.21.0->tensorboard<2.1.0,>=2.0.0->tensorflow==2.0) (1.24.2)\n",
      "Requirement already satisfied: chardet<4,>=3.0.2 in /home/laurenpease18/anaconda3/lib/python3.7/site-packages (from requests<3,>=2.21.0->tensorboard<2.1.0,>=2.0.0->tensorflow==2.0) (3.0.4)\n",
      "Requirement already satisfied: idna<3,>=2.5 in /home/laurenpease18/anaconda3/lib/python3.7/site-packages (from requests<3,>=2.21.0->tensorboard<2.1.0,>=2.0.0->tensorflow==2.0) (2.8)\n",
      "Requirement already satisfied: importlib-metadata; python_version < \"3.8\" in /home/laurenpease18/anaconda3/lib/python3.7/site-packages (from markdown>=2.6.8->tensorboard<2.1.0,>=2.0.0->tensorflow==2.0) (0.17)\n",
      "Requirement already satisfied: pyasn1<0.5.0,>=0.4.6 in /home/laurenpease18/anaconda3/lib/python3.7/site-packages (from pyasn1-modules>=0.2.1->google-auth<2,>=1.6.3->tensorboard<2.1.0,>=2.0.0->tensorflow==2.0) (0.4.8)\n",
      "Requirement already satisfied: oauthlib>=3.0.0 in /home/laurenpease18/anaconda3/lib/python3.7/site-packages (from requests-oauthlib>=0.7.0->google-auth-oauthlib<0.5,>=0.4.1->tensorboard<2.1.0,>=2.0.0->tensorflow==2.0) (3.1.0)\n",
      "Requirement already satisfied: zipp>=0.5 in /home/laurenpease18/anaconda3/lib/python3.7/site-packages (from importlib-metadata; python_version < \"3.8\"->markdown>=2.6.8->tensorboard<2.1.0,>=2.0.0->tensorflow==2.0) (0.5.1)\n"
     ]
    }
   ],
   "source": [
    "!pip install tensorflow==2.0"
   ]
  },
  {
   "cell_type": "code",
   "execution_count": 2,
   "metadata": {
    "colab": {
     "base_uri": "https://localhost:8080/",
     "height": 34
    },
    "colab_type": "code",
    "id": "H79BpACkblay",
    "outputId": "fab8c838-6558-431d-d087-f2f3c9de655d"
   },
   "outputs": [
    {
     "name": "stdout",
     "output_type": "stream",
     "text": [
      "2.0.0\n"
     ]
    }
   ],
   "source": [
    "import tensorflow as tf\n",
    "print(tf.__version__)"
   ]
  },
  {
   "cell_type": "code",
   "execution_count": 3,
   "metadata": {
    "colab": {},
    "colab_type": "code",
    "id": "2Ro7A1N5y6Hh"
   },
   "outputs": [],
   "source": [
    "import pandas as pd\n",
    "import numpy as np\n",
    "from sklearn.model_selection import train_test_split\n",
    "import tensorflow as tf\n",
    "from sklearn import preprocessing\n",
    "from tensorflow.keras.models import Sequential\n",
    "from tensorflow.keras.layers import Dense, Dropout, BatchNormalization\n",
    "from sklearn.metrics import accuracy_score, confusion_matrix, precision_score, recall_score, f1_score, precision_recall_curve, auc\n",
    "import matplotlib.pyplot as plt\n",
    "from tensorflow.keras import optimizers\n"
   ]
  },
  {
   "cell_type": "code",
   "execution_count": 4,
   "metadata": {
    "colab": {},
    "colab_type": "code",
    "id": "spJIiLsDeP2K"
   },
   "outputs": [
    {
     "ename": "ModuleNotFoundError",
     "evalue": "No module named 'google.colab'",
     "output_type": "error",
     "traceback": [
      "\u001b[0;31m---------------------------------------------------------------------------\u001b[0m",
      "\u001b[0;31mModuleNotFoundError\u001b[0m                       Traceback (most recent call last)",
      "\u001b[0;32m<ipython-input-4-f045e1081d89>\u001b[0m in \u001b[0;36m<module>\u001b[0;34m\u001b[0m\n\u001b[0;32m----> 1\u001b[0;31m \u001b[0;32mfrom\u001b[0m \u001b[0mgoogle\u001b[0m\u001b[0;34m.\u001b[0m\u001b[0mcolab\u001b[0m \u001b[0;32mimport\u001b[0m \u001b[0mdrive\u001b[0m\u001b[0;34m\u001b[0m\u001b[0;34m\u001b[0m\u001b[0m\n\u001b[0m",
      "\u001b[0;31mModuleNotFoundError\u001b[0m: No module named 'google.colab'"
     ]
    }
   ],
   "source": [
    "from google.colab import drive"
   ]
  },
  {
   "cell_type": "code",
   "execution_count": null,
   "metadata": {
    "colab": {
     "base_uri": "https://localhost:8080/",
     "height": 125
    },
    "colab_type": "code",
    "id": "BikwTj1_eSKh",
    "outputId": "d03828e2-b101-45e5-d8c4-f95de0d33a7c"
   },
   "outputs": [],
   "source": [
    "drive.mount('/content/drive/')"
   ]
  },
  {
   "cell_type": "code",
   "execution_count": null,
   "metadata": {
    "colab": {},
    "colab_type": "code",
    "id": "Q-cL3gdjeSM3"
   },
   "outputs": [],
   "source": [
    "project_path = '/content/drive/My Drive/Colab Notebooks/'"
   ]
  },
  {
   "cell_type": "code",
   "execution_count": null,
   "metadata": {
    "colab": {},
    "colab_type": "code",
    "id": "8wIx9ivZeSPP"
   },
   "outputs": [],
   "source": [
    "dataset_file = project_path + 'creditcard.csv'"
   ]
  },
  {
   "cell_type": "code",
   "execution_count": null,
   "metadata": {
    "colab": {},
    "colab_type": "code",
    "id": "OM0t4RaJe10y"
   },
   "outputs": [],
   "source": [
    "data = pd.read_csv(dataset_file)"
   ]
  },
  {
   "cell_type": "code",
   "execution_count": null,
   "metadata": {
    "colab": {
     "base_uri": "https://localhost:8080/",
     "height": 217
    },
    "colab_type": "code",
    "id": "LzmnvBMKe13i",
    "outputId": "ee87fbdd-3249-4dbd-dc52-56a91167bd26"
   },
   "outputs": [],
   "source": [
    "data.head()"
   ]
  },
  {
   "cell_type": "code",
   "execution_count": null,
   "metadata": {
    "colab": {},
    "colab_type": "code",
    "id": "XYR1bqVjr74v"
   },
   "outputs": [],
   "source": [
    "data = data.drop(\"Time\", axis = 1)"
   ]
  },
  {
   "cell_type": "code",
   "execution_count": null,
   "metadata": {
    "colab": {},
    "colab_type": "code",
    "id": "8jSUoRdjffH1"
   },
   "outputs": [],
   "source": [
    "X_data = data.iloc[:, :-1]"
   ]
  },
  {
   "cell_type": "code",
   "execution_count": null,
   "metadata": {
    "colab": {
     "base_uri": "https://localhost:8080/",
     "height": 34
    },
    "colab_type": "code",
    "id": "cI3wN8jqftKw",
    "outputId": "c5873a8f-bb7f-4585-f727-aff4cbfc7d6b"
   },
   "outputs": [],
   "source": [
    "X_data.shape"
   ]
  },
  {
   "cell_type": "code",
   "execution_count": null,
   "metadata": {
    "colab": {
     "base_uri": "https://localhost:8080/",
     "height": 217
    },
    "colab_type": "code",
    "id": "lNVt9nlwr4be",
    "outputId": "978198d9-ae57-404e-8558-54943481f552"
   },
   "outputs": [],
   "source": [
    "X_data.head()"
   ]
  },
  {
   "cell_type": "code",
   "execution_count": null,
   "metadata": {
    "colab": {},
    "colab_type": "code",
    "id": "Av0SeUasfxdd"
   },
   "outputs": [],
   "source": [
    "y_data = data.iloc[:, -1]"
   ]
  },
  {
   "cell_type": "code",
   "execution_count": null,
   "metadata": {
    "colab": {
     "base_uri": "https://localhost:8080/",
     "height": 34
    },
    "colab_type": "code",
    "id": "PxJAWm1pf2Pp",
    "outputId": "017959c2-1d23-41f8-a008-2ef741115dff"
   },
   "outputs": [],
   "source": [
    "y_data.shape"
   ]
  },
  {
   "cell_type": "code",
   "execution_count": null,
   "metadata": {
    "colab": {},
    "colab_type": "code",
    "id": "HeY6L0Pd1ZuF"
   },
   "outputs": [],
   "source": [
    "X_train, X_test, y_train, y_test = train_test_split(X_data, y_data, test_size = 0.2, random_state = 7)"
   ]
  },
  {
   "cell_type": "code",
   "execution_count": null,
   "metadata": {
    "colab": {},
    "colab_type": "code",
    "id": "MRNMm_VFf1py"
   },
   "outputs": [],
   "source": [
    "X_train = preprocessing.normalize(X_train)"
   ]
  },
  {
   "cell_type": "code",
   "execution_count": null,
   "metadata": {
    "colab": {
     "base_uri": "https://localhost:8080/",
     "height": 87
    },
    "colab_type": "code",
    "id": "tTq5DsKV1ayv",
    "outputId": "48f5e6bb-fd2c-4f88-bae6-5a8c9d2dd64c"
   },
   "outputs": [],
   "source": [
    "print(X_train.shape)\n",
    "print(X_test.shape)\n",
    "print(y_train.shape)\n",
    "print(y_test.shape)"
   ]
  },
  {
   "cell_type": "markdown",
   "metadata": {
    "colab_type": "text",
    "id": "rK65fuEW1rNR"
   },
   "source": [
    "### Creating a model\n",
    "\n",
    "Keras model object can be created with Sequential class\n",
    "\n",
    "At the outset, the model is empty per se. It is completed by adding additional layers and compilation\n"
   ]
  },
  {
   "cell_type": "code",
   "execution_count": null,
   "metadata": {
    "colab": {},
    "colab_type": "code",
    "id": "Tf5xPvFh1vpI"
   },
   "outputs": [],
   "source": [
    "model = Sequential()\n"
   ]
  },
  {
   "cell_type": "markdown",
   "metadata": {
    "colab_type": "text",
    "id": "PY-sWPLV1ymZ"
   },
   "source": [
    "### Adding layers [layers and activations]\n",
    "\n",
    "Keras layers can be added to the model\n",
    "\n",
    "Adding layers are like stacking lego blocks one by one\n",
    "\n",
    "It should be noted that as this is a classification problem, sigmoid layer (softmax for multi-class problems) should be added\n"
   ]
  },
  {
   "cell_type": "code",
   "execution_count": null,
   "metadata": {
    "colab": {},
    "colab_type": "code",
    "id": "wSW0d2sX1w4Z"
   },
   "outputs": [],
   "source": [
    "model.add(Dense(64, input_shape = (29,), activation = 'relu'))\n",
    "model.add(Dense(32, activation = 'tanh'))\n",
    "model.add(Dense(1, activation = 'sigmoid'))"
   ]
  },
  {
   "cell_type": "markdown",
   "metadata": {
    "colab_type": "text",
    "id": "Hk3MOIy12SU_"
   },
   "source": [
    "### Model compile [optimizers and loss functions]\n",
    "\n",
    "Keras model should be \"compiled\" prior to training\n",
    "\n",
    "Types of loss (function) and optimizer should be designated\n"
   ]
  },
  {
   "cell_type": "code",
   "execution_count": null,
   "metadata": {
    "colab": {},
    "colab_type": "code",
    "id": "7QyeAsLo2Nj0"
   },
   "outputs": [],
   "source": [
    "sgd = optimizers.Adam(lr = 0.001)"
   ]
  },
  {
   "cell_type": "code",
   "execution_count": null,
   "metadata": {
    "colab": {},
    "colab_type": "code",
    "id": "f4hkSuwa2aFR"
   },
   "outputs": [],
   "source": [
    "model.compile(optimizer = sgd, loss = 'binary_crossentropy', metrics=['accuracy'])"
   ]
  },
  {
   "cell_type": "markdown",
   "metadata": {
    "colab_type": "text",
    "id": "0pgrwczG2dMz"
   },
   "source": [
    "### Summary of the model"
   ]
  },
  {
   "cell_type": "code",
   "execution_count": null,
   "metadata": {
    "colab": {
     "base_uri": "https://localhost:8080/",
     "height": 265
    },
    "colab_type": "code",
    "id": "KnQIxKfn2baE",
    "outputId": "5bcc1421-6ca7-46e6-b92d-9aceb9422b43"
   },
   "outputs": [],
   "source": [
    "model.summary()\n"
   ]
  },
  {
   "cell_type": "markdown",
   "metadata": {
    "colab_type": "text",
    "id": "GPP-Q5O-2iel"
   },
   "source": [
    "### Training [Forward pass and Backpropagation]\n",
    "\n",
    "Training the model"
   ]
  },
  {
   "cell_type": "code",
   "execution_count": null,
   "metadata": {
    "colab": {
     "base_uri": "https://localhost:8080/",
     "height": 407
    },
    "colab_type": "code",
    "id": "Nbj63utw2fHI",
    "outputId": "2aca85cb-acf9-4a7c-ed4e-d01605443970"
   },
   "outputs": [],
   "source": [
    "model.fit(X_train, y_train.values, batch_size = 700, epochs = 10, verbose = 1)"
   ]
  },
  {
   "cell_type": "markdown",
   "metadata": {
    "colab_type": "text",
    "id": "lLPxzhrv2sxz"
   },
   "source": [
    "### Evaluation\n",
    "Keras model can be evaluated with evaluate() function\n",
    "\n",
    "Evaluation results are contained in a list\n",
    "\n"
   ]
  },
  {
   "cell_type": "code",
   "execution_count": null,
   "metadata": {
    "colab": {},
    "colab_type": "code",
    "id": "7jXqwWxKodMj"
   },
   "outputs": [],
   "source": [
    "X_test = preprocessing.normalize(X_test)"
   ]
  },
  {
   "cell_type": "code",
   "execution_count": null,
   "metadata": {
    "colab": {
     "base_uri": "https://localhost:8080/",
     "height": 54
    },
    "colab_type": "code",
    "id": "AAULjn-C2n6F",
    "outputId": "7adef48e-90f9-4bb9-d042-3dc548e985ff"
   },
   "outputs": [],
   "source": [
    "results = model.evaluate(X_test, y_test.values)\n"
   ]
  },
  {
   "cell_type": "code",
   "execution_count": null,
   "metadata": {
    "colab": {
     "base_uri": "https://localhost:8080/",
     "height": 52
    },
    "colab_type": "code",
    "id": "iWPCJvmY2w9Z",
    "outputId": "2ffb160e-5f07-40c2-8314-97d9756a9ecd"
   },
   "outputs": [],
   "source": [
    "print(model.metrics_names)\n",
    "print(results)    "
   ]
  },
  {
   "cell_type": "markdown",
   "metadata": {
    "colab_type": "text",
    "id": "mFVCB24Zud4z"
   },
   "source": [
    "### Confusion Matrix"
   ]
  },
  {
   "cell_type": "code",
   "execution_count": null,
   "metadata": {
    "colab": {
     "base_uri": "https://localhost:8080/",
     "height": 161
    },
    "colab_type": "code",
    "id": "6ws8ykhbrAdy",
    "outputId": "75292028-2feb-4657-aaf7-00f9c1d6c8ad"
   },
   "outputs": [],
   "source": [
    "Y_pred_cls = model.predict_classes(X_test, batch_size=200, verbose=0)\n",
    "print('Accuracy Model1 (Dropout): '+ str(model.evaluate(X_test,y_test.values)[1]))\n",
    "print('Recall_score: ' + str(recall_score(y_test.values,Y_pred_cls)))\n",
    "print('Precision_score: ' + str(precision_score(y_test.values, Y_pred_cls)))\n",
    "print('F-score: ' + str(f1_score(y_test.values,Y_pred_cls)))\n",
    "confusion_matrix(y_test.values, Y_pred_cls)"
   ]
  },
  {
   "cell_type": "markdown",
   "metadata": {
    "colab_type": "text",
    "id": "rjJpEpMrgDwc"
   },
   "source": [
    "#### Feel free to experiment with the model and get to better evaluation metric scores. \n",
    "Happy Learning!"
   ]
  }
 ],
 "metadata": {
  "accelerator": "GPU",
  "colab": {
   "collapsed_sections": [],
   "name": "Mentor Session Case Study Notebook - Week 2",
   "provenance": []
  },
  "kernelspec": {
   "display_name": "Python 3",
   "language": "python",
   "name": "python3"
  },
  "language_info": {
   "codemirror_mode": {
    "name": "ipython",
    "version": 3
   },
   "file_extension": ".py",
   "mimetype": "text/x-python",
   "name": "python",
   "nbconvert_exporter": "python",
   "pygments_lexer": "ipython3",
   "version": "3.7.3"
  }
 },
 "nbformat": 4,
 "nbformat_minor": 1
}
