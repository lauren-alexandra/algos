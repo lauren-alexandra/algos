{
  "nbformat": 4,
  "nbformat_minor": 0,
  "metadata": {
    "accelerator": "GPU",
    "colab": {
      "name": "2_CNN_Basics_MNIST.ipynb",
      "provenance": [],
      "collapsed_sections": []
    },
    "kernelspec": {
      "display_name": "Python 3",
      "language": "python",
      "name": "python3"
    },
    "language_info": {
      "codemirror_mode": {
        "name": "ipython",
        "version": 3
      },
      "file_extension": ".py",
      "mimetype": "text/x-python",
      "name": "python",
      "nbconvert_exporter": "python",
      "pygments_lexer": "ipython3",
      "version": "3.8.5"
    }
  },
  "cells": [
    {
      "cell_type": "markdown",
      "metadata": {
        "id": "oVEReyyDtZxl"
      },
      "source": [
        "Proprietary content. ©Great Learning. All Rights Reserved. Unauthorized use or distribution prohibited\n",
        "# CNN"
      ]
    },
    {
      "cell_type": "markdown",
      "metadata": {
        "id": "gqj9X_tjSyXy"
      },
      "source": [
        "## MNIST Dataset\n",
        "The MNIST database contains 60,000 training images and 10,000 testing images taken from American Census Bureau employees and American high school students. The MNIST dataset is one of the most common datasets used for image classification and accessible from many different sources. In fact, even Tensorflow and Keras allow us to import and download the MNIST dataset directly from their API."
      ]
    },
    {
      "cell_type": "markdown",
      "metadata": {
        "id": "ZOk8Eu4_t70R"
      },
      "source": [
        "Firstly, let's select TensorFlow version 2.x in colab"
      ]
    },
    {
      "cell_type": "code",
      "metadata": {
        "id": "ES-ZhuQ4_gvk"
      },
      "source": [
        ""
      ],
      "execution_count": null,
      "outputs": []
    },
    {
      "cell_type": "code",
      "metadata": {
        "colab": {
          "base_uri": "https://localhost:8080/",
          "height": 35
        },
        "id": "H6RZUm0p4wYJ",
        "outputId": "3b3583a8-c2d7-4735-d1a4-963ed9c3f3a2"
      },
      "source": [
        "%tensorflow_version 2.x\n",
        "import tensorflow\n",
        "tensorflow.__version__"
      ],
      "execution_count": 1,
      "outputs": [
        {
          "output_type": "execute_result",
          "data": {
            "application/vnd.google.colaboratory.intrinsic+json": {
              "type": "string"
            },
            "text/plain": [
              "'2.4.1'"
            ]
          },
          "metadata": {
            "tags": []
          },
          "execution_count": 1
        }
      ]
    },
    {
      "cell_type": "markdown",
      "metadata": {
        "id": "eIDRWm80_erh"
      },
      "source": [
        ""
      ]
    },
    {
      "cell_type": "code",
      "metadata": {
        "id": "TWi96z-8SyX0"
      },
      "source": [
        "# Initialize the random number generator\n",
        "import random\n",
        "random.seed(0)\n",
        "\n",
        "# Ignore the warnings\n",
        "import warnings\n",
        "warnings.filterwarnings(\"ignore\")"
      ],
      "execution_count": 2,
      "outputs": []
    },
    {
      "cell_type": "markdown",
      "metadata": {
        "id": "roDpNYcESyXz"
      },
      "source": [
        "Let's load MNIST dataset"
      ]
    },
    {
      "cell_type": "code",
      "metadata": {
        "colab": {
          "base_uri": "https://localhost:8080/"
        },
        "id": "4kQf1NjrSyX5",
        "outputId": "d8f81e1b-d311-4a7a-f4e6-0ed00bb499e1"
      },
      "source": [
        "from tensorflow.keras.datasets import mnist\n",
        "\n",
        "# the data, shuffled and split between train and test sets\n",
        "(X_train, y_train), (X_test, y_test) = mnist.load_data()"
      ],
      "execution_count": 3,
      "outputs": [
        {
          "output_type": "stream",
          "text": [
            "Downloading data from https://storage.googleapis.com/tensorflow/tf-keras-datasets/mnist.npz\n",
            "11493376/11490434 [==============================] - 0s 0us/step\n"
          ],
          "name": "stdout"
        }
      ]
    },
    {
      "cell_type": "markdown",
      "metadata": {
        "id": "I9LvPEV7SyX9"
      },
      "source": [
        "X_train and X_test contain greyscale RGB codes (from 0 to 255) while y_train and y_test contains labels from 0 to 9 which represents which number they actually are."
      ]
    },
    {
      "cell_type": "markdown",
      "metadata": {
        "id": "jFxVKfCPSyX-"
      },
      "source": [
        "Let's visualize some numbers using matplotlib"
      ]
    },
    {
      "cell_type": "code",
      "metadata": {
        "colab": {
          "base_uri": "https://localhost:8080/",
          "height": 300
        },
        "id": "OiTTWjsrSyX_",
        "outputId": "9025d9f6-2a0d-4089-b75e-24d906d729f6"
      },
      "source": [
        "import matplotlib.pyplot as plt\n",
        "%matplotlib inline\n",
        "print(\"Label: {}\".format(y_train[8000]))\n",
        "plt.imshow(X_train[8000], cmap='gray')"
      ],
      "execution_count": 4,
      "outputs": [
        {
          "output_type": "stream",
          "text": [
            "Label: 0\n"
          ],
          "name": "stdout"
        },
        {
          "output_type": "execute_result",
          "data": {
            "text/plain": [
              "<matplotlib.image.AxesImage at 0x7f7b68004a90>"
            ]
          },
          "metadata": {
            "tags": []
          },
          "execution_count": 4
        },
        {
          "output_type": "display_data",
          "data": {
            "image/png": "[encoded data removed]",
            "text/plain": [
              "<Figure size 432x288 with 1 Axes>"
            ]
          },
          "metadata": {
            "tags": [],
            "needs_background": "light"
          }
        }
      ]
    },
    {
      "cell_type": "markdown",
      "metadata": {
        "id": "mVVInu-RSyYJ"
      },
      "source": [
        "### Print shape of the data"
      ]
    },
    {
      "cell_type": "code",
      "metadata": {
        "colab": {
          "base_uri": "https://localhost:8080/"
        },
        "id": "JcIEeC-ySyYK",
        "outputId": "42875b87-e317-4f17-a961-6959f00b5558"
      },
      "source": [
        "print(X_train.shape)\n",
        "print(y_train.shape)\n",
        "print(X_test.shape)\n",
        "print(y_test.shape)"
      ],
      "execution_count": 5,
      "outputs": [
        {
          "output_type": "stream",
          "text": [
            "(60000, 28, 28)\n",
            "(60000,)\n",
            "(10000, 28, 28)\n",
            "(10000,)\n"
          ],
          "name": "stdout"
        }
      ]
    },
    {
      "cell_type": "markdown",
      "metadata": {
        "id": "NvfxTB1CSyYO"
      },
      "source": [
        "### Reshape train and test sets into compatible shapes\n",
        "- Sequential model in tensorflow.keras expects data to be in the format (n_e, n_h, n_w, n_c)\n",
        "- n_e= number of examples, n_h = height, n_w = width, n_c = number of channels\n",
        "- do not reshape labels"
      ]
    },
    {
      "cell_type": "code",
      "metadata": {
        "id": "0uIaqfYASyYP"
      },
      "source": [
        "X_train = X_train.reshape(X_train.shape[0], 28, 28, 1)\n",
        "X_test = X_test.reshape(X_test.shape[0], 28, 28, 1)"
      ],
      "execution_count": 6,
      "outputs": []
    },
    {
      "cell_type": "markdown",
      "metadata": {
        "id": "GHok6WPuSyYU"
      },
      "source": [
        "### Normalize data\n",
        "- we must normalize our data as it is always required in neural network models\n",
        "- we can achieve this by dividing the RGB codes with 255 (which is the maximum RGB code minus the minimum RGB code)\n",
        "- normalize X_train and X_test\n",
        "- make sure that the values are float so that we can get decimal points after division"
      ]
    },
    {
      "cell_type": "code",
      "metadata": {
        "id": "1xqxsH4XSyYV"
      },
      "source": [
        "X_train = X_train.astype('float32')\n",
        "X_test = X_test.astype('float32')\n",
        "\n",
        "X_train /= 255\n",
        "X_test /= 255"
      ],
      "execution_count": 7,
      "outputs": []
    },
    {
      "cell_type": "markdown",
      "metadata": {
        "id": "Io8RGv39SyYZ"
      },
      "source": [
        "### Print shape of data and number of images\n",
        "- print shape of X_train\n",
        "- print number of images in X_train\n",
        "- print number of images in X_test"
      ]
    },
    {
      "cell_type": "code",
      "metadata": {
        "colab": {
          "base_uri": "https://localhost:8080/"
        },
        "id": "mhYZjEtKSyYb",
        "outputId": "4cacfdda-6d40-4cef-e9ab-0feb046aa20c"
      },
      "source": [
        "print(\"X_train shape:\", X_train.shape)\n",
        "print(\"Images in X_train:\", X_train.shape[0])\n",
        "print(\"Images in X_test:\", X_test.shape[0])\n",
        "print(\"Max value in X_train:\", X_train.max())\n",
        "print(\"Min value in X_train:\", X_train.min())\n"
      ],
      "execution_count": 8,
      "outputs": [
        {
          "output_type": "stream",
          "text": [
            "X_train shape: (60000, 28, 28, 1)\n",
            "Images in X_train: 60000\n",
            "Images in X_test: 10000\n",
            "Max value in X_train: 1.0\n",
            "Min value in X_train: 0.0\n"
          ],
          "name": "stdout"
        }
      ]
    },
    {
      "cell_type": "markdown",
      "metadata": {
        "id": "kbCeNC9PSyYi"
      },
      "source": [
        "### One-hot encode the class vector\n",
        "- convert class vectors (integers) to binary class matrix\n",
        "- convert y_train and y_test\n",
        "- number of classes: 10\n",
        "- we are doing this to use categorical_crossentropy as loss"
      ]
    },
    {
      "cell_type": "code",
      "metadata": {
        "colab": {
          "base_uri": "https://localhost:8080/"
        },
        "id": "KXDv1LqhSyYk",
        "outputId": "a4578f2a-1bb7-4a01-f53f-eb681f6f9efd"
      },
      "source": [
        "from tensorflow.keras.utils import to_categorical\n",
        "\n",
        "y_train = to_categorical(y_train, num_classes=10)\n",
        "y_test = to_categorical(y_test, num_classes=10)\n",
        "\n",
        "print(\"Shape of y_train:\", y_train.shape)\n",
        "print(\"One value of y_train:\", y_train[0])"
      ],
      "execution_count": 9,
      "outputs": [
        {
          "output_type": "stream",
          "text": [
            "Shape of y_train: (60000, 10)\n",
            "One value of y_train: [0. 0. 0. 0. 0. 1. 0. 0. 0. 0.]\n"
          ],
          "name": "stdout"
        }
      ]
    },
    {
      "cell_type": "markdown",
      "metadata": {
        "id": "5jQGzVrX19zt"
      },
      "source": [
        "### Initialize a sequential model again\n",
        "- define a sequential model\n",
        "- add 2 convolutional layers\n",
        "    - no of filters: 32\n",
        "    - kernel size: 3x3\n",
        "    - activation: \"relu\"\n",
        "    - input shape: (28, 28, 1) for first layer\n",
        "- flatten the data\n",
        "    - add Flatten later\n",
        "    - flatten layers flatten 2D arrays to 1D array before building the fully connected layers\n",
        "- add 2 dense layers\n",
        "    - number of neurons in first layer: 128\n",
        "    - number of neurons in last layer: number of classes\n",
        "    - activation function in first layer: relu\n",
        "    - activation function in last layer: softmax\n",
        "    - we may experiment with any number of neurons for the first Dense layer; however, the final Dense layer must have neurons equal to the number of output classes"
      ]
    },
    {
      "cell_type": "code",
      "metadata": {
        "id": "gVAkTinRLBDp"
      },
      "source": [
        "from tensorflow.keras.layers import Conv2D\n",
        "from keras.models import Sequential\n",
        "from keras.layers import Flatten, Dense \n",
        "\n",
        "model = Sequential()\n",
        "model.add(Conv2D(filters=32, kernel_size=3, activation=\"relu\", input_shape=(28, 28, 1)))\n",
        "model.add(Conv2D(filters=32, kernel_size=3, activation=\"relu\"))\n",
        "model.add(Flatten())\n",
        "model.add(Dense(128, activation=\"relu\"))\n",
        "model.add(Dense(10, activation=\"softmax\"))"
      ],
      "execution_count": 14,
      "outputs": []
    },
    {
      "cell_type": "markdown",
      "metadata": {
        "id": "c74LMVBg3AXb"
      },
      "source": [
        "### Compile and fit the model\n",
        "- let's compile our model\n",
        "    - loss: \"categorical_crossentropy\"\n",
        "    - metrics: \"accuracy\"\n",
        "    - optimizer: \"adam\"\n",
        "- then next step will be to fit model\n",
        "    - give train data - training features and labels\n",
        "    - batch size: 32\n",
        "    - epochs: 10\n",
        "    - give validation data - testing features and labels"
      ]
    },
    {
      "cell_type": "code",
      "metadata": {
        "colab": {
          "base_uri": "https://localhost:8080/"
        },
        "id": "ca0AdxDx3AXh",
        "outputId": "ec59641f-df6c-4cc7-c650-0dc7052fae00"
      },
      "source": [
        "# Compile the model\n",
        "model.compile(loss=\"categorical_crossentropy\", metrics=[\"accuracy\"], optimizer=\"adam\")\n",
        "\n",
        "# Fit the model\n",
        "model.fit( x=X_train, y=y_train, batch_size=32, epochs=10, validation_split = 0.3)"
      ],
      "execution_count": 15,
      "outputs": [
        {
          "output_type": "stream",
          "text": [
            "Epoch 1/10\n",
            "1313/1313 [==============================] - 14s 5ms/step - loss: 0.2678 - accuracy: 0.9199 - val_loss: 0.0750 - val_accuracy: 0.9783\n",
            "Epoch 2/10\n",
            "1313/1313 [==============================] - 7s 5ms/step - loss: 0.0384 - accuracy: 0.9887 - val_loss: 0.0604 - val_accuracy: 0.9816\n",
            "Epoch 3/10\n",
            "1313/1313 [==============================] - 7s 5ms/step - loss: 0.0221 - accuracy: 0.9929 - val_loss: 0.0524 - val_accuracy: 0.9852\n",
            "Epoch 4/10\n",
            "1313/1313 [==============================] - 7s 5ms/step - loss: 0.0116 - accuracy: 0.9963 - val_loss: 0.0551 - val_accuracy: 0.9857\n",
            "Epoch 5/10\n",
            "1313/1313 [==============================] - 7s 5ms/step - loss: 0.0091 - accuracy: 0.9968 - val_loss: 0.0643 - val_accuracy: 0.9844\n",
            "Epoch 6/10\n",
            "1313/1313 [==============================] - 7s 5ms/step - loss: 0.0075 - accuracy: 0.9976 - val_loss: 0.0694 - val_accuracy: 0.9856\n",
            "Epoch 7/10\n",
            "1313/1313 [==============================] - 7s 5ms/step - loss: 0.0059 - accuracy: 0.9979 - val_loss: 0.0737 - val_accuracy: 0.9855\n",
            "Epoch 8/10\n",
            "1313/1313 [==============================] - 7s 5ms/step - loss: 0.0062 - accuracy: 0.9980 - val_loss: 0.0904 - val_accuracy: 0.9826\n",
            "Epoch 9/10\n",
            "1313/1313 [==============================] - 7s 5ms/step - loss: 0.0050 - accuracy: 0.9984 - val_loss: 0.0772 - val_accuracy: 0.9854\n",
            "Epoch 10/10\n",
            "1313/1313 [==============================] - 7s 5ms/step - loss: 0.0016 - accuracy: 0.9995 - val_loss: 0.0820 - val_accuracy: 0.9865\n"
          ],
          "name": "stdout"
        },
        {
          "output_type": "execute_result",
          "data": {
            "text/plain": [
              "<tensorflow.python.keras.callbacks.History at 0x7f7b501a0550>"
            ]
          },
          "metadata": {
            "tags": []
          },
          "execution_count": 15
        }
      ]
    },
    {
      "cell_type": "markdown",
      "metadata": {
        "id": "ecgTBHmn37lq"
      },
      "source": [
        "### Final loss and accuracy"
      ]
    },
    {
      "cell_type": "code",
      "metadata": {
        "colab": {
          "base_uri": "https://localhost:8080/"
        },
        "id": "7_pf1d-J37l0",
        "outputId": "50ddd118-4f1a-4e1e-d94a-767ed7a451c2"
      },
      "source": [
        "model.evaluate(X_test, y_test)"
      ],
      "execution_count": 16,
      "outputs": [
        {
          "output_type": "stream",
          "text": [
            "313/313 [==============================] - 1s 3ms/step - loss: 0.0668 - accuracy: 0.9883\n"
          ],
          "name": "stdout"
        },
        {
          "output_type": "execute_result",
          "data": {
            "text/plain": [
              "[0.06676888465881348, 0.9883000254631042]"
            ]
          },
          "metadata": {
            "tags": []
          },
          "execution_count": 16
        }
      ]
    },
    {
      "cell_type": "markdown",
      "metadata": {
        "id": "tQpAaQ_hBu1d"
      },
      "source": [
        ""
      ]
    },
    {
      "cell_type": "code",
      "metadata": {
        "id": "_FwjM4X7Byjh"
      },
      "source": [
        ""
      ],
      "execution_count": 16,
      "outputs": []
    },
    {
      "cell_type": "markdown",
      "metadata": {
        "id": "-dqbAnSdvITA"
      },
      "source": [
        "## Vanilla CNN + Pooling + Dropout"
      ]
    },
    {
      "cell_type": "markdown",
      "metadata": {
        "id": "SAA84Lfv4LVZ"
      },
      "source": [
        "### Initialize a sequential model again\n",
        "- define a sequential model\n",
        "- add 2 convolutional layers\n",
        "    - no of filters: 32\n",
        "    - kernel size: 3x3\n",
        "    - activation: \"relu\"\n",
        "    - input shape: (28, 28, 1) for first layer\n",
        "- add a max pooling layer of size 2x2\n",
        "- add a dropout layer\n",
        "    - dropout layers fight with the overfitting by disregarding some of the neurons while training\n",
        "    - use dropout rate 0.2\n",
        "- flatten the data\n",
        "    - add Flatten later\n",
        "    - flatten layers flatten 2D arrays to 1D array before building the fully connected layers\n",
        "- add 2 dense layers\n",
        "    - number of neurons in first layer: 128\n",
        "    - number of neurons in last layer: number of classes\n",
        "    - activation function in first layer: relu\n",
        "    - activation function in last layer: softmax\n",
        "    - we may experiment with any number of neurons for the first Dense layer; however, the final Dense layer must have neurons equal to the number of output classes"
      ]
    },
    {
      "cell_type": "code",
      "metadata": {
        "id": "tMnK0A84VqZc"
      },
      "source": [
        "from tensorflow.keras.models import Sequential\n",
        "from tensorflow.keras.layers import Conv2D, Dropout, MaxPooling2D\n",
        "\n",
        "# Initialize the model\n",
        "model = Sequential()\n",
        "\n",
        "# Add a Convolutional Layer with 32 filters of size 3X3 and activation function as 'relu' \n",
        "model.add(Conv2D(filters=32, kernel_size=3, activation=\"relu\", input_shape=(28, 28, 1)))\n",
        "\n",
        "# Add a Convolutional Layer with 32 filters of size 3X3 and activation function as 'relu' \n",
        "model.add(Conv2D(filters=32, kernel_size=3, activation=\"relu\"))\n",
        "\n",
        "# Add a MaxPooling Layer of size 2X2 \n",
        "model.add(MaxPooling2D(pool_size=(2, 2)))\n",
        "\n",
        "# Apply Dropout with 0.2 probability \n",
        "model.add(Dropout(rate=0.2))\n",
        "\n",
        "# Flatten the layer\n",
        "model.add(Flatten())\n",
        "\n",
        "# Add Fully Connected Layer with 128 units and activation function as 'relu'\n",
        "model.add(Dense(128, activation=\"relu\"))\n",
        "\n",
        "#Add Fully Connected Layer with 10 units and activation function as 'softmax'\n",
        "model.add(Dense(10, activation=\"softmax\"))"
      ],
      "execution_count": 17,
      "outputs": []
    },
    {
      "cell_type": "markdown",
      "metadata": {
        "id": "rTTqCN1g5KVf"
      },
      "source": [
        "### Compile and fit the model\n",
        "- let's compile our model\n",
        "    - loss: \"categorical_crossentropy\"\n",
        "    - metrics: \"accuracy\"\n",
        "    - optimizer: \"adam\"\n",
        "- Use EarlyStopping\n",
        "- then next step will be to fit model\n",
        "    - give train data - training features and labels\n",
        "    - batch size: 32\n",
        "    - epochs: 10\n",
        "    - give validation data - testing features and labels"
      ]
    },
    {
      "cell_type": "code",
      "metadata": {
        "colab": {
          "base_uri": "https://localhost:8080/"
        },
        "id": "ervzY5xS5KVn",
        "outputId": "c378246d-48db-4c23-96b8-b026b5311d50"
      },
      "source": [
        "# Compile the model\n",
        "model.compile(loss=\"categorical_crossentropy\", metrics=[\"accuracy\"], optimizer=\"adam\")\n",
        "\n",
        "# Use earlystopping\n",
        "callback = tensorflow.keras.callbacks.EarlyStopping(monitor='val_accuracy', patience=2, min_delta=0.01)\n",
        "\n",
        "# Fit the model\n",
        "model.fit(x=X_train, y=y_train, batch_size=32, epochs=10, validation_data=(X_test, y_test), callbacks=[callback])"
      ],
      "execution_count": 18,
      "outputs": [
        {
          "output_type": "stream",
          "text": [
            "Epoch 1/10\n",
            "1875/1875 [==============================] - 7s 4ms/step - loss: 0.2677 - accuracy: 0.9201 - val_loss: 0.0443 - val_accuracy: 0.9861\n",
            "Epoch 2/10\n",
            "1875/1875 [==============================] - 7s 4ms/step - loss: 0.0427 - accuracy: 0.9863 - val_loss: 0.0437 - val_accuracy: 0.9856\n",
            "Epoch 3/10\n",
            "1875/1875 [==============================] - 7s 4ms/step - loss: 0.0290 - accuracy: 0.9904 - val_loss: 0.0395 - val_accuracy: 0.9871\n"
          ],
          "name": "stdout"
        },
        {
          "output_type": "execute_result",
          "data": {
            "text/plain": [
              "<tensorflow.python.keras.callbacks.History at 0x7f7b0e4980f0>"
            ]
          },
          "metadata": {
            "tags": []
          },
          "execution_count": 18
        }
      ]
    },
    {
      "cell_type": "markdown",
      "metadata": {
        "id": "o_n2Q4ag5KVw"
      },
      "source": [
        "### Final loss and accuracy"
      ]
    },
    {
      "cell_type": "code",
      "metadata": {
        "colab": {
          "base_uri": "https://localhost:8080/"
        },
        "id": "6JqLcfUE5KVy",
        "outputId": "2b1e5d59-5d69-425d-e36c-b135794e6493"
      },
      "source": [
        "model.evaluate(X_test, y_test)"
      ],
      "execution_count": 19,
      "outputs": [
        {
          "output_type": "stream",
          "text": [
            "313/313 [==============================] - 1s 2ms/step - loss: 0.0395 - accuracy: 0.9871\n"
          ],
          "name": "stdout"
        },
        {
          "output_type": "execute_result",
          "data": {
            "text/plain": [
              "[0.039528362452983856, 0.9871000051498413]"
            ]
          },
          "metadata": {
            "tags": []
          },
          "execution_count": 19
        }
      ]
    },
    {
      "cell_type": "markdown",
      "metadata": {
        "id": "-NqR3ygZVPGD"
      },
      "source": [
        "Let's visualize results using matplotlib"
      ]
    },
    {
      "cell_type": "code",
      "metadata": {
        "colab": {
          "base_uri": "https://localhost:8080/",
          "height": 352
        },
        "id": "D77CuLM7VPGL",
        "outputId": "206d8cd8-52e2-44c2-a9f2-a4d71482a8f3"
      },
      "source": [
        "import matplotlib.pyplot as plt\n",
        "%matplotlib inline\n",
        "plt.imshow(X_test[100].reshape(28, 28), cmap='gray')\n",
        "y_pred = model.predict(X_test[100].reshape(1, 28, 28, 1))\n",
        "print(\"Predicted label:\", y_pred.argmax())\n",
        "print(\"Softmax Outputs:\", y_pred)\n",
        "print(y_pred.sum())"
      ],
      "execution_count": 20,
      "outputs": [
        {
          "output_type": "stream",
          "text": [
            "Predicted label: 6\n",
            "Softmax Outputs: [[5.20265758e-07 9.90687177e-09 2.11808251e-10 3.08623162e-11\n",
            "  7.80643106e-08 5.77968562e-09 9.99999404e-01 4.09720279e-11\n",
            "  1.15545594e-10 1.09397669e-09]]\n",
            "1.0\n"
          ],
          "name": "stdout"
        },
        {
          "output_type": "display_data",
          "data": {
            "image/png": "[encoded data removed]",
            "text/plain": [
              "<Figure size 432x288 with 1 Axes>"
            ]
          },
          "metadata": {
            "tags": [],
            "needs_background": "light"
          }
        }
      ]
    },
    {
      "cell_type": "code",
      "metadata": {
        "id": "F2PfB8jJVu29"
      },
      "source": [
        ""
      ],
      "execution_count": 20,
      "outputs": []
    }
  ]
}