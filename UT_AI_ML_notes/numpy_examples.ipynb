{
 "cells": [
  {
   "cell_type": "markdown",
   "metadata": {},
   "source": [
    "# NumPy\n",
    "\n",
    "numpy is python's package for doing math that is more advanced than +-*/\n",
    "\n",
    "This includes special functions like cosine, exponential, sqrt, ...\n",
    "\n",
    "On top of this we can use numpy to generate samples from many types of random variables\n",
    "\n",
    "numpy also has a powerful data type to define vectors, matrices, and tensors\n",
    "\n",
    "With these data types numpy also allows us to do linear algebra - matrix multiplication and matrix-vector solutions"
   ]
  },
  {
   "cell_type": "code",
   "execution_count": 1,
   "metadata": {},
   "outputs": [],
   "source": [
    "# the first step of using numpy is to tell python to use it\n",
    "import numpy as np"
   ]
  },
  {
   "cell_type": "code",
   "execution_count": 34,
   "metadata": {},
   "outputs": [
    {
     "name": "stdout",
     "output_type": "stream",
     "text": [
      "-1.0\n",
      "1.1\n",
      "5.2\n",
      "[2 3 4 6 7 9]\n",
      "[1 2 4]\n"
     ]
    }
   ],
   "source": [
    "print(np.cos(np.pi))\n",
    "print(np.sqrt(1.21))\n",
    "print(np.log(np.exp(5.2)))\n",
    "\n",
    "matrix = np.array([[-1, 2, 3], [4, -5, 6], [7, -8, 9]])\n",
    "print(matrix[matrix>0])\n",
    "\n",
    "football = [1,2,4]\n",
    "print(np.array(football))"
   ]
  },
  {
   "cell_type": "code",
   "execution_count": 3,
   "metadata": {},
   "outputs": [
    {
     "name": "stdout",
     "output_type": "stream",
     "text": [
      "[1 2 3]\n",
      "\n",
      "[[1 2 1]\n",
      " [4 5 9]\n",
      " [1 8 9]]\n",
      "\n",
      "[[1 4 1]\n",
      " [2 5 8]\n",
      " [1 9 9]]\n"
     ]
    }
   ],
   "source": [
    "# we can create numpy arrays by converting lists\n",
    "# this is a vector\n",
    "vec = np.array([1,2,3])\n",
    "print(vec)\n",
    "# we can create matrices by converting lists of lists\n",
    "mat = np.array([[1,2,1],[4,5,9],[1,8,9]])\n",
    "print('')\n",
    "print(mat)\n",
    "print('')\n",
    "print(mat.T)"
   ]
  },
  {
   "cell_type": "code",
   "execution_count": 4,
   "metadata": {},
   "outputs": [
    {
     "name": "stdout",
     "output_type": "stream",
     "text": [
      "[ 0  1  2  3  4  5  6  7  8  9 10 11 12 13 14]\n",
      "\n",
      "[ 3  9 15]\n"
     ]
    }
   ],
   "source": [
    "# there are lots of other ways to create numpy arrays\n",
    "vec2 = np.arange(0,15)\n",
    "print(vec2)\n",
    "print('')\n",
    "vec3 = np.arange(3,21,6)\n",
    "print(vec3)\n"
   ]
  },
  {
   "cell_type": "code",
   "execution_count": 5,
   "metadata": {},
   "outputs": [
    {
     "name": "stdout",
     "output_type": "stream",
     "text": [
      "[0.         0.55555556 1.11111111 1.66666667 2.22222222 2.77777778\n",
      " 3.33333333 3.88888889 4.44444444 5.        ]\n",
      "\n",
      "[[0.         0.55555556]\n",
      " [1.11111111 1.66666667]\n",
      " [2.22222222 2.77777778]\n",
      " [3.33333333 3.88888889]\n",
      " [4.44444444 5.        ]]\n",
      "[[0.         0.55555556]\n",
      " [1.11111111 1.66666667]\n",
      " [2.22222222 2.77777778]\n",
      " [3.33333333 3.88888889]\n",
      " [4.44444444 5.        ]]\n",
      "[0.         0.55555556 1.11111111 1.66666667 2.22222222 2.77777778\n",
      " 3.33333333 3.88888889 4.44444444 5.        ]\n"
     ]
    }
   ],
   "source": [
    "\n",
    "vec4 = np.linspace(0,5,10)\n",
    "print(vec4)\n",
    "print('')\n",
    "print(vec4.reshape(5,2))\n",
    "vec4_reshaped = vec4.reshape(5,2)\n",
    "print(vec4_reshaped)\n",
    "print(vec4)"
   ]
  },
  {
   "cell_type": "code",
   "execution_count": 6,
   "metadata": {},
   "outputs": [
    {
     "name": "stdout",
     "output_type": "stream",
     "text": [
      "[[0. 0. 0.]\n",
      " [0. 0. 0.]\n",
      " [0. 0. 0.]\n",
      " [0. 0. 0.]\n",
      " [0. 0. 0.]]\n",
      "\n",
      "[[1. 1. 1. 1. 1.]\n",
      " [1. 1. 1. 1. 1.]\n",
      " [1. 1. 1. 1. 1.]]\n",
      "\n",
      "[[1. 0. 0. 0. 0.]\n",
      " [0. 1. 0. 0. 0.]\n",
      " [0. 0. 1. 0. 0.]\n",
      " [0. 0. 0. 1. 0.]\n",
      " [0. 0. 0. 0. 1.]]\n"
     ]
    }
   ],
   "source": [
    "mat2 = np.zeros([5,3])\n",
    "print(mat2)\n",
    "mat3 = np.ones((3,5))\n",
    "print('')\n",
    "print(mat3)\n",
    "mat4 = np.eye(5)\n",
    "print('')\n",
    "print(mat4)"
   ]
  },
  {
   "cell_type": "code",
   "execution_count": 7,
   "metadata": {},
   "outputs": [
    {
     "name": "stdout",
     "output_type": "stream",
     "text": [
      "[1 2 3 4 5]\n",
      "[3 4 5 6 7]\n",
      "[ 4  6  8 10 12]\n",
      "[ 3  8 15 24 35]\n",
      "[1.         0.5        0.33333333 0.25       0.2       ]\n",
      "[1.73205081 2.         2.23606798 2.44948974 2.64575131]\n"
     ]
    }
   ],
   "source": [
    "# we can +-*/ arrays together if they're the right size\n",
    "vec5 = np.arange(1,6)\n",
    "vec6 = np.arange(3,8)\n",
    "print(vec5)\n",
    "print(vec6)\n",
    "print(vec5+vec6)\n",
    "print(vec5*vec6)\n",
    "print(1/vec5)\n",
    "print(np.sqrt(vec6))"
   ]
  },
  {
   "cell_type": "code",
   "execution_count": 8,
   "metadata": {},
   "outputs": [
    {
     "name": "stdout",
     "output_type": "stream",
     "text": [
      "[[1 2 1]\n",
      " [4 5 9]\n",
      " [1 8 9]]\n",
      "\n",
      "[1 2 3]\n",
      "\n",
      "[ 8 41 44]\n"
     ]
    }
   ],
   "source": [
    "# we can do matrix multiplication\n",
    "print(mat)\n",
    "print('')\n",
    "print(vec)\n",
    "print()\n",
    "product = np.matmul(mat,vec)\n",
    "print(product)"
   ]
  },
  {
   "cell_type": "code",
   "execution_count": 9,
   "metadata": {},
   "outputs": [
    {
     "name": "stdout",
     "output_type": "stream",
     "text": [
      "[1. 2. 3.]\n",
      "\n",
      "[[ 0.5         0.18518519 -0.24074074]\n",
      " [ 0.5        -0.14814815  0.09259259]\n",
      " [-0.5         0.11111111  0.05555556]]\n"
     ]
    }
   ],
   "source": [
    "print(np.linalg.solve(mat,product))\n",
    "print('')\n",
    "print(np.linalg.inv(mat))"
   ]
  },
  {
   "cell_type": "code",
   "execution_count": 10,
   "metadata": {},
   "outputs": [
    {
     "name": "stdout",
     "output_type": "stream",
     "text": [
      "['blue' 'red' 'orange' 'purple' 'purple' 'orange' 'Red' '6']\n",
      "['6' 'Red' 'blue' 'orange' 'purple' 'red']\n"
     ]
    }
   ],
   "source": [
    "# we can find the unique values in an array\n",
    "vec7 = np.array(['blue','red','orange','purple','purple','orange','Red',6])\n",
    "print(vec7)\n",
    "print(np.unique(vec7))"
   ]
  },
  {
   "cell_type": "code",
   "execution_count": 11,
   "metadata": {},
   "outputs": [
    {
     "name": "stdout",
     "output_type": "stream",
     "text": [
      "[[0.32447402 0.26746287 0.91928099 0.94119954 0.14405171]\n",
      " [0.81273374 0.035712   0.07938616 0.86506253 0.54046869]\n",
      " [0.87927304 0.42142436 0.79283622 0.9532429  0.20045152]\n",
      " [0.06003636 0.35657149 0.68520004 0.354693   0.6228462 ]\n",
      " [0.86356982 0.93291227 0.58153152 0.97158208 0.64533189]]\n",
      "\n",
      "[[-1.07563897  0.02653228 -0.59052776  0.04841667 -0.33414861]\n",
      " [-0.85851398  1.3837515   0.14038273 -1.63170825 -0.59115977]\n",
      " [ 0.11684272 -2.71386702 -1.25543038 -0.38509636  0.08980083]\n",
      " [-0.29568572 -0.19372552  0.76246622 -0.46357819  0.9791861 ]\n",
      " [-1.08704432  0.23959124  0.27408476 -0.72100157 -0.11188048]\n",
      " [-0.45945416  1.08968407  1.47709939  0.24873031 -0.36116437]\n",
      " [ 1.02412504  1.24983172  0.62766702  0.5672485   0.18208161]\n",
      " [-0.06862575  1.58130124 -0.07612869  1.1428646   0.41002787]\n",
      " [-2.36518588 -0.65453921  1.67655202  0.31548157  1.17698469]\n",
      " [-1.54690394  0.21752397  2.41634736 -0.82274897 -0.13316139]]\n"
     ]
    }
   ],
   "source": [
    "# we can also use numpy to generate samples of a random variable\n",
    "rand_mat = np.random.rand(5,5) # uniform random variable\n",
    "print(rand_mat)\n",
    "rand_mat2 = np.random.randn(10,5) # standard normal random variable\n",
    "print('')\n",
    "print(rand_mat2)"
   ]
  },
  {
   "cell_type": "code",
   "execution_count": 12,
   "metadata": {},
   "outputs": [
    {
     "name": "stdout",
     "output_type": "stream",
     "text": [
      "0.5700533978791268\n",
      "1.00540789174214\n"
     ]
    }
   ],
   "source": [
    "# we can also use numpy for statistical tools on arrays\n",
    "print(np.mean(rand_mat))\n",
    "print(np.std(rand_mat2))"
   ]
  },
  {
   "cell_type": "code",
   "execution_count": 13,
   "metadata": {},
   "outputs": [
    {
     "name": "stdout",
     "output_type": "stream",
     "text": [
      "0.03571199612206133\n",
      "2.416347356075406\n"
     ]
    }
   ],
   "source": [
    "print(np.min(rand_mat))\n",
    "print(np.max(rand_mat2))"
   ]
  },
  {
   "cell_type": "code",
   "execution_count": 14,
   "metadata": {},
   "outputs": [],
   "source": [
    "# break here for next video!"
   ]
  },
  {
   "cell_type": "code",
   "execution_count": 15,
   "metadata": {},
   "outputs": [
    {
     "name": "stdout",
     "output_type": "stream",
     "text": [
      "[ 2.0503825   1.88313082  0.5921827  -1.91231112 -0.68995034  0.84495187\n",
      "  0.00751625 -0.41188857 -1.9822049  -1.77835242 -0.97416954 -0.11803664\n",
      " -2.22393857 -1.34994227 -1.12575134 -1.08629608  0.56667266 -0.47885932\n",
      "  0.23257171]\n",
      "0.0075162534823425605\n"
     ]
    }
   ],
   "source": [
    "# how do we access entries in a numpy vector\n",
    "rand_vec = np.random.randn(19)\n",
    "print(rand_vec)\n",
    "print(rand_vec[6])"
   ]
  },
  {
   "cell_type": "code",
   "execution_count": 16,
   "metadata": {},
   "outputs": [
    {
     "name": "stdout",
     "output_type": "stream",
     "text": [
      "[-0.68995034  0.84495187  0.00751625 -0.41188857 -1.9822049 ]\n"
     ]
    }
   ],
   "source": [
    "# we can access multiple entries at once using :\n",
    "print(rand_vec[4:9])"
   ]
  },
  {
   "cell_type": "code",
   "execution_count": 17,
   "metadata": {},
   "outputs": [
    {
     "name": "stdout",
     "output_type": "stream",
     "text": [
      "[ 0  3  6  9 12]\n",
      "[ 2.0503825  -1.91231112  0.00751625 -1.77835242 -2.22393857]\n"
     ]
    }
   ],
   "source": [
    "# we can also access multiple non-consecutive entries using np.arange\n",
    "print(np.arange(0,15,3))\n",
    "print(rand_vec[np.arange(0,15,3)])"
   ]
  },
  {
   "cell_type": "code",
   "execution_count": 18,
   "metadata": {},
   "outputs": [
    {
     "name": "stdout",
     "output_type": "stream",
     "text": [
      "[[0.32447402 0.26746287 0.91928099 0.94119954 0.14405171]\n",
      " [0.81273374 0.035712   0.07938616 0.86506253 0.54046869]\n",
      " [0.87927304 0.42142436 0.79283622 0.9532429  0.20045152]\n",
      " [0.06003636 0.35657149 0.68520004 0.354693   0.6228462 ]\n",
      " [0.86356982 0.93291227 0.58153152 0.97158208 0.64533189]]\n",
      "0.07938615879343436\n",
      "0.07938615879343436\n"
     ]
    }
   ],
   "source": [
    "# what about matrices\n",
    "print(rand_mat)\n",
    "print(rand_mat[1][2])\n",
    "print(rand_mat[1,2])\n"
   ]
  },
  {
   "cell_type": "code",
   "execution_count": 19,
   "metadata": {},
   "outputs": [
    {
     "name": "stdout",
     "output_type": "stream",
     "text": [
      "[[0.26746287 0.91928099]\n",
      " [0.035712   0.07938616]]\n"
     ]
    }
   ],
   "source": [
    "print(rand_mat[0:2,1:3])"
   ]
  },
  {
   "cell_type": "code",
   "execution_count": 35,
   "metadata": {},
   "outputs": [
    {
     "name": "stdout",
     "output_type": "stream",
     "text": [
      "[-5.         -0.39787352 -5.         -5.         -5.         -5.\n",
      " -0.28725143  0.32987983 -5.         -5.          0.09651478 -0.30871552\n",
      " -5.         -0.52311961 -0.60150196]\n",
      "\n",
      "[-5.         -0.39787352 -5.          4.          4.         -5.\n",
      " -0.28725143  0.32987983 -5.         -5.          0.09651478 -0.30871552\n",
      " -5.         -0.52311961 -0.60150196]\n",
      "\n",
      "[-5.         -0.39787352 -5.          1.          2.         -5.\n",
      " -0.28725143  0.32987983 -5.         -5.          0.09651478 -0.30871552\n",
      " -5.         -0.52311961 -0.60150196]\n"
     ]
    },
    {
     "data": {
      "text/plain": [
       "39"
      ]
     },
     "execution_count": 35,
     "metadata": {},
     "output_type": "execute_result"
    }
   ],
   "source": [
    "# let's change some values in an array!\n",
    "print(rand_vec)\n",
    "rand_vec[3:5] = 4\n",
    "print('')\n",
    "print(rand_vec)\n",
    "rand_vec[3:5] = [1,2]\n",
    "print('')\n",
    "print(rand_vec)\n",
    "\n",
    "demo = np.array(([13, 35, 74, 48], [23, 37, 37, 38], [73, 39, 93, 39]))\n",
    "demo[2,3]"
   ]
  },
  {
   "cell_type": "code",
   "execution_count": 21,
   "metadata": {},
   "outputs": [
    {
     "name": "stdout",
     "output_type": "stream",
     "text": [
      "[[0.32447402 0.26746287 0.91928099 0.94119954 0.14405171]\n",
      " [0.81273374 0.035712   0.07938616 0.86506253 0.54046869]\n",
      " [0.87927304 0.42142436 0.79283622 0.9532429  0.20045152]\n",
      " [0.06003636 0.35657149 0.68520004 0.354693   0.6228462 ]\n",
      " [0.86356982 0.93291227 0.58153152 0.97158208 0.64533189]]\n",
      "\n",
      "[[0.32447402 0.26746287 0.91928099 0.94119954 0.14405171]\n",
      " [0.81273374 0.035712   0.07938616 0.         0.        ]\n",
      " [0.87927304 0.42142436 0.79283622 0.         0.        ]\n",
      " [0.06003636 0.35657149 0.68520004 0.354693   0.6228462 ]\n",
      " [0.86356982 0.93291227 0.58153152 0.97158208 0.64533189]]\n"
     ]
    }
   ],
   "source": [
    "print(rand_mat)\n",
    "rand_mat[1:3,3:5] = 0\n",
    "print('')\n",
    "print(rand_mat)"
   ]
  },
  {
   "cell_type": "code",
   "execution_count": 22,
   "metadata": {},
   "outputs": [
    {
     "name": "stdout",
     "output_type": "stream",
     "text": [
      "[[0.32447402 0.26746287 0.91928099]\n",
      " [0.81273374 0.035712   0.07938616]]\n",
      "[[3. 3. 3.]\n",
      " [3. 3. 3.]]\n"
     ]
    }
   ],
   "source": [
    "sub_mat = rand_mat[0:2,0:3]\n",
    "print(sub_mat)\n",
    "sub_mat[:] = 3\n",
    "print(sub_mat)\n"
   ]
  },
  {
   "cell_type": "code",
   "execution_count": 23,
   "metadata": {},
   "outputs": [
    {
     "name": "stdout",
     "output_type": "stream",
     "text": [
      "[[3.         3.         3.         0.94119954 0.14405171]\n",
      " [3.         3.         3.         0.         0.        ]\n",
      " [0.87927304 0.42142436 0.79283622 0.         0.        ]\n",
      " [0.06003636 0.35657149 0.68520004 0.354693   0.6228462 ]\n",
      " [0.86356982 0.93291227 0.58153152 0.97158208 0.64533189]]\n"
     ]
    }
   ],
   "source": [
    "print(rand_mat)"
   ]
  },
  {
   "cell_type": "code",
   "execution_count": 24,
   "metadata": {},
   "outputs": [
    {
     "name": "stdout",
     "output_type": "stream",
     "text": [
      "[[99. 99. 99.]\n",
      " [99. 99. 99.]]\n",
      "[[3.         3.         3.         0.94119954 0.14405171]\n",
      " [3.         3.         3.         0.         0.        ]\n",
      " [0.87927304 0.42142436 0.79283622 0.         0.        ]\n",
      " [0.06003636 0.35657149 0.68520004 0.354693   0.6228462 ]\n",
      " [0.86356982 0.93291227 0.58153152 0.97158208 0.64533189]]\n"
     ]
    }
   ],
   "source": [
    "sub_mat2 = rand_mat[0:2,0:3].copy()\n",
    "sub_mat2[:] = 99\n",
    "print(sub_mat2)\n",
    "print(rand_mat)\n"
   ]
  },
  {
   "cell_type": "code",
   "execution_count": 25,
   "metadata": {},
   "outputs": [],
   "source": [
    "# break here for next video"
   ]
  },
  {
   "cell_type": "code",
   "execution_count": 26,
   "metadata": {},
   "outputs": [
    {
     "name": "stdout",
     "output_type": "stream",
     "text": [
      "[ 1.67088082 -0.39787352  0.5073234   1.58311781  0.74353988  1.26254144\n",
      " -0.28725143  0.32987983  0.70417304  0.54662896  0.09651478 -0.30871552\n",
      "  1.97132773 -0.52311961 -0.60150196]\n",
      "[ True False  True  True  True  True False  True  True  True  True False\n",
      "  True False False]\n",
      "[1.67088082 0.5073234  1.58311781 0.74353988 1.26254144 0.32987983\n",
      " 0.70417304 0.54662896 0.09651478 1.97132773]\n"
     ]
    }
   ],
   "source": [
    "# we can also access entries with logicals\n",
    "rand_vec = np.random.randn(15)\n",
    "\n",
    "print(rand_vec)\n",
    "print(rand_vec>0)\n",
    "print(rand_vec[rand_vec>0])"
   ]
  },
  {
   "cell_type": "code",
   "execution_count": 27,
   "metadata": {},
   "outputs": [
    {
     "name": "stdout",
     "output_type": "stream",
     "text": [
      "[[-1.07563897  0.02653228 -0.59052776  0.04841667 -0.33414861]\n",
      " [-0.85851398  1.3837515   0.14038273 -1.63170825 -0.59115977]\n",
      " [ 0.11684272 -2.71386702 -1.25543038 -0.38509636  0.08980083]\n",
      " [-0.29568572 -0.19372552  0.76246622 -0.46357819  0.9791861 ]\n",
      " [-1.08704432  0.23959124  0.27408476 -0.72100157 -0.11188048]\n",
      " [-0.45945416  1.08968407  1.47709939  0.24873031 -0.36116437]\n",
      " [ 1.02412504  1.24983172  0.62766702  0.5672485   0.18208161]\n",
      " [-0.06862575  1.58130124 -0.07612869  1.1428646   0.41002787]\n",
      " [-2.36518588 -0.65453921  1.67655202  0.31548157  1.17698469]\n",
      " [-1.54690394  0.21752397  2.41634736 -0.82274897 -0.13316139]]\n",
      "[0.02653228 0.04841667 1.3837515  0.14038273 0.11684272 0.08980083\n",
      " 0.76246622 0.9791861  0.23959124 0.27408476 1.08968407 1.47709939\n",
      " 0.24873031 1.02412504 1.24983172 0.62766702 0.5672485  0.18208161\n",
      " 1.58130124 1.1428646  0.41002787 1.67655202 0.31548157 1.17698469\n",
      " 0.21752397 2.41634736]\n"
     ]
    }
   ],
   "source": [
    "print(rand_mat2)\n",
    "print(rand_mat2[rand_mat2>0])"
   ]
  },
  {
   "cell_type": "code",
   "execution_count": 28,
   "metadata": {},
   "outputs": [
    {
     "name": "stdout",
     "output_type": "stream",
     "text": [
      "[ 1.67088082 -0.39787352  0.5073234   1.58311781  0.74353988  1.26254144\n",
      " -0.28725143  0.32987983  0.70417304  0.54662896  0.09651478 -0.30871552\n",
      "  1.97132773 -0.52311961 -0.60150196]\n",
      "\n",
      "[-5.         -0.39787352 -5.         -5.         -5.         -5.\n",
      " -0.28725143  0.32987983 -5.         -5.          0.09651478 -0.30871552\n",
      " -5.         -0.52311961 -0.60150196]\n"
     ]
    }
   ],
   "source": [
    "\n",
    "print(rand_vec)\n",
    "print('')\n",
    "rand_vec[rand_vec>0.5] = -5\n",
    "print(rand_vec)"
   ]
  },
  {
   "cell_type": "code",
   "execution_count": 29,
   "metadata": {},
   "outputs": [],
   "source": [
    "# let's save some arrays on the disk for use later!\n",
    "np.save('saved_file_name',rand_mat2)\n"
   ]
  },
  {
   "cell_type": "code",
   "execution_count": 30,
   "metadata": {},
   "outputs": [],
   "source": [
    "np.savez('zipped_file_name',rand_mat=rand_mat,rand_mat2=rand_mat2)"
   ]
  },
  {
   "cell_type": "code",
   "execution_count": 31,
   "metadata": {},
   "outputs": [
    {
     "name": "stdout",
     "output_type": "stream",
     "text": [
      "[[-1.07563897  0.02653228 -0.59052776  0.04841667 -0.33414861]\n",
      " [-0.85851398  1.3837515   0.14038273 -1.63170825 -0.59115977]\n",
      " [ 0.11684272 -2.71386702 -1.25543038 -0.38509636  0.08980083]\n",
      " [-0.29568572 -0.19372552  0.76246622 -0.46357819  0.9791861 ]\n",
      " [-1.08704432  0.23959124  0.27408476 -0.72100157 -0.11188048]\n",
      " [-0.45945416  1.08968407  1.47709939  0.24873031 -0.36116437]\n",
      " [ 1.02412504  1.24983172  0.62766702  0.5672485   0.18208161]\n",
      " [-0.06862575  1.58130124 -0.07612869  1.1428646   0.41002787]\n",
      " [-2.36518588 -0.65453921  1.67655202  0.31548157  1.17698469]\n",
      " [-1.54690394  0.21752397  2.41634736 -0.82274897 -0.13316139]]\n",
      "\n",
      "<numpy.lib.npyio.NpzFile object at 0x7f0158033668>\n"
     ]
    }
   ],
   "source": [
    "# now let's load it\n",
    "loaded_vec = np.load('saved_file_name.npy')\n",
    "loaded_zip = np.load('zipped_file_name.npz')\n",
    "\n",
    "print(loaded_vec)\n",
    "print('')\n",
    "print(loaded_zip)"
   ]
  },
  {
   "cell_type": "code",
   "execution_count": 32,
   "metadata": {},
   "outputs": [
    {
     "name": "stdout",
     "output_type": "stream",
     "text": [
      "[[3.         3.         3.         0.94119954 0.14405171]\n",
      " [3.         3.         3.         0.         0.        ]\n",
      " [0.87927304 0.42142436 0.79283622 0.         0.        ]\n",
      " [0.06003636 0.35657149 0.68520004 0.354693   0.6228462 ]\n",
      " [0.86356982 0.93291227 0.58153152 0.97158208 0.64533189]]\n",
      "\n",
      "[[-1.07563897  0.02653228 -0.59052776  0.04841667 -0.33414861]\n",
      " [-0.85851398  1.3837515   0.14038273 -1.63170825 -0.59115977]\n",
      " [ 0.11684272 -2.71386702 -1.25543038 -0.38509636  0.08980083]\n",
      " [-0.29568572 -0.19372552  0.76246622 -0.46357819  0.9791861 ]\n",
      " [-1.08704432  0.23959124  0.27408476 -0.72100157 -0.11188048]\n",
      " [-0.45945416  1.08968407  1.47709939  0.24873031 -0.36116437]\n",
      " [ 1.02412504  1.24983172  0.62766702  0.5672485   0.18208161]\n",
      " [-0.06862575  1.58130124 -0.07612869  1.1428646   0.41002787]\n",
      " [-2.36518588 -0.65453921  1.67655202  0.31548157  1.17698469]\n",
      " [-1.54690394  0.21752397  2.41634736 -0.82274897 -0.13316139]]\n",
      "[[3.         3.         3.         0.94119954 0.14405171]\n",
      " [3.         3.         3.         0.         0.        ]\n",
      " [0.87927304 0.42142436 0.79283622 0.         0.        ]\n",
      " [0.06003636 0.35657149 0.68520004 0.354693   0.6228462 ]\n",
      " [0.86356982 0.93291227 0.58153152 0.97158208 0.64533189]]\n"
     ]
    }
   ],
   "source": [
    "print(loaded_zip['rand_mat'])\n",
    "print('')\n",
    "print(loaded_zip['rand_mat2'])\n",
    "\n",
    "new_array  = loaded_zip['rand_mat']\n",
    "print(new_array)"
   ]
  },
  {
   "cell_type": "code",
   "execution_count": 33,
   "metadata": {},
   "outputs": [
    {
     "name": "stdout",
     "output_type": "stream",
     "text": [
      "[[3.         3.         3.         0.94119954 0.14405171]\n",
      " [3.         3.         3.         0.         0.        ]\n",
      " [0.87927304 0.42142436 0.79283622 0.         0.        ]\n",
      " [0.06003636 0.35657149 0.68520004 0.354693   0.6228462 ]\n",
      " [0.86356982 0.93291227 0.58153152 0.97158208 0.64533189]]\n",
      "\n",
      "[[3.         3.         3.         0.94119954 0.14405171]\n",
      " [3.         3.         3.         0.         0.        ]\n",
      " [0.87927304 0.42142436 0.79283622 0.         0.        ]\n",
      " [0.06003636 0.35657149 0.68520004 0.354693   0.6228462 ]\n",
      " [0.86356982 0.93291227 0.58153152 0.97158208 0.64533189]]\n"
     ]
    }
   ],
   "source": [
    "# we can also save/load as text files...but only single variables\n",
    "np.savetxt('text_file_name.txt',rand_mat,delimiter=',')\n",
    "rand_mat_txt = np.loadtxt('text_file_name.txt',delimiter=',')\n",
    "print(rand_mat)\n",
    "print('')\n",
    "print(rand_mat_txt)"
   ]
  }
 ],
 "metadata": {
  "kernelspec": {
   "display_name": "Python 3",
   "language": "python",
   "name": "python3"
  },
  "language_info": {
   "codemirror_mode": {
    "name": "ipython",
    "version": 3
   },
   "file_extension": ".py",
   "mimetype": "text/x-python",
   "name": "python",
   "nbconvert_exporter": "python",
   "pygments_lexer": "ipython3",
   "version": "3.7.3"
  }
 },
 "nbformat": 4,
 "nbformat_minor": 2
}
