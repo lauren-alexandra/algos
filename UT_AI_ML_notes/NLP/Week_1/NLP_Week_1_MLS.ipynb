{
  "nbformat": 4,
  "nbformat_minor": 0,
  "metadata": {
    "colab": {
      "name": "NLP_Week_1_MLS.ipynb",
      "provenance": [],
      "collapsed_sections": [],
      "toc_visible": true
    },
    "kernelspec": {
      "display_name": "Python 3",
      "language": "python",
      "name": "python3"
    }
  },
  "cells": [
    {
      "cell_type": "markdown",
      "metadata": {
        "id": "ZeKZ7nX1_1uv"
      },
      "source": [
        "# Need for Pre-processing:\n",
        "\n",
        "- Inconsistent results from the NLP applications can be minimized if we use right kind of preprocessing on text.\n",
        "- One type of pre-processing may not be suitable for other, so it's task dependent.\n",
        "- Let’s say you are trying to discover commonly used words in a news dataset. If your pre-processing step involves removing stop words because some other task used it, then you are probably going to miss out on some of the common words as you have ALREADY eliminated it. So really, it’s not a one-size-fits-all approach.\n",
        "\n"
      ]
    },
    {
      "cell_type": "markdown",
      "metadata": {
        "id": "CcOcSW6UBYQC"
      },
      "source": [
        "# Dataset:\n",
        "\n",
        "- A data which contains what corporations actually talk about on social media. The dataset has statements classified as information (objective statements about the company or it's activities), dialog (replies to users, etc.), or action (messages that ask for votes or ask users to click on links, etc.).\n",
        "- Our interest is in the text column of dataset, so we can apply pre-processing on it."
      ]
    },
    {
      "cell_type": "markdown",
      "metadata": {
        "id": "QXW3I0lZEWvf"
      },
      "source": [
        "# Types of text preprocessing techniques\n",
        "\n",
        "- There are different ways to preprocess your text. Here are some of the approaches that you should know about and I will highlight the importance of each."
      ]
    },
    {
      "cell_type": "code",
      "metadata": {
        "colab": {
          "base_uri": "https://localhost:8080/"
        },
        "id": "TxY2eWSrJuBk",
        "outputId": "16954bda-4d0e-4dd1-828a-ab18257cdf9a"
      },
      "source": [
        "# Import necessary libraries.\n",
        "import re, string, unicodedata\n",
        "import pandas as pd\n",
        "import nltk           \n",
        "                        # Natural language processing tool-kit\n",
        "nltk.download('punkt')\n",
        "nltk.download('stopwords')\n",
        "nltk.download('wordnet')\n",
        "\n",
        "!pip install contractions\n",
        "import contractions\n",
        "\n",
        "\n",
        "from bs4 import BeautifulSoup                 # Beautiful soup is a parsing library that can use different parsers.\n",
        "from nltk import word_tokenize, sent_tokenize\n",
        "from nltk.corpus import stopwords, wordnet    # Stopwords, and wordnet corpus\n",
        "from nltk.stem import LancasterStemmer, WordNetLemmatizer"
      ],
      "execution_count": 2,
      "outputs": [
        {
          "output_type": "stream",
          "text": [
            "[nltk_data] Downloading package punkt to /root/nltk_data...\n",
            "[nltk_data]   Unzipping tokenizers/punkt.zip.\n",
            "[nltk_data] Downloading package stopwords to /root/nltk_data...\n",
            "[nltk_data]   Unzipping corpora/stopwords.zip.\n",
            "[nltk_data] Downloading package wordnet to /root/nltk_data...\n",
            "[nltk_data]   Unzipping corpora/wordnet.zip.\n",
            "Collecting contractions\n",
            "  Downloading https://files.pythonhosted.org/packages/0a/04/d5e0bb9f2cef5d15616ebf68087a725c5dbdd71bd422bcfb35d709f98ce7/contractions-0.0.48-py2.py3-none-any.whl\n",
            "Collecting textsearch>=0.0.21\n",
            "  Downloading https://files.pythonhosted.org/packages/d3/fe/021d7d76961b5ceb9f8d022c4138461d83beff36c3938dc424586085e559/textsearch-0.0.21-py2.py3-none-any.whl\n",
            "Collecting pyahocorasick\n",
            "\u001b[?25l  Downloading https://files.pythonhosted.org/packages/4a/92/b3c70b8cf2b76f7e3e8b7243d6f06f7cb3bab6ada237b1bce57604c5c519/pyahocorasick-1.4.1.tar.gz (321kB)\n",
            "\u001b[K     |████████████████████████████████| 327kB 4.2MB/s \n",
            "\u001b[?25hCollecting anyascii\n",
            "\u001b[?25l  Downloading https://files.pythonhosted.org/packages/09/c7/61370d9e3c349478e89a5554c1e5d9658e1e3116cc4f2528f568909ebdf1/anyascii-0.1.7-py3-none-any.whl (260kB)\n",
            "\u001b[K     |████████████████████████████████| 266kB 7.5MB/s \n",
            "\u001b[?25hBuilding wheels for collected packages: pyahocorasick\n",
            "  Building wheel for pyahocorasick (setup.py) ... \u001b[?25l\u001b[?25hdone\n",
            "  Created wheel for pyahocorasick: filename=pyahocorasick-1.4.1-cp36-cp36m-linux_x86_64.whl size=84344 sha256=64bd2f9deff7ef449b206c96c6b6b3a79c34e9dbc47f21ca4c316d0a57b94767\n",
            "  Stored in directory: /root/.cache/pip/wheels/e4/ab/f7/cb39270df8f6126f3dd4c33d302357167086db460968cfc80c\n",
            "Successfully built pyahocorasick\n",
            "Installing collected packages: pyahocorasick, anyascii, textsearch, contractions\n",
            "Successfully installed anyascii-0.1.7 contractions-0.0.48 pyahocorasick-1.4.1 textsearch-0.0.21\n"
          ],
          "name": "stdout"
        }
      ]
    },
    {
      "cell_type": "code",
      "metadata": {
        "id": "qJhEqCzyK8vS"
      },
      "source": [
        "# Load dataset.\n",
        "dataset = pd.read_csv('/corporate_messaging_dfe.csv')"
      ],
      "execution_count": 3,
      "outputs": []
    },
    {
      "cell_type": "code",
      "metadata": {
        "colab": {
          "base_uri": "https://localhost:8080/",
          "height": 566
        },
        "id": "jVErYTrcLMvj",
        "outputId": "271de0f7-8125-4345-e8e0-7c3486df6621"
      },
      "source": [
        "# Check first 5 rows of data.\n",
        "dataset.head()"
      ],
      "execution_count": 6,
      "outputs": [
        {
          "output_type": "execute_result",
          "data": {
            "text/html": [
              "<div>\n",
              "<style scoped>\n",
              "    .dataframe tbody tr th:only-of-type {\n",
              "        vertical-align: middle;\n",
              "    }\n",
              "\n",
              "    .dataframe tbody tr th {\n",
              "        vertical-align: top;\n",
              "    }\n",
              "\n",
              "    .dataframe thead th {\n",
              "        text-align: right;\n",
              "    }\n",
              "</style>\n",
              "<table border=\"1\" class=\"dataframe\">\n",
              "  <thead>\n",
              "    <tr style=\"text-align: right;\">\n",
              "      <th></th>\n",
              "      <th>unit_id</th>\n",
              "      <th>golden</th>\n",
              "      <th>unit_state</th>\n",
              "      <th>trusted_judgments</th>\n",
              "      <th>last_judgment_at</th>\n",
              "      <th>category</th>\n",
              "      <th>category_confidence</th>\n",
              "      <th>category_gold</th>\n",
              "      <th>id</th>\n",
              "      <th>screenname</th>\n",
              "      <th>text</th>\n",
              "    </tr>\n",
              "  </thead>\n",
              "  <tbody>\n",
              "    <tr>\n",
              "      <th>0</th>\n",
              "      <td>662822308</td>\n",
              "      <td>False</td>\n",
              "      <td>finalized</td>\n",
              "      <td>3</td>\n",
              "      <td>2015-02-18T04:31:00</td>\n",
              "      <td>Information</td>\n",
              "      <td>1.0</td>\n",
              "      <td>NaN</td>\n",
              "      <td>436528000000000000</td>\n",
              "      <td>Barclays</td>\n",
              "      <td>Barclays CEO stresses the importance of regula...</td>\n",
              "    </tr>\n",
              "    <tr>\n",
              "      <th>1</th>\n",
              "      <td>662822309</td>\n",
              "      <td>False</td>\n",
              "      <td>finalized</td>\n",
              "      <td>3</td>\n",
              "      <td>2015-02-18T13:55:00</td>\n",
              "      <td>Information</td>\n",
              "      <td>1.0</td>\n",
              "      <td>NaN</td>\n",
              "      <td>386013000000000000</td>\n",
              "      <td>Barclays</td>\n",
              "      <td>Barclays announces result of Rights Issue http...</td>\n",
              "    </tr>\n",
              "    <tr>\n",
              "      <th>2</th>\n",
              "      <td>662822310</td>\n",
              "      <td>False</td>\n",
              "      <td>finalized</td>\n",
              "      <td>3</td>\n",
              "      <td>2015-02-18T08:43:00</td>\n",
              "      <td>Information</td>\n",
              "      <td>1.0</td>\n",
              "      <td>NaN</td>\n",
              "      <td>379580000000000000</td>\n",
              "      <td>Barclays</td>\n",
              "      <td>Barclays publishes its prospectus for its �5.8...</td>\n",
              "    </tr>\n",
              "    <tr>\n",
              "      <th>3</th>\n",
              "      <td>662822311</td>\n",
              "      <td>False</td>\n",
              "      <td>finalized</td>\n",
              "      <td>3</td>\n",
              "      <td>2015-02-18T09:13:00</td>\n",
              "      <td>Information</td>\n",
              "      <td>1.0</td>\n",
              "      <td>NaN</td>\n",
              "      <td>367530000000000000</td>\n",
              "      <td>Barclays</td>\n",
              "      <td>Barclays Group Finance Director Chris Lucas is...</td>\n",
              "    </tr>\n",
              "    <tr>\n",
              "      <th>4</th>\n",
              "      <td>662822312</td>\n",
              "      <td>False</td>\n",
              "      <td>finalized</td>\n",
              "      <td>3</td>\n",
              "      <td>2015-02-18T06:48:00</td>\n",
              "      <td>Information</td>\n",
              "      <td>1.0</td>\n",
              "      <td>NaN</td>\n",
              "      <td>360385000000000000</td>\n",
              "      <td>Barclays</td>\n",
              "      <td>Barclays announces that Irene McDermott Brown ...</td>\n",
              "    </tr>\n",
              "  </tbody>\n",
              "</table>\n",
              "</div>"
            ],
            "text/plain": [
              "     unit_id  ...                                               text\n",
              "0  662822308  ...  Barclays CEO stresses the importance of regula...\n",
              "1  662822309  ...  Barclays announces result of Rights Issue http...\n",
              "2  662822310  ...  Barclays publishes its prospectus for its �5.8...\n",
              "3  662822311  ...  Barclays Group Finance Director Chris Lucas is...\n",
              "4  662822312  ...  Barclays announces that Irene McDermott Brown ...\n",
              "\n",
              "[5 rows x 11 columns]"
            ]
          },
          "metadata": {
            "tags": []
          },
          "execution_count": 6
        }
      ]
    },
    {
      "cell_type": "code",
      "metadata": {
        "id": "NjKyaKs8LOLE"
      },
      "source": [
        "# Here we are going to deal with text data, so we seperate out the text column in a new dataframe: data\n",
        "data = dataset.drop(['golden', 'unit_state', 'trusted_judgments', 'last_judgment_at', 'category', 'category_confidence', 'category_gold', 'screenname'], axis=1)"
      ],
      "execution_count": 24,
      "outputs": []
    },
    {
      "cell_type": "code",
      "metadata": {
        "colab": {
          "base_uri": "https://localhost:8080/",
          "height": 202
        },
        "id": "LnfR_ovoLYt6",
        "outputId": "8ff5d49d-0cbd-417e-e84c-9d8dd9152bc0"
      },
      "source": [
        "# Check first 5 rows of dataframe.\n",
        "data.head()"
      ],
      "execution_count": 8,
      "outputs": [
        {
          "output_type": "execute_result",
          "data": {
            "text/html": [
              "<div>\n",
              "<style scoped>\n",
              "    .dataframe tbody tr th:only-of-type {\n",
              "        vertical-align: middle;\n",
              "    }\n",
              "\n",
              "    .dataframe tbody tr th {\n",
              "        vertical-align: top;\n",
              "    }\n",
              "\n",
              "    .dataframe thead th {\n",
              "        text-align: right;\n",
              "    }\n",
              "</style>\n",
              "<table border=\"1\" class=\"dataframe\">\n",
              "  <thead>\n",
              "    <tr style=\"text-align: right;\">\n",
              "      <th></th>\n",
              "      <th>unit_id</th>\n",
              "      <th>id</th>\n",
              "      <th>text</th>\n",
              "    </tr>\n",
              "  </thead>\n",
              "  <tbody>\n",
              "    <tr>\n",
              "      <th>0</th>\n",
              "      <td>662822308</td>\n",
              "      <td>436528000000000000</td>\n",
              "      <td>Barclays CEO stresses the importance of regula...</td>\n",
              "    </tr>\n",
              "    <tr>\n",
              "      <th>1</th>\n",
              "      <td>662822309</td>\n",
              "      <td>386013000000000000</td>\n",
              "      <td>Barclays announces result of Rights Issue http...</td>\n",
              "    </tr>\n",
              "    <tr>\n",
              "      <th>2</th>\n",
              "      <td>662822310</td>\n",
              "      <td>379580000000000000</td>\n",
              "      <td>Barclays publishes its prospectus for its �5.8...</td>\n",
              "    </tr>\n",
              "    <tr>\n",
              "      <th>3</th>\n",
              "      <td>662822311</td>\n",
              "      <td>367530000000000000</td>\n",
              "      <td>Barclays Group Finance Director Chris Lucas is...</td>\n",
              "    </tr>\n",
              "    <tr>\n",
              "      <th>4</th>\n",
              "      <td>662822312</td>\n",
              "      <td>360385000000000000</td>\n",
              "      <td>Barclays announces that Irene McDermott Brown ...</td>\n",
              "    </tr>\n",
              "  </tbody>\n",
              "</table>\n",
              "</div>"
            ],
            "text/plain": [
              "     unit_id  ...                                               text\n",
              "0  662822308  ...  Barclays CEO stresses the importance of regula...\n",
              "1  662822309  ...  Barclays announces result of Rights Issue http...\n",
              "2  662822310  ...  Barclays publishes its prospectus for its �5.8...\n",
              "3  662822311  ...  Barclays Group Finance Director Chris Lucas is...\n",
              "4  662822312  ...  Barclays announces that Irene McDermott Brown ...\n",
              "\n",
              "[5 rows x 3 columns]"
            ]
          },
          "metadata": {
            "tags": []
          },
          "execution_count": 8
        }
      ]
    },
    {
      "cell_type": "code",
      "metadata": {
        "colab": {
          "base_uri": "https://localhost:8080/",
          "height": 79
        },
        "id": "T2y92bo0LaCw",
        "outputId": "3c33592e-3e60-4304-8e50-f771f4971eab"
      },
      "source": [
        "# First row of data.\n",
        "pd.set_option('display.max_colwidth', None) # It will enable the entire row visible with truncation of the text. (We can see full text.)\n",
        "data.loc[[0]]"
      ],
      "execution_count": 9,
      "outputs": [
        {
          "output_type": "execute_result",
          "data": {
            "text/html": [
              "<div>\n",
              "<style scoped>\n",
              "    .dataframe tbody tr th:only-of-type {\n",
              "        vertical-align: middle;\n",
              "    }\n",
              "\n",
              "    .dataframe tbody tr th {\n",
              "        vertical-align: top;\n",
              "    }\n",
              "\n",
              "    .dataframe thead th {\n",
              "        text-align: right;\n",
              "    }\n",
              "</style>\n",
              "<table border=\"1\" class=\"dataframe\">\n",
              "  <thead>\n",
              "    <tr style=\"text-align: right;\">\n",
              "      <th></th>\n",
              "      <th>unit_id</th>\n",
              "      <th>id</th>\n",
              "      <th>text</th>\n",
              "    </tr>\n",
              "  </thead>\n",
              "  <tbody>\n",
              "    <tr>\n",
              "      <th>0</th>\n",
              "      <td>662822308</td>\n",
              "      <td>436528000000000000</td>\n",
              "      <td>Barclays CEO stresses the importance of regulatory and cultural reform in financial services at Brussels conference  http://t.co/Ge9Lp7hpyG</td>\n",
              "    </tr>\n",
              "  </tbody>\n",
              "</table>\n",
              "</div>"
            ],
            "text/plain": [
              "     unit_id  ...                                                                                                                                         text\n",
              "0  662822308  ...  Barclays CEO stresses the importance of regulatory and cultural reform in financial services at Brussels conference  http://t.co/Ge9Lp7hpyG\n",
              "\n",
              "[1 rows x 3 columns]"
            ]
          },
          "metadata": {
            "tags": []
          },
          "execution_count": 9
        }
      ]
    },
    {
      "cell_type": "code",
      "metadata": {
        "colab": {
          "base_uri": "https://localhost:8080/",
          "height": 202
        },
        "id": "QBJvqaRULdH8",
        "outputId": "523e3805-4617-48a4-caf1-78f702160093"
      },
      "source": [
        "# Removal of the http link using Regular Expression.\n",
        "for i, row in data.iterrows():\n",
        "    clean_text = re.sub(r\"http\\S+\", \"\", data.at[i, 'text'])\n",
        "    data.at[i,'text'] = clean_text\n",
        "data.head()"
      ],
      "execution_count": 10,
      "outputs": [
        {
          "output_type": "execute_result",
          "data": {
            "text/html": [
              "<div>\n",
              "<style scoped>\n",
              "    .dataframe tbody tr th:only-of-type {\n",
              "        vertical-align: middle;\n",
              "    }\n",
              "\n",
              "    .dataframe tbody tr th {\n",
              "        vertical-align: top;\n",
              "    }\n",
              "\n",
              "    .dataframe thead th {\n",
              "        text-align: right;\n",
              "    }\n",
              "</style>\n",
              "<table border=\"1\" class=\"dataframe\">\n",
              "  <thead>\n",
              "    <tr style=\"text-align: right;\">\n",
              "      <th></th>\n",
              "      <th>unit_id</th>\n",
              "      <th>id</th>\n",
              "      <th>text</th>\n",
              "    </tr>\n",
              "  </thead>\n",
              "  <tbody>\n",
              "    <tr>\n",
              "      <th>0</th>\n",
              "      <td>662822308</td>\n",
              "      <td>436528000000000000</td>\n",
              "      <td>Barclays CEO stresses the importance of regulatory and cultural reform in financial services at Brussels conference</td>\n",
              "    </tr>\n",
              "    <tr>\n",
              "      <th>1</th>\n",
              "      <td>662822309</td>\n",
              "      <td>386013000000000000</td>\n",
              "      <td>Barclays announces result of Rights Issue</td>\n",
              "    </tr>\n",
              "    <tr>\n",
              "      <th>2</th>\n",
              "      <td>662822310</td>\n",
              "      <td>379580000000000000</td>\n",
              "      <td>Barclays publishes its prospectus for its �5.8bn Rights Issue:</td>\n",
              "    </tr>\n",
              "    <tr>\n",
              "      <th>3</th>\n",
              "      <td>662822311</td>\n",
              "      <td>367530000000000000</td>\n",
              "      <td>Barclays Group Finance Director Chris Lucas is to step down at the end of the week due to ill health</td>\n",
              "    </tr>\n",
              "    <tr>\n",
              "      <th>4</th>\n",
              "      <td>662822312</td>\n",
              "      <td>360385000000000000</td>\n",
              "      <td>Barclays announces that Irene McDermott Brown has been appointed as Group Human Resources Director</td>\n",
              "    </tr>\n",
              "  </tbody>\n",
              "</table>\n",
              "</div>"
            ],
            "text/plain": [
              "     unit_id  ...                                                                                                                   text\n",
              "0  662822308  ...  Barclays CEO stresses the importance of regulatory and cultural reform in financial services at Brussels conference  \n",
              "1  662822309  ...                                                                             Barclays announces result of Rights Issue \n",
              "2  662822310  ...                                                        Barclays publishes its prospectus for its �5.8bn Rights Issue: \n",
              "3  662822311  ...                  Barclays Group Finance Director Chris Lucas is to step down at the end of the week due to ill health \n",
              "4  662822312  ...                    Barclays announces that Irene McDermott Brown has been appointed as Group Human Resources Director \n",
              "\n",
              "[5 rows x 3 columns]"
            ]
          },
          "metadata": {
            "tags": []
          },
          "execution_count": 10
        }
      ]
    },
    {
      "cell_type": "markdown",
      "metadata": {
        "id": "2GPEvpYhKWaX"
      },
      "source": [
        "# cleaning of the text."
      ]
    },
    {
      "cell_type": "code",
      "metadata": {
        "colab": {
          "base_uri": "https://localhost:8080/",
          "height": 202
        },
        "id": "PippNlR7iOFX",
        "outputId": "862d09b8-fc6a-4355-c525-33beeb9dfccb"
      },
      "source": [
        "def replace_contractions(text):\n",
        "    \"\"\"Replace contractions in string of text\"\"\"\n",
        "    return contractions.fix(text)\n",
        "\n",
        "# Perform the above operation over all the rows of text column of the dataframe.\n",
        "for i, row in data.iterrows():\n",
        "    text = data.at[i, 'text']\n",
        "    clean_text = replace_contractions(text)\n",
        "    data.at[i,'text'] = clean_text\n",
        "data.head()"
      ],
      "execution_count": 11,
      "outputs": [
        {
          "output_type": "execute_result",
          "data": {
            "text/html": [
              "<div>\n",
              "<style scoped>\n",
              "    .dataframe tbody tr th:only-of-type {\n",
              "        vertical-align: middle;\n",
              "    }\n",
              "\n",
              "    .dataframe tbody tr th {\n",
              "        vertical-align: top;\n",
              "    }\n",
              "\n",
              "    .dataframe thead th {\n",
              "        text-align: right;\n",
              "    }\n",
              "</style>\n",
              "<table border=\"1\" class=\"dataframe\">\n",
              "  <thead>\n",
              "    <tr style=\"text-align: right;\">\n",
              "      <th></th>\n",
              "      <th>unit_id</th>\n",
              "      <th>id</th>\n",
              "      <th>text</th>\n",
              "    </tr>\n",
              "  </thead>\n",
              "  <tbody>\n",
              "    <tr>\n",
              "      <th>0</th>\n",
              "      <td>662822308</td>\n",
              "      <td>436528000000000000</td>\n",
              "      <td>Barclays CEO stresses the importance of regulatory and cultural reform in financial services at Brussels conference</td>\n",
              "    </tr>\n",
              "    <tr>\n",
              "      <th>1</th>\n",
              "      <td>662822309</td>\n",
              "      <td>386013000000000000</td>\n",
              "      <td>Barclays announces result of Rights Issue</td>\n",
              "    </tr>\n",
              "    <tr>\n",
              "      <th>2</th>\n",
              "      <td>662822310</td>\n",
              "      <td>379580000000000000</td>\n",
              "      <td>Barclays publishes its prospectus for its �5.8bn Rights Issue:</td>\n",
              "    </tr>\n",
              "    <tr>\n",
              "      <th>3</th>\n",
              "      <td>662822311</td>\n",
              "      <td>367530000000000000</td>\n",
              "      <td>Barclays Group Finance Director Chris Lucas is to step down at the end of the week due to ill health</td>\n",
              "    </tr>\n",
              "    <tr>\n",
              "      <th>4</th>\n",
              "      <td>662822312</td>\n",
              "      <td>360385000000000000</td>\n",
              "      <td>Barclays announces that Irene McDermott Brown has been appointed as Group Human Resources Director</td>\n",
              "    </tr>\n",
              "  </tbody>\n",
              "</table>\n",
              "</div>"
            ],
            "text/plain": [
              "     unit_id  ...                                                                                                                   text\n",
              "0  662822308  ...  Barclays CEO stresses the importance of regulatory and cultural reform in financial services at Brussels conference  \n",
              "1  662822309  ...                                                                             Barclays announces result of Rights Issue \n",
              "2  662822310  ...                                                        Barclays publishes its prospectus for its �5.8bn Rights Issue: \n",
              "3  662822311  ...                  Barclays Group Finance Director Chris Lucas is to step down at the end of the week due to ill health \n",
              "4  662822312  ...                    Barclays announces that Irene McDermott Brown has been appointed as Group Human Resources Director \n",
              "\n",
              "[5 rows x 3 columns]"
            ]
          },
          "metadata": {
            "tags": []
          },
          "execution_count": 11
        }
      ]
    },
    {
      "cell_type": "code",
      "metadata": {
        "colab": {
          "base_uri": "https://localhost:8080/",
          "height": 202
        },
        "id": "sJ-XiOgNiuF8",
        "outputId": "2d0160a5-aca5-45bd-9032-a71298f1519e"
      },
      "source": [
        "# Tokenize the words of whole dataframe.\n",
        "for i, row in data.iterrows():\n",
        "    text = data.at[i, 'text']\n",
        "    words = nltk.word_tokenize(text)\n",
        "    data.at[i,'text'] = words\n",
        "data.head()"
      ],
      "execution_count": 12,
      "outputs": [
        {
          "output_type": "execute_result",
          "data": {
            "text/html": [
              "<div>\n",
              "<style scoped>\n",
              "    .dataframe tbody tr th:only-of-type {\n",
              "        vertical-align: middle;\n",
              "    }\n",
              "\n",
              "    .dataframe tbody tr th {\n",
              "        vertical-align: top;\n",
              "    }\n",
              "\n",
              "    .dataframe thead th {\n",
              "        text-align: right;\n",
              "    }\n",
              "</style>\n",
              "<table border=\"1\" class=\"dataframe\">\n",
              "  <thead>\n",
              "    <tr style=\"text-align: right;\">\n",
              "      <th></th>\n",
              "      <th>unit_id</th>\n",
              "      <th>id</th>\n",
              "      <th>text</th>\n",
              "    </tr>\n",
              "  </thead>\n",
              "  <tbody>\n",
              "    <tr>\n",
              "      <th>0</th>\n",
              "      <td>662822308</td>\n",
              "      <td>436528000000000000</td>\n",
              "      <td>[Barclays, CEO, stresses, the, importance, of, regulatory, and, cultural, reform, in, financial, services, at, Brussels, conference]</td>\n",
              "    </tr>\n",
              "    <tr>\n",
              "      <th>1</th>\n",
              "      <td>662822309</td>\n",
              "      <td>386013000000000000</td>\n",
              "      <td>[Barclays, announces, result, of, Rights, Issue]</td>\n",
              "    </tr>\n",
              "    <tr>\n",
              "      <th>2</th>\n",
              "      <td>662822310</td>\n",
              "      <td>379580000000000000</td>\n",
              "      <td>[Barclays, publishes, its, prospectus, for, its, �5.8bn, Rights, Issue, :]</td>\n",
              "    </tr>\n",
              "    <tr>\n",
              "      <th>3</th>\n",
              "      <td>662822311</td>\n",
              "      <td>367530000000000000</td>\n",
              "      <td>[Barclays, Group, Finance, Director, Chris, Lucas, is, to, step, down, at, the, end, of, the, week, due, to, ill, health]</td>\n",
              "    </tr>\n",
              "    <tr>\n",
              "      <th>4</th>\n",
              "      <td>662822312</td>\n",
              "      <td>360385000000000000</td>\n",
              "      <td>[Barclays, announces, that, Irene, McDermott, Brown, has, been, appointed, as, Group, Human, Resources, Director]</td>\n",
              "    </tr>\n",
              "  </tbody>\n",
              "</table>\n",
              "</div>"
            ],
            "text/plain": [
              "     unit_id  ...                                                                                                                                  text\n",
              "0  662822308  ...  [Barclays, CEO, stresses, the, importance, of, regulatory, and, cultural, reform, in, financial, services, at, Brussels, conference]\n",
              "1  662822309  ...                                                                                      [Barclays, announces, result, of, Rights, Issue]\n",
              "2  662822310  ...                                                            [Barclays, publishes, its, prospectus, for, its, �5.8bn, Rights, Issue, :]\n",
              "3  662822311  ...             [Barclays, Group, Finance, Director, Chris, Lucas, is, to, step, down, at, the, end, of, the, week, due, to, ill, health]\n",
              "4  662822312  ...                     [Barclays, announces, that, Irene, McDermott, Brown, has, been, appointed, as, Group, Human, Resources, Director]\n",
              "\n",
              "[5 rows x 3 columns]"
            ]
          },
          "metadata": {
            "tags": []
          },
          "execution_count": 12
        }
      ]
    },
    {
      "cell_type": "code",
      "metadata": {
        "colab": {
          "base_uri": "https://localhost:8080/"
        },
        "id": "hWXXgYX3o2UV",
        "outputId": "09eddf8b-08cd-448d-fee8-2fda2b6b7762"
      },
      "source": [
        "# save the stopwords in a list named stopwords.\n",
        "stopwords = stopwords.words('english')\n",
        "stopwords"
      ],
      "execution_count": 13,
      "outputs": [
        {
          "output_type": "execute_result",
          "data": {
            "text/plain": [
              "['i',\n",
              " 'me',\n",
              " 'my',\n",
              " 'myself',\n",
              " 'we',\n",
              " 'our',\n",
              " 'ours',\n",
              " 'ourselves',\n",
              " 'you',\n",
              " \"you're\",\n",
              " \"you've\",\n",
              " \"you'll\",\n",
              " \"you'd\",\n",
              " 'your',\n",
              " 'yours',\n",
              " 'yourself',\n",
              " 'yourselves',\n",
              " 'he',\n",
              " 'him',\n",
              " 'his',\n",
              " 'himself',\n",
              " 'she',\n",
              " \"she's\",\n",
              " 'her',\n",
              " 'hers',\n",
              " 'herself',\n",
              " 'it',\n",
              " \"it's\",\n",
              " 'its',\n",
              " 'itself',\n",
              " 'they',\n",
              " 'them',\n",
              " 'their',\n",
              " 'theirs',\n",
              " 'themselves',\n",
              " 'what',\n",
              " 'which',\n",
              " 'who',\n",
              " 'whom',\n",
              " 'this',\n",
              " 'that',\n",
              " \"that'll\",\n",
              " 'these',\n",
              " 'those',\n",
              " 'am',\n",
              " 'is',\n",
              " 'are',\n",
              " 'was',\n",
              " 'were',\n",
              " 'be',\n",
              " 'been',\n",
              " 'being',\n",
              " 'have',\n",
              " 'has',\n",
              " 'had',\n",
              " 'having',\n",
              " 'do',\n",
              " 'does',\n",
              " 'did',\n",
              " 'doing',\n",
              " 'a',\n",
              " 'an',\n",
              " 'the',\n",
              " 'and',\n",
              " 'but',\n",
              " 'if',\n",
              " 'or',\n",
              " 'because',\n",
              " 'as',\n",
              " 'until',\n",
              " 'while',\n",
              " 'of',\n",
              " 'at',\n",
              " 'by',\n",
              " 'for',\n",
              " 'with',\n",
              " 'about',\n",
              " 'against',\n",
              " 'between',\n",
              " 'into',\n",
              " 'through',\n",
              " 'during',\n",
              " 'before',\n",
              " 'after',\n",
              " 'above',\n",
              " 'below',\n",
              " 'to',\n",
              " 'from',\n",
              " 'up',\n",
              " 'down',\n",
              " 'in',\n",
              " 'out',\n",
              " 'on',\n",
              " 'off',\n",
              " 'over',\n",
              " 'under',\n",
              " 'again',\n",
              " 'further',\n",
              " 'then',\n",
              " 'once',\n",
              " 'here',\n",
              " 'there',\n",
              " 'when',\n",
              " 'where',\n",
              " 'why',\n",
              " 'how',\n",
              " 'all',\n",
              " 'any',\n",
              " 'both',\n",
              " 'each',\n",
              " 'few',\n",
              " 'more',\n",
              " 'most',\n",
              " 'other',\n",
              " 'some',\n",
              " 'such',\n",
              " 'no',\n",
              " 'nor',\n",
              " 'not',\n",
              " 'only',\n",
              " 'own',\n",
              " 'same',\n",
              " 'so',\n",
              " 'than',\n",
              " 'too',\n",
              " 'very',\n",
              " 's',\n",
              " 't',\n",
              " 'can',\n",
              " 'will',\n",
              " 'just',\n",
              " 'don',\n",
              " \"don't\",\n",
              " 'should',\n",
              " \"should've\",\n",
              " 'now',\n",
              " 'd',\n",
              " 'll',\n",
              " 'm',\n",
              " 'o',\n",
              " 're',\n",
              " 've',\n",
              " 'y',\n",
              " 'ain',\n",
              " 'aren',\n",
              " \"aren't\",\n",
              " 'couldn',\n",
              " \"couldn't\",\n",
              " 'didn',\n",
              " \"didn't\",\n",
              " 'doesn',\n",
              " \"doesn't\",\n",
              " 'hadn',\n",
              " \"hadn't\",\n",
              " 'hasn',\n",
              " \"hasn't\",\n",
              " 'haven',\n",
              " \"haven't\",\n",
              " 'isn',\n",
              " \"isn't\",\n",
              " 'ma',\n",
              " 'mightn',\n",
              " \"mightn't\",\n",
              " 'mustn',\n",
              " \"mustn't\",\n",
              " 'needn',\n",
              " \"needn't\",\n",
              " 'shan',\n",
              " \"shan't\",\n",
              " 'shouldn',\n",
              " \"shouldn't\",\n",
              " 'wasn',\n",
              " \"wasn't\",\n",
              " 'weren',\n",
              " \"weren't\",\n",
              " 'won',\n",
              " \"won't\",\n",
              " 'wouldn',\n",
              " \"wouldn't\"]"
            ]
          },
          "metadata": {
            "tags": []
          },
          "execution_count": 13
        }
      ]
    },
    {
      "cell_type": "code",
      "metadata": {
        "id": "2jADm-rqi235"
      },
      "source": [
        "def remove_non_ascii(words):\n",
        "    \"\"\"Remove non-ASCII characters from list of tokenized words\"\"\"\n",
        "    new_words = []                        # Create empty list to store pre-processed words.\n",
        "    for word in words:\n",
        "        new_word = unicodedata.normalize('NFKD', word).encode('ascii', 'ignore').decode('utf-8', 'ignore')\n",
        "        new_words.append(new_word)        # Append processed words to new list.\n",
        "    return new_words"
      ],
      "execution_count": 14,
      "outputs": []
    },
    {
      "cell_type": "code",
      "metadata": {
        "id": "CK2HqOZAwxDD"
      },
      "source": [
        "def to_lowercase(words):\n",
        "    \"\"\"Convert all characters to lowercase from list of tokenized words\"\"\"\n",
        "    new_words = []                        # Create empty list to store pre-processed words.\n",
        "    for word in words:\n",
        "        new_word = word.lower()           # Converting to lowercase\n",
        "        new_words.append(new_word)        # Append processed words to new list.\n",
        "    return new_words"
      ],
      "execution_count": 15,
      "outputs": []
    },
    {
      "cell_type": "markdown",
      "metadata": {
        "id": "jYbZ1Sm0Evan"
      },
      "source": [
        "# Lowercasing\n",
        "\n",
        "- Lowercasing ALL your text data, although commonly overlooked, is one of the simplest and most effective form of text preprocessing. It is applicable to most text mining and NLP problems and can help in cases where your dataset is not very large and significantly helps with consistency of expected output.\n",
        "\n",
        "- An example where lowercasing is very useful is for search. Imagine, you are looking for documents containing “usa”. However, no results were showing up because “usa” was indexed as “USA”.\n",
        "\n",
        "- An example where lowercasing may result in inaccuracy is in predicting the programming language of a source code file. The word System in Java is quite different from system in python. Lowercasing the two makes them identical, causing the classifier to lose important predictive features. While lowercasing is generally helpful, it may not be applicable for all tasks."
      ]
    },
    {
      "cell_type": "code",
      "metadata": {
        "id": "4o0ZS7wkwzco"
      },
      "source": [
        "def remove_punctuation(words):\n",
        "    \"\"\"Remove punctuation from list of tokenized words\"\"\"\n",
        "    new_words = []                        # Create empty list to store pre-processed words.\n",
        "    for word in words:\n",
        "        new_word = re.sub(r'[^\\w\\s]', '', word)\n",
        "        if new_word != '':\n",
        "            new_words.append(new_word)    # Append processed words to new list.\n",
        "    return new_words"
      ],
      "execution_count": 16,
      "outputs": []
    },
    {
      "cell_type": "markdown",
      "metadata": {
        "id": "zWTMQyJjGGqx"
      },
      "source": [
        "# Stopword Removal:\n",
        "- Stop words are a set of commonly used words in a language.\n",
        "- Examples of stop words in English are “a”, “the”, “is”, “are” and etc. The intuition behind using stop words is that, by removing low information words from text, we can focus on the important words instead."
      ]
    },
    {
      "cell_type": "code",
      "metadata": {
        "id": "Dye7U-Jkw03S"
      },
      "source": [
        "def remove_stopwords(words):\n",
        "    \"\"\"Remove stop words from list of tokenized words\"\"\"\n",
        "    new_words = []                        # Create empty list to store pre-processed words.\n",
        "    for word in words:\n",
        "        if word not in stopwords:\n",
        "            new_words.append(word)        # Append processed words to new list.\n",
        "    return new_words"
      ],
      "execution_count": 17,
      "outputs": []
    },
    {
      "cell_type": "markdown",
      "metadata": {
        "id": "eVhXK6e-Fi09"
      },
      "source": [
        "# Stemming:\n",
        "\n",
        "- Stemming is the process of reducing inflection in words (e.g. running, runs) to their root form (e.g. run). The “root” in this case may not be a real root word, but just a canonical form of the original word."
      ]
    },
    {
      "cell_type": "code",
      "metadata": {
        "id": "Jo2eo1l-w2FL"
      },
      "source": [
        "def stem_words(words):\n",
        "    \"\"\"Stem words in list of tokenized words\"\"\"\n",
        "    stemmer = LancasterStemmer()\n",
        "    stems = []                            # Create empty list to store pre-processed words.\n",
        "    for word in words:\n",
        "        stem = stemmer.stem(word)\n",
        "        stems.append(stem)                # Append processed words to new list.\n",
        "    return stems"
      ],
      "execution_count": 18,
      "outputs": []
    },
    {
      "cell_type": "markdown",
      "metadata": {
        "id": "IeOWBIH2F5ux"
      },
      "source": [
        "# Lemmatization:\n",
        "\n",
        "- Lemmatization on the surface is very similar to stemming, where the goal is to remove inflections and map a word to its root form.\n",
        "- The only difference is that, lemmatization tries to do it the proper way.\n",
        "- It doesn’t just chop things off, it actually transforms words to the actual root. For example, the word “better” would map to “good”."
      ]
    },
    {
      "cell_type": "code",
      "metadata": {
        "id": "pvRgUqZEw3Wm"
      },
      "source": [
        "def lemmatize_verbs(words):\n",
        "    \"\"\"Lemmatize verbs in list of tokenized words\"\"\"\n",
        "    lemmatizer = WordNetLemmatizer()\n",
        "    lemmas = []                           # Create empty list to store pre-processed words.\n",
        "    for word in words:\n",
        "        lemma = lemmatizer.lemmatize(word, pos='v')\n",
        "        lemmas.append(lemma)              # Append processed words to new list.\n",
        "    return lemmas"
      ],
      "execution_count": 19,
      "outputs": []
    },
    {
      "cell_type": "markdown",
      "metadata": {
        "id": "mL42FuFXG147"
      },
      "source": [
        "### Now it's time to execute the above functions:\n",
        "\n",
        "### So we define a new function normalize, which processes all the steps together."
      ]
    },
    {
      "cell_type": "code",
      "metadata": {
        "id": "zDryKOgRw5M3"
      },
      "source": [
        "def normalize(words):\n",
        "    words = remove_non_ascii(words)\n",
        "    words = to_lowercase(words)\n",
        "    words = remove_punctuation(words)\n",
        "    words = remove_stopwords(words)\n",
        "    return words"
      ],
      "execution_count": 20,
      "outputs": []
    },
    {
      "cell_type": "code",
      "metadata": {
        "colab": {
          "base_uri": "https://localhost:8080/",
          "height": 202
        },
        "id": "xjKQDlj6w-Dp",
        "outputId": "7820fea1-41f1-4e15-adc4-56b232227d2f"
      },
      "source": [
        "# Iterate the normalize funtion over whole data.\n",
        "for i, row in data.iterrows():\n",
        "    words = data.at[i, 'text']\n",
        "    words = normalize(words)\n",
        "    data.at[i,'text'] = words\n",
        "data.head()"
      ],
      "execution_count": 21,
      "outputs": [
        {
          "output_type": "execute_result",
          "data": {
            "text/html": [
              "<div>\n",
              "<style scoped>\n",
              "    .dataframe tbody tr th:only-of-type {\n",
              "        vertical-align: middle;\n",
              "    }\n",
              "\n",
              "    .dataframe tbody tr th {\n",
              "        vertical-align: top;\n",
              "    }\n",
              "\n",
              "    .dataframe thead th {\n",
              "        text-align: right;\n",
              "    }\n",
              "</style>\n",
              "<table border=\"1\" class=\"dataframe\">\n",
              "  <thead>\n",
              "    <tr style=\"text-align: right;\">\n",
              "      <th></th>\n",
              "      <th>unit_id</th>\n",
              "      <th>id</th>\n",
              "      <th>text</th>\n",
              "    </tr>\n",
              "  </thead>\n",
              "  <tbody>\n",
              "    <tr>\n",
              "      <th>0</th>\n",
              "      <td>662822308</td>\n",
              "      <td>436528000000000000</td>\n",
              "      <td>[barclays, ceo, stresses, importance, regulatory, cultural, reform, financial, services, brussels, conference]</td>\n",
              "    </tr>\n",
              "    <tr>\n",
              "      <th>1</th>\n",
              "      <td>662822309</td>\n",
              "      <td>386013000000000000</td>\n",
              "      <td>[barclays, announces, result, rights, issue]</td>\n",
              "    </tr>\n",
              "    <tr>\n",
              "      <th>2</th>\n",
              "      <td>662822310</td>\n",
              "      <td>379580000000000000</td>\n",
              "      <td>[barclays, publishes, prospectus, 58bn, rights, issue]</td>\n",
              "    </tr>\n",
              "    <tr>\n",
              "      <th>3</th>\n",
              "      <td>662822311</td>\n",
              "      <td>367530000000000000</td>\n",
              "      <td>[barclays, group, finance, director, chris, lucas, step, end, week, due, ill, health]</td>\n",
              "    </tr>\n",
              "    <tr>\n",
              "      <th>4</th>\n",
              "      <td>662822312</td>\n",
              "      <td>360385000000000000</td>\n",
              "      <td>[barclays, announces, irene, mcdermott, brown, appointed, group, human, resources, director]</td>\n",
              "    </tr>\n",
              "  </tbody>\n",
              "</table>\n",
              "</div>"
            ],
            "text/plain": [
              "     unit_id  ...                                                                                                            text\n",
              "0  662822308  ...  [barclays, ceo, stresses, importance, regulatory, cultural, reform, financial, services, brussels, conference]\n",
              "1  662822309  ...                                                                    [barclays, announces, result, rights, issue]\n",
              "2  662822310  ...                                                          [barclays, publishes, prospectus, 58bn, rights, issue]\n",
              "3  662822311  ...                           [barclays, group, finance, director, chris, lucas, step, end, week, due, ill, health]\n",
              "4  662822312  ...                    [barclays, announces, irene, mcdermott, brown, appointed, group, human, resources, director]\n",
              "\n",
              "[5 rows x 3 columns]"
            ]
          },
          "metadata": {
            "tags": []
          },
          "execution_count": 21
        }
      ]
    },
    {
      "cell_type": "code",
      "metadata": {
        "id": "yD4XT2j8jN1Z"
      },
      "source": [
        "def stem_and_lemmatize(words):\n",
        "    stems = stem_words(words)\n",
        "    lemmas = lemmatize_verbs(words)\n",
        "    return stems, lemmas"
      ],
      "execution_count": 22,
      "outputs": []
    },
    {
      "cell_type": "code",
      "metadata": {
        "colab": {
          "base_uri": "https://localhost:8080/",
          "height": 289
        },
        "id": "6M1IP54aw_eI",
        "outputId": "fce860de-0e08-4ee6-f6b1-4917d4355fc7"
      },
      "source": [
        "data['lemma'] = ''\n",
        "data['stem'] = ''\n",
        "\n",
        "for i, row in data.iterrows():\n",
        "    words = data.at[i, 'text']\n",
        "    stems, lemmas = stem_and_lemmatize(words)\n",
        "    data.at[i,'stem'] = stems\n",
        "    data.at[i, 'lemma'] = lemmas\n",
        "data.head()"
      ],
      "execution_count": 23,
      "outputs": [
        {
          "output_type": "execute_result",
          "data": {
            "text/html": [
              "<div>\n",
              "<style scoped>\n",
              "    .dataframe tbody tr th:only-of-type {\n",
              "        vertical-align: middle;\n",
              "    }\n",
              "\n",
              "    .dataframe tbody tr th {\n",
              "        vertical-align: top;\n",
              "    }\n",
              "\n",
              "    .dataframe thead th {\n",
              "        text-align: right;\n",
              "    }\n",
              "</style>\n",
              "<table border=\"1\" class=\"dataframe\">\n",
              "  <thead>\n",
              "    <tr style=\"text-align: right;\">\n",
              "      <th></th>\n",
              "      <th>unit_id</th>\n",
              "      <th>id</th>\n",
              "      <th>text</th>\n",
              "      <th>lemma</th>\n",
              "      <th>stem</th>\n",
              "    </tr>\n",
              "  </thead>\n",
              "  <tbody>\n",
              "    <tr>\n",
              "      <th>0</th>\n",
              "      <td>662822308</td>\n",
              "      <td>436528000000000000</td>\n",
              "      <td>[barclays, ceo, stresses, importance, regulatory, cultural, reform, financial, services, brussels, conference]</td>\n",
              "      <td>[barclays, ceo, stress, importance, regulatory, cultural, reform, financial, service, brussels, conference]</td>\n",
              "      <td>[barclay, ceo, stresses, import, reg, cult, reform, fin, serv, brussel, conf]</td>\n",
              "    </tr>\n",
              "    <tr>\n",
              "      <th>1</th>\n",
              "      <td>662822309</td>\n",
              "      <td>386013000000000000</td>\n",
              "      <td>[barclays, announces, result, rights, issue]</td>\n",
              "      <td>[barclays, announce, result, right, issue]</td>\n",
              "      <td>[barclay, annount, result, right, issu]</td>\n",
              "    </tr>\n",
              "    <tr>\n",
              "      <th>2</th>\n",
              "      <td>662822310</td>\n",
              "      <td>379580000000000000</td>\n",
              "      <td>[barclays, publishes, prospectus, 58bn, rights, issue]</td>\n",
              "      <td>[barclays, publish, prospectus, 58bn, right, issue]</td>\n",
              "      <td>[barclay, publ, prospect, 58bn, right, issu]</td>\n",
              "    </tr>\n",
              "    <tr>\n",
              "      <th>3</th>\n",
              "      <td>662822311</td>\n",
              "      <td>367530000000000000</td>\n",
              "      <td>[barclays, group, finance, director, chris, lucas, step, end, week, due, ill, health]</td>\n",
              "      <td>[barclays, group, finance, director, chris, lucas, step, end, week, due, ill, health]</td>\n",
              "      <td>[barclay, group, fin, direct, chris, luca, step, end, week, due, il, heal]</td>\n",
              "    </tr>\n",
              "    <tr>\n",
              "      <th>4</th>\n",
              "      <td>662822312</td>\n",
              "      <td>360385000000000000</td>\n",
              "      <td>[barclays, announces, irene, mcdermott, brown, appointed, group, human, resources, director]</td>\n",
              "      <td>[barclays, announce, irene, mcdermott, brown, appoint, group, human, resources, director]</td>\n",
              "      <td>[barclay, annount, ir, mcdermott, brown, appoint, group, hum, resourc, direct]</td>\n",
              "    </tr>\n",
              "  </tbody>\n",
              "</table>\n",
              "</div>"
            ],
            "text/plain": [
              "     unit_id  ...                                                                            stem\n",
              "0  662822308  ...   [barclay, ceo, stresses, import, reg, cult, reform, fin, serv, brussel, conf]\n",
              "1  662822309  ...                                         [barclay, annount, result, right, issu]\n",
              "2  662822310  ...                                    [barclay, publ, prospect, 58bn, right, issu]\n",
              "3  662822311  ...      [barclay, group, fin, direct, chris, luca, step, end, week, due, il, heal]\n",
              "4  662822312  ...  [barclay, annount, ir, mcdermott, brown, appoint, group, hum, resourc, direct]\n",
              "\n",
              "[5 rows x 5 columns]"
            ]
          },
          "metadata": {
            "tags": []
          },
          "execution_count": 23
        }
      ]
    },
    {
      "cell_type": "markdown",
      "metadata": {
        "id": "BHAntwcyHCrp"
      },
      "source": [
        "- As we can see here that, the text column contains tokenized words, lemma contains lemmatized words, and stem column contains the stemmed words.\n",
        "- So, we can use these techniques according to our need of the project as suitable."
      ]
    },
    {
      "cell_type": "markdown",
      "metadata": {
        "id": "rH1xHs2OHfNX"
      },
      "source": [
        "# So, the tasks are:\n",
        "\n",
        "- ### Noise removal (Special character, html tags, accented characters, punctuation removal)\n",
        "- ### Lowercasing (can be task dependent in some cases)\n",
        "- ### Stop-word removal\n",
        "- ### Stemming / lemmatization"
      ]
    },
    {
      "cell_type": "markdown",
      "metadata": {
        "id": "wIODBSjRIkJz"
      },
      "source": [
        "- ### Now that the text cleaning is done, our text data is ready to be converted into the format, which the machine can understand (i.e. numbers).\n",
        "- ### We will see it in the next lectures in Vectorization and after that we can perform the following tasks on that:\n",
        "  - ### Sentiment Analysis\n",
        "  - ### Text Classification\n",
        "### etc. etc."
      ]
    }
  ]
}