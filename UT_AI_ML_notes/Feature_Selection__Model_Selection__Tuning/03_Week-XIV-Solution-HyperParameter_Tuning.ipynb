{
 "cells": [
  {
   "cell_type": "code",
   "execution_count": 1,
   "metadata": {
    "ExecuteTime": {
     "end_time": "2020-11-02T05:50:31.370051Z",
     "start_time": "2020-11-02T05:50:31.366237Z"
    }
   },
   "outputs": [],
   "source": [
    "\n",
    "import warnings\n",
    "warnings.filterwarnings('ignore')\n"
   ]
  },
  {
   "cell_type": "code",
   "execution_count": 2,
   "metadata": {
    "ExecuteTime": {
     "end_time": "2020-11-02T05:50:32.599676Z",
     "start_time": "2020-11-02T05:50:31.733486Z"
    }
   },
   "outputs": [],
   "source": [
    "# Import important library\n",
    "\n",
    "import numpy as np\n",
    "import pandas as pd\n",
    "import matplotlib.pyplot as plt\n",
    "import seaborn as sns\n",
    "%matplotlib inline\n",
    "\n",
    "pd.set_option(\"max_columns\", None)\n",
    "pd.set_option(\"max_rows\", 200)"
   ]
  },
  {
   "cell_type": "code",
   "execution_count": 3,
   "metadata": {
    "ExecuteTime": {
     "end_time": "2020-11-02T05:50:33.130031Z",
     "start_time": "2020-11-02T05:50:32.601727Z"
    }
   },
   "outputs": [],
   "source": [
    "from sklearn.model_selection import train_test_split"
   ]
  },
  {
   "cell_type": "code",
   "execution_count": 4,
   "metadata": {
    "ExecuteTime": {
     "end_time": "2020-11-02T05:50:33.138780Z",
     "start_time": "2020-11-02T05:50:33.133421Z"
    }
   },
   "outputs": [],
   "source": [
    "from utils import *"
   ]
  },
  {
   "cell_type": "code",
   "execution_count": 5,
   "metadata": {
    "ExecuteTime": {
     "end_time": "2020-11-02T05:50:33.144304Z",
     "start_time": "2020-11-02T05:50:33.140975Z"
    }
   },
   "outputs": [],
   "source": [
    "SEED = 8"
   ]
  },
  {
   "cell_type": "code",
   "execution_count": 6,
   "metadata": {
    "ExecuteTime": {
     "end_time": "2020-11-02T05:50:33.241077Z",
     "start_time": "2020-11-02T05:50:33.237683Z"
    }
   },
   "outputs": [],
   "source": [
    "INPUT_FILE = \"concrete_wd_features.csv\"\n",
    "INPUT_DIR = \"./\""
   ]
  },
  {
   "cell_type": "code",
   "execution_count": 7,
   "metadata": {
    "ExecuteTime": {
     "end_time": "2020-11-02T05:50:33.622875Z",
     "start_time": "2020-11-02T05:50:33.606930Z"
    }
   },
   "outputs": [],
   "source": [
    "df = read_input(INPUT_DIR, INPUT_FILE)"
   ]
  },
  {
   "cell_type": "code",
   "execution_count": 8,
   "metadata": {
    "ExecuteTime": {
     "end_time": "2020-11-02T05:50:33.962214Z",
     "start_time": "2020-11-02T05:50:33.954381Z"
    }
   },
   "outputs": [
    {
     "data": {
      "text/plain": [
       "(1030, 17)"
      ]
     },
     "execution_count": 8,
     "metadata": {},
     "output_type": "execute_result"
    }
   ],
   "source": [
    "df.shape"
   ]
  },
  {
   "cell_type": "code",
   "execution_count": 9,
   "metadata": {
    "ExecuteTime": {
     "end_time": "2020-11-02T05:50:34.297992Z",
     "start_time": "2020-11-02T05:50:34.289135Z"
    }
   },
   "outputs": [],
   "source": [
    "# Separating dependent and independent variables\n",
    "X = df.drop('strength',axis=1)\n",
    "Y = df['strength']"
   ]
  },
  {
   "cell_type": "code",
   "execution_count": 10,
   "metadata": {
    "ExecuteTime": {
     "end_time": "2020-11-02T05:50:34.608947Z",
     "start_time": "2020-11-02T05:50:34.605404Z"
    }
   },
   "outputs": [],
   "source": [
    "features = X.columns.tolist()"
   ]
  },
  {
   "cell_type": "code",
   "execution_count": 11,
   "metadata": {
    "ExecuteTime": {
     "end_time": "2020-11-02T05:50:34.947591Z",
     "start_time": "2020-11-02T05:50:34.939676Z"
    }
   },
   "outputs": [],
   "source": [
    "# Splitting the data into train and test\n",
    "X_train, X_validation, Y_train, Y_validation = train_test_split(X, Y , test_size=0.3, random_state=SEED)"
   ]
  },
  {
   "cell_type": "code",
   "execution_count": 12,
   "metadata": {
    "ExecuteTime": {
     "end_time": "2020-11-02T05:50:35.404793Z",
     "start_time": "2020-11-02T05:50:35.281532Z"
    }
   },
   "outputs": [],
   "source": [
    "from sklearn.pipeline import Pipeline\n",
    "from sklearn.model_selection import cross_val_score, KFold\n",
    "from sklearn.linear_model import LinearRegression\n",
    "from sklearn.preprocessing import StandardScaler\n",
    "from sklearn.ensemble import RandomForestRegressor\n",
    "from sklearn.ensemble import GradientBoostingRegressor\n",
    "from sklearn.ensemble import AdaBoostRegressor\n",
    "from sklearn.tree import DecisionTreeRegressor"
   ]
  },
  {
   "cell_type": "code",
   "execution_count": 13,
   "metadata": {
    "ExecuteTime": {
     "end_time": "2020-11-02T05:50:35.657324Z",
     "start_time": "2020-11-02T05:50:35.653781Z"
    }
   },
   "outputs": [],
   "source": [
    "k =  KFold(random_state=SEED, n_splits=5)\n",
    "# KFold will split the data in 5 equal parts"
   ]
  },
  {
   "cell_type": "markdown",
   "metadata": {},
   "source": [
    "____________"
   ]
  },
  {
   "cell_type": "markdown",
   "metadata": {},
   "source": [
    "### 2. Hyper Parameter Tuning *(15 marks)*"
   ]
  },
  {
   "cell_type": "code",
   "execution_count": 14,
   "metadata": {
    "ExecuteTime": {
     "end_time": "2020-11-02T05:50:36.648502Z",
     "start_time": "2020-11-02T05:50:36.644362Z"
    }
   },
   "outputs": [],
   "source": [
    "from sklearn.model_selection import GridSearchCV\n",
    "from sklearn.model_selection import RandomizedSearchCV\n",
    "from sklearn.metrics import mean_squared_error"
   ]
  },
  {
   "cell_type": "markdown",
   "metadata": {},
   "source": [
    "**Grid Search on Random Forest**"
   ]
  },
  {
   "cell_type": "code",
   "execution_count": 15,
   "metadata": {
    "ExecuteTime": {
     "end_time": "2020-11-02T05:50:37.276029Z",
     "start_time": "2020-11-02T05:50:37.269991Z"
    }
   },
   "outputs": [
    {
     "data": {
      "text/plain": [
       "['n_estimators', 'max_depth', 'min_samples_split']"
      ]
     },
     "execution_count": 15,
     "metadata": {},
     "output_type": "execute_result"
    }
   ],
   "source": [
    "['n_estimators', 'max_depth', 'min_samples_split']"
   ]
  },
  {
   "cell_type": "code",
   "execution_count": 16,
   "metadata": {
    "ExecuteTime": {
     "end_time": "2020-11-02T05:50:50.120778Z",
     "start_time": "2020-11-02T05:50:37.594988Z"
    }
   },
   "outputs": [
    {
     "data": {
      "text/plain": [
       "RandomizedSearchCV(cv=KFold(n_splits=5, random_state=8, shuffle=False),\n",
       "                   error_score='raise-deprecating',\n",
       "                   estimator=RandomForestRegressor(bootstrap=True,\n",
       "                                                   criterion='mse',\n",
       "                                                   max_depth=None,\n",
       "                                                   max_features='auto',\n",
       "                                                   max_leaf_nodes=None,\n",
       "                                                   min_impurity_decrease=0.0,\n",
       "                                                   min_impurity_split=None,\n",
       "                                                   min_samples_leaf=1,\n",
       "                                                   min_samples_split=2,\n",
       "                                                   min_weight_fraction_leaf=0.0,\n",
       "                                                   n_estimators='warn',\n",
       "                                                   n_jobs=-1, oob_score=False,\n",
       "                                                   random_state=8, verbose=0,\n",
       "                                                   warm_start=False),\n",
       "                   iid='warn', n_iter=20, n_jobs=-1,\n",
       "                   param_distributions={'max_depth': [1, 3, 5, 7, 10],\n",
       "                                        'min_samples_split': [5, 30, 50, 100],\n",
       "                                        'n_estimators': [25, 100, 200, 300]},\n",
       "                   pre_dispatch='2*n_jobs', random_state=None, refit=True,\n",
       "                   return_train_score=False, scoring=None, verbose=0)"
      ]
     },
     "execution_count": 16,
     "metadata": {},
     "output_type": "execute_result"
    }
   ],
   "source": [
    "\n",
    "rf = RandomForestRegressor(random_state=SEED,\n",
    "                           n_jobs=-1)\n",
    "\n",
    "params = {\n",
    "    #'bootstrap': [True,False],\n",
    "    'max_depth': [1,3,5,7,10],\n",
    "    #'max_features': ['sqrt','log2'],\n",
    "    #'min_samples_leaf': [1,3, 4],\n",
    "    'min_samples_split': [5,30,50,100],\n",
    "    'n_estimators': [25,100,200,300]\n",
    "}    \n",
    "\n",
    "grid = RandomizedSearchCV(rf,\n",
    "                          params,\n",
    "                          cv = k,\n",
    "                          n_jobs=-1,\n",
    "                          n_iter=20)\n",
    "\n",
    "grid.fit(X,Y)"
   ]
  },
  {
   "cell_type": "code",
   "execution_count": 17,
   "metadata": {
    "ExecuteTime": {
     "end_time": "2020-11-02T05:50:50.130345Z",
     "start_time": "2020-11-02T05:50:50.123995Z"
    }
   },
   "outputs": [
    {
     "data": {
      "text/plain": [
       "{'n_estimators': 200, 'min_samples_split': 5, 'max_depth': 10}"
      ]
     },
     "execution_count": 17,
     "metadata": {},
     "output_type": "execute_result"
    }
   ],
   "source": [
    "grid.best_params_"
   ]
  },
  {
   "cell_type": "code",
   "execution_count": 18,
   "metadata": {
    "ExecuteTime": {
     "end_time": "2020-11-02T05:50:50.137913Z",
     "start_time": "2020-11-02T05:50:50.132467Z"
    }
   },
   "outputs": [],
   "source": [
    "grid_results = pd.DataFrame(grid.cv_results_)"
   ]
  },
  {
   "cell_type": "code",
   "execution_count": 19,
   "metadata": {
    "ExecuteTime": {
     "end_time": "2020-11-01T16:57:24.021943Z",
     "start_time": "2020-11-01T16:57:23.974817Z"
    },
    "collapsed": true
   },
   "outputs": [
    {
     "data": {
      "text/html": [
       "<div>\n",
       "<style scoped>\n",
       "    .dataframe tbody tr th:only-of-type {\n",
       "        vertical-align: middle;\n",
       "    }\n",
       "\n",
       "    .dataframe tbody tr th {\n",
       "        vertical-align: top;\n",
       "    }\n",
       "\n",
       "    .dataframe thead th {\n",
       "        text-align: right;\n",
       "    }\n",
       "</style>\n",
       "<table border=\"1\" class=\"dataframe\">\n",
       "  <thead>\n",
       "    <tr style=\"text-align: right;\">\n",
       "      <th></th>\n",
       "      <th>mean_fit_time</th>\n",
       "      <th>std_fit_time</th>\n",
       "      <th>mean_score_time</th>\n",
       "      <th>std_score_time</th>\n",
       "      <th>param_n_estimators</th>\n",
       "      <th>param_min_samples_split</th>\n",
       "      <th>param_max_depth</th>\n",
       "      <th>params</th>\n",
       "      <th>split0_test_score</th>\n",
       "      <th>split1_test_score</th>\n",
       "      <th>split2_test_score</th>\n",
       "      <th>split3_test_score</th>\n",
       "      <th>split4_test_score</th>\n",
       "      <th>mean_test_score</th>\n",
       "      <th>std_test_score</th>\n",
       "      <th>rank_test_score</th>\n",
       "    </tr>\n",
       "  </thead>\n",
       "  <tbody>\n",
       "    <tr>\n",
       "      <th>0</th>\n",
       "      <td>0.142207</td>\n",
       "      <td>0.012409</td>\n",
       "      <td>0.118035</td>\n",
       "      <td>0.015646</td>\n",
       "      <td>25</td>\n",
       "      <td>30</td>\n",
       "      <td>7</td>\n",
       "      <td>{'n_estimators': 25, 'min_samples_split': 30, ...</td>\n",
       "      <td>0.829622</td>\n",
       "      <td>0.857974</td>\n",
       "      <td>0.856027</td>\n",
       "      <td>0.874726</td>\n",
       "      <td>0.833773</td>\n",
       "      <td>0.850425</td>\n",
       "      <td>0.016667</td>\n",
       "      <td>2</td>\n",
       "    </tr>\n",
       "    <tr>\n",
       "      <th>1</th>\n",
       "      <td>0.525051</td>\n",
       "      <td>0.087737</td>\n",
       "      <td>0.113607</td>\n",
       "      <td>0.002622</td>\n",
       "      <td>200</td>\n",
       "      <td>30</td>\n",
       "      <td>5</td>\n",
       "      <td>{'n_estimators': 200, 'min_samples_split': 30,...</td>\n",
       "      <td>0.813517</td>\n",
       "      <td>0.824246</td>\n",
       "      <td>0.841956</td>\n",
       "      <td>0.850799</td>\n",
       "      <td>0.801239</td>\n",
       "      <td>0.826351</td>\n",
       "      <td>0.018116</td>\n",
       "      <td>4</td>\n",
       "    </tr>\n",
       "    <tr>\n",
       "      <th>2</th>\n",
       "      <td>0.306849</td>\n",
       "      <td>0.018119</td>\n",
       "      <td>0.110955</td>\n",
       "      <td>0.004182</td>\n",
       "      <td>100</td>\n",
       "      <td>100</td>\n",
       "      <td>1</td>\n",
       "      <td>{'n_estimators': 100, 'min_samples_split': 100...</td>\n",
       "      <td>0.405726</td>\n",
       "      <td>0.349298</td>\n",
       "      <td>0.378335</td>\n",
       "      <td>0.313558</td>\n",
       "      <td>0.344414</td>\n",
       "      <td>0.358266</td>\n",
       "      <td>0.031389</td>\n",
       "      <td>19</td>\n",
       "    </tr>\n",
       "    <tr>\n",
       "      <th>3</th>\n",
       "      <td>0.768129</td>\n",
       "      <td>0.087259</td>\n",
       "      <td>0.113166</td>\n",
       "      <td>0.008273</td>\n",
       "      <td>300</td>\n",
       "      <td>30</td>\n",
       "      <td>3</td>\n",
       "      <td>{'n_estimators': 300, 'min_samples_split': 30,...</td>\n",
       "      <td>0.691099</td>\n",
       "      <td>0.674563</td>\n",
       "      <td>0.730851</td>\n",
       "      <td>0.734178</td>\n",
       "      <td>0.627899</td>\n",
       "      <td>0.691718</td>\n",
       "      <td>0.039247</td>\n",
       "      <td>11</td>\n",
       "    </tr>\n",
       "    <tr>\n",
       "      <th>4</th>\n",
       "      <td>0.189346</td>\n",
       "      <td>0.062524</td>\n",
       "      <td>0.112389</td>\n",
       "      <td>0.002610</td>\n",
       "      <td>25</td>\n",
       "      <td>30</td>\n",
       "      <td>1</td>\n",
       "      <td>{'n_estimators': 25, 'min_samples_split': 30, ...</td>\n",
       "      <td>0.407031</td>\n",
       "      <td>0.341103</td>\n",
       "      <td>0.388597</td>\n",
       "      <td>0.324772</td>\n",
       "      <td>0.334754</td>\n",
       "      <td>0.359252</td>\n",
       "      <td>0.032442</td>\n",
       "      <td>18</td>\n",
       "    </tr>\n",
       "    <tr>\n",
       "      <th>5</th>\n",
       "      <td>0.769768</td>\n",
       "      <td>0.171202</td>\n",
       "      <td>0.107276</td>\n",
       "      <td>0.001981</td>\n",
       "      <td>200</td>\n",
       "      <td>5</td>\n",
       "      <td>7</td>\n",
       "      <td>{'n_estimators': 200, 'min_samples_split': 5, ...</td>\n",
       "      <td>0.867489</td>\n",
       "      <td>0.899100</td>\n",
       "      <td>0.882284</td>\n",
       "      <td>0.911326</td>\n",
       "      <td>0.879459</td>\n",
       "      <td>0.887932</td>\n",
       "      <td>0.015451</td>\n",
       "      <td>1</td>\n",
       "    </tr>\n",
       "    <tr>\n",
       "      <th>6</th>\n",
       "      <td>0.459616</td>\n",
       "      <td>0.107112</td>\n",
       "      <td>0.114292</td>\n",
       "      <td>0.008948</td>\n",
       "      <td>100</td>\n",
       "      <td>50</td>\n",
       "      <td>1</td>\n",
       "      <td>{'n_estimators': 100, 'min_samples_split': 50,...</td>\n",
       "      <td>0.405726</td>\n",
       "      <td>0.349298</td>\n",
       "      <td>0.378335</td>\n",
       "      <td>0.313558</td>\n",
       "      <td>0.344414</td>\n",
       "      <td>0.358266</td>\n",
       "      <td>0.031389</td>\n",
       "      <td>19</td>\n",
       "    </tr>\n",
       "    <tr>\n",
       "      <th>7</th>\n",
       "      <td>0.493898</td>\n",
       "      <td>0.073570</td>\n",
       "      <td>0.112006</td>\n",
       "      <td>0.002212</td>\n",
       "      <td>200</td>\n",
       "      <td>30</td>\n",
       "      <td>1</td>\n",
       "      <td>{'n_estimators': 200, 'min_samples_split': 30,...</td>\n",
       "      <td>0.406788</td>\n",
       "      <td>0.356472</td>\n",
       "      <td>0.377964</td>\n",
       "      <td>0.326913</td>\n",
       "      <td>0.338175</td>\n",
       "      <td>0.361262</td>\n",
       "      <td>0.028592</td>\n",
       "      <td>16</td>\n",
       "    </tr>\n",
       "    <tr>\n",
       "      <th>8</th>\n",
       "      <td>0.634738</td>\n",
       "      <td>0.056915</td>\n",
       "      <td>0.108659</td>\n",
       "      <td>0.003732</td>\n",
       "      <td>200</td>\n",
       "      <td>100</td>\n",
       "      <td>5</td>\n",
       "      <td>{'n_estimators': 200, 'min_samples_split': 100...</td>\n",
       "      <td>0.739012</td>\n",
       "      <td>0.738290</td>\n",
       "      <td>0.746570</td>\n",
       "      <td>0.752593</td>\n",
       "      <td>0.696715</td>\n",
       "      <td>0.734636</td>\n",
       "      <td>0.019674</td>\n",
       "      <td>9</td>\n",
       "    </tr>\n",
       "    <tr>\n",
       "      <th>9</th>\n",
       "      <td>0.139327</td>\n",
       "      <td>0.018244</td>\n",
       "      <td>0.111721</td>\n",
       "      <td>0.003653</td>\n",
       "      <td>25</td>\n",
       "      <td>5</td>\n",
       "      <td>5</td>\n",
       "      <td>{'n_estimators': 25, 'min_samples_split': 5, '...</td>\n",
       "      <td>0.818464</td>\n",
       "      <td>0.807856</td>\n",
       "      <td>0.848405</td>\n",
       "      <td>0.868432</td>\n",
       "      <td>0.819680</td>\n",
       "      <td>0.832567</td>\n",
       "      <td>0.022417</td>\n",
       "      <td>3</td>\n",
       "    </tr>\n",
       "    <tr>\n",
       "      <th>10</th>\n",
       "      <td>0.686410</td>\n",
       "      <td>0.166438</td>\n",
       "      <td>0.116988</td>\n",
       "      <td>0.001564</td>\n",
       "      <td>200</td>\n",
       "      <td>50</td>\n",
       "      <td>5</td>\n",
       "      <td>{'n_estimators': 200, 'min_samples_split': 50,...</td>\n",
       "      <td>0.797307</td>\n",
       "      <td>0.809018</td>\n",
       "      <td>0.819163</td>\n",
       "      <td>0.817068</td>\n",
       "      <td>0.773228</td>\n",
       "      <td>0.803157</td>\n",
       "      <td>0.016817</td>\n",
       "      <td>7</td>\n",
       "    </tr>\n",
       "    <tr>\n",
       "      <th>11</th>\n",
       "      <td>1.268511</td>\n",
       "      <td>0.089582</td>\n",
       "      <td>0.113280</td>\n",
       "      <td>0.002533</td>\n",
       "      <td>300</td>\n",
       "      <td>100</td>\n",
       "      <td>7</td>\n",
       "      <td>{'n_estimators': 300, 'min_samples_split': 100...</td>\n",
       "      <td>0.739703</td>\n",
       "      <td>0.744500</td>\n",
       "      <td>0.746940</td>\n",
       "      <td>0.752138</td>\n",
       "      <td>0.701181</td>\n",
       "      <td>0.736892</td>\n",
       "      <td>0.018300</td>\n",
       "      <td>8</td>\n",
       "    </tr>\n",
       "    <tr>\n",
       "      <th>12</th>\n",
       "      <td>1.216723</td>\n",
       "      <td>0.105457</td>\n",
       "      <td>0.112183</td>\n",
       "      <td>0.001550</td>\n",
       "      <td>300</td>\n",
       "      <td>5</td>\n",
       "      <td>3</td>\n",
       "      <td>{'n_estimators': 300, 'min_samples_split': 5, ...</td>\n",
       "      <td>0.691098</td>\n",
       "      <td>0.674572</td>\n",
       "      <td>0.731081</td>\n",
       "      <td>0.734380</td>\n",
       "      <td>0.628503</td>\n",
       "      <td>0.691927</td>\n",
       "      <td>0.039140</td>\n",
       "      <td>10</td>\n",
       "    </tr>\n",
       "    <tr>\n",
       "      <th>13</th>\n",
       "      <td>1.313019</td>\n",
       "      <td>0.067599</td>\n",
       "      <td>0.108780</td>\n",
       "      <td>0.003509</td>\n",
       "      <td>300</td>\n",
       "      <td>100</td>\n",
       "      <td>3</td>\n",
       "      <td>{'n_estimators': 300, 'min_samples_split': 100...</td>\n",
       "      <td>0.677519</td>\n",
       "      <td>0.652971</td>\n",
       "      <td>0.706175</td>\n",
       "      <td>0.700268</td>\n",
       "      <td>0.599091</td>\n",
       "      <td>0.667205</td>\n",
       "      <td>0.038885</td>\n",
       "      <td>14</td>\n",
       "    </tr>\n",
       "    <tr>\n",
       "      <th>14</th>\n",
       "      <td>0.511394</td>\n",
       "      <td>0.086471</td>\n",
       "      <td>0.113547</td>\n",
       "      <td>0.004887</td>\n",
       "      <td>100</td>\n",
       "      <td>30</td>\n",
       "      <td>5</td>\n",
       "      <td>{'n_estimators': 100, 'min_samples_split': 30,...</td>\n",
       "      <td>0.811775</td>\n",
       "      <td>0.821535</td>\n",
       "      <td>0.842558</td>\n",
       "      <td>0.851129</td>\n",
       "      <td>0.798418</td>\n",
       "      <td>0.825083</td>\n",
       "      <td>0.019414</td>\n",
       "      <td>5</td>\n",
       "    </tr>\n",
       "    <tr>\n",
       "      <th>15</th>\n",
       "      <td>0.158011</td>\n",
       "      <td>0.032834</td>\n",
       "      <td>0.108549</td>\n",
       "      <td>0.002403</td>\n",
       "      <td>25</td>\n",
       "      <td>30</td>\n",
       "      <td>3</td>\n",
       "      <td>{'n_estimators': 25, 'min_samples_split': 30, ...</td>\n",
       "      <td>0.688901</td>\n",
       "      <td>0.647770</td>\n",
       "      <td>0.720556</td>\n",
       "      <td>0.736316</td>\n",
       "      <td>0.615853</td>\n",
       "      <td>0.681879</td>\n",
       "      <td>0.044792</td>\n",
       "      <td>13</td>\n",
       "    </tr>\n",
       "    <tr>\n",
       "      <th>16</th>\n",
       "      <td>0.132707</td>\n",
       "      <td>0.010699</td>\n",
       "      <td>0.106569</td>\n",
       "      <td>0.001319</td>\n",
       "      <td>25</td>\n",
       "      <td>30</td>\n",
       "      <td>5</td>\n",
       "      <td>{'n_estimators': 25, 'min_samples_split': 30, ...</td>\n",
       "      <td>0.805915</td>\n",
       "      <td>0.800063</td>\n",
       "      <td>0.841692</td>\n",
       "      <td>0.850560</td>\n",
       "      <td>0.799029</td>\n",
       "      <td>0.819452</td>\n",
       "      <td>0.022084</td>\n",
       "      <td>6</td>\n",
       "    </tr>\n",
       "    <tr>\n",
       "      <th>17</th>\n",
       "      <td>0.667765</td>\n",
       "      <td>0.102218</td>\n",
       "      <td>0.115567</td>\n",
       "      <td>0.006502</td>\n",
       "      <td>200</td>\n",
       "      <td>50</td>\n",
       "      <td>3</td>\n",
       "      <td>{'n_estimators': 200, 'min_samples_split': 50,...</td>\n",
       "      <td>0.689335</td>\n",
       "      <td>0.668580</td>\n",
       "      <td>0.721825</td>\n",
       "      <td>0.720592</td>\n",
       "      <td>0.613474</td>\n",
       "      <td>0.682761</td>\n",
       "      <td>0.040006</td>\n",
       "      <td>12</td>\n",
       "    </tr>\n",
       "    <tr>\n",
       "      <th>18</th>\n",
       "      <td>1.014761</td>\n",
       "      <td>0.215798</td>\n",
       "      <td>0.108358</td>\n",
       "      <td>0.001488</td>\n",
       "      <td>300</td>\n",
       "      <td>30</td>\n",
       "      <td>1</td>\n",
       "      <td>{'n_estimators': 300, 'min_samples_split': 30,...</td>\n",
       "      <td>0.408419</td>\n",
       "      <td>0.354640</td>\n",
       "      <td>0.375811</td>\n",
       "      <td>0.329206</td>\n",
       "      <td>0.338933</td>\n",
       "      <td>0.361402</td>\n",
       "      <td>0.028303</td>\n",
       "      <td>15</td>\n",
       "    </tr>\n",
       "    <tr>\n",
       "      <th>19</th>\n",
       "      <td>0.178470</td>\n",
       "      <td>0.058247</td>\n",
       "      <td>0.115904</td>\n",
       "      <td>0.009769</td>\n",
       "      <td>25</td>\n",
       "      <td>5</td>\n",
       "      <td>1</td>\n",
       "      <td>{'n_estimators': 25, 'min_samples_split': 5, '...</td>\n",
       "      <td>0.407031</td>\n",
       "      <td>0.341103</td>\n",
       "      <td>0.388597</td>\n",
       "      <td>0.324772</td>\n",
       "      <td>0.334754</td>\n",
       "      <td>0.359252</td>\n",
       "      <td>0.032442</td>\n",
       "      <td>17</td>\n",
       "    </tr>\n",
       "  </tbody>\n",
       "</table>\n",
       "</div>"
      ],
      "text/plain": [
       "    mean_fit_time  std_fit_time  mean_score_time  std_score_time  \\\n",
       "0        0.142207      0.012409         0.118035        0.015646   \n",
       "1        0.525051      0.087737         0.113607        0.002622   \n",
       "2        0.306849      0.018119         0.110955        0.004182   \n",
       "3        0.768129      0.087259         0.113166        0.008273   \n",
       "4        0.189346      0.062524         0.112389        0.002610   \n",
       "5        0.769768      0.171202         0.107276        0.001981   \n",
       "6        0.459616      0.107112         0.114292        0.008948   \n",
       "7        0.493898      0.073570         0.112006        0.002212   \n",
       "8        0.634738      0.056915         0.108659        0.003732   \n",
       "9        0.139327      0.018244         0.111721        0.003653   \n",
       "10       0.686410      0.166438         0.116988        0.001564   \n",
       "11       1.268511      0.089582         0.113280        0.002533   \n",
       "12       1.216723      0.105457         0.112183        0.001550   \n",
       "13       1.313019      0.067599         0.108780        0.003509   \n",
       "14       0.511394      0.086471         0.113547        0.004887   \n",
       "15       0.158011      0.032834         0.108549        0.002403   \n",
       "16       0.132707      0.010699         0.106569        0.001319   \n",
       "17       0.667765      0.102218         0.115567        0.006502   \n",
       "18       1.014761      0.215798         0.108358        0.001488   \n",
       "19       0.178470      0.058247         0.115904        0.009769   \n",
       "\n",
       "   param_n_estimators param_min_samples_split param_max_depth  \\\n",
       "0                  25                      30               7   \n",
       "1                 200                      30               5   \n",
       "2                 100                     100               1   \n",
       "3                 300                      30               3   \n",
       "4                  25                      30               1   \n",
       "5                 200                       5               7   \n",
       "6                 100                      50               1   \n",
       "7                 200                      30               1   \n",
       "8                 200                     100               5   \n",
       "9                  25                       5               5   \n",
       "10                200                      50               5   \n",
       "11                300                     100               7   \n",
       "12                300                       5               3   \n",
       "13                300                     100               3   \n",
       "14                100                      30               5   \n",
       "15                 25                      30               3   \n",
       "16                 25                      30               5   \n",
       "17                200                      50               3   \n",
       "18                300                      30               1   \n",
       "19                 25                       5               1   \n",
       "\n",
       "                                               params  split0_test_score  \\\n",
       "0   {'n_estimators': 25, 'min_samples_split': 30, ...           0.829622   \n",
       "1   {'n_estimators': 200, 'min_samples_split': 30,...           0.813517   \n",
       "2   {'n_estimators': 100, 'min_samples_split': 100...           0.405726   \n",
       "3   {'n_estimators': 300, 'min_samples_split': 30,...           0.691099   \n",
       "4   {'n_estimators': 25, 'min_samples_split': 30, ...           0.407031   \n",
       "5   {'n_estimators': 200, 'min_samples_split': 5, ...           0.867489   \n",
       "6   {'n_estimators': 100, 'min_samples_split': 50,...           0.405726   \n",
       "7   {'n_estimators': 200, 'min_samples_split': 30,...           0.406788   \n",
       "8   {'n_estimators': 200, 'min_samples_split': 100...           0.739012   \n",
       "9   {'n_estimators': 25, 'min_samples_split': 5, '...           0.818464   \n",
       "10  {'n_estimators': 200, 'min_samples_split': 50,...           0.797307   \n",
       "11  {'n_estimators': 300, 'min_samples_split': 100...           0.739703   \n",
       "12  {'n_estimators': 300, 'min_samples_split': 5, ...           0.691098   \n",
       "13  {'n_estimators': 300, 'min_samples_split': 100...           0.677519   \n",
       "14  {'n_estimators': 100, 'min_samples_split': 30,...           0.811775   \n",
       "15  {'n_estimators': 25, 'min_samples_split': 30, ...           0.688901   \n",
       "16  {'n_estimators': 25, 'min_samples_split': 30, ...           0.805915   \n",
       "17  {'n_estimators': 200, 'min_samples_split': 50,...           0.689335   \n",
       "18  {'n_estimators': 300, 'min_samples_split': 30,...           0.408419   \n",
       "19  {'n_estimators': 25, 'min_samples_split': 5, '...           0.407031   \n",
       "\n",
       "    split1_test_score  split2_test_score  split3_test_score  \\\n",
       "0            0.857974           0.856027           0.874726   \n",
       "1            0.824246           0.841956           0.850799   \n",
       "2            0.349298           0.378335           0.313558   \n",
       "3            0.674563           0.730851           0.734178   \n",
       "4            0.341103           0.388597           0.324772   \n",
       "5            0.899100           0.882284           0.911326   \n",
       "6            0.349298           0.378335           0.313558   \n",
       "7            0.356472           0.377964           0.326913   \n",
       "8            0.738290           0.746570           0.752593   \n",
       "9            0.807856           0.848405           0.868432   \n",
       "10           0.809018           0.819163           0.817068   \n",
       "11           0.744500           0.746940           0.752138   \n",
       "12           0.674572           0.731081           0.734380   \n",
       "13           0.652971           0.706175           0.700268   \n",
       "14           0.821535           0.842558           0.851129   \n",
       "15           0.647770           0.720556           0.736316   \n",
       "16           0.800063           0.841692           0.850560   \n",
       "17           0.668580           0.721825           0.720592   \n",
       "18           0.354640           0.375811           0.329206   \n",
       "19           0.341103           0.388597           0.324772   \n",
       "\n",
       "    split4_test_score  mean_test_score  std_test_score  rank_test_score  \n",
       "0            0.833773         0.850425        0.016667                2  \n",
       "1            0.801239         0.826351        0.018116                4  \n",
       "2            0.344414         0.358266        0.031389               19  \n",
       "3            0.627899         0.691718        0.039247               11  \n",
       "4            0.334754         0.359252        0.032442               18  \n",
       "5            0.879459         0.887932        0.015451                1  \n",
       "6            0.344414         0.358266        0.031389               19  \n",
       "7            0.338175         0.361262        0.028592               16  \n",
       "8            0.696715         0.734636        0.019674                9  \n",
       "9            0.819680         0.832567        0.022417                3  \n",
       "10           0.773228         0.803157        0.016817                7  \n",
       "11           0.701181         0.736892        0.018300                8  \n",
       "12           0.628503         0.691927        0.039140               10  \n",
       "13           0.599091         0.667205        0.038885               14  \n",
       "14           0.798418         0.825083        0.019414                5  \n",
       "15           0.615853         0.681879        0.044792               13  \n",
       "16           0.799029         0.819452        0.022084                6  \n",
       "17           0.613474         0.682761        0.040006               12  \n",
       "18           0.338933         0.361402        0.028303               15  \n",
       "19           0.334754         0.359252        0.032442               17  "
      ]
     },
     "execution_count": 19,
     "metadata": {},
     "output_type": "execute_result"
    }
   ],
   "source": [
    "grid_results"
   ]
  },
  {
   "cell_type": "code",
   "execution_count": 19,
   "metadata": {
    "ExecuteTime": {
     "end_time": "2020-11-02T05:50:50.331985Z",
     "start_time": "2020-11-02T05:50:50.140317Z"
    }
   },
   "outputs": [
    {
     "data": {
      "text/plain": [
       "[<matplotlib.lines.Line2D at 0x1273aef90>]"
      ]
     },
     "execution_count": 19,
     "metadata": {},
     "output_type": "execute_result"
    },
    {
     "data": {
      "image/png": "[encoded data removed]",
      "text/plain": [
       "<Figure size 432x288 with 1 Axes>"
      ]
     },
     "metadata": {
      "needs_background": "light"
     },
     "output_type": "display_data"
    }
   ],
   "source": [
    "plt.plot(grid_results['param_min_samples_split'],\n",
    "         grid_results['mean_test_score'],\n",
    "        'bo')"
   ]
  },
  {
   "cell_type": "code",
   "execution_count": 20,
   "metadata": {
    "ExecuteTime": {
     "end_time": "2020-11-02T05:50:50.531140Z",
     "start_time": "2020-11-02T05:50:50.333403Z"
    }
   },
   "outputs": [
    {
     "data": {
      "text/plain": [
       "[<matplotlib.lines.Line2D at 0x12748fb50>]"
      ]
     },
     "execution_count": 20,
     "metadata": {},
     "output_type": "execute_result"
    },
    {
     "data": {
      "image/png": "[encoded data removed]",
      "text/plain": [
       "<Figure size 432x288 with 1 Axes>"
      ]
     },
     "metadata": {
      "needs_background": "light"
     },
     "output_type": "display_data"
    }
   ],
   "source": [
    "plt.plot(grid_results['param_n_estimators'],\n",
    "         grid_results['mean_test_score'],\n",
    "        'bo')"
   ]
  },
  {
   "cell_type": "code",
   "execution_count": 21,
   "metadata": {
    "ExecuteTime": {
     "end_time": "2020-11-02T05:50:50.664621Z",
     "start_time": "2020-11-02T05:50:50.532546Z"
    }
   },
   "outputs": [
    {
     "data": {
      "text/plain": [
       "[<matplotlib.lines.Line2D at 0x1074f5810>]"
      ]
     },
     "execution_count": 21,
     "metadata": {},
     "output_type": "execute_result"
    },
    {
     "data": {
      "image/png": "[encoded data removed]",
      "text/plain": [
       "<Figure size 432x288 with 1 Axes>"
      ]
     },
     "metadata": {
      "needs_background": "light"
     },
     "output_type": "display_data"
    }
   ],
   "source": [
    "plt.plot(grid_results['param_max_depth'],\n",
    "         grid_results['mean_test_score'],\n",
    "        'bo')"
   ]
  },
  {
   "cell_type": "code",
   "execution_count": 35,
   "metadata": {
    "ExecuteTime": {
     "end_time": "2020-11-02T05:52:41.901219Z",
     "start_time": "2020-11-02T05:52:30.712265Z"
    }
   },
   "outputs": [
    {
     "data": {
      "text/plain": [
       "GridSearchCV(cv=KFold(n_splits=5, random_state=8, shuffle=False),\n",
       "             error_score='raise-deprecating',\n",
       "             estimator=RandomForestRegressor(bootstrap=True, criterion='mse',\n",
       "                                             max_depth=None,\n",
       "                                             max_features='auto',\n",
       "                                             max_leaf_nodes=None,\n",
       "                                             min_impurity_decrease=0.0,\n",
       "                                             min_impurity_split=None,\n",
       "                                             min_samples_leaf=1,\n",
       "                                             min_samples_split=2,\n",
       "                                             min_weight_fraction_leaf=0.0,\n",
       "                                             n_estimators='warn', n_jobs=-1,\n",
       "                                             oob_score=False, random_state=8,\n",
       "                                             verbose=0, warm_start=False),\n",
       "             iid='warn', n_jobs=-1,\n",
       "             param_grid={'max_depth': [5, 6, 7], 'min_samples_split': [5, 10],\n",
       "                         'n_estimators': [150, 200, 250]},\n",
       "             pre_dispatch='2*n_jobs', refit=True, return_train_score=False,\n",
       "             scoring=None, verbose=0)"
      ]
     },
     "execution_count": 35,
     "metadata": {},
     "output_type": "execute_result"
    }
   ],
   "source": [
    "\n",
    "\n",
    "rf = RandomForestRegressor(random_state=SEED,\n",
    "                           n_jobs=-1)\n",
    "\n",
    "params = {\n",
    "    'max_depth': [5,6,7],\n",
    "    'min_samples_split': [5,10],\n",
    "    'n_estimators': [150,200,250]\n",
    "}    \n",
    "\n",
    "grid_search = GridSearchCV(rf,\n",
    "                          params,\n",
    "                          cv = k,\n",
    "                          n_jobs=-1,\n",
    "                          )\n",
    "\n",
    "grid_search.fit(X,Y)\n"
   ]
  },
  {
   "cell_type": "code",
   "execution_count": 36,
   "metadata": {
    "ExecuteTime": {
     "end_time": "2020-11-02T05:52:41.910260Z",
     "start_time": "2020-11-02T05:52:41.904592Z"
    }
   },
   "outputs": [
    {
     "data": {
      "text/plain": [
       "0.8880439254301241"
      ]
     },
     "execution_count": 36,
     "metadata": {},
     "output_type": "execute_result"
    }
   ],
   "source": [
    "grid_search.best_score_"
   ]
  },
  {
   "cell_type": "code",
   "execution_count": 37,
   "metadata": {
    "ExecuteTime": {
     "end_time": "2020-11-02T05:52:41.915952Z",
     "start_time": "2020-11-02T05:52:41.913293Z"
    }
   },
   "outputs": [],
   "source": [
    "final_model = grid_search.best_estimator_"
   ]
  },
  {
   "cell_type": "code",
   "execution_count": 38,
   "metadata": {
    "ExecuteTime": {
     "end_time": "2020-11-02T05:52:41.924211Z",
     "start_time": "2020-11-02T05:52:41.918244Z"
    }
   },
   "outputs": [
    {
     "data": {
      "text/plain": [
       "{'max_depth': 7, 'min_samples_split': 5, 'n_estimators': 250}"
      ]
     },
     "execution_count": 38,
     "metadata": {},
     "output_type": "execute_result"
    }
   ],
   "source": [
    "grid_search.best_params_"
   ]
  },
  {
   "cell_type": "code",
   "execution_count": null,
   "metadata": {},
   "outputs": [],
   "source": []
  }
 ],
 "metadata": {
  "kernelspec": {
   "display_name": "Python 3",
   "language": "python",
   "name": "python3"
  },
  "language_info": {
   "codemirror_mode": {
    "name": "ipython",
    "version": 3
   },
   "file_extension": ".py",
   "mimetype": "text/x-python",
   "name": "python",
   "nbconvert_exporter": "python",
   "pygments_lexer": "ipython3",
   "version": "3.7.4"
  }
 },
 "nbformat": 4,
 "nbformat_minor": 2
}
