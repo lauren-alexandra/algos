{
  "nbformat": 4,
  "nbformat_minor": 0,
  "metadata": {
    "colab": {
      "name": "Tensorflow_Mentor_Session_Case_Study_W1_Intro_to_NN.ipynb",
      "provenance": []
    },
    "kernelspec": {
      "name": "python3",
      "display_name": "Python 3"
    }
  },
  "cells": [
    {
      "cell_type": "markdown",
      "metadata": {
        "id": "5IIstFzwcpJE",
        "colab_type": "text"
      },
      "source": [
        "##Linear Regression using TensorFlow\n",
        "\n",
        "In this session, we will have a look at creating a linear regression model using tensorflow 2.0. Note that we already know the basics of linear regression and understand the implementation through sklearn. We will try to figure out how to do it using tensorflow tools that we have learnt.   \n",
        "\n",
        "\n",
        "<i>Note that to keep this exercise simple and focused on tensorflow and its relevant functions, we will make a very simple model with very basic preprocessing.</i> "
      ]
    },
    {
      "cell_type": "markdown",
      "metadata": {
        "id": "EkKHyKfRFwYG",
        "colab_type": "text"
      },
      "source": [
        "#### Let us start with mounting our drive to be able to use the dataset stored in our dataset."
      ]
    },
    {
      "cell_type": "code",
      "metadata": {
        "id": "5DN8Ab6qxpoG",
        "colab_type": "code",
        "colab": {
          "base_uri": "https://localhost:8080/",
          "height": 125
        },
        "outputId": "7c82498c-e3cf-4c44-97ee-d0dc21954bf1"
      },
      "source": [
        "from google.colab import drive\n",
        "drive.mount('/content/drive')"
      ],
      "execution_count": 1,
      "outputs": [
        {
          "output_type": "stream",
          "text": [
            "Go to this URL in a browser: https://accounts.google.com/o/oauth2/auth?client_id=947318989803-6bn6qk8qdgf4n4g3pfee6491hc0brc4i.apps.googleusercontent.com&redirect_uri=urn%3aietf%3awg%3aoauth%3a2.0%3aoob&response_type=code&scope=email%20https%3a%2f%2fwww.googleapis.com%2fauth%2fdocs.test%20https%3a%2f%2fwww.googleapis.com%2fauth%2fdrive%20https%3a%2f%2fwww.googleapis.com%2fauth%2fdrive.photos.readonly%20https%3a%2f%2fwww.googleapis.com%2fauth%2fpeopleapi.readonly\n",
            "\n",
            "Enter your authorization code:\n",
            "··········\n",
            "Mounted at /content/drive\n"
          ],
          "name": "stdout"
        }
      ]
    },
    {
      "cell_type": "markdown",
      "metadata": {
        "id": "ykQXiPSPF_rf",
        "colab_type": "text"
      },
      "source": [
        "#### Now, let us install the latest version of tensorflow.\n"
      ]
    },
    {
      "cell_type": "code",
      "metadata": {
        "id": "tvNefLdVoZNz",
        "colab_type": "code",
        "colab": {
          "base_uri": "https://localhost:8080/",
          "height": 107
        },
        "outputId": "610eaea2-b4c5-4fda-d4ae-dd94eb2d3abd"
      },
      "source": [
        "!pip install tensorflow==2.0.0"
      ],
      "execution_count": 2,
      "outputs": [
        {
          "output_type": "stream",
          "text": [
            "Collecting tensorflow==2.0.0\n",
            "\u001b[?25l  Downloading https://files.pythonhosted.org/packages/46/0f/7bd55361168bb32796b360ad15a25de6966c9c1beb58a8e30c01c8279862/tensorflow-2.0.0-cp36-cp36m-manylinux2010_x86_64.whl (86.3MB)\n",
            "\u001b[K     |███████████████████████████▍    | 73.9MB 1.2MB/s eta 0:00:10\n",
            "\u001b[31mERROR: Operation cancelled by user\u001b[0m\n",
            "\u001b[?25h"
          ],
          "name": "stdout"
        }
      ]
    },
    {
      "cell_type": "markdown",
      "metadata": {
        "id": "EvmX8Lp1GOSn",
        "colab_type": "text"
      },
      "source": [
        "##### Check the version of the installation"
      ]
    },
    {
      "cell_type": "code",
      "metadata": {
        "id": "ry8J8nA4ocet",
        "colab_type": "code",
        "colab": {
          "base_uri": "https://localhost:8080/",
          "height": 34
        },
        "outputId": "d8b73891-6b43-438b-a249-5935c42f758f"
      },
      "source": [
        "import tensorflow as tf\n",
        "print(tf.__version__)"
      ],
      "execution_count": 3,
      "outputs": [
        {
          "output_type": "stream",
          "text": [
            "2.2.0\n"
          ],
          "name": "stdout"
        }
      ]
    },
    {
      "cell_type": "markdown",
      "metadata": {
        "id": "ycFapGk6GTSi",
        "colab_type": "text"
      },
      "source": [
        "Now Let us import out data and get it ready for modelling."
      ]
    },
    {
      "cell_type": "code",
      "metadata": {
        "id": "hKt0pILMz_sn",
        "colab_type": "code",
        "colab": {
          "base_uri": "https://localhost:8080/",
          "height": 406
        },
        "outputId": "0dbde4cb-9312-4727-fb89-11471ccc0d4b"
      },
      "source": [
        "import pandas as pd\n",
        "import numpy as np\n",
        "\n",
        "\n",
        "cars_data = pd.read_csv('/content/drive/My Drive/Colab Notebooks/usedcars.csv')\n",
        "cars_data"
      ],
      "execution_count": 4,
      "outputs": [
        {
          "output_type": "execute_result",
          "data": {
            "text/html": [
              "<div>\n",
              "<style scoped>\n",
              "    .dataframe tbody tr th:only-of-type {\n",
              "        vertical-align: middle;\n",
              "    }\n",
              "\n",
              "    .dataframe tbody tr th {\n",
              "        vertical-align: top;\n",
              "    }\n",
              "\n",
              "    .dataframe thead th {\n",
              "        text-align: right;\n",
              "    }\n",
              "</style>\n",
              "<table border=\"1\" class=\"dataframe\">\n",
              "  <thead>\n",
              "    <tr style=\"text-align: right;\">\n",
              "      <th></th>\n",
              "      <th>year</th>\n",
              "      <th>model</th>\n",
              "      <th>price</th>\n",
              "      <th>mileage</th>\n",
              "      <th>color</th>\n",
              "      <th>transmission</th>\n",
              "    </tr>\n",
              "  </thead>\n",
              "  <tbody>\n",
              "    <tr>\n",
              "      <th>0</th>\n",
              "      <td>2011</td>\n",
              "      <td>SEL</td>\n",
              "      <td>21992</td>\n",
              "      <td>7413</td>\n",
              "      <td>Yellow</td>\n",
              "      <td>AUTO</td>\n",
              "    </tr>\n",
              "    <tr>\n",
              "      <th>1</th>\n",
              "      <td>2011</td>\n",
              "      <td>SEL</td>\n",
              "      <td>20995</td>\n",
              "      <td>10926</td>\n",
              "      <td>Gray</td>\n",
              "      <td>AUTO</td>\n",
              "    </tr>\n",
              "    <tr>\n",
              "      <th>2</th>\n",
              "      <td>2011</td>\n",
              "      <td>SEL</td>\n",
              "      <td>19995</td>\n",
              "      <td>7351</td>\n",
              "      <td>Silver</td>\n",
              "      <td>AUTO</td>\n",
              "    </tr>\n",
              "    <tr>\n",
              "      <th>3</th>\n",
              "      <td>2011</td>\n",
              "      <td>SEL</td>\n",
              "      <td>17809</td>\n",
              "      <td>11613</td>\n",
              "      <td>Gray</td>\n",
              "      <td>AUTO</td>\n",
              "    </tr>\n",
              "    <tr>\n",
              "      <th>4</th>\n",
              "      <td>2012</td>\n",
              "      <td>SE</td>\n",
              "      <td>17500</td>\n",
              "      <td>8367</td>\n",
              "      <td>White</td>\n",
              "      <td>AUTO</td>\n",
              "    </tr>\n",
              "    <tr>\n",
              "      <th>...</th>\n",
              "      <td>...</td>\n",
              "      <td>...</td>\n",
              "      <td>...</td>\n",
              "      <td>...</td>\n",
              "      <td>...</td>\n",
              "      <td>...</td>\n",
              "    </tr>\n",
              "    <tr>\n",
              "      <th>145</th>\n",
              "      <td>2006</td>\n",
              "      <td>SES</td>\n",
              "      <td>6200</td>\n",
              "      <td>95000</td>\n",
              "      <td>Silver</td>\n",
              "      <td>AUTO</td>\n",
              "    </tr>\n",
              "    <tr>\n",
              "      <th>146</th>\n",
              "      <td>2002</td>\n",
              "      <td>SE</td>\n",
              "      <td>5995</td>\n",
              "      <td>87003</td>\n",
              "      <td>Red</td>\n",
              "      <td>AUTO</td>\n",
              "    </tr>\n",
              "    <tr>\n",
              "      <th>147</th>\n",
              "      <td>2000</td>\n",
              "      <td>SE</td>\n",
              "      <td>5980</td>\n",
              "      <td>96841</td>\n",
              "      <td>Red</td>\n",
              "      <td>AUTO</td>\n",
              "    </tr>\n",
              "    <tr>\n",
              "      <th>148</th>\n",
              "      <td>2001</td>\n",
              "      <td>SE</td>\n",
              "      <td>4899</td>\n",
              "      <td>151479</td>\n",
              "      <td>Yellow</td>\n",
              "      <td>AUTO</td>\n",
              "    </tr>\n",
              "    <tr>\n",
              "      <th>149</th>\n",
              "      <td>2000</td>\n",
              "      <td>SE</td>\n",
              "      <td>3800</td>\n",
              "      <td>109259</td>\n",
              "      <td>Red</td>\n",
              "      <td>AUTO</td>\n",
              "    </tr>\n",
              "  </tbody>\n",
              "</table>\n",
              "<p>150 rows × 6 columns</p>\n",
              "</div>"
            ],
            "text/plain": [
              "     year model  price  mileage   color transmission\n",
              "0    2011   SEL  21992     7413  Yellow         AUTO\n",
              "1    2011   SEL  20995    10926    Gray         AUTO\n",
              "2    2011   SEL  19995     7351  Silver         AUTO\n",
              "3    2011   SEL  17809    11613    Gray         AUTO\n",
              "4    2012    SE  17500     8367   White         AUTO\n",
              "..    ...   ...    ...      ...     ...          ...\n",
              "145  2006   SES   6200    95000  Silver         AUTO\n",
              "146  2002    SE   5995    87003     Red         AUTO\n",
              "147  2000    SE   5980    96841     Red         AUTO\n",
              "148  2001    SE   4899   151479  Yellow         AUTO\n",
              "149  2000    SE   3800   109259     Red         AUTO\n",
              "\n",
              "[150 rows x 6 columns]"
            ]
          },
          "metadata": {
            "tags": []
          },
          "execution_count": 4
        }
      ]
    },
    {
      "cell_type": "code",
      "metadata": {
        "id": "nX1zbyI75RMi",
        "colab_type": "code",
        "colab": {
          "base_uri": "https://localhost:8080/",
          "height": 141
        },
        "outputId": "07d0b751-a19f-4cf1-a45f-f077df892682"
      },
      "source": [
        "cars_data.isna().sum()"
      ],
      "execution_count": 5,
      "outputs": [
        {
          "output_type": "execute_result",
          "data": {
            "text/plain": [
              "year            0\n",
              "model           0\n",
              "price           0\n",
              "mileage         0\n",
              "color           0\n",
              "transmission    0\n",
              "dtype: int64"
            ]
          },
          "metadata": {
            "tags": []
          },
          "execution_count": 5
        }
      ]
    },
    {
      "cell_type": "code",
      "metadata": {
        "id": "KuU03qQk1WfW",
        "colab_type": "code",
        "colab": {
          "base_uri": "https://localhost:8080/",
          "height": 426
        },
        "outputId": "c85ce2ab-cccb-41f7-be51-b9a18fdc9b37"
      },
      "source": [
        "#just some basic preprocessing\n",
        "cars_data.drop_duplicates()\n",
        "#creating dummy variables for the categorical features\n",
        "cars_data = pd.get_dummies(cars_data)\n",
        "cars_data = cars_data.astype('float32') # we will need to convert the dataset to float in order to be able to convert it into tensors later.\n",
        "cars_data\n"
      ],
      "execution_count": 6,
      "outputs": [
        {
          "output_type": "execute_result",
          "data": {
            "text/html": [
              "<div>\n",
              "<style scoped>\n",
              "    .dataframe tbody tr th:only-of-type {\n",
              "        vertical-align: middle;\n",
              "    }\n",
              "\n",
              "    .dataframe tbody tr th {\n",
              "        vertical-align: top;\n",
              "    }\n",
              "\n",
              "    .dataframe thead th {\n",
              "        text-align: right;\n",
              "    }\n",
              "</style>\n",
              "<table border=\"1\" class=\"dataframe\">\n",
              "  <thead>\n",
              "    <tr style=\"text-align: right;\">\n",
              "      <th></th>\n",
              "      <th>year</th>\n",
              "      <th>price</th>\n",
              "      <th>mileage</th>\n",
              "      <th>model_SE</th>\n",
              "      <th>model_SEL</th>\n",
              "      <th>model_SES</th>\n",
              "      <th>color_Black</th>\n",
              "      <th>color_Blue</th>\n",
              "      <th>color_Gold</th>\n",
              "      <th>color_Gray</th>\n",
              "      <th>color_Green</th>\n",
              "      <th>color_Red</th>\n",
              "      <th>color_Silver</th>\n",
              "      <th>color_White</th>\n",
              "      <th>color_Yellow</th>\n",
              "      <th>transmission_AUTO</th>\n",
              "      <th>transmission_MANUAL</th>\n",
              "    </tr>\n",
              "  </thead>\n",
              "  <tbody>\n",
              "    <tr>\n",
              "      <th>0</th>\n",
              "      <td>2011.0</td>\n",
              "      <td>21992.0</td>\n",
              "      <td>7413.0</td>\n",
              "      <td>0.0</td>\n",
              "      <td>1.0</td>\n",
              "      <td>0.0</td>\n",
              "      <td>0.0</td>\n",
              "      <td>0.0</td>\n",
              "      <td>0.0</td>\n",
              "      <td>0.0</td>\n",
              "      <td>0.0</td>\n",
              "      <td>0.0</td>\n",
              "      <td>0.0</td>\n",
              "      <td>0.0</td>\n",
              "      <td>1.0</td>\n",
              "      <td>1.0</td>\n",
              "      <td>0.0</td>\n",
              "    </tr>\n",
              "    <tr>\n",
              "      <th>1</th>\n",
              "      <td>2011.0</td>\n",
              "      <td>20995.0</td>\n",
              "      <td>10926.0</td>\n",
              "      <td>0.0</td>\n",
              "      <td>1.0</td>\n",
              "      <td>0.0</td>\n",
              "      <td>0.0</td>\n",
              "      <td>0.0</td>\n",
              "      <td>0.0</td>\n",
              "      <td>1.0</td>\n",
              "      <td>0.0</td>\n",
              "      <td>0.0</td>\n",
              "      <td>0.0</td>\n",
              "      <td>0.0</td>\n",
              "      <td>0.0</td>\n",
              "      <td>1.0</td>\n",
              "      <td>0.0</td>\n",
              "    </tr>\n",
              "    <tr>\n",
              "      <th>2</th>\n",
              "      <td>2011.0</td>\n",
              "      <td>19995.0</td>\n",
              "      <td>7351.0</td>\n",
              "      <td>0.0</td>\n",
              "      <td>1.0</td>\n",
              "      <td>0.0</td>\n",
              "      <td>0.0</td>\n",
              "      <td>0.0</td>\n",
              "      <td>0.0</td>\n",
              "      <td>0.0</td>\n",
              "      <td>0.0</td>\n",
              "      <td>0.0</td>\n",
              "      <td>1.0</td>\n",
              "      <td>0.0</td>\n",
              "      <td>0.0</td>\n",
              "      <td>1.0</td>\n",
              "      <td>0.0</td>\n",
              "    </tr>\n",
              "    <tr>\n",
              "      <th>3</th>\n",
              "      <td>2011.0</td>\n",
              "      <td>17809.0</td>\n",
              "      <td>11613.0</td>\n",
              "      <td>0.0</td>\n",
              "      <td>1.0</td>\n",
              "      <td>0.0</td>\n",
              "      <td>0.0</td>\n",
              "      <td>0.0</td>\n",
              "      <td>0.0</td>\n",
              "      <td>1.0</td>\n",
              "      <td>0.0</td>\n",
              "      <td>0.0</td>\n",
              "      <td>0.0</td>\n",
              "      <td>0.0</td>\n",
              "      <td>0.0</td>\n",
              "      <td>1.0</td>\n",
              "      <td>0.0</td>\n",
              "    </tr>\n",
              "    <tr>\n",
              "      <th>4</th>\n",
              "      <td>2012.0</td>\n",
              "      <td>17500.0</td>\n",
              "      <td>8367.0</td>\n",
              "      <td>1.0</td>\n",
              "      <td>0.0</td>\n",
              "      <td>0.0</td>\n",
              "      <td>0.0</td>\n",
              "      <td>0.0</td>\n",
              "      <td>0.0</td>\n",
              "      <td>0.0</td>\n",
              "      <td>0.0</td>\n",
              "      <td>0.0</td>\n",
              "      <td>0.0</td>\n",
              "      <td>1.0</td>\n",
              "      <td>0.0</td>\n",
              "      <td>1.0</td>\n",
              "      <td>0.0</td>\n",
              "    </tr>\n",
              "    <tr>\n",
              "      <th>...</th>\n",
              "      <td>...</td>\n",
              "      <td>...</td>\n",
              "      <td>...</td>\n",
              "      <td>...</td>\n",
              "      <td>...</td>\n",
              "      <td>...</td>\n",
              "      <td>...</td>\n",
              "      <td>...</td>\n",
              "      <td>...</td>\n",
              "      <td>...</td>\n",
              "      <td>...</td>\n",
              "      <td>...</td>\n",
              "      <td>...</td>\n",
              "      <td>...</td>\n",
              "      <td>...</td>\n",
              "      <td>...</td>\n",
              "      <td>...</td>\n",
              "    </tr>\n",
              "    <tr>\n",
              "      <th>145</th>\n",
              "      <td>2006.0</td>\n",
              "      <td>6200.0</td>\n",
              "      <td>95000.0</td>\n",
              "      <td>0.0</td>\n",
              "      <td>0.0</td>\n",
              "      <td>1.0</td>\n",
              "      <td>0.0</td>\n",
              "      <td>0.0</td>\n",
              "      <td>0.0</td>\n",
              "      <td>0.0</td>\n",
              "      <td>0.0</td>\n",
              "      <td>0.0</td>\n",
              "      <td>1.0</td>\n",
              "      <td>0.0</td>\n",
              "      <td>0.0</td>\n",
              "      <td>1.0</td>\n",
              "      <td>0.0</td>\n",
              "    </tr>\n",
              "    <tr>\n",
              "      <th>146</th>\n",
              "      <td>2002.0</td>\n",
              "      <td>5995.0</td>\n",
              "      <td>87003.0</td>\n",
              "      <td>1.0</td>\n",
              "      <td>0.0</td>\n",
              "      <td>0.0</td>\n",
              "      <td>0.0</td>\n",
              "      <td>0.0</td>\n",
              "      <td>0.0</td>\n",
              "      <td>0.0</td>\n",
              "      <td>0.0</td>\n",
              "      <td>1.0</td>\n",
              "      <td>0.0</td>\n",
              "      <td>0.0</td>\n",
              "      <td>0.0</td>\n",
              "      <td>1.0</td>\n",
              "      <td>0.0</td>\n",
              "    </tr>\n",
              "    <tr>\n",
              "      <th>147</th>\n",
              "      <td>2000.0</td>\n",
              "      <td>5980.0</td>\n",
              "      <td>96841.0</td>\n",
              "      <td>1.0</td>\n",
              "      <td>0.0</td>\n",
              "      <td>0.0</td>\n",
              "      <td>0.0</td>\n",
              "      <td>0.0</td>\n",
              "      <td>0.0</td>\n",
              "      <td>0.0</td>\n",
              "      <td>0.0</td>\n",
              "      <td>1.0</td>\n",
              "      <td>0.0</td>\n",
              "      <td>0.0</td>\n",
              "      <td>0.0</td>\n",
              "      <td>1.0</td>\n",
              "      <td>0.0</td>\n",
              "    </tr>\n",
              "    <tr>\n",
              "      <th>148</th>\n",
              "      <td>2001.0</td>\n",
              "      <td>4899.0</td>\n",
              "      <td>151479.0</td>\n",
              "      <td>1.0</td>\n",
              "      <td>0.0</td>\n",
              "      <td>0.0</td>\n",
              "      <td>0.0</td>\n",
              "      <td>0.0</td>\n",
              "      <td>0.0</td>\n",
              "      <td>0.0</td>\n",
              "      <td>0.0</td>\n",
              "      <td>0.0</td>\n",
              "      <td>0.0</td>\n",
              "      <td>0.0</td>\n",
              "      <td>1.0</td>\n",
              "      <td>1.0</td>\n",
              "      <td>0.0</td>\n",
              "    </tr>\n",
              "    <tr>\n",
              "      <th>149</th>\n",
              "      <td>2000.0</td>\n",
              "      <td>3800.0</td>\n",
              "      <td>109259.0</td>\n",
              "      <td>1.0</td>\n",
              "      <td>0.0</td>\n",
              "      <td>0.0</td>\n",
              "      <td>0.0</td>\n",
              "      <td>0.0</td>\n",
              "      <td>0.0</td>\n",
              "      <td>0.0</td>\n",
              "      <td>0.0</td>\n",
              "      <td>1.0</td>\n",
              "      <td>0.0</td>\n",
              "      <td>0.0</td>\n",
              "      <td>0.0</td>\n",
              "      <td>1.0</td>\n",
              "      <td>0.0</td>\n",
              "    </tr>\n",
              "  </tbody>\n",
              "</table>\n",
              "<p>150 rows × 17 columns</p>\n",
              "</div>"
            ],
            "text/plain": [
              "       year    price  ...  transmission_AUTO  transmission_MANUAL\n",
              "0    2011.0  21992.0  ...                1.0                  0.0\n",
              "1    2011.0  20995.0  ...                1.0                  0.0\n",
              "2    2011.0  19995.0  ...                1.0                  0.0\n",
              "3    2011.0  17809.0  ...                1.0                  0.0\n",
              "4    2012.0  17500.0  ...                1.0                  0.0\n",
              "..      ...      ...  ...                ...                  ...\n",
              "145  2006.0   6200.0  ...                1.0                  0.0\n",
              "146  2002.0   5995.0  ...                1.0                  0.0\n",
              "147  2000.0   5980.0  ...                1.0                  0.0\n",
              "148  2001.0   4899.0  ...                1.0                  0.0\n",
              "149  2000.0   3800.0  ...                1.0                  0.0\n",
              "\n",
              "[150 rows x 17 columns]"
            ]
          },
          "metadata": {
            "tags": []
          },
          "execution_count": 6
        }
      ]
    },
    {
      "cell_type": "code",
      "metadata": {
        "id": "y4YBIUaZ5zG4",
        "colab_type": "code",
        "colab": {
          "base_uri": "https://localhost:8080/",
          "height": 105
        },
        "outputId": "0a497400-2af1-4959-8323-23a519ae51a2"
      },
      "source": [
        "#explorinfg column names\n",
        "cars_data.columns"
      ],
      "execution_count": 7,
      "outputs": [
        {
          "output_type": "execute_result",
          "data": {
            "text/plain": [
              "Index(['year', 'price', 'mileage', 'model_SE', 'model_SEL', 'model_SES',\n",
              "       'color_Black', 'color_Blue', 'color_Gold', 'color_Gray', 'color_Green',\n",
              "       'color_Red', 'color_Silver', 'color_White', 'color_Yellow',\n",
              "       'transmission_AUTO', 'transmission_MANUAL'],\n",
              "      dtype='object')"
            ]
          },
          "metadata": {
            "tags": []
          },
          "execution_count": 7
        }
      ]
    },
    {
      "cell_type": "code",
      "metadata": {
        "id": "xhihQaPY6LfN",
        "colab_type": "code",
        "colab": {
          "base_uri": "https://localhost:8080/",
          "height": 247
        },
        "outputId": "209bfd93-a70d-42cb-ed90-523102f33865"
      },
      "source": [
        "#getting the features and labels and finally splitting the test and train data.\n",
        "\n",
        "\n",
        "from sklearn.model_selection import train_test_split\n",
        "X = cars_data[['year','mileage', 'model_SE', 'model_SEL', 'model_SES',\n",
        "       'color_Black', 'color_Blue', 'color_Gold', 'color_Gray', 'color_Green',\n",
        "       'color_Red', 'color_Silver', 'color_White', 'color_Yellow',\n",
        "       'transmission_AUTO', 'transmission_MANUAL']]\n",
        "Y = cars_data['price']\n",
        "\n",
        "\n",
        "X_train, X_test, y_train, y_test = train_test_split(X, Y, test_size=0.20, random_state=1)\n",
        "\n",
        "#let us scale the data as features are on different scales which might be a problem while modelling\n",
        "from sklearn import preprocessing\n",
        "scaler = preprocessing.MinMaxScaler()\n",
        "# MinMaxScalar has been used here. You can go ahead and use the other scalars available and chcek the effect on the results.\n",
        "#fitting the transform on test and train separately\n",
        "X_train = scaler.fit_transform(X_train)\n",
        "X_test = scaler.transform(X_test)\n",
        "X_train"
      ],
      "execution_count": 10,
      "outputs": [
        {
          "output_type": "execute_result",
          "data": {
            "text/plain": [
              "array([[0.75      , 0.27928138, 0.        , ..., 0.        , 1.        ,\n",
              "        0.        ],\n",
              "       [0.58332825, 0.5233474 , 0.        , ..., 1.        , 0.        ,\n",
              "        1.        ],\n",
              "       [0.75      , 0.21721278, 1.        , ..., 0.        , 1.        ,\n",
              "        0.        ],\n",
              "       ...,\n",
              "       [0.83332825, 0.20944397, 0.        , ..., 0.        , 1.        ,\n",
              "        0.        ],\n",
              "       [0.33332825, 0.6878496 , 1.        , ..., 0.        , 1.        ,\n",
              "        0.        ],\n",
              "       [0.83332825, 0.2253431 , 1.        , ..., 0.        , 1.        ,\n",
              "        0.        ]], dtype=float32)"
            ]
          },
          "metadata": {
            "tags": []
          },
          "execution_count": 10
        }
      ]
    },
    {
      "cell_type": "code",
      "metadata": {
        "id": "PHjzg7vF5z0T",
        "colab_type": "code",
        "colab": {}
      },
      "source": [
        "\n",
        "# let us now convert the data elements into tensors as we need tensors to be fed into different tensorflow based operations\n",
        "#X-train and X_test were converted to numpy arrays while transformations while the other two need to be transformed into numpy arrays.\n",
        "X_train=tf.convert_to_tensor(X_train)\n",
        "y_train=tf.convert_to_tensor(y_train.values)\n",
        "X_test=tf.convert_to_tensor(X_test)\n",
        "y_test=tf.convert_to_tensor(y_test.values)"
      ],
      "execution_count": 11,
      "outputs": []
    },
    {
      "cell_type": "code",
      "metadata": {
        "id": "6ZEQAKqs66EO",
        "colab_type": "code",
        "colab": {
          "base_uri": "https://localhost:8080/",
          "height": 34
        },
        "outputId": "86cd1d2a-4233-4dea-b7b8-c5d60571d8b0"
      },
      "source": [
        "X_train.shape[1]"
      ],
      "execution_count": 12,
      "outputs": [
        {
          "output_type": "execute_result",
          "data": {
            "text/plain": [
              "16"
            ]
          },
          "metadata": {
            "tags": []
          },
          "execution_count": 12
        }
      ]
    },
    {
      "cell_type": "markdown",
      "metadata": {
        "id": "mecQN830IGb9",
        "colab_type": "text"
      },
      "source": [
        "#### Let us try modelling now. We will use a few concepts covered in the practice exercise shared with the course material."
      ]
    },
    {
      "cell_type": "code",
      "metadata": {
        "id": "Uhitqoj2FH8U",
        "colab_type": "code",
        "colab": {}
      },
      "source": [
        "input_dim = X_train.shape[1]\n",
        "output_dim = 1\n",
        "learning_rate = 0.01\n",
        "\n",
        "# Let us initialize the weights and bias variables. \n",
        "weights = tf.Variable(tf.zeros(shape=(input_dim, output_dim), dtype= tf.float32))\n",
        "bias = tf.Variable(tf.ones(shape=(output_dim,), dtype= tf.float32))\n",
        "\n",
        "def predict(features):\n",
        "  return tf.matmul(features, weights) + bias # note that the matmul is matrix multiplication and is needed for calculating predictions\n",
        "\n",
        "def compute_loss(y_true, predictions):\n",
        "  return tf.reduce_mean(tf.square(y_true - predictions)) # mean square error\n",
        "\n",
        "# Let us now define a function to train the model. We will call the other functions in function definition.\n",
        "def train(x, y):\n",
        "  with tf.GradientTape() as tape:\n",
        "    predictions = predict(x)\n",
        "    loss = compute_loss(y, predictions)\n",
        "    dloss_dw, dloss_db = tape.gradient(loss, [weights, bias]) #note that we can pass lists as well here.\n",
        "  weights.assign_sub(learning_rate * dloss_dw)\n",
        "  bias.assign_sub(learning_rate * dloss_db)\n",
        "  return loss"
      ],
      "execution_count": 13,
      "outputs": []
    },
    {
      "cell_type": "markdown",
      "metadata": {
        "id": "pcVzQimxJJe2",
        "colab_type": "text"
      },
      "source": [
        "#### Let us now, call the train function with 50 epochs"
      ]
    },
    {
      "cell_type": "code",
      "metadata": {
        "id": "rWFBawhVoM4j",
        "colab_type": "code",
        "colab": {
          "base_uri": "https://localhost:8080/",
          "height": 1000
        },
        "outputId": "3c56219e-5695-4b6c-f850-f35f90a1cf04"
      },
      "source": [
        "\n",
        "for epoch in range(50):\n",
        "  loss = train(X_train, y_train)\n",
        "  print('Epoch %d: Loss = %.4f' % (epoch, float(loss)))\n",
        "\n",
        "\n",
        "print('Final Weights after 50 epochs:')\n",
        "print('###############################################################################')\n",
        "print(weights)\n",
        "\n",
        "print('Final Bias after 50 epochs:')\n",
        "print('###############################################################################')\n",
        "print(bias)"
      ],
      "execution_count": 14,
      "outputs": [
        {
          "output_type": "stream",
          "text": [
            "Epoch 0: Loss = 176731120.0000\n",
            "Epoch 1: Loss = 157933824.0000\n",
            "Epoch 2: Loss = 141282496.0000\n",
            "Epoch 3: Loss = 126532160.0000\n",
            "Epoch 4: Loss = 113465608.0000\n",
            "Epoch 5: Loss = 101890464.0000\n",
            "Epoch 6: Loss = 91636368.0000\n",
            "Epoch 7: Loss = 82552456.0000\n",
            "Epoch 8: Loss = 74505024.0000\n",
            "Epoch 9: Loss = 67375672.0000\n",
            "Epoch 10: Loss = 61059540.0000\n",
            "Epoch 11: Loss = 55463724.0000\n",
            "Epoch 12: Loss = 50505948.0000\n",
            "Epoch 13: Loss = 46113352.0000\n",
            "Epoch 14: Loss = 42221360.0000\n",
            "Epoch 15: Loss = 38772792.0000\n",
            "Epoch 16: Loss = 35717000.0000\n",
            "Epoch 17: Loss = 33009130.0000\n",
            "Epoch 18: Loss = 30609446.0000\n",
            "Epoch 19: Loss = 28482742.0000\n",
            "Epoch 20: Loss = 26597858.0000\n",
            "Epoch 21: Loss = 24927154.0000\n",
            "Epoch 22: Loss = 23446196.0000\n",
            "Epoch 23: Loss = 22133294.0000\n",
            "Epoch 24: Loss = 20969272.0000\n",
            "Epoch 25: Loss = 19937130.0000\n",
            "Epoch 26: Loss = 19021806.0000\n",
            "Epoch 27: Loss = 18209964.0000\n",
            "Epoch 28: Loss = 17489794.0000\n",
            "Epoch 29: Loss = 16850832.0000\n",
            "Epoch 30: Loss = 16283805.0000\n",
            "Epoch 31: Loss = 15780510.0000\n",
            "Epoch 32: Loss = 15333666.0000\n",
            "Epoch 33: Loss = 14936839.0000\n",
            "Epoch 34: Loss = 14584323.0000\n",
            "Epoch 35: Loss = 14271066.0000\n",
            "Epoch 36: Loss = 13992586.0000\n",
            "Epoch 37: Loss = 13744920.0000\n",
            "Epoch 38: Loss = 13524554.0000\n",
            "Epoch 39: Loss = 13328377.0000\n",
            "Epoch 40: Loss = 13153640.0000\n",
            "Epoch 41: Loss = 12997894.0000\n",
            "Epoch 42: Loss = 12858982.0000\n",
            "Epoch 43: Loss = 12734984.0000\n",
            "Epoch 44: Loss = 12624207.0000\n",
            "Epoch 45: Loss = 12525152.0000\n",
            "Epoch 46: Loss = 12436473.0000\n",
            "Epoch 47: Loss = 12357014.0000\n",
            "Epoch 48: Loss = 12285709.0000\n",
            "Epoch 49: Loss = 12221641.0000\n",
            "Final Weights after 50 epochs:\n",
            "###############################################################################\n",
            "<tf.Variable 'Variable:0' shape=(16, 1) dtype=float32, numpy=\n",
            "array([[3008.1316  ],\n",
            "       [1190.5148  ],\n",
            "       [2035.1709  ],\n",
            "       [ 605.12933 ],\n",
            "       [1614.7789  ],\n",
            "       [ 831.85315 ],\n",
            "       [ 515.2115  ],\n",
            "       [  34.478077],\n",
            "       [ 466.3804  ],\n",
            "       [ 203.20662 ],\n",
            "       [ 746.81555 ],\n",
            "       [ 910.93    ],\n",
            "       [ 410.437   ],\n",
            "       [ 135.7667  ],\n",
            "       [3421.83    ],\n",
            "       [ 833.2481  ]], dtype=float32)>\n",
            "Final Bias after 50 epochs:\n",
            "###############################################################################\n",
            "<tf.Variable 'Variable:0' shape=(1,) dtype=float32, numpy=array([4256.079], dtype=float32)>\n"
          ],
          "name": "stdout"
        }
      ]
    },
    {
      "cell_type": "markdown",
      "metadata": {
        "id": "bdgve0a7Jwwq",
        "colab_type": "text"
      },
      "source": [
        "#### Let us now test our model on the test data and predict on the test data."
      ]
    },
    {
      "cell_type": "code",
      "metadata": {
        "id": "zyXnEJiyqNjv",
        "colab_type": "code",
        "colab": {
          "base_uri": "https://localhost:8080/",
          "height": 34
        },
        "outputId": "18c90faf-25a3-4520-8ac4-c4f2f1f896c7"
      },
      "source": [
        "test_predictions = tf.matmul(X_test, weights) + bias\n",
        "print(compute_loss(y_test, test_predictions))"
      ],
      "execution_count": 15,
      "outputs": [
        {
          "output_type": "stream",
          "text": [
            "tf.Tensor(8548196.0, shape=(), dtype=float32)\n"
          ],
          "name": "stdout"
        }
      ]
    },
    {
      "cell_type": "markdown",
      "metadata": {
        "id": "X8xCBIesKGbY",
        "colab_type": "text"
      },
      "source": [
        "We learnt creating a very simple linear regression model on cars data and predicted prices. \n",
        "\n",
        "Though, we could have done an extensive EDA and further improved the model but we have focused on tensorflow and its operations.\n",
        "\n",
        "<i>Happy Learning!</i>"
      ]
    },
    {
      "cell_type": "code",
      "metadata": {
        "id": "mA4x01c3K9MO",
        "colab_type": "code",
        "colab": {}
      },
      "source": [
        ""
      ],
      "execution_count": null,
      "outputs": []
    }
  ]
}