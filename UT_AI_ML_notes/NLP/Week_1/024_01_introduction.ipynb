{
 "cells": [
  {
   "cell_type": "markdown",
   "metadata": {},
   "source": [
    "* Search engine\n",
    "    - Understanding the intent of queries\n",
    "    - Search engine on ecommerce websites\n",
    "\n",
    "* Language Translation\n",
    "    - https://translate.google.com/\n",
    "    - https://cloud.google.com/speech-to-text\n",
    "    \n",
    "* Next word predictor\n",
    "    - Gmail: auto completion\n",
    "    - Keyboard\n",
    "    - next phrase\n",
    "    - Auto correction\n",
    "    \n",
    "* Chatbots\n",
    "    - Mostly used for customer service interface\n",
    "    - They also assist humans in assiting large number of customer at the same time (suggest answers)\n",
    "    - Question & Answers\n",
    "    \n",
    "* Review summarization\n",
    "    - https://inshorts.com/ (Human + AI)\n",
    "    - https://www.amazon.in/Bose-Quiet-Comfort-Wireless-Headphone/dp/B0756CYWWD/ref=sr_1_3?crid=3TA0AERF5LFZ3&dchild=1&keywords=bose+headphones&qid=1614503972&sprefix=bose%2Caps%2C301&sr=8-3#customerReviews\n",
    "    \n",
    "    - Review tagging\n",
    "\n",
    "* sentiment analysis\n",
    "    - abusive/vulgar/ comments\n",
    "    - \n",
    "\n",
    "* Email spam\n",
    "* review classification\n",
    "    - Send to the appropriate team\n",
    "    \n",
    "* Resume shortlisting\n",
    "\n"
   ]
  },
  {
   "cell_type": "markdown",
   "metadata": {},
   "source": [
    "* Parallels to CV:\n",
    "    - Processing\n",
    "        - Gaussian Blur <> Image resizing\n",
    "        - Stemming; tokenization\n",
    "    - Spacy; nltk <> opencv\n",
    "    - Standford NLP; Allen NLP.\n",
    "    - Data augmentation\n",
    "        - https://amitness.com/2020/05/data-augmentation-for-nlp/\n",
    "    - AI techniques\n",
    "        - CNN\n",
    "        - RNN (Sequence data)\n",
    "        * both are currently under threat from new AI technique Transformers (BERT; GPT-3; Visual Transformer)\n",
    "        * in our sessions, we will not cover RNN; focus more on preprocessing techinques\n",
    "  \n",
    "  \n",
    "* NLU & NLG:\n",
    "    - NLU: NLU means an understanding of the textual and statistical data captured by computers. finding the intent behind the text.\n",
    "    - NLG: NLG is when computers turn structured data into text and write information in human language\n"
   ]
  },
  {
   "cell_type": "markdown",
   "metadata": {},
   "source": [
    "* introduction to Spacy\n",
    "* regular expression (regex)"
   ]
  },
  {
   "cell_type": "code",
   "execution_count": 2,
   "metadata": {
    "ExecuteTime": {
     "end_time": "2020-11-21T14:09:36.225165Z",
     "start_time": "2020-11-21T14:09:34.408941Z"
    }
   },
   "outputs": [],
   "source": [
    "# Import necessary libraries.\n",
    "\n",
    "import re, string, unicodedata\n",
    "import pandas as pd\n",
    "import nltk           \n",
    "                        # Natural language processing tool-kit\n",
    "#nltk.download('punkt')\n",
    "#nltk.download('stopwords')\n",
    "#nltk.download('wordnet')\n",
    "#nltk.download('averaged_perceptron_tagger', )\n",
    "#nltk.download('tagsets')\n",
    "\n",
    "#!pip install contractions\n",
    "import contractions\n",
    "\n",
    "from nltk import word_tokenize, sent_tokenize\n",
    "from nltk.corpus import stopwords, wordnet    # Stopwords, and wordnet corpus\n",
    "from nltk.stem import LancasterStemmer, WordNetLemmatizer"
   ]
  },
  {
   "cell_type": "code",
   "execution_count": 3,
   "metadata": {
    "ExecuteTime": {
     "end_time": "2020-11-21T14:09:36.231541Z",
     "start_time": "2020-11-21T14:09:36.228002Z"
    }
   },
   "outputs": [],
   "source": [
    "FILE_NAME = './corporate_messaging_dfe.csv'"
   ]
  },
  {
   "cell_type": "code",
   "execution_count": 4,
   "metadata": {
    "ExecuteTime": {
     "end_time": "2020-11-21T14:09:37.735247Z",
     "start_time": "2020-11-21T14:09:37.713508Z"
    }
   },
   "outputs": [],
   "source": [
    "# Load dataset.\n",
    "data = pd.read_csv(FILE_NAME)"
   ]
  },
  {
   "cell_type": "code",
   "execution_count": 5,
   "metadata": {
    "ExecuteTime": {
     "end_time": "2020-11-21T14:09:39.297054Z",
     "start_time": "2020-11-21T14:09:39.283141Z"
    }
   },
   "outputs": [
    {
     "data": {
      "text/plain": [
       "(3118, 11)"
      ]
     },
     "execution_count": 5,
     "metadata": {},
     "output_type": "execute_result"
    }
   ],
   "source": [
    "data.shape"
   ]
  },
  {
   "cell_type": "code",
   "execution_count": 6,
   "metadata": {
    "collapsed": true
   },
   "outputs": [
    {
     "data": {
      "text/html": [
       "<div>\n",
       "<style scoped>\n",
       "    .dataframe tbody tr th:only-of-type {\n",
       "        vertical-align: middle;\n",
       "    }\n",
       "\n",
       "    .dataframe tbody tr th {\n",
       "        vertical-align: top;\n",
       "    }\n",
       "\n",
       "    .dataframe thead th {\n",
       "        text-align: right;\n",
       "    }\n",
       "</style>\n",
       "<table border=\"1\" class=\"dataframe\">\n",
       "  <thead>\n",
       "    <tr style=\"text-align: right;\">\n",
       "      <th></th>\n",
       "      <th>unit_id</th>\n",
       "      <th>golden</th>\n",
       "      <th>unit_state</th>\n",
       "      <th>trusted_judgments</th>\n",
       "      <th>last_judgment_at</th>\n",
       "      <th>category</th>\n",
       "      <th>category_confidence</th>\n",
       "      <th>category_gold</th>\n",
       "      <th>id</th>\n",
       "      <th>screenname</th>\n",
       "      <th>text</th>\n",
       "    </tr>\n",
       "  </thead>\n",
       "  <tbody>\n",
       "    <tr>\n",
       "      <th>0</th>\n",
       "      <td>662822308</td>\n",
       "      <td>False</td>\n",
       "      <td>finalized</td>\n",
       "      <td>3</td>\n",
       "      <td>2015-02-18T04:31:00</td>\n",
       "      <td>Information</td>\n",
       "      <td>1.0</td>\n",
       "      <td>NaN</td>\n",
       "      <td>436528000000000000</td>\n",
       "      <td>Barclays</td>\n",
       "      <td>Barclays CEO stresses the importance of regula...</td>\n",
       "    </tr>\n",
       "    <tr>\n",
       "      <th>1</th>\n",
       "      <td>662822309</td>\n",
       "      <td>False</td>\n",
       "      <td>finalized</td>\n",
       "      <td>3</td>\n",
       "      <td>2015-02-18T13:55:00</td>\n",
       "      <td>Information</td>\n",
       "      <td>1.0</td>\n",
       "      <td>NaN</td>\n",
       "      <td>386013000000000000</td>\n",
       "      <td>Barclays</td>\n",
       "      <td>Barclays announces result of Rights Issue http...</td>\n",
       "    </tr>\n",
       "    <tr>\n",
       "      <th>2</th>\n",
       "      <td>662822310</td>\n",
       "      <td>False</td>\n",
       "      <td>finalized</td>\n",
       "      <td>3</td>\n",
       "      <td>2015-02-18T08:43:00</td>\n",
       "      <td>Information</td>\n",
       "      <td>1.0</td>\n",
       "      <td>NaN</td>\n",
       "      <td>379580000000000000</td>\n",
       "      <td>Barclays</td>\n",
       "      <td>Barclays publishes its prospectus for its �5.8...</td>\n",
       "    </tr>\n",
       "    <tr>\n",
       "      <th>3</th>\n",
       "      <td>662822311</td>\n",
       "      <td>False</td>\n",
       "      <td>finalized</td>\n",
       "      <td>3</td>\n",
       "      <td>2015-02-18T09:13:00</td>\n",
       "      <td>Information</td>\n",
       "      <td>1.0</td>\n",
       "      <td>NaN</td>\n",
       "      <td>367530000000000000</td>\n",
       "      <td>Barclays</td>\n",
       "      <td>Barclays Group Finance Director Chris Lucas is...</td>\n",
       "    </tr>\n",
       "    <tr>\n",
       "      <th>4</th>\n",
       "      <td>662822312</td>\n",
       "      <td>False</td>\n",
       "      <td>finalized</td>\n",
       "      <td>3</td>\n",
       "      <td>2015-02-18T06:48:00</td>\n",
       "      <td>Information</td>\n",
       "      <td>1.0</td>\n",
       "      <td>NaN</td>\n",
       "      <td>360385000000000000</td>\n",
       "      <td>Barclays</td>\n",
       "      <td>Barclays announces that Irene McDermott Brown ...</td>\n",
       "    </tr>\n",
       "  </tbody>\n",
       "</table>\n",
       "</div>"
      ],
      "text/plain": [
       "     unit_id  golden unit_state  trusted_judgments     last_judgment_at  \\\n",
       "0  662822308   False  finalized                  3  2015-02-18T04:31:00   \n",
       "1  662822309   False  finalized                  3  2015-02-18T13:55:00   \n",
       "2  662822310   False  finalized                  3  2015-02-18T08:43:00   \n",
       "3  662822311   False  finalized                  3  2015-02-18T09:13:00   \n",
       "4  662822312   False  finalized                  3  2015-02-18T06:48:00   \n",
       "\n",
       "      category  category_confidence category_gold                  id  \\\n",
       "0  Information                  1.0           NaN  436528000000000000   \n",
       "1  Information                  1.0           NaN  386013000000000000   \n",
       "2  Information                  1.0           NaN  379580000000000000   \n",
       "3  Information                  1.0           NaN  367530000000000000   \n",
       "4  Information                  1.0           NaN  360385000000000000   \n",
       "\n",
       "  screenname                                               text  \n",
       "0   Barclays  Barclays CEO stresses the importance of regula...  \n",
       "1   Barclays  Barclays announces result of Rights Issue http...  \n",
       "2   Barclays  Barclays publishes its prospectus for its �5.8...  \n",
       "3   Barclays  Barclays Group Finance Director Chris Lucas is...  \n",
       "4   Barclays  Barclays announces that Irene McDermott Brown ...  "
      ]
     },
     "execution_count": 6,
     "metadata": {},
     "output_type": "execute_result"
    }
   ],
   "source": [
    "data.head()"
   ]
  },
  {
   "cell_type": "code",
   "execution_count": 7,
   "metadata": {
    "ExecuteTime": {
     "end_time": "2020-11-21T14:09:39.875868Z",
     "start_time": "2020-11-21T14:09:39.869094Z"
    }
   },
   "outputs": [],
   "source": [
    "# Here we are going to deal with text data, so we seperate out the text column in a new dataframe: data\n",
    "data.drop(['golden', 'unit_state', 'trusted_judgments', 'last_judgment_at', 'category', \n",
    "           'category_confidence', 'category_gold', 'screenname'],\n",
    "          axis=1,\n",
    "          inplace=True\n",
    "         )\n"
   ]
  },
  {
   "cell_type": "code",
   "execution_count": 8,
   "metadata": {
    "ExecuteTime": {
     "end_time": "2020-11-21T14:09:40.552624Z",
     "start_time": "2020-11-21T14:09:40.548148Z"
    }
   },
   "outputs": [],
   "source": [
    "pd.set_option('display.max_colwidth', None)"
   ]
  },
  {
   "cell_type": "code",
   "execution_count": 9,
   "metadata": {
    "ExecuteTime": {
     "end_time": "2020-11-21T14:09:47.405155Z",
     "start_time": "2020-11-21T14:09:47.392543Z"
    }
   },
   "outputs": [
    {
     "data": {
      "text/html": [
       "<div>\n",
       "<style scoped>\n",
       "    .dataframe tbody tr th:only-of-type {\n",
       "        vertical-align: middle;\n",
       "    }\n",
       "\n",
       "    .dataframe tbody tr th {\n",
       "        vertical-align: top;\n",
       "    }\n",
       "\n",
       "    .dataframe thead th {\n",
       "        text-align: right;\n",
       "    }\n",
       "</style>\n",
       "<table border=\"1\" class=\"dataframe\">\n",
       "  <thead>\n",
       "    <tr style=\"text-align: right;\">\n",
       "      <th></th>\n",
       "      <th>unit_id</th>\n",
       "      <th>id</th>\n",
       "      <th>text</th>\n",
       "    </tr>\n",
       "  </thead>\n",
       "  <tbody>\n",
       "    <tr>\n",
       "      <th>0</th>\n",
       "      <td>662822308</td>\n",
       "      <td>436528000000000000</td>\n",
       "      <td>Barclays CEO stresses the importance of regulatory and cultural reform in financial services at Brussels conference  http://t.co/Ge9Lp7hpyG</td>\n",
       "    </tr>\n",
       "    <tr>\n",
       "      <th>1</th>\n",
       "      <td>662822309</td>\n",
       "      <td>386013000000000000</td>\n",
       "      <td>Barclays announces result of Rights Issue http://t.co/LbIqqh3wwG</td>\n",
       "    </tr>\n",
       "    <tr>\n",
       "      <th>2</th>\n",
       "      <td>662822310</td>\n",
       "      <td>379580000000000000</td>\n",
       "      <td>Barclays publishes its prospectus for its �5.8bn Rights Issue: http://t.co/YZk24iE8G6</td>\n",
       "    </tr>\n",
       "    <tr>\n",
       "      <th>3</th>\n",
       "      <td>662822311</td>\n",
       "      <td>367530000000000000</td>\n",
       "      <td>Barclays Group Finance Director Chris Lucas is to step down at the end of the week due to ill health http://t.co/nkuHoAfnSD</td>\n",
       "    </tr>\n",
       "    <tr>\n",
       "      <th>4</th>\n",
       "      <td>662822312</td>\n",
       "      <td>360385000000000000</td>\n",
       "      <td>Barclays announces that Irene McDermott Brown has been appointed as Group Human Resources Director http://t.co/c3fNGY6NMT</td>\n",
       "    </tr>\n",
       "  </tbody>\n",
       "</table>\n",
       "</div>"
      ],
      "text/plain": [
       "     unit_id                  id  \\\n",
       "0  662822308  436528000000000000   \n",
       "1  662822309  386013000000000000   \n",
       "2  662822310  379580000000000000   \n",
       "3  662822311  367530000000000000   \n",
       "4  662822312  360385000000000000   \n",
       "\n",
       "                                                                                                                                          text  \n",
       "0  Barclays CEO stresses the importance of regulatory and cultural reform in financial services at Brussels conference  http://t.co/Ge9Lp7hpyG  \n",
       "1                                                                             Barclays announces result of Rights Issue http://t.co/LbIqqh3wwG  \n",
       "2                                                        Barclays publishes its prospectus for its �5.8bn Rights Issue: http://t.co/YZk24iE8G6  \n",
       "3                  Barclays Group Finance Director Chris Lucas is to step down at the end of the week due to ill health http://t.co/nkuHoAfnSD  \n",
       "4                    Barclays announces that Irene McDermott Brown has been appointed as Group Human Resources Director http://t.co/c3fNGY6NMT  "
      ]
     },
     "execution_count": 9,
     "metadata": {},
     "output_type": "execute_result"
    }
   ],
   "source": [
    "data.head()"
   ]
  },
  {
   "cell_type": "code",
   "execution_count": 10,
   "metadata": {
    "ExecuteTime": {
     "end_time": "2020-11-19T15:36:00.061057Z",
     "start_time": "2020-11-19T15:36:00.040296Z"
    }
   },
   "outputs": [
    {
     "data": {
      "text/plain": [
       "[('he', 'PRP'), ('is', 'VBZ'), ('a', 'DT'), ('good', 'JJ'), ('boy', 'NN')]"
      ]
     },
     "execution_count": 10,
     "metadata": {},
     "output_type": "execute_result"
    }
   ],
   "source": [
    "l = WordNetLemmatizer()\n",
    "tokens_tag = nltk.pos_tag(word_tokenize(\"he is a good boy\"))\n",
    "tokens_tag"
   ]
  },
  {
   "cell_type": "code",
   "execution_count": 11,
   "metadata": {
    "collapsed": true
   },
   "outputs": [
    {
     "name": "stdout",
     "output_type": "stream",
     "text": [
      "$: dollar\n",
      "    $ -$ --$ A$ C$ HK$ M$ NZ$ S$ U.S.$ US$\n",
      "'': closing quotation mark\n",
      "    ' ''\n",
      "(: opening parenthesis\n",
      "    ( [ {\n",
      "): closing parenthesis\n",
      "    ) ] }\n",
      ",: comma\n",
      "    ,\n",
      "--: dash\n",
      "    --\n",
      ".: sentence terminator\n",
      "    . ! ?\n",
      ":: colon or ellipsis\n",
      "    : ; ...\n",
      "CC: conjunction, coordinating\n",
      "    & 'n and both but either et for less minus neither nor or plus so\n",
      "    therefore times v. versus vs. whether yet\n",
      "CD: numeral, cardinal\n",
      "    mid-1890 nine-thirty forty-two one-tenth ten million 0.5 one forty-\n",
      "    seven 1987 twenty '79 zero two 78-degrees eighty-four IX '60s .025\n",
      "    fifteen 271,124 dozen quintillion DM2,000 ...\n",
      "DT: determiner\n",
      "    all an another any both del each either every half la many much nary\n",
      "    neither no some such that the them these this those\n",
      "EX: existential there\n",
      "    there\n",
      "FW: foreign word\n",
      "    gemeinschaft hund ich jeux habeas Haementeria Herr K'ang-si vous\n",
      "    lutihaw alai je jour objets salutaris fille quibusdam pas trop Monte\n",
      "    terram fiche oui corporis ...\n",
      "IN: preposition or conjunction, subordinating\n",
      "    astride among uppon whether out inside pro despite on by throughout\n",
      "    below within for towards near behind atop around if like until below\n",
      "    next into if beside ...\n",
      "JJ: adjective or numeral, ordinal\n",
      "    third ill-mannered pre-war regrettable oiled calamitous first separable\n",
      "    ectoplasmic battery-powered participatory fourth still-to-be-named\n",
      "    multilingual multi-disciplinary ...\n",
      "JJR: adjective, comparative\n",
      "    bleaker braver breezier briefer brighter brisker broader bumper busier\n",
      "    calmer cheaper choosier cleaner clearer closer colder commoner costlier\n",
      "    cozier creamier crunchier cuter ...\n",
      "JJS: adjective, superlative\n",
      "    calmest cheapest choicest classiest cleanest clearest closest commonest\n",
      "    corniest costliest crassest creepiest crudest cutest darkest deadliest\n",
      "    dearest deepest densest dinkiest ...\n",
      "LS: list item marker\n",
      "    A A. B B. C C. D E F First G H I J K One SP-44001 SP-44002 SP-44005\n",
      "    SP-44007 Second Third Three Two * a b c d first five four one six three\n",
      "    two\n",
      "MD: modal auxiliary\n",
      "    can cannot could couldn't dare may might must need ought shall should\n",
      "    shouldn't will would\n",
      "NN: noun, common, singular or mass\n",
      "    common-carrier cabbage knuckle-duster Casino afghan shed thermostat\n",
      "    investment slide humour falloff slick wind hyena override subhumanity\n",
      "    machinist ...\n",
      "NNP: noun, proper, singular\n",
      "    Motown Venneboerger Czestochwa Ranzer Conchita Trumplane Christos\n",
      "    Oceanside Escobar Kreisler Sawyer Cougar Yvette Ervin ODI Darryl CTCA\n",
      "    Shannon A.K.C. Meltex Liverpool ...\n",
      "NNPS: noun, proper, plural\n",
      "    Americans Americas Amharas Amityvilles Amusements Anarcho-Syndicalists\n",
      "    Andalusians Andes Andruses Angels Animals Anthony Antilles Antiques\n",
      "    Apache Apaches Apocrypha ...\n",
      "NNS: noun, common, plural\n",
      "    undergraduates scotches bric-a-brac products bodyguards facets coasts\n",
      "    divestitures storehouses designs clubs fragrances averages\n",
      "    subjectivists apprehensions muses factory-jobs ...\n",
      "PDT: pre-determiner\n",
      "    all both half many quite such sure this\n",
      "POS: genitive marker\n",
      "    ' 's\n",
      "PRP: pronoun, personal\n",
      "    hers herself him himself hisself it itself me myself one oneself ours\n",
      "    ourselves ownself self she thee theirs them themselves they thou thy us\n",
      "PRP$: pronoun, possessive\n",
      "    her his mine my our ours their thy your\n",
      "RB: adverb\n",
      "    occasionally unabatingly maddeningly adventurously professedly\n",
      "    stirringly prominently technologically magisterially predominately\n",
      "    swiftly fiscally pitilessly ...\n",
      "RBR: adverb, comparative\n",
      "    further gloomier grander graver greater grimmer harder harsher\n",
      "    healthier heavier higher however larger later leaner lengthier less-\n",
      "    perfectly lesser lonelier longer louder lower more ...\n",
      "RBS: adverb, superlative\n",
      "    best biggest bluntest earliest farthest first furthest hardest\n",
      "    heartiest highest largest least less most nearest second tightest worst\n",
      "RP: particle\n",
      "    aboard about across along apart around aside at away back before behind\n",
      "    by crop down ever fast for forth from go high i.e. in into just later\n",
      "    low more off on open out over per pie raising start teeth that through\n",
      "    under unto up up-pp upon whole with you\n",
      "SYM: symbol\n",
      "    % & ' '' ''. ) ). * + ,. < = > @ A[fj] U.S U.S.S.R * ** ***\n",
      "TO: \"to\" as preposition or infinitive marker\n",
      "    to\n",
      "UH: interjection\n",
      "    Goodbye Goody Gosh Wow Jeepers Jee-sus Hubba Hey Kee-reist Oops amen\n",
      "    huh howdy uh dammit whammo shucks heck anyways whodunnit honey golly\n",
      "    man baby diddle hush sonuvabitch ...\n",
      "VB: verb, base form\n",
      "    ask assemble assess assign assume atone attention avoid bake balkanize\n",
      "    bank begin behold believe bend benefit bevel beware bless boil bomb\n",
      "    boost brace break bring broil brush build ...\n",
      "VBD: verb, past tense\n",
      "    dipped pleaded swiped regummed soaked tidied convened halted registered\n",
      "    cushioned exacted snubbed strode aimed adopted belied figgered\n",
      "    speculated wore appreciated contemplated ...\n",
      "VBG: verb, present participle or gerund\n",
      "    telegraphing stirring focusing angering judging stalling lactating\n",
      "    hankerin' alleging veering capping approaching traveling besieging\n",
      "    encrypting interrupting erasing wincing ...\n",
      "VBN: verb, past participle\n",
      "    multihulled dilapidated aerosolized chaired languished panelized used\n",
      "    experimented flourished imitated reunifed factored condensed sheared\n",
      "    unsettled primed dubbed desired ...\n",
      "VBP: verb, present tense, not 3rd person singular\n",
      "    predominate wrap resort sue twist spill cure lengthen brush terminate\n",
      "    appear tend stray glisten obtain comprise detest tease attract\n",
      "    emphasize mold postpone sever return wag ...\n",
      "VBZ: verb, present tense, 3rd person singular\n",
      "    bases reconstructs marks mixes displeases seals carps weaves snatches\n",
      "    slumps stretches authorizes smolders pictures emerges stockpiles\n",
      "    seduces fizzes uses bolsters slaps speaks pleads ...\n",
      "WDT: WH-determiner\n",
      "    that what whatever which whichever\n",
      "WP: WH-pronoun\n",
      "    that what whatever whatsoever which who whom whosoever\n",
      "WP$: WH-pronoun, possessive\n",
      "    whose\n",
      "WRB: Wh-adverb\n",
      "    how however whence whenever where whereby whereever wherein whereof why\n",
      "``: opening quotation mark\n",
      "    ` ``\n"
     ]
    }
   ],
   "source": [
    "nltk.help.upenn_tagset()"
   ]
  },
  {
   "cell_type": "code",
   "execution_count": 15,
   "metadata": {},
   "outputs": [
    {
     "data": {
      "text/plain": [
       "'bet'"
      ]
     },
     "execution_count": 15,
     "metadata": {},
     "output_type": "execute_result"
    }
   ],
   "source": [
    "s=LancasterStemmer()\n",
    "s.stem(\"better\")"
   ]
  },
  {
   "cell_type": "code",
   "execution_count": null,
   "metadata": {},
   "outputs": [],
   "source": [
    "l.s"
   ]
  },
  {
   "cell_type": "code",
   "execution_count": 13,
   "metadata": {
    "ExecuteTime": {
     "end_time": "2020-11-19T15:36:25.454246Z",
     "start_time": "2020-11-19T15:36:25.447804Z"
    }
   },
   "outputs": [
    {
     "data": {
      "text/plain": [
       "'better'"
      ]
     },
     "execution_count": 13,
     "metadata": {},
     "output_type": "execute_result"
    }
   ],
   "source": [
    "l.lemmatize(\"better\", pos='n')"
   ]
  },
  {
   "cell_type": "code",
   "execution_count": 16,
   "metadata": {},
   "outputs": [],
   "source": [
    "import re"
   ]
  },
  {
   "cell_type": "code",
   "execution_count": 17,
   "metadata": {
    "ExecuteTime": {
     "end_time": "2020-11-21T14:12:37.908615Z",
     "start_time": "2020-11-21T14:12:37.902786Z"
    }
   },
   "outputs": [
    {
     "data": {
      "text/plain": [
       "'t Brussels conference  abs'"
      ]
     },
     "execution_count": 17,
     "metadata": {},
     "output_type": "execute_result"
    }
   ],
   "source": [
    "re.sub(r\"http\\S+\", \"\", \"t Brussels conference http://t.co/Ge9Lp7hpyG abs\")"
   ]
  },
  {
   "cell_type": "code",
   "execution_count": 18,
   "metadata": {
    "ExecuteTime": {
     "end_time": "2020-11-21T14:24:32.587472Z",
     "start_time": "2020-11-21T14:24:32.277430Z"
    }
   },
   "outputs": [],
   "source": [
    "# Removal of the http link using Regular Expression.\n",
    "for i, row in data.iterrows():\n",
    "    clean_text = re.sub(r\"http\\S+\", \"\", data.at[i, 'text'])\n",
    "    data.at[i,'text'] = clean_text"
   ]
  },
  {
   "cell_type": "code",
   "execution_count": 19,
   "metadata": {
    "ExecuteTime": {
     "end_time": "2020-11-21T14:24:33.279568Z",
     "start_time": "2020-11-21T14:24:33.268281Z"
    }
   },
   "outputs": [
    {
     "data": {
      "text/html": [
       "<div>\n",
       "<style scoped>\n",
       "    .dataframe tbody tr th:only-of-type {\n",
       "        vertical-align: middle;\n",
       "    }\n",
       "\n",
       "    .dataframe tbody tr th {\n",
       "        vertical-align: top;\n",
       "    }\n",
       "\n",
       "    .dataframe thead th {\n",
       "        text-align: right;\n",
       "    }\n",
       "</style>\n",
       "<table border=\"1\" class=\"dataframe\">\n",
       "  <thead>\n",
       "    <tr style=\"text-align: right;\">\n",
       "      <th></th>\n",
       "      <th>unit_id</th>\n",
       "      <th>id</th>\n",
       "      <th>text</th>\n",
       "    </tr>\n",
       "  </thead>\n",
       "  <tbody>\n",
       "    <tr>\n",
       "      <th>0</th>\n",
       "      <td>662822308</td>\n",
       "      <td>436528000000000000</td>\n",
       "      <td>Barclays CEO stresses the importance of regulatory and cultural reform in financial services at Brussels conference</td>\n",
       "    </tr>\n",
       "    <tr>\n",
       "      <th>1</th>\n",
       "      <td>662822309</td>\n",
       "      <td>386013000000000000</td>\n",
       "      <td>Barclays announces result of Rights Issue</td>\n",
       "    </tr>\n",
       "    <tr>\n",
       "      <th>2</th>\n",
       "      <td>662822310</td>\n",
       "      <td>379580000000000000</td>\n",
       "      <td>Barclays publishes its prospectus for its �5.8bn Rights Issue:</td>\n",
       "    </tr>\n",
       "    <tr>\n",
       "      <th>3</th>\n",
       "      <td>662822311</td>\n",
       "      <td>367530000000000000</td>\n",
       "      <td>Barclays Group Finance Director Chris Lucas is to step down at the end of the week due to ill health</td>\n",
       "    </tr>\n",
       "    <tr>\n",
       "      <th>4</th>\n",
       "      <td>662822312</td>\n",
       "      <td>360385000000000000</td>\n",
       "      <td>Barclays announces that Irene McDermott Brown has been appointed as Group Human Resources Director</td>\n",
       "    </tr>\n",
       "  </tbody>\n",
       "</table>\n",
       "</div>"
      ],
      "text/plain": [
       "     unit_id                  id  \\\n",
       "0  662822308  436528000000000000   \n",
       "1  662822309  386013000000000000   \n",
       "2  662822310  379580000000000000   \n",
       "3  662822311  367530000000000000   \n",
       "4  662822312  360385000000000000   \n",
       "\n",
       "                                                                                                                    text  \n",
       "0  Barclays CEO stresses the importance of regulatory and cultural reform in financial services at Brussels conference    \n",
       "1                                                                             Barclays announces result of Rights Issue   \n",
       "2                                                        Barclays publishes its prospectus for its �5.8bn Rights Issue:   \n",
       "3                  Barclays Group Finance Director Chris Lucas is to step down at the end of the week due to ill health   \n",
       "4                    Barclays announces that Irene McDermott Brown has been appointed as Group Human Resources Director   "
      ]
     },
     "execution_count": 19,
     "metadata": {},
     "output_type": "execute_result"
    }
   ],
   "source": [
    "data.head()"
   ]
  },
  {
   "cell_type": "code",
   "execution_count": 20,
   "metadata": {
    "ExecuteTime": {
     "end_time": "2020-11-21T14:25:53.701523Z",
     "start_time": "2020-11-21T14:25:53.696801Z"
    }
   },
   "outputs": [
    {
     "data": {
      "text/plain": [
       "'you are can not'"
      ]
     },
     "execution_count": 20,
     "metadata": {},
     "output_type": "execute_result"
    }
   ],
   "source": [
    "contractions.fix(\"you're can't\") #you are can not"
   ]
  },
  {
   "cell_type": "code",
   "execution_count": 21,
   "metadata": {
    "ExecuteTime": {
     "end_time": "2020-11-21T14:26:08.776408Z",
     "start_time": "2020-11-21T14:26:08.423174Z"
    }
   },
   "outputs": [
    {
     "data": {
      "text/html": [
       "<div>\n",
       "<style scoped>\n",
       "    .dataframe tbody tr th:only-of-type {\n",
       "        vertical-align: middle;\n",
       "    }\n",
       "\n",
       "    .dataframe tbody tr th {\n",
       "        vertical-align: top;\n",
       "    }\n",
       "\n",
       "    .dataframe thead th {\n",
       "        text-align: right;\n",
       "    }\n",
       "</style>\n",
       "<table border=\"1\" class=\"dataframe\">\n",
       "  <thead>\n",
       "    <tr style=\"text-align: right;\">\n",
       "      <th></th>\n",
       "      <th>unit_id</th>\n",
       "      <th>id</th>\n",
       "      <th>text</th>\n",
       "    </tr>\n",
       "  </thead>\n",
       "  <tbody>\n",
       "    <tr>\n",
       "      <th>0</th>\n",
       "      <td>662822308</td>\n",
       "      <td>436528000000000000</td>\n",
       "      <td>Barclays CEO stresses the importance of regulatory and cultural reform in financial services at Brussels conference</td>\n",
       "    </tr>\n",
       "    <tr>\n",
       "      <th>1</th>\n",
       "      <td>662822309</td>\n",
       "      <td>386013000000000000</td>\n",
       "      <td>Barclays announces result of Rights Issue</td>\n",
       "    </tr>\n",
       "    <tr>\n",
       "      <th>2</th>\n",
       "      <td>662822310</td>\n",
       "      <td>379580000000000000</td>\n",
       "      <td>Barclays publishes its prospectus for its �5.8bn Rights Issue:</td>\n",
       "    </tr>\n",
       "    <tr>\n",
       "      <th>3</th>\n",
       "      <td>662822311</td>\n",
       "      <td>367530000000000000</td>\n",
       "      <td>Barclays Group Finance Director Chris Lucas is to step down at the end of the week due to ill health</td>\n",
       "    </tr>\n",
       "    <tr>\n",
       "      <th>4</th>\n",
       "      <td>662822312</td>\n",
       "      <td>360385000000000000</td>\n",
       "      <td>Barclays announces that Irene McDermott Brown has been appointed as Group Human Resources Director</td>\n",
       "    </tr>\n",
       "  </tbody>\n",
       "</table>\n",
       "</div>"
      ],
      "text/plain": [
       "     unit_id                  id  \\\n",
       "0  662822308  436528000000000000   \n",
       "1  662822309  386013000000000000   \n",
       "2  662822310  379580000000000000   \n",
       "3  662822311  367530000000000000   \n",
       "4  662822312  360385000000000000   \n",
       "\n",
       "                                                                                                                    text  \n",
       "0  Barclays CEO stresses the importance of regulatory and cultural reform in financial services at Brussels conference    \n",
       "1                                                                             Barclays announces result of Rights Issue   \n",
       "2                                                        Barclays publishes its prospectus for its �5.8bn Rights Issue:   \n",
       "3                  Barclays Group Finance Director Chris Lucas is to step down at the end of the week due to ill health   \n",
       "4                    Barclays announces that Irene McDermott Brown has been appointed as Group Human Resources Director   "
      ]
     },
     "execution_count": 21,
     "metadata": {},
     "output_type": "execute_result"
    }
   ],
   "source": [
    "def replace_contractions(text):\n",
    "    \"\"\"Replace contractions in string of text\"\"\"\n",
    "    return contractions.fix(text)\n",
    "\n",
    "# Perform the above operation over all the rows of text column of the dataframe.\n",
    "for i, row in data.iterrows():\n",
    "    text = data.at[i, 'text']\n",
    "    clean_text = replace_contractions(text)\n",
    "    data.at[i,'text'] = clean_text\n",
    "data.head()"
   ]
  },
  {
   "cell_type": "code",
   "execution_count": 22,
   "metadata": {
    "ExecuteTime": {
     "end_time": "2020-11-21T14:26:31.715799Z",
     "start_time": "2020-11-21T14:26:30.790783Z"
    }
   },
   "outputs": [
    {
     "data": {
      "text/html": [
       "<div>\n",
       "<style scoped>\n",
       "    .dataframe tbody tr th:only-of-type {\n",
       "        vertical-align: middle;\n",
       "    }\n",
       "\n",
       "    .dataframe tbody tr th {\n",
       "        vertical-align: top;\n",
       "    }\n",
       "\n",
       "    .dataframe thead th {\n",
       "        text-align: right;\n",
       "    }\n",
       "</style>\n",
       "<table border=\"1\" class=\"dataframe\">\n",
       "  <thead>\n",
       "    <tr style=\"text-align: right;\">\n",
       "      <th></th>\n",
       "      <th>unit_id</th>\n",
       "      <th>id</th>\n",
       "      <th>text</th>\n",
       "    </tr>\n",
       "  </thead>\n",
       "  <tbody>\n",
       "    <tr>\n",
       "      <th>0</th>\n",
       "      <td>662822308</td>\n",
       "      <td>436528000000000000</td>\n",
       "      <td>[Barclays, CEO, stresses, the, importance, of, regulatory, and, cultural, reform, in, financial, services, at, Brussels, conference]</td>\n",
       "    </tr>\n",
       "    <tr>\n",
       "      <th>1</th>\n",
       "      <td>662822309</td>\n",
       "      <td>386013000000000000</td>\n",
       "      <td>[Barclays, announces, result, of, Rights, Issue]</td>\n",
       "    </tr>\n",
       "    <tr>\n",
       "      <th>2</th>\n",
       "      <td>662822310</td>\n",
       "      <td>379580000000000000</td>\n",
       "      <td>[Barclays, publishes, its, prospectus, for, its, �5.8bn, Rights, Issue, :]</td>\n",
       "    </tr>\n",
       "    <tr>\n",
       "      <th>3</th>\n",
       "      <td>662822311</td>\n",
       "      <td>367530000000000000</td>\n",
       "      <td>[Barclays, Group, Finance, Director, Chris, Lucas, is, to, step, down, at, the, end, of, the, week, due, to, ill, health]</td>\n",
       "    </tr>\n",
       "    <tr>\n",
       "      <th>4</th>\n",
       "      <td>662822312</td>\n",
       "      <td>360385000000000000</td>\n",
       "      <td>[Barclays, announces, that, Irene, McDermott, Brown, has, been, appointed, as, Group, Human, Resources, Director]</td>\n",
       "    </tr>\n",
       "  </tbody>\n",
       "</table>\n",
       "</div>"
      ],
      "text/plain": [
       "     unit_id                  id  \\\n",
       "0  662822308  436528000000000000   \n",
       "1  662822309  386013000000000000   \n",
       "2  662822310  379580000000000000   \n",
       "3  662822311  367530000000000000   \n",
       "4  662822312  360385000000000000   \n",
       "\n",
       "                                                                                                                                   text  \n",
       "0  [Barclays, CEO, stresses, the, importance, of, regulatory, and, cultural, reform, in, financial, services, at, Brussels, conference]  \n",
       "1                                                                                      [Barclays, announces, result, of, Rights, Issue]  \n",
       "2                                                            [Barclays, publishes, its, prospectus, for, its, �5.8bn, Rights, Issue, :]  \n",
       "3             [Barclays, Group, Finance, Director, Chris, Lucas, is, to, step, down, at, the, end, of, the, week, due, to, ill, health]  \n",
       "4                     [Barclays, announces, that, Irene, McDermott, Brown, has, been, appointed, as, Group, Human, Resources, Director]  "
      ]
     },
     "execution_count": 22,
     "metadata": {},
     "output_type": "execute_result"
    }
   ],
   "source": [
    "# Tokenize the words of whole dataframe.\n",
    "for i, row in data.iterrows():\n",
    "    text = data.at[i, 'text']\n",
    "    words = nltk.word_tokenize(text)\n",
    "    data.at[i,'text'] = words\n",
    "data.head()"
   ]
  },
  {
   "cell_type": "code",
   "execution_count": 26,
   "metadata": {},
   "outputs": [
    {
     "data": {
      "text/plain": [
       "65533"
      ]
     },
     "execution_count": 26,
     "metadata": {},
     "output_type": "execute_result"
    }
   ],
   "source": [
    "ord('�')"
   ]
  },
  {
   "cell_type": "code",
   "execution_count": null,
   "metadata": {},
   "outputs": [],
   "source": [
    "ord('*'), chr(42), chr(1000000), ord('�'), chr(65533)"
   ]
  },
  {
   "cell_type": "code",
   "execution_count": 30,
   "metadata": {},
   "outputs": [
    {
     "data": {
      "text/plain": [
       "(65318, 70)"
      ]
     },
     "execution_count": 30,
     "metadata": {},
     "output_type": "execute_result"
    }
   ],
   "source": [
    "ord(s), ord('F')"
   ]
  },
  {
   "cell_type": "code",
   "execution_count": 32,
   "metadata": {},
   "outputs": [
    {
     "data": {
      "text/plain": [
       "False"
      ]
     },
     "execution_count": 32,
     "metadata": {},
     "output_type": "execute_result"
    }
   ],
   "source": [
    "s = 'Ｆ' #pasted from the sentence below\n",
    "\n",
    "s=='F' #keyboard"
   ]
  },
  {
   "cell_type": "code",
   "execution_count": 33,
   "metadata": {},
   "outputs": [
    {
     "data": {
      "text/plain": [
       "True"
      ]
     },
     "execution_count": 33,
     "metadata": {},
     "output_type": "execute_result"
    }
   ],
   "source": [
    "s = 'Ｆ'\n",
    "unicodedata.normalize('NFKD', s) == 'F'"
   ]
  },
  {
   "cell_type": "code",
   "execution_count": 39,
   "metadata": {},
   "outputs": [
    {
     "data": {
      "text/plain": [
       "b'\\xe6\\xa0\\xaa\\xe5\\xbc\\x8f\\xe4\\xbc\\x9a\\xe7\\xa4\\xbeKADOKAWA Future Publishing'"
      ]
     },
     "execution_count": 39,
     "metadata": {},
     "output_type": "execute_result"
    }
   ],
   "source": [
    "s = \"株式会社ＫＡＤＯＫＡＷＡ Ｆｕｔｕｒｅ Ｐｕｂｌｉｓｈｉｎｇ\"\n",
    "unicodedata.normalize('NFKD', s).encode('utf-8', 'ignore')"
   ]
  },
  {
   "cell_type": "code",
   "execution_count": 40,
   "metadata": {},
   "outputs": [
    {
     "data": {
      "text/plain": [
       "b'KADOKAWA Future Publishing'"
      ]
     },
     "execution_count": 40,
     "metadata": {},
     "output_type": "execute_result"
    }
   ],
   "source": [
    "s = \"株式会社ＫＡＤＯＫＡＷＡ Ｆｕｔｕｒｅ Ｐｕｂｌｉｓｈｉｎｇ\"\n",
    "unicodedata.normalize('NFKD', s).encode('ascii', 'ignore')"
   ]
  },
  {
   "cell_type": "code",
   "execution_count": 37,
   "metadata": {},
   "outputs": [
    {
     "data": {
      "text/plain": [
       "bytes"
      ]
     },
     "execution_count": 37,
     "metadata": {},
     "output_type": "execute_result"
    }
   ],
   "source": [
    "word=\"Hola estás ahí\"\n",
    "type(unicodedata.normalize('NFKD', word).encode('ascii', 'ignore'))"
   ]
  },
  {
   "cell_type": "code",
   "execution_count": 35,
   "metadata": {},
   "outputs": [
    {
     "data": {
      "text/plain": [
       "b'Hola esta\\xcc\\x81s ahi\\xcc\\x81'"
      ]
     },
     "execution_count": 35,
     "metadata": {},
     "output_type": "execute_result"
    }
   ],
   "source": [
    "word=\"Hola estás ahí\"\n",
    "unicodedata.normalize('NFKD', word).encode('utf-8', 'ignore')"
   ]
  },
  {
   "cell_type": "code",
   "execution_count": 38,
   "metadata": {},
   "outputs": [
    {
     "data": {
      "text/plain": [
       "'Hola estas ahi'"
      ]
     },
     "execution_count": 38,
     "metadata": {},
     "output_type": "execute_result"
    }
   ],
   "source": [
    "word=\"Hola estás ahí\"\n",
    "word = unicodedata.normalize('NFKD', word).encode('utf-8', 'ignore').decode('ascii', 'ignore')\n",
    "word"
   ]
  },
  {
   "cell_type": "code",
   "execution_count": null,
   "metadata": {
    "ExecuteTime": {
     "end_time": "2020-11-21T14:34:52.489878Z",
     "start_time": "2020-11-21T14:34:52.483169Z"
    }
   },
   "outputs": [],
   "source": [
    "word=\"Hola estás ahí\"\n",
    "word = unicodedata.normalize('NFKD', word).encode('ascii', 'ignore').decode('ascii', 'ignore')\n",
    "word"
   ]
  },
  {
   "cell_type": "code",
   "execution_count": 41,
   "metadata": {
    "ExecuteTime": {
     "end_time": "2020-11-21T14:35:42.652223Z",
     "start_time": "2020-11-21T14:35:42.645950Z"
    }
   },
   "outputs": [],
   "source": [
    "def remove_non_ascii(words):\n",
    "    \"\"\"Remove non-ASCII characters from list of tokenized words\"\"\"\n",
    "    new_words = []                      # Create empty list to store pre-processed words.\n",
    "    for word in words:\n",
    "        new_word = unicodedata.normalize('NFKD', word).encode('ascii', 'ignore').decode('ascii', 'ignore')\n",
    "        new_words.append(new_word)        # Append processed words to new list.\n",
    "    return new_words"
   ]
  },
  {
   "cell_type": "code",
   "execution_count": 42,
   "metadata": {
    "ExecuteTime": {
     "end_time": "2020-11-21T14:37:05.708507Z",
     "start_time": "2020-11-21T14:37:05.702892Z"
    }
   },
   "outputs": [],
   "source": [
    "def to_lowercase(words):\n",
    "    \"\"\"Convert all characters to lowercase from list of tokenized words\"\"\"\n",
    "    new_words = []                        # Create empty list to store pre-processed words.\n",
    "    for word in words:\n",
    "        new_word = word.lower()           # Converting to lowercase\n",
    "        new_words.append(new_word)        # Append processed words to new list.\n",
    "    return new_words"
   ]
  },
  {
   "cell_type": "code",
   "execution_count": 44,
   "metadata": {},
   "outputs": [
    {
     "data": {
      "text/html": [
       "<div>\n",
       "<style scoped>\n",
       "    .dataframe tbody tr th:only-of-type {\n",
       "        vertical-align: middle;\n",
       "    }\n",
       "\n",
       "    .dataframe tbody tr th {\n",
       "        vertical-align: top;\n",
       "    }\n",
       "\n",
       "    .dataframe thead th {\n",
       "        text-align: right;\n",
       "    }\n",
       "</style>\n",
       "<table border=\"1\" class=\"dataframe\">\n",
       "  <thead>\n",
       "    <tr style=\"text-align: right;\">\n",
       "      <th></th>\n",
       "      <th>unit_id</th>\n",
       "      <th>id</th>\n",
       "      <th>text</th>\n",
       "    </tr>\n",
       "  </thead>\n",
       "  <tbody>\n",
       "    <tr>\n",
       "      <th>0</th>\n",
       "      <td>662822308</td>\n",
       "      <td>436528000000000000</td>\n",
       "      <td>[Barclays, CEO, stresses, the, importance, of, regulatory, and, cultural, reform, in, financial, services, at, Brussels, conference]</td>\n",
       "    </tr>\n",
       "    <tr>\n",
       "      <th>1</th>\n",
       "      <td>662822309</td>\n",
       "      <td>386013000000000000</td>\n",
       "      <td>[Barclays, announces, result, of, Rights, Issue]</td>\n",
       "    </tr>\n",
       "    <tr>\n",
       "      <th>2</th>\n",
       "      <td>662822310</td>\n",
       "      <td>379580000000000000</td>\n",
       "      <td>[Barclays, publishes, its, prospectus, for, its, �5.8bn, Rights, Issue, :]</td>\n",
       "    </tr>\n",
       "    <tr>\n",
       "      <th>3</th>\n",
       "      <td>662822311</td>\n",
       "      <td>367530000000000000</td>\n",
       "      <td>[Barclays, Group, Finance, Director, Chris, Lucas, is, to, step, down, at, the, end, of, the, week, due, to, ill, health]</td>\n",
       "    </tr>\n",
       "    <tr>\n",
       "      <th>4</th>\n",
       "      <td>662822312</td>\n",
       "      <td>360385000000000000</td>\n",
       "      <td>[Barclays, announces, that, Irene, McDermott, Brown, has, been, appointed, as, Group, Human, Resources, Director]</td>\n",
       "    </tr>\n",
       "  </tbody>\n",
       "</table>\n",
       "</div>"
      ],
      "text/plain": [
       "     unit_id                  id  \\\n",
       "0  662822308  436528000000000000   \n",
       "1  662822309  386013000000000000   \n",
       "2  662822310  379580000000000000   \n",
       "3  662822311  367530000000000000   \n",
       "4  662822312  360385000000000000   \n",
       "\n",
       "                                                                                                                                   text  \n",
       "0  [Barclays, CEO, stresses, the, importance, of, regulatory, and, cultural, reform, in, financial, services, at, Brussels, conference]  \n",
       "1                                                                                      [Barclays, announces, result, of, Rights, Issue]  \n",
       "2                                                            [Barclays, publishes, its, prospectus, for, its, �5.8bn, Rights, Issue, :]  \n",
       "3             [Barclays, Group, Finance, Director, Chris, Lucas, is, to, step, down, at, the, end, of, the, week, due, to, ill, health]  \n",
       "4                     [Barclays, announces, that, Irene, McDermott, Brown, has, been, appointed, as, Group, Human, Resources, Director]  "
      ]
     },
     "execution_count": 44,
     "metadata": {},
     "output_type": "execute_result"
    }
   ],
   "source": [
    "data.head()"
   ]
  },
  {
   "cell_type": "markdown",
   "metadata": {},
   "source": [
    "# Lowercasing\n",
    "\n",
    "- Lowercasing ALL your text data, although commonly overlooked, is one of the simplest and most effective form of text preprocessing. It is applicable to most text mining and NLP problems and can help in cases where your dataset is not very large and significantly helps with consistency of expected output.\n",
    "\n",
    "- An example where lowercasing is very useful is for search. Imagine, you are looking for documents containing “usa”. However, no results were showing up because “usa” was indexed as “USA”.\n",
    "\n",
    "- An example where lowercasing may result in inaccuracy is in predicting the programming language of a source code file. The word System in Java is quite different from system in python. Lowercasing the two makes them identical, causing the classifier to lose important predictive features. While lowercasing is generally helpful, it may not be applicable for all tasks."
   ]
  },
  {
   "cell_type": "code",
   "execution_count": 49,
   "metadata": {
    "ExecuteTime": {
     "end_time": "2020-11-21T14:38:24.190244Z",
     "start_time": "2020-11-21T14:38:24.186474Z"
    }
   },
   "outputs": [],
   "source": [
    "p = re.compile(r'[^\\w\\s]')"
   ]
  },
  {
   "cell_type": "code",
   "execution_count": 50,
   "metadata": {
    "ExecuteTime": {
     "end_time": "2020-11-21T14:38:43.552895Z",
     "start_time": "2020-11-21T14:38:43.545983Z"
    }
   },
   "outputs": [
    {
     "data": {
      "text/plain": [
       "'1213 hewewo323'"
      ]
     },
     "execution_count": 50,
     "metadata": {},
     "output_type": "execute_result"
    }
   ],
   "source": [
    "p.sub('',\"1213 hewewo...+@323+#\")"
   ]
  },
  {
   "cell_type": "code",
   "execution_count": 51,
   "metadata": {
    "ExecuteTime": {
     "end_time": "2020-11-21T14:39:09.815608Z",
     "start_time": "2020-11-21T14:39:09.810322Z"
    }
   },
   "outputs": [],
   "source": [
    "def remove_punctuation(words):\n",
    "    \"\"\"Remove punctuation from list of tokenized words\"\"\"\n",
    "    new_words = []                       # Create empty list to store pre-processed words.\n",
    "    for word in words:\n",
    "        new_word = re.sub(r'[^\\w\\s]', '', word)\n",
    "        if new_word != '':\n",
    "            new_words.append(new_word)    # Append processed words to new list.\n",
    "    return new_words"
   ]
  },
  {
   "cell_type": "code",
   "execution_count": 52,
   "metadata": {
    "collapsed": true
   },
   "outputs": [
    {
     "data": {
      "text/plain": [
       "['i',\n",
       " 'me',\n",
       " 'my',\n",
       " 'myself',\n",
       " 'we',\n",
       " 'our',\n",
       " 'ours',\n",
       " 'ourselves',\n",
       " 'you',\n",
       " \"you're\",\n",
       " \"you've\",\n",
       " \"you'll\",\n",
       " \"you'd\",\n",
       " 'your',\n",
       " 'yours',\n",
       " 'yourself',\n",
       " 'yourselves',\n",
       " 'he',\n",
       " 'him',\n",
       " 'his',\n",
       " 'himself',\n",
       " 'she',\n",
       " \"she's\",\n",
       " 'her',\n",
       " 'hers',\n",
       " 'herself',\n",
       " 'it',\n",
       " \"it's\",\n",
       " 'its',\n",
       " 'itself',\n",
       " 'they',\n",
       " 'them',\n",
       " 'their',\n",
       " 'theirs',\n",
       " 'themselves',\n",
       " 'what',\n",
       " 'which',\n",
       " 'who',\n",
       " 'whom',\n",
       " 'this',\n",
       " 'that',\n",
       " \"that'll\",\n",
       " 'these',\n",
       " 'those',\n",
       " 'am',\n",
       " 'is',\n",
       " 'are',\n",
       " 'was',\n",
       " 'were',\n",
       " 'be',\n",
       " 'been',\n",
       " 'being',\n",
       " 'have',\n",
       " 'has',\n",
       " 'had',\n",
       " 'having',\n",
       " 'do',\n",
       " 'does',\n",
       " 'did',\n",
       " 'doing',\n",
       " 'a',\n",
       " 'an',\n",
       " 'the',\n",
       " 'and',\n",
       " 'but',\n",
       " 'if',\n",
       " 'or',\n",
       " 'because',\n",
       " 'as',\n",
       " 'until',\n",
       " 'while',\n",
       " 'of',\n",
       " 'at',\n",
       " 'by',\n",
       " 'for',\n",
       " 'with',\n",
       " 'about',\n",
       " 'against',\n",
       " 'between',\n",
       " 'into',\n",
       " 'through',\n",
       " 'during',\n",
       " 'before',\n",
       " 'after',\n",
       " 'above',\n",
       " 'below',\n",
       " 'to',\n",
       " 'from',\n",
       " 'up',\n",
       " 'down',\n",
       " 'in',\n",
       " 'out',\n",
       " 'on',\n",
       " 'off',\n",
       " 'over',\n",
       " 'under',\n",
       " 'again',\n",
       " 'further',\n",
       " 'then',\n",
       " 'once',\n",
       " 'here',\n",
       " 'there',\n",
       " 'when',\n",
       " 'where',\n",
       " 'why',\n",
       " 'how',\n",
       " 'all',\n",
       " 'any',\n",
       " 'both',\n",
       " 'each',\n",
       " 'few',\n",
       " 'more',\n",
       " 'most',\n",
       " 'other',\n",
       " 'some',\n",
       " 'such',\n",
       " 'no',\n",
       " 'nor',\n",
       " 'not',\n",
       " 'only',\n",
       " 'own',\n",
       " 'same',\n",
       " 'so',\n",
       " 'than',\n",
       " 'too',\n",
       " 'very',\n",
       " 's',\n",
       " 't',\n",
       " 'can',\n",
       " 'will',\n",
       " 'just',\n",
       " 'don',\n",
       " \"don't\",\n",
       " 'should',\n",
       " \"should've\",\n",
       " 'now',\n",
       " 'd',\n",
       " 'll',\n",
       " 'm',\n",
       " 'o',\n",
       " 're',\n",
       " 've',\n",
       " 'y',\n",
       " 'ain',\n",
       " 'aren',\n",
       " \"aren't\",\n",
       " 'couldn',\n",
       " \"couldn't\",\n",
       " 'didn',\n",
       " \"didn't\",\n",
       " 'doesn',\n",
       " \"doesn't\",\n",
       " 'hadn',\n",
       " \"hadn't\",\n",
       " 'hasn',\n",
       " \"hasn't\",\n",
       " 'haven',\n",
       " \"haven't\",\n",
       " 'isn',\n",
       " \"isn't\",\n",
       " 'ma',\n",
       " 'mightn',\n",
       " \"mightn't\",\n",
       " 'mustn',\n",
       " \"mustn't\",\n",
       " 'needn',\n",
       " \"needn't\",\n",
       " 'shan',\n",
       " \"shan't\",\n",
       " 'shouldn',\n",
       " \"shouldn't\",\n",
       " 'wasn',\n",
       " \"wasn't\",\n",
       " 'weren',\n",
       " \"weren't\",\n",
       " 'won',\n",
       " \"won't\",\n",
       " 'wouldn',\n",
       " \"wouldn't\"]"
      ]
     },
     "execution_count": 52,
     "metadata": {},
     "output_type": "execute_result"
    }
   ],
   "source": [
    "stopwords.words('english')"
   ]
  },
  {
   "cell_type": "code",
   "execution_count": 53,
   "metadata": {
    "ExecuteTime": {
     "end_time": "2020-11-21T14:41:06.975378Z",
     "start_time": "2020-11-21T14:41:06.965464Z"
    }
   },
   "outputs": [
    {
     "data": {
      "text/plain": [
       "(179, list, ['i', 'me', 'my', 'myself', 'we'])"
      ]
     },
     "execution_count": 53,
     "metadata": {},
     "output_type": "execute_result"
    }
   ],
   "source": [
    "# save the stopwords in a list named stopwords.\n",
    "stopwords = stopwords.words('english')\n",
    "len(stopwords), type(stopwords), stopwords[:5]"
   ]
  },
  {
   "cell_type": "code",
   "execution_count": null,
   "metadata": {
    "ExecuteTime": {
     "end_time": "2020-11-21T14:42:11.870118Z",
     "start_time": "2020-11-21T14:42:11.866529Z"
    }
   },
   "outputs": [],
   "source": [
    "stopwords.append('mee')"
   ]
  },
  {
   "cell_type": "code",
   "execution_count": null,
   "metadata": {
    "ExecuteTime": {
     "end_time": "2020-11-21T14:42:15.222306Z",
     "start_time": "2020-11-21T14:42:15.215994Z"
    }
   },
   "outputs": [],
   "source": [
    "len(stopwords)"
   ]
  },
  {
   "cell_type": "code",
   "execution_count": 65,
   "metadata": {
    "ExecuteTime": {
     "end_time": "2020-11-21T14:46:27.353539Z",
     "start_time": "2020-11-21T14:46:27.348896Z"
    }
   },
   "outputs": [],
   "source": [
    "def remove_stopwords(words):\n",
    "    \"\"\"Remove stop words from list of tokenized words\"\"\"\n",
    "    new_words = []                        # Create empty list to store pre-processed words.\n",
    "    for word in words:\n",
    "        if word not in stopwords:\n",
    "            new_words.append(word)        # Append processed words to new list.\n",
    "    return new_words"
   ]
  },
  {
   "cell_type": "code",
   "execution_count": 54,
   "metadata": {},
   "outputs": [],
   "source": [
    "#package spell correction"
   ]
  },
  {
   "cell_type": "code",
   "execution_count": 55,
   "metadata": {
    "ExecuteTime": {
     "end_time": "2020-11-21T14:47:04.895573Z",
     "start_time": "2020-11-21T14:47:04.891407Z"
    }
   },
   "outputs": [],
   "source": [
    "stemmer = LancasterStemmer()\n",
    "lemmatizer = WordNetLemmatizer()"
   ]
  },
  {
   "cell_type": "code",
   "execution_count": 56,
   "metadata": {
    "ExecuteTime": {
     "end_time": "2020-11-21T14:47:36.935508Z",
     "start_time": "2020-11-21T14:47:35.536051Z"
    }
   },
   "outputs": [
    {
     "data": {
      "text/plain": [
       "('happy', 'happy')"
      ]
     },
     "execution_count": 56,
     "metadata": {},
     "output_type": "execute_result"
    }
   ],
   "source": [
    "word = \"happy\"\n",
    "stemmer.stem(word), lemmatizer.lemmatize(word)"
   ]
  },
  {
   "cell_type": "code",
   "execution_count": 57,
   "metadata": {
    "ExecuteTime": {
     "end_time": "2020-11-21T14:54:25.463071Z",
     "start_time": "2020-11-21T14:54:25.341262Z"
    }
   },
   "outputs": [
    {
     "data": {
      "text/plain": [
       "[('he', 'PRP'), ('is', 'VBZ'), ('a', 'DT'), ('good', 'JJ'), ('boy', 'NN')]"
      ]
     },
     "execution_count": 57,
     "metadata": {},
     "output_type": "execute_result"
    }
   ],
   "source": [
    "nltk.pos_tag(word_tokenize(\"he is a good boy\"))"
   ]
  },
  {
   "cell_type": "code",
   "execution_count": 58,
   "metadata": {
    "ExecuteTime": {
     "end_time": "2020-11-21T14:54:59.001602Z",
     "start_time": "2020-11-21T14:54:58.995073Z"
    }
   },
   "outputs": [
    {
     "data": {
      "text/plain": [
       "('bet', 'better')"
      ]
     },
     "execution_count": 58,
     "metadata": {},
     "output_type": "execute_result"
    }
   ],
   "source": [
    "word = \"better\"\n",
    "stemmer.stem(word), lemmatizer.lemmatize(word, pos='v')"
   ]
  },
  {
   "cell_type": "code",
   "execution_count": null,
   "metadata": {
    "ExecuteTime": {
     "end_time": "2020-11-21T14:55:29.506872Z",
     "start_time": "2020-11-21T14:55:29.499911Z"
    }
   },
   "outputs": [],
   "source": [
    "word = \"happiness\"\n",
    "stemmer.stem(word), lemmatizer.lemmatize(word, pos='a')"
   ]
  },
  {
   "cell_type": "code",
   "execution_count": 59,
   "metadata": {
    "ExecuteTime": {
     "end_time": "2020-11-21T14:56:12.104972Z",
     "start_time": "2020-11-21T14:56:12.098277Z"
    }
   },
   "outputs": [
    {
     "data": {
      "text/plain": [
       "('happy', 'happyi')"
      ]
     },
     "execution_count": 59,
     "metadata": {},
     "output_type": "execute_result"
    }
   ],
   "source": [
    "word = \"happyi\"\n",
    "stemmer.stem(word), lemmatizer.lemmatize(word)"
   ]
  },
  {
   "cell_type": "code",
   "execution_count": 60,
   "metadata": {
    "ExecuteTime": {
     "end_time": "2020-11-21T14:57:23.276044Z",
     "start_time": "2020-11-21T14:57:23.271738Z"
    }
   },
   "outputs": [],
   "source": [
    "def stem_words(words):\n",
    "    \"\"\"Stem words in list of tokenized words\"\"\"\n",
    "    stemmer = LancasterStemmer()\n",
    "    stems = []                            # Create empty list to store pre-processed words.\n",
    "    for word in words:\n",
    "        stem = stemmer.stem(word)\n",
    "        stems.append(stem)                # Append processed words to new list.\n",
    "    return stems"
   ]
  },
  {
   "cell_type": "code",
   "execution_count": 61,
   "metadata": {
    "ExecuteTime": {
     "end_time": "2020-11-21T14:57:25.532310Z",
     "start_time": "2020-11-21T14:57:25.527750Z"
    }
   },
   "outputs": [],
   "source": [
    "lemmatizer = WordNetLemmatizer()\n",
    "def lemmatize_verbs(words):\n",
    "    \"\"\"Lemmatize verbs in list of tokenized words\"\"\"\n",
    "    lemmatizer = WordNetLemmatizer()\n",
    "    lemmas = []                           # Create empty list to store pre-processed words.\n",
    "    for word in words:\n",
    "        lemma = lemmatizer.lemmatize(word, pos='v')\n",
    "        lemmas.append(lemma)              # Append processed words to new list.\n",
    "    return lemmas"
   ]
  },
  {
   "cell_type": "code",
   "execution_count": 62,
   "metadata": {
    "ExecuteTime": {
     "end_time": "2020-11-21T14:57:30.296979Z",
     "start_time": "2020-11-21T14:57:30.293476Z"
    }
   },
   "outputs": [],
   "source": [
    "### Now it's time to execute the above functions:\n",
    "\n",
    "### So we define a new function normalize, which processes all the steps together."
   ]
  },
  {
   "cell_type": "code",
   "execution_count": 63,
   "metadata": {
    "ExecuteTime": {
     "end_time": "2020-11-21T14:57:59.489029Z",
     "start_time": "2020-11-21T14:57:59.484110Z"
    }
   },
   "outputs": [],
   "source": [
    "def normalize(words):\n",
    "    words = remove_non_ascii(words)\n",
    "    words = to_lowercase(words)\n",
    "    words = remove_punctuation(words)\n",
    "    words = remove_stopwords(words)\n",
    "    return words"
   ]
  },
  {
   "cell_type": "code",
   "execution_count": 66,
   "metadata": {
    "ExecuteTime": {
     "end_time": "2020-11-21T14:58:06.022658Z",
     "start_time": "2020-11-21T14:58:05.398058Z"
    }
   },
   "outputs": [
    {
     "data": {
      "text/html": [
       "<div>\n",
       "<style scoped>\n",
       "    .dataframe tbody tr th:only-of-type {\n",
       "        vertical-align: middle;\n",
       "    }\n",
       "\n",
       "    .dataframe tbody tr th {\n",
       "        vertical-align: top;\n",
       "    }\n",
       "\n",
       "    .dataframe thead th {\n",
       "        text-align: right;\n",
       "    }\n",
       "</style>\n",
       "<table border=\"1\" class=\"dataframe\">\n",
       "  <thead>\n",
       "    <tr style=\"text-align: right;\">\n",
       "      <th></th>\n",
       "      <th>unit_id</th>\n",
       "      <th>id</th>\n",
       "      <th>text</th>\n",
       "    </tr>\n",
       "  </thead>\n",
       "  <tbody>\n",
       "    <tr>\n",
       "      <th>0</th>\n",
       "      <td>662822308</td>\n",
       "      <td>436528000000000000</td>\n",
       "      <td>[barclays, ceo, stresses, importance, regulatory, cultural, reform, financial, services, brussels, conference]</td>\n",
       "    </tr>\n",
       "    <tr>\n",
       "      <th>1</th>\n",
       "      <td>662822309</td>\n",
       "      <td>386013000000000000</td>\n",
       "      <td>[barclays, announces, result, rights, issue]</td>\n",
       "    </tr>\n",
       "    <tr>\n",
       "      <th>2</th>\n",
       "      <td>662822310</td>\n",
       "      <td>379580000000000000</td>\n",
       "      <td>[barclays, publishes, prospectus, 58bn, rights, issue]</td>\n",
       "    </tr>\n",
       "    <tr>\n",
       "      <th>3</th>\n",
       "      <td>662822311</td>\n",
       "      <td>367530000000000000</td>\n",
       "      <td>[barclays, group, finance, director, chris, lucas, step, end, week, due, ill, health]</td>\n",
       "    </tr>\n",
       "    <tr>\n",
       "      <th>4</th>\n",
       "      <td>662822312</td>\n",
       "      <td>360385000000000000</td>\n",
       "      <td>[barclays, announces, irene, mcdermott, brown, appointed, group, human, resources, director]</td>\n",
       "    </tr>\n",
       "  </tbody>\n",
       "</table>\n",
       "</div>"
      ],
      "text/plain": [
       "     unit_id                  id  \\\n",
       "0  662822308  436528000000000000   \n",
       "1  662822309  386013000000000000   \n",
       "2  662822310  379580000000000000   \n",
       "3  662822311  367530000000000000   \n",
       "4  662822312  360385000000000000   \n",
       "\n",
       "                                                                                                             text  \n",
       "0  [barclays, ceo, stresses, importance, regulatory, cultural, reform, financial, services, brussels, conference]  \n",
       "1                                                                    [barclays, announces, result, rights, issue]  \n",
       "2                                                          [barclays, publishes, prospectus, 58bn, rights, issue]  \n",
       "3                           [barclays, group, finance, director, chris, lucas, step, end, week, due, ill, health]  \n",
       "4                    [barclays, announces, irene, mcdermott, brown, appointed, group, human, resources, director]  "
      ]
     },
     "execution_count": 66,
     "metadata": {},
     "output_type": "execute_result"
    }
   ],
   "source": [
    "# Iterate the normalize funtion over whole data.\n",
    "for i, row in data.iterrows():\n",
    "    words = data.at[i, 'text']\n",
    "    words = normalize(words)\n",
    "    data.at[i,'text'] = words\n",
    "data.head()"
   ]
  },
  {
   "cell_type": "code",
   "execution_count": 68,
   "metadata": {
    "ExecuteTime": {
     "end_time": "2020-11-21T14:58:40.704144Z",
     "start_time": "2020-11-21T14:58:40.699215Z"
    }
   },
   "outputs": [],
   "source": [
    "def stem_and_lemmatize(words):\n",
    "    stems = stem_words(words)\n",
    "    lemmas = lemmatize_verbs(words)\n",
    "    return stems, lemmas"
   ]
  },
  {
   "cell_type": "code",
   "execution_count": 69,
   "metadata": {
    "ExecuteTime": {
     "end_time": "2020-11-21T14:59:12.755430Z",
     "start_time": "2020-11-21T14:59:11.412852Z"
    }
   },
   "outputs": [
    {
     "data": {
      "text/html": [
       "<div>\n",
       "<style scoped>\n",
       "    .dataframe tbody tr th:only-of-type {\n",
       "        vertical-align: middle;\n",
       "    }\n",
       "\n",
       "    .dataframe tbody tr th {\n",
       "        vertical-align: top;\n",
       "    }\n",
       "\n",
       "    .dataframe thead th {\n",
       "        text-align: right;\n",
       "    }\n",
       "</style>\n",
       "<table border=\"1\" class=\"dataframe\">\n",
       "  <thead>\n",
       "    <tr style=\"text-align: right;\">\n",
       "      <th></th>\n",
       "      <th>unit_id</th>\n",
       "      <th>id</th>\n",
       "      <th>text</th>\n",
       "      <th>lemma</th>\n",
       "      <th>stem</th>\n",
       "    </tr>\n",
       "  </thead>\n",
       "  <tbody>\n",
       "    <tr>\n",
       "      <th>0</th>\n",
       "      <td>662822308</td>\n",
       "      <td>436528000000000000</td>\n",
       "      <td>[barclays, ceo, stresses, importance, regulatory, cultural, reform, financial, services, brussels, conference]</td>\n",
       "      <td>[barclays, ceo, stress, importance, regulatory, cultural, reform, financial, service, brussels, conference]</td>\n",
       "      <td>[barclay, ceo, stresses, import, reg, cult, reform, fin, serv, brussel, conf]</td>\n",
       "    </tr>\n",
       "    <tr>\n",
       "      <th>1</th>\n",
       "      <td>662822309</td>\n",
       "      <td>386013000000000000</td>\n",
       "      <td>[barclays, announces, result, rights, issue]</td>\n",
       "      <td>[barclays, announce, result, right, issue]</td>\n",
       "      <td>[barclay, annount, result, right, issu]</td>\n",
       "    </tr>\n",
       "    <tr>\n",
       "      <th>2</th>\n",
       "      <td>662822310</td>\n",
       "      <td>379580000000000000</td>\n",
       "      <td>[barclays, publishes, prospectus, 58bn, rights, issue]</td>\n",
       "      <td>[barclays, publish, prospectus, 58bn, right, issue]</td>\n",
       "      <td>[barclay, publ, prospect, 58bn, right, issu]</td>\n",
       "    </tr>\n",
       "    <tr>\n",
       "      <th>3</th>\n",
       "      <td>662822311</td>\n",
       "      <td>367530000000000000</td>\n",
       "      <td>[barclays, group, finance, director, chris, lucas, step, end, week, due, ill, health]</td>\n",
       "      <td>[barclays, group, finance, director, chris, lucas, step, end, week, due, ill, health]</td>\n",
       "      <td>[barclay, group, fin, direct, chris, luca, step, end, week, due, il, heal]</td>\n",
       "    </tr>\n",
       "    <tr>\n",
       "      <th>4</th>\n",
       "      <td>662822312</td>\n",
       "      <td>360385000000000000</td>\n",
       "      <td>[barclays, announces, irene, mcdermott, brown, appointed, group, human, resources, director]</td>\n",
       "      <td>[barclays, announce, irene, mcdermott, brown, appoint, group, human, resources, director]</td>\n",
       "      <td>[barclay, annount, ir, mcdermott, brown, appoint, group, hum, resourc, direct]</td>\n",
       "    </tr>\n",
       "  </tbody>\n",
       "</table>\n",
       "</div>"
      ],
      "text/plain": [
       "     unit_id                  id  \\\n",
       "0  662822308  436528000000000000   \n",
       "1  662822309  386013000000000000   \n",
       "2  662822310  379580000000000000   \n",
       "3  662822311  367530000000000000   \n",
       "4  662822312  360385000000000000   \n",
       "\n",
       "                                                                                                             text  \\\n",
       "0  [barclays, ceo, stresses, importance, regulatory, cultural, reform, financial, services, brussels, conference]   \n",
       "1                                                                    [barclays, announces, result, rights, issue]   \n",
       "2                                                          [barclays, publishes, prospectus, 58bn, rights, issue]   \n",
       "3                           [barclays, group, finance, director, chris, lucas, step, end, week, due, ill, health]   \n",
       "4                    [barclays, announces, irene, mcdermott, brown, appointed, group, human, resources, director]   \n",
       "\n",
       "                                                                                                         lemma  \\\n",
       "0  [barclays, ceo, stress, importance, regulatory, cultural, reform, financial, service, brussels, conference]   \n",
       "1                                                                   [barclays, announce, result, right, issue]   \n",
       "2                                                          [barclays, publish, prospectus, 58bn, right, issue]   \n",
       "3                        [barclays, group, finance, director, chris, lucas, step, end, week, due, ill, health]   \n",
       "4                    [barclays, announce, irene, mcdermott, brown, appoint, group, human, resources, director]   \n",
       "\n",
       "                                                                             stem  \n",
       "0   [barclay, ceo, stresses, import, reg, cult, reform, fin, serv, brussel, conf]  \n",
       "1                                         [barclay, annount, result, right, issu]  \n",
       "2                                    [barclay, publ, prospect, 58bn, right, issu]  \n",
       "3      [barclay, group, fin, direct, chris, luca, step, end, week, due, il, heal]  \n",
       "4  [barclay, annount, ir, mcdermott, brown, appoint, group, hum, resourc, direct]  "
      ]
     },
     "execution_count": 69,
     "metadata": {},
     "output_type": "execute_result"
    }
   ],
   "source": [
    "data['lemma'] = ''\n",
    "data['stem'] = ''\n",
    "\n",
    "for i, row in data.iterrows():\n",
    "    words = data.at[i, 'text']\n",
    "    stems, lemmas = stem_and_lemmatize(words)\n",
    "    data.at[i,'stem'] = stems\n",
    "    data.at[i, 'lemma'] = lemmas\n",
    "data.head()"
   ]
  },
  {
   "cell_type": "markdown",
   "metadata": {
    "ExecuteTime": {
     "end_time": "2020-11-21T09:59:37.333037Z",
     "start_time": "2020-11-21T09:59:37.326239Z"
    }
   },
   "source": [
    "- As we can see here that, the text column contains tokenized words, lemma contains lemmatized words, and stem column contains the stemmed words.\n",
    "- So, we can use these techniques according to our need of the project as suitable."
   ]
  },
  {
   "cell_type": "markdown",
   "metadata": {},
   "source": [
    "# So, the tasks are:\n",
    "\n",
    "- ### Noise removal (Special character, html tags, accented characters, punctuation removal)\n",
    "- ### Lowercasing (can be task dependent in some cases)\n",
    "- ### Stop-word removal\n",
    "- ### Stemming / lemmatization"
   ]
  },
  {
   "cell_type": "markdown",
   "metadata": {},
   "source": [
    "- ### Now that the text cleaning is done, our text data is ready to be converted into the format, which the machine can understand (i.e. numbers).\n",
    "- ### We will see it in the next lectures in Vectorization and after that we can perform the following tasks on that:\n",
    "  - ### Sentiment Analysis\n",
    "  - ### Text Classification\n",
    "### etc. etc."
   ]
  },
  {
   "cell_type": "code",
   "execution_count": null,
   "metadata": {},
   "outputs": [],
   "source": []
  }
 ],
 "metadata": {
  "kernelspec": {
   "display_name": "Python 3",
   "language": "python",
   "name": "python3"
  },
  "language_info": {
   "codemirror_mode": {
    "name": "ipython",
    "version": 3
   },
   "file_extension": ".py",
   "mimetype": "text/x-python",
   "name": "python",
   "nbconvert_exporter": "python",
   "pygments_lexer": "ipython3",
   "version": "3.8.5"
  }
 },
 "nbformat": 4,
 "nbformat_minor": 2
}
