{
 "cells": [
  {
   "cell_type": "markdown",
   "metadata": {
    "colab_type": "text",
    "id": "QJ3FsuIkOT-d"
   },
   "source": [
    "# Practice Exercise - Intro to NN Week 1\n",
    "## A MNIST-like fashion product database\n",
    "\n",
    "Hello learners, welcome to the practice exercise on week 1 of Intro to NN module.<br>\n",
    "Before we start with the hands-on, please note that <b>we recommend</b> using <a href = \"https://colab.research.google.com/notebooks/intro.ipynb#recent=true\"> google colab</a> for all your course hands-on exercises.\n",
    "\n",
    "In this practice exercise, we classify the images into respective classes given in the dataset. We use a Deep Neural Net in Keras to solve this and check the accuracy scores.\n",
    "\n",
    "<b>Dataset to be used</b>: tf.keras.datasets.fashion_mnist"
   ]
  },
  {
   "cell_type": "markdown",
   "metadata": {
    "colab_type": "text",
    "id": "HvUohxCpOT-f"
   },
   "source": [
    "## Load tensorflow"
   ]
  },
  {
   "cell_type": "code",
   "execution_count": 1,
   "metadata": {
    "colab": {},
    "colab_type": "code",
    "id": "zvoXI41LOT-g"
   },
   "outputs": [],
   "source": [
    "import warnings\n",
    "import tensorflow as tf\n"
   ]
  },
  {
   "cell_type": "code",
   "execution_count": 2,
   "metadata": {
    "colab": {
     "base_uri": "https://localhost:8080/",
     "height": 34
    },
    "colab_type": "code",
    "id": "NrAysf29OT-l",
    "outputId": "1786828d-bedd-4a84-e658-e6939be12922"
   },
   "outputs": [
    {
     "data": {
      "text/plain": [
       "'2.0.0'"
      ]
     },
     "execution_count": 2,
     "metadata": {},
     "output_type": "execute_result"
    }
   ],
   "source": [
    "tf.__version__"
   ]
  },
  {
   "cell_type": "markdown",
   "metadata": {
    "colab_type": "text",
    "id": "pibEX_Y7OT-o"
   },
   "source": [
    "## Collect Data"
   ]
  },
  {
   "cell_type": "code",
   "execution_count": 3,
   "metadata": {
    "colab": {
     "base_uri": "https://localhost:8080/",
     "height": 158
    },
    "colab_type": "code",
    "id": "ud9LISdBOT-s",
    "outputId": "4d9259bf-eaa2-466c-936e-6df780e9020d"
   },
   "outputs": [
    {
     "name": "stdout",
     "output_type": "stream",
     "text": [
      "The history saving thread hit an unexpected error (OperationalError('disk I/O error')).History will not be written to the database.\n",
      "Downloading data from https://storage.googleapis.com/tensorflow/tf-keras-datasets/train-labels-idx1-ubyte.gz\n",
      "32768/29515 [=================================] - 0s 1us/step\n",
      "Downloading data from https://storage.googleapis.com/tensorflow/tf-keras-datasets/train-images-idx3-ubyte.gz\n",
      "26427392/26421880 [==============================] - 28s 1us/step\n",
      "Downloading data from https://storage.googleapis.com/tensorflow/tf-keras-datasets/t10k-labels-idx1-ubyte.gz\n",
      "8192/5148 [===============================================] - 0s 1us/step\n",
      "Downloading data from https://storage.googleapis.com/tensorflow/tf-keras-datasets/t10k-images-idx3-ubyte.gz\n",
      "4423680/4422102 [==============================] - 4s 1us/step\n"
     ]
    }
   ],
   "source": [
    "(trainX, trainY), (testX,testY) = tf.keras.datasets.fashion_mnist.load_data()"
   ]
  },
  {
   "cell_type": "code",
   "execution_count": 4,
   "metadata": {
    "colab": {
     "base_uri": "https://localhost:8080/",
     "height": 34
    },
    "colab_type": "code",
    "id": "ZXlFuNxkOT-v",
    "outputId": "662e0eee-494e-41e9-aa00-c30cecbf4e79"
   },
   "outputs": [
    {
     "data": {
      "text/plain": [
       "(60000, 28, 28)"
      ]
     },
     "execution_count": 4,
     "metadata": {},
     "output_type": "execute_result"
    }
   ],
   "source": [
    "trainX.shape"
   ]
  },
  {
   "cell_type": "code",
   "execution_count": 5,
   "metadata": {
    "colab": {
     "base_uri": "https://localhost:8080/",
     "height": 34
    },
    "colab_type": "code",
    "id": "k8ASK9ApOT-y",
    "outputId": "24d4f07c-5627-408a-b507-55738fc0769b"
   },
   "outputs": [
    {
     "data": {
      "text/plain": [
       "(10000,)"
      ]
     },
     "execution_count": 5,
     "metadata": {},
     "output_type": "execute_result"
    }
   ],
   "source": [
    "testY.shape"
   ]
  },
  {
   "cell_type": "code",
   "execution_count": 6,
   "metadata": {
    "colab": {
     "base_uri": "https://localhost:8080/",
     "height": 34
    },
    "colab_type": "code",
    "id": "gYKBt97qOT-1",
    "outputId": "a6c9c6c8-1ac3-472e-f3ba-3648eca9a5d9"
   },
   "outputs": [
    {
     "data": {
      "text/plain": [
       "array([9, 2, 1, ..., 8, 1, 5], dtype=uint8)"
      ]
     },
     "execution_count": 6,
     "metadata": {},
     "output_type": "execute_result"
    }
   ],
   "source": [
    "testY.view()"
   ]
  },
  {
   "cell_type": "markdown",
   "metadata": {
    "colab_type": "text",
    "id": "aAsqvxY3OT-5"
   },
   "source": [
    "## Convert both training and testing labels into one-hot vectors."
   ]
  },
  {
   "cell_type": "markdown",
   "metadata": {
    "colab_type": "text",
    "id": "obwm3svROT-6"
   },
   "source": [
    "Hint: check tf.keras.utils.to_categorical()"
   ]
  },
  {
   "cell_type": "code",
   "execution_count": 7,
   "metadata": {
    "colab": {},
    "colab_type": "code",
    "id": "EnkT3fKNOT-7"
   },
   "outputs": [],
   "source": [
    "trainY = tf.keras.utils.to_categorical(trainY,num_classes=10)\n",
    "testY = tf.keras.utils.to_categorical(testY,num_classes=10)"
   ]
  },
  {
   "cell_type": "markdown",
   "metadata": {
    "colab_type": "text",
    "id": "oCfuainHOT-9"
   },
   "source": [
    "Expected output should look like"
   ]
  },
  {
   "cell_type": "code",
   "execution_count": 8,
   "metadata": {
    "colab": {
     "base_uri": "https://localhost:8080/",
     "height": 123
    },
    "colab_type": "code",
    "id": "aO920ixrOT--",
    "outputId": "8809549e-155a-4525-a5ac-81a9bff13ac5"
   },
   "outputs": [
    {
     "name": "stdout",
     "output_type": "stream",
     "text": [
      "(60000, 10)\n",
      "First 5 examples now are:  [[0. 0. 0. 0. 0. 0. 0. 0. 0. 1.]\n",
      " [1. 0. 0. 0. 0. 0. 0. 0. 0. 0.]\n",
      " [1. 0. 0. 0. 0. 0. 0. 0. 0. 0.]\n",
      " [0. 0. 0. 1. 0. 0. 0. 0. 0. 0.]\n",
      " [1. 0. 0. 0. 0. 0. 0. 0. 0. 0.]]\n"
     ]
    }
   ],
   "source": [
    "print(trainY.shape)\n",
    "print('First 5 examples now are: ', trainY[0:5])"
   ]
  },
  {
   "cell_type": "markdown",
   "metadata": {
    "colab_type": "text",
    "id": "Fw99Yn3ZOT_B"
   },
   "source": [
    "## Visualize the data\n",
    "Plot first 10 images in the triaining set and their labels."
   ]
  },
  {
   "cell_type": "code",
   "execution_count": 9,
   "metadata": {
    "colab": {
     "base_uri": "https://localhost:8080/",
     "height": 1000
    },
    "colab_type": "code",
    "id": "932-O_iHOT_C",
    "outputId": "572019b3-5cb2-49c0-d775-342fbedc37e0"
   },
   "outputs": [
    {
     "data": {
      "image/png": "[encoded data removed]",
      "text/plain": [
       "<Figure size 432x288 with 1 Axes>"
      ]
     },
     "metadata": {
      "needs_background": "light"
     },
     "output_type": "display_data"
    },
    {
     "data": {
      "image/png": "[encoded data removed]",
      "text/plain": [
       "<Figure size 432x288 with 1 Axes>"
      ]
     },
     "metadata": {
      "needs_background": "light"
     },
     "output_type": "display_data"
    },
    {
     "data": {
      "image/png": "[encoded data removed]",
      "text/plain": [
       "<Figure size 432x288 with 1 Axes>"
      ]
     },
     "metadata": {
      "needs_background": "light"
     },
     "output_type": "display_data"
    },
    {
     "data": {
      "image/png": "[encoded data removed]",
      "text/plain": [
       "<Figure size 432x288 with 1 Axes>"
      ]
     },
     "metadata": {
      "needs_background": "light"
     },
     "output_type": "display_data"
    },
    {
     "data": {
      "image/png": "[encoded data removed]",
      "text/plain": [
       "<Figure size 432x288 with 1 Axes>"
      ]
     },
     "metadata": {
      "needs_background": "light"
     },
     "output_type": "display_data"
    },
    {
     "data": {
      "image/png": "[encoded data removed]",
      "text/plain": [
       "<Figure size 432x288 with 1 Axes>"
      ]
     },
     "metadata": {
      "needs_background": "light"
     },
     "output_type": "display_data"
    },
    {
     "data": {
      "image/png": "[encoded data removed]",
      "text/plain": [
       "<Figure size 432x288 with 1 Axes>"
      ]
     },
     "metadata": {
      "needs_background": "light"
     },
     "output_type": "display_data"
    },
    {
     "data": {
      "image/png": "[encoded data removed]",
      "text/plain": [
       "<Figure size 432x288 with 1 Axes>"
      ]
     },
     "metadata": {
      "needs_background": "light"
     },
     "output_type": "display_data"
    },
    {
     "data": {
      "image/png": "[encoded data removed]",
      "text/plain": [
       "<Figure size 432x288 with 1 Axes>"
      ]
     },
     "metadata": {
      "needs_background": "light"
     },
     "output_type": "display_data"
    },
    {
     "data": {
      "image/png": "[encoded data removed]",
      "text/plain": [
       "<Figure size 432x288 with 1 Axes>"
      ]
     },
     "metadata": {
      "needs_background": "light"
     },
     "output_type": "display_data"
    }
   ],
   "source": [
    "import matplotlib.pyplot as plt\n",
    "%matplotlib inline\n",
    "for i in range(10):\n",
    "    image = trainX[i]\n",
    "    plt.figure(i)\n",
    "    plt.imshow(image)"
   ]
  },
  {
   "cell_type": "markdown",
   "metadata": {
    "colab_type": "text",
    "id": "1A5KWzG4OT_F"
   },
   "source": [
    "## Build a neural network in Keras using a sequential model. The output layer should have 10 neurons as we have 10 classes.\n"
   ]
  },
  {
   "cell_type": "code",
   "execution_count": 10,
   "metadata": {
    "colab": {},
    "colab_type": "code",
    "id": "wxCb8meKOT_F"
   },
   "outputs": [],
   "source": [
    "#Initialize sequenial model\n",
    "model = tf.keras.models.Sequential()"
   ]
  },
  {
   "cell_type": "code",
   "execution_count": 11,
   "metadata": {
    "colab": {},
    "colab_type": "code",
    "id": "KEc72H6NOT_I"
   },
   "outputs": [],
   "source": [
    "#Reshape data from 2D to 1D ->28*28 to 784\n",
    "model.add(tf.keras.layers.Reshape((784,),input_shape=(28,28,)))"
   ]
  },
  {
   "cell_type": "code",
   "execution_count": 12,
   "metadata": {
    "colab": {},
    "colab_type": "code",
    "id": "A38rgoQOOT_L"
   },
   "outputs": [],
   "source": [
    "#Add Dense layer which provides 10 outputs after applying softmax\n",
    "model.add(tf.keras.layers.Dense(10,activation = 'softmax'))"
   ]
  },
  {
   "cell_type": "code",
   "execution_count": 13,
   "metadata": {
    "colab": {},
    "colab_type": "code",
    "id": "AYpb8evuOT_O"
   },
   "outputs": [],
   "source": [
    "#compile the model\n",
    "#for now, explore the optimizer, loss and metric parameters of the compile function. Use values \"optimizer='sgd', loss='categorical_crossentropy',  metrics = ['accuracy']\" respectively.\n",
    "\n",
    "model.compile(optimizer='sgd', loss='categorical_crossentropy',  metrics = ['accuracy'])"
   ]
  },
  {
   "cell_type": "markdown",
   "metadata": {
    "colab_type": "text",
    "id": "kREobB5KOT_Q"
   },
   "source": [
    "### Execute the model using model.fit()"
   ]
  },
  {
   "cell_type": "code",
   "execution_count": 14,
   "metadata": {
    "colab": {
     "base_uri": "https://localhost:8080/",
     "height": 407
    },
    "colab_type": "code",
    "id": "e_1prYcGOT_R",
    "outputId": "ea4fe65a-e97e-48c6-b640-70a05d4432bb"
   },
   "outputs": [
    {
     "name": "stdout",
     "output_type": "stream",
     "text": [
      "Train on 60000 samples, validate on 10000 samples\n",
      "Epoch 1/10\n",
      "60000/60000 [==============================] - 3s 49us/sample - loss: 247.2969 - accuracy: 0.0989 - val_loss: 6724.8999 - val_accuracy: 0.3023\n",
      "Epoch 2/10\n",
      "60000/60000 [==============================] - 1s 11us/sample - loss: 6699.5425 - accuracy: 0.3052 - val_loss: 12272.3857 - val_accuracy: 0.2521\n",
      "Epoch 3/10\n",
      "60000/60000 [==============================] - 1s 10us/sample - loss: 12197.7197 - accuracy: 0.2544 - val_loss: 15417.4141 - val_accuracy: 0.2314\n",
      "Epoch 4/10\n",
      "60000/60000 [==============================] - 1s 10us/sample - loss: 15313.6641 - accuracy: 0.2353 - val_loss: 15959.1221 - val_accuracy: 0.2644\n",
      "Epoch 5/10\n",
      "60000/60000 [==============================] - 1s 10us/sample - loss: 15845.2207 - accuracy: 0.2627 - val_loss: 15056.0352 - val_accuracy: 0.3168\n",
      "Epoch 6/10\n",
      "60000/60000 [==============================] - 1s 10us/sample - loss: 15036.3564 - accuracy: 0.3153 - val_loss: 14060.4268 - val_accuracy: 0.2704\n",
      "Epoch 7/10\n",
      "60000/60000 [==============================] - 1s 11us/sample - loss: 14007.2119 - accuracy: 0.2719 - val_loss: 11467.4531 - val_accuracy: 0.3002\n",
      "Epoch 8/10\n",
      "60000/60000 [==============================] - 0s 8us/sample - loss: 11426.2383 - accuracy: 0.3012 - val_loss: 7613.4175 - val_accuracy: 0.3670\n",
      "Epoch 9/10\n",
      "60000/60000 [==============================] - 1s 11us/sample - loss: 7535.9268 - accuracy: 0.3716 - val_loss: 7596.7759 - val_accuracy: 0.3134\n",
      "Epoch 10/10\n",
      "60000/60000 [==============================] - 1s 10us/sample - loss: 7546.8477 - accuracy: 0.3169 - val_loss: 7387.0000 - val_accuracy: 0.3991\n"
     ]
    },
    {
     "data": {
      "text/plain": [
       "<tensorflow.python.keras.callbacks.History at 0x7f61a806d588>"
      ]
     },
     "execution_count": 14,
     "metadata": {},
     "output_type": "execute_result"
    }
   ],
   "source": [
    "model.fit(trainX,trainY,epochs=10,validation_data=(testX,testY),batch_size=trainX.shape[0])"
   ]
  },
  {
   "cell_type": "markdown",
   "metadata": {
    "colab_type": "text",
    "id": "tSx4VI8iOT_m"
   },
   "source": [
    "### Customize the learning rate to 0.001 in sgd optimizer and run the model\n"
   ]
  },
  {
   "cell_type": "code",
   "execution_count": 15,
   "metadata": {
    "colab": {},
    "colab_type": "code",
    "id": "d5pDUsQdOT_m"
   },
   "outputs": [],
   "source": [
    "#Initialize the sequential model\n",
    "model=tf.keras.models.Sequential()"
   ]
  },
  {
   "cell_type": "code",
   "execution_count": 16,
   "metadata": {
    "colab": {},
    "colab_type": "code",
    "id": "Tcxb2V3qOT_p"
   },
   "outputs": [],
   "source": [
    "#Reshape the data from 2D to 1D -> 28*28 to 784\n",
    "model.add(tf.keras.layers.Reshape((784,),input_shape=(28,28,)))"
   ]
  },
  {
   "cell_type": "code",
   "execution_count": 17,
   "metadata": {
    "colab": {},
    "colab_type": "code",
    "id": "Dxo-ccldOT_u"
   },
   "outputs": [],
   "source": [
    "# Add dense layer which provides 10 outputs after applying softmax\n",
    "model.add(tf.keras.layers.Dense(10,activation='softmax'))"
   ]
  },
  {
   "cell_type": "code",
   "execution_count": 18,
   "metadata": {
    "colab": {},
    "colab_type": "code",
    "id": "xksYSlUzOT_w"
   },
   "outputs": [],
   "source": [
    "sgd_optimizer = tf.keras.optimizers.SGD(lr=0.001)\n",
    "model.compile(optimizer=sgd_optimizer,loss='categorical_crossentropy',metrics=['accuracy'])"
   ]
  },
  {
   "cell_type": "code",
   "execution_count": 19,
   "metadata": {
    "colab": {
     "base_uri": "https://localhost:8080/",
     "height": 407
    },
    "colab_type": "code",
    "id": "XLVSnCE0OT_1",
    "outputId": "4eae4121-06da-48d2-c025-1b65bad16d3b"
   },
   "outputs": [
    {
     "name": "stdout",
     "output_type": "stream",
     "text": [
      "Train on 60000 samples, validate on 10000 samples\n",
      "Epoch 1/10\n",
      "60000/60000 [==============================] - 5s 86us/sample - loss: 202.4380 - accuracy: 0.7398 - val_loss: 294.3535 - val_accuracy: 0.7063\n",
      "Epoch 2/10\n",
      "60000/60000 [==============================] - 4s 74us/sample - loss: 162.7625 - accuracy: 0.7758 - val_loss: 138.0417 - val_accuracy: 0.7738\n",
      "Epoch 3/10\n",
      "60000/60000 [==============================] - 5s 75us/sample - loss: 151.8805 - accuracy: 0.7873 - val_loss: 214.5868 - val_accuracy: 0.7582\n",
      "Epoch 4/10\n",
      "60000/60000 [==============================] - 5s 77us/sample - loss: 151.0471 - accuracy: 0.7884 - val_loss: 112.3112 - val_accuracy: 0.7890\n",
      "Epoch 5/10\n",
      "60000/60000 [==============================] - 5s 76us/sample - loss: 149.1821 - accuracy: 0.7930 - val_loss: 171.6668 - val_accuracy: 0.7730\n",
      "Epoch 6/10\n",
      "60000/60000 [==============================] - 5s 77us/sample - loss: 145.9649 - accuracy: 0.7941 - val_loss: 127.5981 - val_accuracy: 0.8101\n",
      "Epoch 7/10\n",
      "60000/60000 [==============================] - 5s 77us/sample - loss: 145.4611 - accuracy: 0.7947 - val_loss: 121.0711 - val_accuracy: 0.8156\n",
      "Epoch 8/10\n",
      "60000/60000 [==============================] - 5s 77us/sample - loss: 143.9768 - accuracy: 0.7978 - val_loss: 142.6192 - val_accuracy: 0.8091\n",
      "Epoch 9/10\n",
      "60000/60000 [==============================] - 5s 75us/sample - loss: 145.4485 - accuracy: 0.7997 - val_loss: 98.4102 - val_accuracy: 0.8119\n",
      "Epoch 10/10\n",
      "60000/60000 [==============================] - 5s 76us/sample - loss: 144.0210 - accuracy: 0.7977 - val_loss: 132.8285 - val_accuracy: 0.7845\n"
     ]
    },
    {
     "data": {
      "text/plain": [
       "<tensorflow.python.keras.callbacks.History at 0x7f61a83854e0>"
      ]
     },
     "execution_count": 19,
     "metadata": {},
     "output_type": "execute_result"
    }
   ],
   "source": [
    "model.fit(trainX,trainY,epochs=10,validation_data=(testX,testY),batch_size=32)"
   ]
  },
  {
   "cell_type": "markdown",
   "metadata": {
    "colab_type": "text",
    "id": "9VXBNaCRUmKo"
   },
   "source": [
    "### Model Review\n",
    "#### Summarize the model using model.summary \n"
   ]
  },
  {
   "cell_type": "code",
   "execution_count": 20,
   "metadata": {
    "colab": {
     "base_uri": "https://localhost:8080/",
     "height": 230
    },
    "colab_type": "code",
    "id": "WpSRvNAhUlJx",
    "outputId": "98150c40-118b-4ead-fc7b-8a8c488aba1e"
   },
   "outputs": [
    {
     "name": "stdout",
     "output_type": "stream",
     "text": [
      "Model: \"sequential_1\"\n",
      "_________________________________________________________________\n",
      "Layer (type)                 Output Shape              Param #   \n",
      "=================================================================\n",
      "reshape_1 (Reshape)          (None, 784)               0         \n",
      "_________________________________________________________________\n",
      "dense_1 (Dense)              (None, 10)                7850      \n",
      "=================================================================\n",
      "Total params: 7,850\n",
      "Trainable params: 7,850\n",
      "Non-trainable params: 0\n",
      "_________________________________________________________________\n"
     ]
    }
   ],
   "source": [
    "model.summary()"
   ]
  },
  {
   "cell_type": "markdown",
   "metadata": {
    "colab_type": "text",
    "id": "kdVRmflJUijw"
   },
   "source": [
    "Play around with your neural network model by changing the number of dense layers, learning rate, number of neurons in hidden layers. Try out different loss and activation functions and see if you can get better accuracy. <br><br>\n",
    "Also use the summary function to summarize the models.<br><br>\n",
    "\n",
    "*Happy Learning!* \n"
   ]
  },
  {
   "cell_type": "code",
   "execution_count": null,
   "metadata": {
    "colab": {},
    "colab_type": "code",
    "id": "xv2S7HU1Ve_E"
   },
   "outputs": [],
   "source": []
  }
 ],
 "metadata": {
  "colab": {
   "name": "PE W2- Tf keras NN Solutions.ipynb",
   "provenance": []
  },
  "kernelspec": {
   "display_name": "Python 3",
   "language": "python",
   "name": "python3"
  },
  "language_info": {
   "codemirror_mode": {
    "name": "ipython",
    "version": 3
   },
   "file_extension": ".py",
   "mimetype": "text/x-python",
   "name": "python",
   "nbconvert_exporter": "python",
   "pygments_lexer": "ipython3",
   "version": "3.7.3"
  }
 },
 "nbformat": 4,
 "nbformat_minor": 1
}
