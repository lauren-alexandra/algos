{
 "cells": [
  {
   "cell_type": "markdown",
   "metadata": {},
   "source": [
    "## Project - Bank Churn prediction\n",
    "\n",
    " \n",
    "### In this project, we aim to predict the churn for a bank, i.e, given a Bank customer, can we build a classifier which can determine whether they will leave or not using Neural networks?\n",
    "\n",
    "### Objective:\n",
    "Given a Bank customer, build a neural network based classifier that can determine whether they will leave or not in the next 6 months. \n",
    "### Context:\n",
    "Businesses like banks which provide service have to worry about problem of 'Churn' i.e. customers leaving and joining another service provider. It is important to understand which aspects of the service influence a customer's decision in this regard. Management can concentrate efforts on improvement of service, keeping in mind these priorities.\n",
    "\n",
    "### Data Description:\n",
    "The case study is from an open-source dataset from Kaggle.The dataset contains 10,000 sample points with 14 distinct features such as CustomerId, CreditScore, Geography, Gender, Age, Tenure, Balance etc.\n",
    "Link to the Kaggle project site:https://www.kaggle.com/barelydedicated/bank-customer-churn-modelingPoints \n",
    "\n",
    "### Distribution:\n",
    "The points distribution for this case is as follows:\n",
    "- 1. Read the dataset\n",
    "- 2. Drop the columns which are unique for all users like IDs (5 points)\n",
    "- 3. Distinguish the feature and target set (5 points)\n",
    "- 4. Divide the data set into trainingand test sets (5 points)\n",
    "- 5. Normalize the train and test data(10points)\n",
    "- 6. Initialize & build the model. Identify the points of improvement and implement the same the same.(20)\n",
    "- 7. Predict the results using 0.5 as a threshold (10points)\n",
    "- 8. Print the Accuracy score and confusion matrix (5 points)"
   ]
  },
  {
   "cell_type": "markdown",
   "metadata": {},
   "source": [
    "### Import Libraries"
   ]
  },
  {
   "cell_type": "code",
   "execution_count": 1,
   "metadata": {
    "ExecuteTime": {
     "end_time": "2020-10-17T13:19:28.148623Z",
     "start_time": "2020-10-17T13:19:28.140137Z"
    }
   },
   "outputs": [],
   "source": [
    "SEED=4"
   ]
  },
  {
   "cell_type": "code",
   "execution_count": 2,
   "metadata": {
    "ExecuteTime": {
     "end_time": "2020-10-17T13:19:30.933198Z",
     "start_time": "2020-10-17T13:19:30.928400Z"
    }
   },
   "outputs": [],
   "source": [
    "import warnings\n",
    "warnings.filterwarnings('ignore')"
   ]
  },
  {
   "cell_type": "code",
   "execution_count": 3,
   "metadata": {
    "ExecuteTime": {
     "end_time": "2020-10-17T13:19:33.513629Z",
     "start_time": "2020-10-17T13:19:33.421467Z"
    }
   },
   "outputs": [],
   "source": [
    "%load_ext autoreload\n",
    "%autoreload 2"
   ]
  },
  {
   "cell_type": "code",
   "execution_count": 4,
   "metadata": {
    "ExecuteTime": {
     "end_time": "2020-10-17T13:19:34.102681Z",
     "start_time": "2020-10-17T13:19:34.084869Z"
    }
   },
   "outputs": [],
   "source": [
    "import os\n",
    "import sys"
   ]
  },
  {
   "cell_type": "code",
   "execution_count": 5,
   "metadata": {
    "ExecuteTime": {
     "end_time": "2020-10-17T13:19:35.390533Z",
     "start_time": "2020-10-17T13:19:34.717038Z"
    }
   },
   "outputs": [],
   "source": [
    "import pandas as pd\n",
    "import numpy as np"
   ]
  },
  {
   "cell_type": "code",
   "execution_count": 6,
   "metadata": {
    "ExecuteTime": {
     "end_time": "2020-10-17T13:19:36.269512Z",
     "start_time": "2020-10-17T13:19:35.452604Z"
    }
   },
   "outputs": [],
   "source": [
    "import matplotlib.pyplot as plt\n",
    "import seaborn as sns\n",
    "%matplotlib inline"
   ]
  },
  {
   "cell_type": "code",
   "execution_count": 7,
   "metadata": {
    "ExecuteTime": {
     "end_time": "2020-10-17T13:19:36.627561Z",
     "start_time": "2020-10-17T13:19:36.603640Z"
    }
   },
   "outputs": [],
   "source": [
    "pd.set_option('max_rows',200)\n",
    "pd.set_option('max_columns',None)"
   ]
  },
  {
   "cell_type": "markdown",
   "metadata": {},
   "source": [
    "### Import dataset"
   ]
  },
  {
   "cell_type": "code",
   "execution_count": 8,
   "metadata": {
    "ExecuteTime": {
     "end_time": "2020-10-17T13:19:45.156507Z",
     "start_time": "2020-10-17T13:19:45.129380Z"
    }
   },
   "outputs": [],
   "source": [
    "INPUT_FILE = \"bank.csv\"\n",
    "INPUT_DIR = \"./\""
   ]
  },
  {
   "cell_type": "code",
   "execution_count": 9,
   "metadata": {
    "ExecuteTime": {
     "end_time": "2020-10-17T13:19:47.102232Z",
     "start_time": "2020-10-17T13:19:47.075607Z"
    }
   },
   "outputs": [],
   "source": [
    "def read_input(input_dir, input_file):\n",
    "    \n",
    "    df = pd.read_csv(os.path.join(input_dir, input_file))\n",
    "    \n",
    "    return df"
   ]
  },
  {
   "cell_type": "code",
   "execution_count": 10,
   "metadata": {
    "ExecuteTime": {
     "end_time": "2020-10-17T13:19:53.369961Z",
     "start_time": "2020-10-17T13:19:53.322327Z"
    }
   },
   "outputs": [],
   "source": [
    "df = read_input(INPUT_DIR, INPUT_FILE)"
   ]
  },
  {
   "cell_type": "code",
   "execution_count": 11,
   "metadata": {
    "ExecuteTime": {
     "end_time": "2020-10-17T13:19:53.881048Z",
     "start_time": "2020-10-17T13:19:53.857651Z"
    }
   },
   "outputs": [
    {
     "data": {
      "text/plain": [
       "(10000, 14)"
      ]
     },
     "execution_count": 11,
     "metadata": {},
     "output_type": "execute_result"
    }
   ],
   "source": [
    "df.shape"
   ]
  },
  {
   "cell_type": "markdown",
   "metadata": {},
   "source": [
    "### Sanity Check 1"
   ]
  },
  {
   "cell_type": "code",
   "execution_count": 12,
   "metadata": {
    "ExecuteTime": {
     "end_time": "2020-10-17T13:20:11.475144Z",
     "start_time": "2020-10-17T13:20:11.444982Z"
    }
   },
   "outputs": [],
   "source": [
    "def sanity_check_1(df):\n",
    "    dtype = df.dtypes\n",
    "    null = df.isnull().sum()\n",
    "    unique = df.nunique()\n",
    "\n",
    "    result_df = pd.concat([dtype, null, unique], axis=1)\n",
    "    result_df.columns = ['dtype', 'null', 'unique']\n",
    "    result_df['null_%'] = result_df['null'].values / len(df)\n",
    "    \n",
    "    \n",
    "    return result_df.sort_values(by='dtype')"
   ]
  },
  {
   "cell_type": "code",
   "execution_count": 13,
   "metadata": {
    "ExecuteTime": {
     "end_time": "2020-10-17T13:20:12.210510Z",
     "start_time": "2020-10-17T13:20:12.155925Z"
    }
   },
   "outputs": [
    {
     "data": {
      "text/html": [
       "<div>\n",
       "<style scoped>\n",
       "    .dataframe tbody tr th:only-of-type {\n",
       "        vertical-align: middle;\n",
       "    }\n",
       "\n",
       "    .dataframe tbody tr th {\n",
       "        vertical-align: top;\n",
       "    }\n",
       "\n",
       "    .dataframe thead th {\n",
       "        text-align: right;\n",
       "    }\n",
       "</style>\n",
       "<table border=\"1\" class=\"dataframe\">\n",
       "  <thead>\n",
       "    <tr style=\"text-align: right;\">\n",
       "      <th></th>\n",
       "      <th>dtype</th>\n",
       "      <th>null</th>\n",
       "      <th>unique</th>\n",
       "      <th>null_%</th>\n",
       "    </tr>\n",
       "  </thead>\n",
       "  <tbody>\n",
       "    <tr>\n",
       "      <th>RowNumber</th>\n",
       "      <td>int64</td>\n",
       "      <td>0</td>\n",
       "      <td>10000</td>\n",
       "      <td>0.0</td>\n",
       "    </tr>\n",
       "    <tr>\n",
       "      <th>CustomerId</th>\n",
       "      <td>int64</td>\n",
       "      <td>0</td>\n",
       "      <td>10000</td>\n",
       "      <td>0.0</td>\n",
       "    </tr>\n",
       "    <tr>\n",
       "      <th>CreditScore</th>\n",
       "      <td>int64</td>\n",
       "      <td>0</td>\n",
       "      <td>460</td>\n",
       "      <td>0.0</td>\n",
       "    </tr>\n",
       "    <tr>\n",
       "      <th>Age</th>\n",
       "      <td>int64</td>\n",
       "      <td>0</td>\n",
       "      <td>70</td>\n",
       "      <td>0.0</td>\n",
       "    </tr>\n",
       "    <tr>\n",
       "      <th>Tenure</th>\n",
       "      <td>int64</td>\n",
       "      <td>0</td>\n",
       "      <td>11</td>\n",
       "      <td>0.0</td>\n",
       "    </tr>\n",
       "    <tr>\n",
       "      <th>NumOfProducts</th>\n",
       "      <td>int64</td>\n",
       "      <td>0</td>\n",
       "      <td>4</td>\n",
       "      <td>0.0</td>\n",
       "    </tr>\n",
       "    <tr>\n",
       "      <th>HasCrCard</th>\n",
       "      <td>int64</td>\n",
       "      <td>0</td>\n",
       "      <td>2</td>\n",
       "      <td>0.0</td>\n",
       "    </tr>\n",
       "    <tr>\n",
       "      <th>IsActiveMember</th>\n",
       "      <td>int64</td>\n",
       "      <td>0</td>\n",
       "      <td>2</td>\n",
       "      <td>0.0</td>\n",
       "    </tr>\n",
       "    <tr>\n",
       "      <th>Exited</th>\n",
       "      <td>int64</td>\n",
       "      <td>0</td>\n",
       "      <td>2</td>\n",
       "      <td>0.0</td>\n",
       "    </tr>\n",
       "    <tr>\n",
       "      <th>Balance</th>\n",
       "      <td>float64</td>\n",
       "      <td>0</td>\n",
       "      <td>6382</td>\n",
       "      <td>0.0</td>\n",
       "    </tr>\n",
       "    <tr>\n",
       "      <th>EstimatedSalary</th>\n",
       "      <td>float64</td>\n",
       "      <td>0</td>\n",
       "      <td>9999</td>\n",
       "      <td>0.0</td>\n",
       "    </tr>\n",
       "    <tr>\n",
       "      <th>Surname</th>\n",
       "      <td>object</td>\n",
       "      <td>0</td>\n",
       "      <td>2932</td>\n",
       "      <td>0.0</td>\n",
       "    </tr>\n",
       "    <tr>\n",
       "      <th>Geography</th>\n",
       "      <td>object</td>\n",
       "      <td>0</td>\n",
       "      <td>3</td>\n",
       "      <td>0.0</td>\n",
       "    </tr>\n",
       "    <tr>\n",
       "      <th>Gender</th>\n",
       "      <td>object</td>\n",
       "      <td>0</td>\n",
       "      <td>2</td>\n",
       "      <td>0.0</td>\n",
       "    </tr>\n",
       "  </tbody>\n",
       "</table>\n",
       "</div>"
      ],
      "text/plain": [
       "                   dtype  null  unique  null_%\n",
       "RowNumber          int64     0   10000     0.0\n",
       "CustomerId         int64     0   10000     0.0\n",
       "CreditScore        int64     0     460     0.0\n",
       "Age                int64     0      70     0.0\n",
       "Tenure             int64     0      11     0.0\n",
       "NumOfProducts      int64     0       4     0.0\n",
       "HasCrCard          int64     0       2     0.0\n",
       "IsActiveMember     int64     0       2     0.0\n",
       "Exited             int64     0       2     0.0\n",
       "Balance          float64     0    6382     0.0\n",
       "EstimatedSalary  float64     0    9999     0.0\n",
       "Surname           object     0    2932     0.0\n",
       "Geography         object     0       3     0.0\n",
       "Gender            object     0       2     0.0"
      ]
     },
     "execution_count": 13,
     "metadata": {},
     "output_type": "execute_result"
    }
   ],
   "source": [
    "sanity_check_1(df)"
   ]
  },
  {
   "cell_type": "code",
   "execution_count": 14,
   "metadata": {
    "ExecuteTime": {
     "end_time": "2020-10-17T13:20:22.051320Z",
     "start_time": "2020-10-17T13:20:22.009563Z"
    }
   },
   "outputs": [
    {
     "data": {
      "text/html": [
       "<div>\n",
       "<style scoped>\n",
       "    .dataframe tbody tr th:only-of-type {\n",
       "        vertical-align: middle;\n",
       "    }\n",
       "\n",
       "    .dataframe tbody tr th {\n",
       "        vertical-align: top;\n",
       "    }\n",
       "\n",
       "    .dataframe thead th {\n",
       "        text-align: right;\n",
       "    }\n",
       "</style>\n",
       "<table border=\"1\" class=\"dataframe\">\n",
       "  <thead>\n",
       "    <tr style=\"text-align: right;\">\n",
       "      <th></th>\n",
       "      <th>RowNumber</th>\n",
       "      <th>CustomerId</th>\n",
       "      <th>Surname</th>\n",
       "      <th>CreditScore</th>\n",
       "      <th>Geography</th>\n",
       "      <th>Gender</th>\n",
       "      <th>Age</th>\n",
       "      <th>Tenure</th>\n",
       "      <th>Balance</th>\n",
       "      <th>NumOfProducts</th>\n",
       "      <th>HasCrCard</th>\n",
       "      <th>IsActiveMember</th>\n",
       "      <th>EstimatedSalary</th>\n",
       "      <th>Exited</th>\n",
       "    </tr>\n",
       "  </thead>\n",
       "  <tbody>\n",
       "    <tr>\n",
       "      <th>0</th>\n",
       "      <td>1</td>\n",
       "      <td>15634602</td>\n",
       "      <td>Hargrave</td>\n",
       "      <td>619</td>\n",
       "      <td>France</td>\n",
       "      <td>Female</td>\n",
       "      <td>42</td>\n",
       "      <td>2</td>\n",
       "      <td>0.00</td>\n",
       "      <td>1</td>\n",
       "      <td>1</td>\n",
       "      <td>1</td>\n",
       "      <td>101348.88</td>\n",
       "      <td>1</td>\n",
       "    </tr>\n",
       "    <tr>\n",
       "      <th>1</th>\n",
       "      <td>2</td>\n",
       "      <td>15647311</td>\n",
       "      <td>Hill</td>\n",
       "      <td>608</td>\n",
       "      <td>Spain</td>\n",
       "      <td>Female</td>\n",
       "      <td>41</td>\n",
       "      <td>1</td>\n",
       "      <td>83807.86</td>\n",
       "      <td>1</td>\n",
       "      <td>0</td>\n",
       "      <td>1</td>\n",
       "      <td>112542.58</td>\n",
       "      <td>0</td>\n",
       "    </tr>\n",
       "    <tr>\n",
       "      <th>2</th>\n",
       "      <td>3</td>\n",
       "      <td>15619304</td>\n",
       "      <td>Onio</td>\n",
       "      <td>502</td>\n",
       "      <td>France</td>\n",
       "      <td>Female</td>\n",
       "      <td>42</td>\n",
       "      <td>8</td>\n",
       "      <td>159660.80</td>\n",
       "      <td>3</td>\n",
       "      <td>1</td>\n",
       "      <td>0</td>\n",
       "      <td>113931.57</td>\n",
       "      <td>1</td>\n",
       "    </tr>\n",
       "    <tr>\n",
       "      <th>3</th>\n",
       "      <td>4</td>\n",
       "      <td>15701354</td>\n",
       "      <td>Boni</td>\n",
       "      <td>699</td>\n",
       "      <td>France</td>\n",
       "      <td>Female</td>\n",
       "      <td>39</td>\n",
       "      <td>1</td>\n",
       "      <td>0.00</td>\n",
       "      <td>2</td>\n",
       "      <td>0</td>\n",
       "      <td>0</td>\n",
       "      <td>93826.63</td>\n",
       "      <td>0</td>\n",
       "    </tr>\n",
       "    <tr>\n",
       "      <th>4</th>\n",
       "      <td>5</td>\n",
       "      <td>15737888</td>\n",
       "      <td>Mitchell</td>\n",
       "      <td>850</td>\n",
       "      <td>Spain</td>\n",
       "      <td>Female</td>\n",
       "      <td>43</td>\n",
       "      <td>2</td>\n",
       "      <td>125510.82</td>\n",
       "      <td>1</td>\n",
       "      <td>1</td>\n",
       "      <td>1</td>\n",
       "      <td>79084.10</td>\n",
       "      <td>0</td>\n",
       "    </tr>\n",
       "  </tbody>\n",
       "</table>\n",
       "</div>"
      ],
      "text/plain": [
       "   RowNumber  CustomerId   Surname  CreditScore Geography  Gender  Age  \\\n",
       "0          1    15634602  Hargrave          619    France  Female   42   \n",
       "1          2    15647311      Hill          608     Spain  Female   41   \n",
       "2          3    15619304      Onio          502    France  Female   42   \n",
       "3          4    15701354      Boni          699    France  Female   39   \n",
       "4          5    15737888  Mitchell          850     Spain  Female   43   \n",
       "\n",
       "   Tenure    Balance  NumOfProducts  HasCrCard  IsActiveMember  \\\n",
       "0       2       0.00              1          1               1   \n",
       "1       1   83807.86              1          0               1   \n",
       "2       8  159660.80              3          1               0   \n",
       "3       1       0.00              2          0               0   \n",
       "4       2  125510.82              1          1               1   \n",
       "\n",
       "   EstimatedSalary  Exited  \n",
       "0        101348.88       1  \n",
       "1        112542.58       0  \n",
       "2        113931.57       1  \n",
       "3         93826.63       0  \n",
       "4         79084.10       0  "
      ]
     },
     "execution_count": 14,
     "metadata": {},
     "output_type": "execute_result"
    }
   ],
   "source": [
    "df.head()"
   ]
  },
  {
   "cell_type": "code",
   "execution_count": 15,
   "metadata": {
    "ExecuteTime": {
     "end_time": "2020-10-17T10:32:29.391996Z",
     "start_time": "2020-10-17T10:32:29.308762Z"
    }
   },
   "outputs": [
    {
     "data": {
      "text/plain": [
       "0    0.7963\n",
       "1    0.2037\n",
       "Name: Exited, dtype: float64"
      ]
     },
     "execution_count": 15,
     "metadata": {},
     "output_type": "execute_result"
    }
   ],
   "source": [
    "df['Exited'].value_counts(normalize=True)"
   ]
  },
  {
   "cell_type": "code",
   "execution_count": 16,
   "metadata": {
    "ExecuteTime": {
     "end_time": "2020-10-17T13:21:26.978626Z",
     "start_time": "2020-10-17T13:21:26.894450Z"
    }
   },
   "outputs": [],
   "source": [
    "\n",
    "def sanity_processing(df):\n",
    "    df.drop(['RowNumber', 'CustomerId', 'Surname'], axis=1, inplace=True)\n",
    "    "
   ]
  },
  {
   "cell_type": "code",
   "execution_count": 17,
   "metadata": {
    "ExecuteTime": {
     "end_time": "2020-10-17T13:21:29.687729Z",
     "start_time": "2020-10-17T13:21:29.659745Z"
    }
   },
   "outputs": [],
   "source": [
    "sanity_processing(df)"
   ]
  },
  {
   "cell_type": "code",
   "execution_count": 18,
   "metadata": {
    "ExecuteTime": {
     "end_time": "2020-10-17T13:21:30.587181Z",
     "start_time": "2020-10-17T13:21:30.553360Z"
    }
   },
   "outputs": [
    {
     "data": {
      "text/html": [
       "<div>\n",
       "<style scoped>\n",
       "    .dataframe tbody tr th:only-of-type {\n",
       "        vertical-align: middle;\n",
       "    }\n",
       "\n",
       "    .dataframe tbody tr th {\n",
       "        vertical-align: top;\n",
       "    }\n",
       "\n",
       "    .dataframe thead th {\n",
       "        text-align: right;\n",
       "    }\n",
       "</style>\n",
       "<table border=\"1\" class=\"dataframe\">\n",
       "  <thead>\n",
       "    <tr style=\"text-align: right;\">\n",
       "      <th></th>\n",
       "      <th>CreditScore</th>\n",
       "      <th>Geography</th>\n",
       "      <th>Gender</th>\n",
       "      <th>Age</th>\n",
       "      <th>Tenure</th>\n",
       "      <th>Balance</th>\n",
       "      <th>NumOfProducts</th>\n",
       "      <th>HasCrCard</th>\n",
       "      <th>IsActiveMember</th>\n",
       "      <th>EstimatedSalary</th>\n",
       "      <th>Exited</th>\n",
       "    </tr>\n",
       "  </thead>\n",
       "  <tbody>\n",
       "    <tr>\n",
       "      <th>0</th>\n",
       "      <td>619</td>\n",
       "      <td>France</td>\n",
       "      <td>Female</td>\n",
       "      <td>42</td>\n",
       "      <td>2</td>\n",
       "      <td>0.00</td>\n",
       "      <td>1</td>\n",
       "      <td>1</td>\n",
       "      <td>1</td>\n",
       "      <td>101348.88</td>\n",
       "      <td>1</td>\n",
       "    </tr>\n",
       "    <tr>\n",
       "      <th>1</th>\n",
       "      <td>608</td>\n",
       "      <td>Spain</td>\n",
       "      <td>Female</td>\n",
       "      <td>41</td>\n",
       "      <td>1</td>\n",
       "      <td>83807.86</td>\n",
       "      <td>1</td>\n",
       "      <td>0</td>\n",
       "      <td>1</td>\n",
       "      <td>112542.58</td>\n",
       "      <td>0</td>\n",
       "    </tr>\n",
       "    <tr>\n",
       "      <th>2</th>\n",
       "      <td>502</td>\n",
       "      <td>France</td>\n",
       "      <td>Female</td>\n",
       "      <td>42</td>\n",
       "      <td>8</td>\n",
       "      <td>159660.80</td>\n",
       "      <td>3</td>\n",
       "      <td>1</td>\n",
       "      <td>0</td>\n",
       "      <td>113931.57</td>\n",
       "      <td>1</td>\n",
       "    </tr>\n",
       "    <tr>\n",
       "      <th>3</th>\n",
       "      <td>699</td>\n",
       "      <td>France</td>\n",
       "      <td>Female</td>\n",
       "      <td>39</td>\n",
       "      <td>1</td>\n",
       "      <td>0.00</td>\n",
       "      <td>2</td>\n",
       "      <td>0</td>\n",
       "      <td>0</td>\n",
       "      <td>93826.63</td>\n",
       "      <td>0</td>\n",
       "    </tr>\n",
       "    <tr>\n",
       "      <th>4</th>\n",
       "      <td>850</td>\n",
       "      <td>Spain</td>\n",
       "      <td>Female</td>\n",
       "      <td>43</td>\n",
       "      <td>2</td>\n",
       "      <td>125510.82</td>\n",
       "      <td>1</td>\n",
       "      <td>1</td>\n",
       "      <td>1</td>\n",
       "      <td>79084.10</td>\n",
       "      <td>0</td>\n",
       "    </tr>\n",
       "  </tbody>\n",
       "</table>\n",
       "</div>"
      ],
      "text/plain": [
       "   CreditScore Geography  Gender  Age  Tenure    Balance  NumOfProducts  \\\n",
       "0          619    France  Female   42       2       0.00              1   \n",
       "1          608     Spain  Female   41       1   83807.86              1   \n",
       "2          502    France  Female   42       8  159660.80              3   \n",
       "3          699    France  Female   39       1       0.00              2   \n",
       "4          850     Spain  Female   43       2  125510.82              1   \n",
       "\n",
       "   HasCrCard  IsActiveMember  EstimatedSalary  Exited  \n",
       "0          1               1        101348.88       1  \n",
       "1          0               1        112542.58       0  \n",
       "2          1               0        113931.57       1  \n",
       "3          0               0         93826.63       0  \n",
       "4          1               1         79084.10       0  "
      ]
     },
     "execution_count": 18,
     "metadata": {},
     "output_type": "execute_result"
    }
   ],
   "source": [
    "df.head()"
   ]
  },
  {
   "cell_type": "code",
   "execution_count": 19,
   "metadata": {
    "ExecuteTime": {
     "end_time": "2020-10-17T13:21:43.088392Z",
     "start_time": "2020-10-17T13:21:43.063127Z"
    }
   },
   "outputs": [],
   "source": [
    "TARGET = 'Exited'"
   ]
  },
  {
   "cell_type": "markdown",
   "metadata": {},
   "source": [
    "### Univariate Distribution"
   ]
  },
  {
   "cell_type": "code",
   "execution_count": 20,
   "metadata": {
    "ExecuteTime": {
     "end_time": "2020-10-17T13:22:06.110437Z",
     "start_time": "2020-10-17T13:22:05.998571Z"
    }
   },
   "outputs": [],
   "source": [
    "univariate_df = pd.concat([df.describe(percentiles=[i/10 for i in range(10)]).T, df.skew()], axis=1)\n",
    "univariate_df.rename(columns={0:\"skew\"}, inplace=True)"
   ]
  },
  {
   "cell_type": "code",
   "execution_count": 21,
   "metadata": {
    "ExecuteTime": {
     "end_time": "2020-10-17T13:22:07.246789Z",
     "start_time": "2020-10-17T13:22:07.208218Z"
    }
   },
   "outputs": [
    {
     "data": {
      "text/html": [
       "<div>\n",
       "<style scoped>\n",
       "    .dataframe tbody tr th:only-of-type {\n",
       "        vertical-align: middle;\n",
       "    }\n",
       "\n",
       "    .dataframe tbody tr th {\n",
       "        vertical-align: top;\n",
       "    }\n",
       "\n",
       "    .dataframe thead th {\n",
       "        text-align: right;\n",
       "    }\n",
       "</style>\n",
       "<table border=\"1\" class=\"dataframe\">\n",
       "  <thead>\n",
       "    <tr style=\"text-align: right;\">\n",
       "      <th></th>\n",
       "      <th>count</th>\n",
       "      <th>mean</th>\n",
       "      <th>std</th>\n",
       "      <th>min</th>\n",
       "      <th>0%</th>\n",
       "      <th>10%</th>\n",
       "      <th>20%</th>\n",
       "      <th>30%</th>\n",
       "      <th>40%</th>\n",
       "      <th>50%</th>\n",
       "      <th>60%</th>\n",
       "      <th>70%</th>\n",
       "      <th>80%</th>\n",
       "      <th>90%</th>\n",
       "      <th>max</th>\n",
       "      <th>skew</th>\n",
       "    </tr>\n",
       "  </thead>\n",
       "  <tbody>\n",
       "    <tr>\n",
       "      <th>CreditScore</th>\n",
       "      <td>10000.0</td>\n",
       "      <td>650.528800</td>\n",
       "      <td>96.653299</td>\n",
       "      <td>350.00</td>\n",
       "      <td>350.00</td>\n",
       "      <td>521.00</td>\n",
       "      <td>566.000</td>\n",
       "      <td>598.700</td>\n",
       "      <td>627.000</td>\n",
       "      <td>652.000</td>\n",
       "      <td>678.000</td>\n",
       "      <td>704.000</td>\n",
       "      <td>735.000</td>\n",
       "      <td>778.000</td>\n",
       "      <td>850.00</td>\n",
       "      <td>-0.071607</td>\n",
       "    </tr>\n",
       "    <tr>\n",
       "      <th>Age</th>\n",
       "      <td>10000.0</td>\n",
       "      <td>38.921800</td>\n",
       "      <td>10.487806</td>\n",
       "      <td>18.00</td>\n",
       "      <td>18.00</td>\n",
       "      <td>27.00</td>\n",
       "      <td>31.000</td>\n",
       "      <td>33.000</td>\n",
       "      <td>35.000</td>\n",
       "      <td>37.000</td>\n",
       "      <td>40.000</td>\n",
       "      <td>42.000</td>\n",
       "      <td>46.000</td>\n",
       "      <td>53.000</td>\n",
       "      <td>92.00</td>\n",
       "      <td>1.011320</td>\n",
       "    </tr>\n",
       "    <tr>\n",
       "      <th>Tenure</th>\n",
       "      <td>10000.0</td>\n",
       "      <td>5.012800</td>\n",
       "      <td>2.892174</td>\n",
       "      <td>0.00</td>\n",
       "      <td>0.00</td>\n",
       "      <td>1.00</td>\n",
       "      <td>2.000</td>\n",
       "      <td>3.000</td>\n",
       "      <td>4.000</td>\n",
       "      <td>5.000</td>\n",
       "      <td>6.000</td>\n",
       "      <td>7.000</td>\n",
       "      <td>8.000</td>\n",
       "      <td>9.000</td>\n",
       "      <td>10.00</td>\n",
       "      <td>0.010991</td>\n",
       "    </tr>\n",
       "    <tr>\n",
       "      <th>Balance</th>\n",
       "      <td>10000.0</td>\n",
       "      <td>76485.889288</td>\n",
       "      <td>62397.405202</td>\n",
       "      <td>0.00</td>\n",
       "      <td>0.00</td>\n",
       "      <td>0.00</td>\n",
       "      <td>0.000</td>\n",
       "      <td>0.000</td>\n",
       "      <td>73080.908</td>\n",
       "      <td>97198.540</td>\n",
       "      <td>110138.926</td>\n",
       "      <td>122029.870</td>\n",
       "      <td>133710.358</td>\n",
       "      <td>149244.792</td>\n",
       "      <td>250898.09</td>\n",
       "      <td>-0.141109</td>\n",
       "    </tr>\n",
       "    <tr>\n",
       "      <th>NumOfProducts</th>\n",
       "      <td>10000.0</td>\n",
       "      <td>1.530200</td>\n",
       "      <td>0.581654</td>\n",
       "      <td>1.00</td>\n",
       "      <td>1.00</td>\n",
       "      <td>1.00</td>\n",
       "      <td>1.000</td>\n",
       "      <td>1.000</td>\n",
       "      <td>1.000</td>\n",
       "      <td>1.000</td>\n",
       "      <td>2.000</td>\n",
       "      <td>2.000</td>\n",
       "      <td>2.000</td>\n",
       "      <td>2.000</td>\n",
       "      <td>4.00</td>\n",
       "      <td>0.745568</td>\n",
       "    </tr>\n",
       "    <tr>\n",
       "      <th>HasCrCard</th>\n",
       "      <td>10000.0</td>\n",
       "      <td>0.705500</td>\n",
       "      <td>0.455840</td>\n",
       "      <td>0.00</td>\n",
       "      <td>0.00</td>\n",
       "      <td>0.00</td>\n",
       "      <td>0.000</td>\n",
       "      <td>1.000</td>\n",
       "      <td>1.000</td>\n",
       "      <td>1.000</td>\n",
       "      <td>1.000</td>\n",
       "      <td>1.000</td>\n",
       "      <td>1.000</td>\n",
       "      <td>1.000</td>\n",
       "      <td>1.00</td>\n",
       "      <td>-0.901812</td>\n",
       "    </tr>\n",
       "    <tr>\n",
       "      <th>IsActiveMember</th>\n",
       "      <td>10000.0</td>\n",
       "      <td>0.515100</td>\n",
       "      <td>0.499797</td>\n",
       "      <td>0.00</td>\n",
       "      <td>0.00</td>\n",
       "      <td>0.00</td>\n",
       "      <td>0.000</td>\n",
       "      <td>0.000</td>\n",
       "      <td>0.000</td>\n",
       "      <td>1.000</td>\n",
       "      <td>1.000</td>\n",
       "      <td>1.000</td>\n",
       "      <td>1.000</td>\n",
       "      <td>1.000</td>\n",
       "      <td>1.00</td>\n",
       "      <td>-0.060437</td>\n",
       "    </tr>\n",
       "    <tr>\n",
       "      <th>EstimatedSalary</th>\n",
       "      <td>10000.0</td>\n",
       "      <td>100090.239881</td>\n",
       "      <td>57510.492818</td>\n",
       "      <td>11.58</td>\n",
       "      <td>11.58</td>\n",
       "      <td>20273.58</td>\n",
       "      <td>41050.736</td>\n",
       "      <td>60736.079</td>\n",
       "      <td>80238.340</td>\n",
       "      <td>100193.915</td>\n",
       "      <td>119710.038</td>\n",
       "      <td>139432.236</td>\n",
       "      <td>159836.726</td>\n",
       "      <td>179674.704</td>\n",
       "      <td>199992.48</td>\n",
       "      <td>0.002085</td>\n",
       "    </tr>\n",
       "    <tr>\n",
       "      <th>Exited</th>\n",
       "      <td>10000.0</td>\n",
       "      <td>0.203700</td>\n",
       "      <td>0.402769</td>\n",
       "      <td>0.00</td>\n",
       "      <td>0.00</td>\n",
       "      <td>0.00</td>\n",
       "      <td>0.000</td>\n",
       "      <td>0.000</td>\n",
       "      <td>0.000</td>\n",
       "      <td>0.000</td>\n",
       "      <td>0.000</td>\n",
       "      <td>0.000</td>\n",
       "      <td>1.000</td>\n",
       "      <td>1.000</td>\n",
       "      <td>1.00</td>\n",
       "      <td>1.471611</td>\n",
       "    </tr>\n",
       "  </tbody>\n",
       "</table>\n",
       "</div>"
      ],
      "text/plain": [
       "                   count           mean           std     min      0%  \\\n",
       "CreditScore      10000.0     650.528800     96.653299  350.00  350.00   \n",
       "Age              10000.0      38.921800     10.487806   18.00   18.00   \n",
       "Tenure           10000.0       5.012800      2.892174    0.00    0.00   \n",
       "Balance          10000.0   76485.889288  62397.405202    0.00    0.00   \n",
       "NumOfProducts    10000.0       1.530200      0.581654    1.00    1.00   \n",
       "HasCrCard        10000.0       0.705500      0.455840    0.00    0.00   \n",
       "IsActiveMember   10000.0       0.515100      0.499797    0.00    0.00   \n",
       "EstimatedSalary  10000.0  100090.239881  57510.492818   11.58   11.58   \n",
       "Exited           10000.0       0.203700      0.402769    0.00    0.00   \n",
       "\n",
       "                      10%        20%        30%        40%         50%  \\\n",
       "CreditScore        521.00    566.000    598.700    627.000     652.000   \n",
       "Age                 27.00     31.000     33.000     35.000      37.000   \n",
       "Tenure               1.00      2.000      3.000      4.000       5.000   \n",
       "Balance              0.00      0.000      0.000  73080.908   97198.540   \n",
       "NumOfProducts        1.00      1.000      1.000      1.000       1.000   \n",
       "HasCrCard            0.00      0.000      1.000      1.000       1.000   \n",
       "IsActiveMember       0.00      0.000      0.000      0.000       1.000   \n",
       "EstimatedSalary  20273.58  41050.736  60736.079  80238.340  100193.915   \n",
       "Exited               0.00      0.000      0.000      0.000       0.000   \n",
       "\n",
       "                        60%         70%         80%         90%        max  \\\n",
       "CreditScore         678.000     704.000     735.000     778.000     850.00   \n",
       "Age                  40.000      42.000      46.000      53.000      92.00   \n",
       "Tenure                6.000       7.000       8.000       9.000      10.00   \n",
       "Balance          110138.926  122029.870  133710.358  149244.792  250898.09   \n",
       "NumOfProducts         2.000       2.000       2.000       2.000       4.00   \n",
       "HasCrCard             1.000       1.000       1.000       1.000       1.00   \n",
       "IsActiveMember        1.000       1.000       1.000       1.000       1.00   \n",
       "EstimatedSalary  119710.038  139432.236  159836.726  179674.704  199992.48   \n",
       "Exited                0.000       0.000       1.000       1.000       1.00   \n",
       "\n",
       "                     skew  \n",
       "CreditScore     -0.071607  \n",
       "Age              1.011320  \n",
       "Tenure           0.010991  \n",
       "Balance         -0.141109  \n",
       "NumOfProducts    0.745568  \n",
       "HasCrCard       -0.901812  \n",
       "IsActiveMember  -0.060437  \n",
       "EstimatedSalary  0.002085  \n",
       "Exited           1.471611  "
      ]
     },
     "execution_count": 21,
     "metadata": {},
     "output_type": "execute_result"
    }
   ],
   "source": [
    "univariate_df"
   ]
  },
  {
   "cell_type": "code",
   "execution_count": 23,
   "metadata": {
    "ExecuteTime": {
     "end_time": "2020-10-17T13:22:16.273406Z",
     "start_time": "2020-10-17T13:22:16.047013Z"
    }
   },
   "outputs": [
    {
     "data": {
      "image/png": "[encoded data removed]",
      "text/plain": [
       "<Figure size 432x288 with 1 Axes>"
      ]
     },
     "metadata": {
      "needs_background": "light"
     },
     "output_type": "display_data"
    }
   ],
   "source": [
    "driver = 'HasCrCard'\n",
    "_a = df[driver].value_counts(normalize=True).reset_index()\n",
    "_a.columns = [driver, '%']\n",
    "ax = sns.barplot(x=driver, y='%',data=_a)\n",
    "for p in ax.patches:\n",
    "    percentage = '{:.1f}%'.format(100 * p.get_height())\n",
    "    x = p.get_x() + p.get_width()/2\n",
    "    y = p.get_height()+0.01\n",
    "    ax.annotate(percentage, (x, y))\n",
    "plt.show()"
   ]
  },
  {
   "cell_type": "code",
   "execution_count": 24,
   "metadata": {
    "ExecuteTime": {
     "end_time": "2020-10-17T13:22:30.473560Z",
     "start_time": "2020-10-17T13:22:30.238058Z"
    }
   },
   "outputs": [
    {
     "data": {
      "image/png": "[encoded data removed]",
      "text/plain": [
       "<Figure size 432x288 with 1 Axes>"
      ]
     },
     "metadata": {
      "needs_background": "light"
     },
     "output_type": "display_data"
    }
   ],
   "source": [
    "sns.distplot(df['EstimatedSalary'], hist=False)\n",
    "plt.show()"
   ]
  },
  {
   "cell_type": "code",
   "execution_count": 25,
   "metadata": {
    "ExecuteTime": {
     "end_time": "2020-10-17T13:22:33.008455Z",
     "start_time": "2020-10-17T13:22:32.868989Z"
    }
   },
   "outputs": [
    {
     "data": {
      "image/png": "[encoded data removed]",
      "text/plain": [
       "<Figure size 432x288 with 1 Axes>"
      ]
     },
     "metadata": {
      "needs_background": "light"
     },
     "output_type": "display_data"
    }
   ],
   "source": [
    "sns.boxplot(df['Balance'])\n",
    "plt.show()"
   ]
  },
  {
   "cell_type": "markdown",
   "metadata": {},
   "source": [
    "### Bivariate"
   ]
  },
  {
   "cell_type": "code",
   "execution_count": 26,
   "metadata": {
    "ExecuteTime": {
     "end_time": "2020-10-17T13:25:16.940679Z",
     "start_time": "2020-10-17T13:25:16.626754Z"
    }
   },
   "outputs": [
    {
     "data": {
      "image/png": "[encoded data removed]",
      "text/plain": [
       "<Figure size 432x288 with 1 Axes>"
      ]
     },
     "metadata": {
      "needs_background": "light"
     },
     "output_type": "display_data"
    }
   ],
   "source": [
    "BUCKETS = 5\n",
    "driver = 'EstimatedSalary'\n",
    "\n",
    "df['b'] = pd.qcut(df[driver], q=BUCKETS, duplicates='drop')\n",
    "\n",
    "grouped = df.groupby(by=['b'])[TARGET, driver].agg('mean')\n",
    "\n",
    "sns.lineplot(x=driver,\n",
    "            y=TARGET,\n",
    "            data=grouped)\n",
    "del df['b']\n",
    "plt.show()"
   ]
  },
  {
   "cell_type": "code",
   "execution_count": 27,
   "metadata": {
    "ExecuteTime": {
     "end_time": "2020-10-17T13:22:42.869397Z",
     "start_time": "2020-10-17T13:22:42.645279Z"
    }
   },
   "outputs": [
    {
     "data": {
      "image/png": "[encoded data removed]",
      "text/plain": [
       "<Figure size 432x288 with 1 Axes>"
      ]
     },
     "metadata": {
      "needs_background": "light"
     },
     "output_type": "display_data"
    }
   ],
   "source": [
    "BUCKETS = 5\n",
    "driver = 'Balance'\n",
    "\n",
    "df['b'] = pd.qcut(df[driver], q=BUCKETS, duplicates='drop')\n",
    "\n",
    "grouped = df.groupby(by=['b'])[TARGET, driver].agg('mean')\n",
    "\n",
    "sns.lineplot(x=driver,\n",
    "            y=TARGET,\n",
    "            data=grouped)\n",
    "del df['b']\n",
    "plt.show()"
   ]
  },
  {
   "cell_type": "code",
   "execution_count": 28,
   "metadata": {
    "ExecuteTime": {
     "end_time": "2020-10-17T13:25:45.598348Z",
     "start_time": "2020-10-17T13:25:45.498627Z"
    }
   },
   "outputs": [
    {
     "data": {
      "text/html": [
       "<div>\n",
       "<style scoped>\n",
       "    .dataframe tbody tr th:only-of-type {\n",
       "        vertical-align: middle;\n",
       "    }\n",
       "\n",
       "    .dataframe tbody tr th {\n",
       "        vertical-align: top;\n",
       "    }\n",
       "\n",
       "    .dataframe thead th {\n",
       "        text-align: right;\n",
       "    }\n",
       "</style>\n",
       "<table border=\"1\" class=\"dataframe\">\n",
       "  <thead>\n",
       "    <tr style=\"text-align: right;\">\n",
       "      <th>Exited</th>\n",
       "      <th>0</th>\n",
       "      <th>1</th>\n",
       "    </tr>\n",
       "    <tr>\n",
       "      <th>HasCrCard</th>\n",
       "      <th></th>\n",
       "      <th></th>\n",
       "    </tr>\n",
       "  </thead>\n",
       "  <tbody>\n",
       "    <tr>\n",
       "      <th>0</th>\n",
       "      <td>0.791851</td>\n",
       "      <td>0.208149</td>\n",
       "    </tr>\n",
       "    <tr>\n",
       "      <th>1</th>\n",
       "      <td>0.798157</td>\n",
       "      <td>0.201843</td>\n",
       "    </tr>\n",
       "  </tbody>\n",
       "</table>\n",
       "</div>"
      ],
      "text/plain": [
       "Exited            0         1\n",
       "HasCrCard                    \n",
       "0          0.791851  0.208149\n",
       "1          0.798157  0.201843"
      ]
     },
     "execution_count": 28,
     "metadata": {},
     "output_type": "execute_result"
    }
   ],
   "source": [
    "driver='HasCrCard'\n",
    "data_crosstab = pd.crosstab(df[driver],  \n",
    "                            df[TARGET], \n",
    "                                margins = False,\n",
    "                           normalize='index')\n",
    "data_crosstab"
   ]
  },
  {
   "cell_type": "code",
   "execution_count": 29,
   "metadata": {
    "ExecuteTime": {
     "end_time": "2020-10-17T13:25:57.921119Z",
     "start_time": "2020-10-17T13:25:57.862279Z"
    }
   },
   "outputs": [
    {
     "data": {
      "text/html": [
       "<div>\n",
       "<style scoped>\n",
       "    .dataframe tbody tr th:only-of-type {\n",
       "        vertical-align: middle;\n",
       "    }\n",
       "\n",
       "    .dataframe tbody tr th {\n",
       "        vertical-align: top;\n",
       "    }\n",
       "\n",
       "    .dataframe thead th {\n",
       "        text-align: right;\n",
       "    }\n",
       "</style>\n",
       "<table border=\"1\" class=\"dataframe\">\n",
       "  <thead>\n",
       "    <tr style=\"text-align: right;\">\n",
       "      <th>Exited</th>\n",
       "      <th>0</th>\n",
       "      <th>1</th>\n",
       "    </tr>\n",
       "    <tr>\n",
       "      <th>IsActiveMember</th>\n",
       "      <th></th>\n",
       "      <th></th>\n",
       "    </tr>\n",
       "  </thead>\n",
       "  <tbody>\n",
       "    <tr>\n",
       "      <th>0</th>\n",
       "      <td>0.731491</td>\n",
       "      <td>0.268509</td>\n",
       "    </tr>\n",
       "    <tr>\n",
       "      <th>1</th>\n",
       "      <td>0.857309</td>\n",
       "      <td>0.142691</td>\n",
       "    </tr>\n",
       "  </tbody>\n",
       "</table>\n",
       "</div>"
      ],
      "text/plain": [
       "Exited                 0         1\n",
       "IsActiveMember                    \n",
       "0               0.731491  0.268509\n",
       "1               0.857309  0.142691"
      ]
     },
     "execution_count": 29,
     "metadata": {},
     "output_type": "execute_result"
    }
   ],
   "source": [
    "driver='IsActiveMember'\n",
    "data_crosstab = pd.crosstab(df[driver],  \n",
    "                            df[TARGET], \n",
    "                                margins = False,\n",
    "                           normalize='index')\n",
    "data_crosstab"
   ]
  },
  {
   "cell_type": "markdown",
   "metadata": {},
   "source": [
    "### Data Preparation"
   ]
  },
  {
   "cell_type": "code",
   "execution_count": 30,
   "metadata": {
    "ExecuteTime": {
     "end_time": "2020-10-17T13:27:08.332637Z",
     "start_time": "2020-10-17T13:27:07.371716Z"
    }
   },
   "outputs": [],
   "source": [
    "from sklearn.preprocessing import LabelEncoder, OneHotEncoder\n",
    "from sklearn.compose import ColumnTransformer\n",
    "from sklearn.model_selection import train_test_split\n",
    "from sklearn.preprocessing import StandardScaler"
   ]
  },
  {
   "cell_type": "code",
   "execution_count": 31,
   "metadata": {
    "ExecuteTime": {
     "end_time": "2020-10-17T13:27:08.472729Z",
     "start_time": "2020-10-17T13:27:08.436092Z"
    }
   },
   "outputs": [
    {
     "data": {
      "text/html": [
       "<div>\n",
       "<style scoped>\n",
       "    .dataframe tbody tr th:only-of-type {\n",
       "        vertical-align: middle;\n",
       "    }\n",
       "\n",
       "    .dataframe tbody tr th {\n",
       "        vertical-align: top;\n",
       "    }\n",
       "\n",
       "    .dataframe thead th {\n",
       "        text-align: right;\n",
       "    }\n",
       "</style>\n",
       "<table border=\"1\" class=\"dataframe\">\n",
       "  <thead>\n",
       "    <tr style=\"text-align: right;\">\n",
       "      <th></th>\n",
       "      <th>CreditScore</th>\n",
       "      <th>Geography</th>\n",
       "      <th>Gender</th>\n",
       "      <th>Age</th>\n",
       "      <th>Tenure</th>\n",
       "      <th>Balance</th>\n",
       "      <th>NumOfProducts</th>\n",
       "      <th>HasCrCard</th>\n",
       "      <th>IsActiveMember</th>\n",
       "      <th>EstimatedSalary</th>\n",
       "      <th>Exited</th>\n",
       "    </tr>\n",
       "  </thead>\n",
       "  <tbody>\n",
       "    <tr>\n",
       "      <th>0</th>\n",
       "      <td>619</td>\n",
       "      <td>France</td>\n",
       "      <td>Female</td>\n",
       "      <td>42</td>\n",
       "      <td>2</td>\n",
       "      <td>0.00</td>\n",
       "      <td>1</td>\n",
       "      <td>1</td>\n",
       "      <td>1</td>\n",
       "      <td>101348.88</td>\n",
       "      <td>1</td>\n",
       "    </tr>\n",
       "    <tr>\n",
       "      <th>1</th>\n",
       "      <td>608</td>\n",
       "      <td>Spain</td>\n",
       "      <td>Female</td>\n",
       "      <td>41</td>\n",
       "      <td>1</td>\n",
       "      <td>83807.86</td>\n",
       "      <td>1</td>\n",
       "      <td>0</td>\n",
       "      <td>1</td>\n",
       "      <td>112542.58</td>\n",
       "      <td>0</td>\n",
       "    </tr>\n",
       "    <tr>\n",
       "      <th>2</th>\n",
       "      <td>502</td>\n",
       "      <td>France</td>\n",
       "      <td>Female</td>\n",
       "      <td>42</td>\n",
       "      <td>8</td>\n",
       "      <td>159660.80</td>\n",
       "      <td>3</td>\n",
       "      <td>1</td>\n",
       "      <td>0</td>\n",
       "      <td>113931.57</td>\n",
       "      <td>1</td>\n",
       "    </tr>\n",
       "    <tr>\n",
       "      <th>3</th>\n",
       "      <td>699</td>\n",
       "      <td>France</td>\n",
       "      <td>Female</td>\n",
       "      <td>39</td>\n",
       "      <td>1</td>\n",
       "      <td>0.00</td>\n",
       "      <td>2</td>\n",
       "      <td>0</td>\n",
       "      <td>0</td>\n",
       "      <td>93826.63</td>\n",
       "      <td>0</td>\n",
       "    </tr>\n",
       "    <tr>\n",
       "      <th>4</th>\n",
       "      <td>850</td>\n",
       "      <td>Spain</td>\n",
       "      <td>Female</td>\n",
       "      <td>43</td>\n",
       "      <td>2</td>\n",
       "      <td>125510.82</td>\n",
       "      <td>1</td>\n",
       "      <td>1</td>\n",
       "      <td>1</td>\n",
       "      <td>79084.10</td>\n",
       "      <td>0</td>\n",
       "    </tr>\n",
       "  </tbody>\n",
       "</table>\n",
       "</div>"
      ],
      "text/plain": [
       "   CreditScore Geography  Gender  Age  Tenure    Balance  NumOfProducts  \\\n",
       "0          619    France  Female   42       2       0.00              1   \n",
       "1          608     Spain  Female   41       1   83807.86              1   \n",
       "2          502    France  Female   42       8  159660.80              3   \n",
       "3          699    France  Female   39       1       0.00              2   \n",
       "4          850     Spain  Female   43       2  125510.82              1   \n",
       "\n",
       "   HasCrCard  IsActiveMember  EstimatedSalary  Exited  \n",
       "0          1               1        101348.88       1  \n",
       "1          0               1        112542.58       0  \n",
       "2          1               0        113931.57       1  \n",
       "3          0               0         93826.63       0  \n",
       "4          1               1         79084.10       0  "
      ]
     },
     "execution_count": 31,
     "metadata": {},
     "output_type": "execute_result"
    }
   ],
   "source": [
    "df.head()"
   ]
  },
  {
   "cell_type": "code",
   "execution_count": 32,
   "metadata": {
    "ExecuteTime": {
     "end_time": "2020-10-17T13:54:16.911416Z",
     "start_time": "2020-10-17T13:54:16.755700Z"
    }
   },
   "outputs": [],
   "source": [
    "X = df.drop(columns=[TARGET])\n",
    "y = df[TARGET]"
   ]
  },
  {
   "cell_type": "code",
   "execution_count": 33,
   "metadata": {
    "ExecuteTime": {
     "end_time": "2020-10-17T13:28:38.456971Z",
     "start_time": "2020-10-17T13:28:38.424134Z"
    }
   },
   "outputs": [
    {
     "data": {
      "text/plain": [
       "(10000, 10)"
      ]
     },
     "execution_count": 33,
     "metadata": {},
     "output_type": "execute_result"
    }
   ],
   "source": [
    "X.shape"
   ]
  },
  {
   "cell_type": "code",
   "execution_count": 34,
   "metadata": {
    "ExecuteTime": {
     "end_time": "2020-10-17T13:54:26.067495Z",
     "start_time": "2020-10-17T13:54:25.991717Z"
    }
   },
   "outputs": [],
   "source": [
    "label_X_gender_encoder = LabelEncoder()\n",
    "X['Gender'] = label_X_gender_encoder.fit_transform(X['Gender'])"
   ]
  },
  {
   "cell_type": "code",
   "execution_count": 35,
   "metadata": {
    "ExecuteTime": {
     "end_time": "2020-10-17T13:29:01.605651Z",
     "start_time": "2020-10-17T13:29:01.573154Z"
    }
   },
   "outputs": [
    {
     "data": {
      "text/plain": [
       "array(['Female', 'Male'], dtype=object)"
      ]
     },
     "execution_count": 35,
     "metadata": {},
     "output_type": "execute_result"
    }
   ],
   "source": [
    "label_X_gender_encoder.classes_"
   ]
  },
  {
   "cell_type": "code",
   "execution_count": 36,
   "metadata": {},
   "outputs": [
    {
     "data": {
      "text/html": [
       "<div>\n",
       "<style scoped>\n",
       "    .dataframe tbody tr th:only-of-type {\n",
       "        vertical-align: middle;\n",
       "    }\n",
       "\n",
       "    .dataframe tbody tr th {\n",
       "        vertical-align: top;\n",
       "    }\n",
       "\n",
       "    .dataframe thead th {\n",
       "        text-align: right;\n",
       "    }\n",
       "</style>\n",
       "<table border=\"1\" class=\"dataframe\">\n",
       "  <thead>\n",
       "    <tr style=\"text-align: right;\">\n",
       "      <th></th>\n",
       "      <th>CreditScore</th>\n",
       "      <th>Geography</th>\n",
       "      <th>Gender</th>\n",
       "      <th>Age</th>\n",
       "      <th>Tenure</th>\n",
       "      <th>Balance</th>\n",
       "      <th>NumOfProducts</th>\n",
       "      <th>HasCrCard</th>\n",
       "      <th>IsActiveMember</th>\n",
       "      <th>EstimatedSalary</th>\n",
       "    </tr>\n",
       "  </thead>\n",
       "  <tbody>\n",
       "    <tr>\n",
       "      <th>0</th>\n",
       "      <td>619</td>\n",
       "      <td>France</td>\n",
       "      <td>0</td>\n",
       "      <td>42</td>\n",
       "      <td>2</td>\n",
       "      <td>0.00</td>\n",
       "      <td>1</td>\n",
       "      <td>1</td>\n",
       "      <td>1</td>\n",
       "      <td>101348.88</td>\n",
       "    </tr>\n",
       "    <tr>\n",
       "      <th>1</th>\n",
       "      <td>608</td>\n",
       "      <td>Spain</td>\n",
       "      <td>0</td>\n",
       "      <td>41</td>\n",
       "      <td>1</td>\n",
       "      <td>83807.86</td>\n",
       "      <td>1</td>\n",
       "      <td>0</td>\n",
       "      <td>1</td>\n",
       "      <td>112542.58</td>\n",
       "    </tr>\n",
       "    <tr>\n",
       "      <th>2</th>\n",
       "      <td>502</td>\n",
       "      <td>France</td>\n",
       "      <td>0</td>\n",
       "      <td>42</td>\n",
       "      <td>8</td>\n",
       "      <td>159660.80</td>\n",
       "      <td>3</td>\n",
       "      <td>1</td>\n",
       "      <td>0</td>\n",
       "      <td>113931.57</td>\n",
       "    </tr>\n",
       "    <tr>\n",
       "      <th>3</th>\n",
       "      <td>699</td>\n",
       "      <td>France</td>\n",
       "      <td>0</td>\n",
       "      <td>39</td>\n",
       "      <td>1</td>\n",
       "      <td>0.00</td>\n",
       "      <td>2</td>\n",
       "      <td>0</td>\n",
       "      <td>0</td>\n",
       "      <td>93826.63</td>\n",
       "    </tr>\n",
       "    <tr>\n",
       "      <th>4</th>\n",
       "      <td>850</td>\n",
       "      <td>Spain</td>\n",
       "      <td>0</td>\n",
       "      <td>43</td>\n",
       "      <td>2</td>\n",
       "      <td>125510.82</td>\n",
       "      <td>1</td>\n",
       "      <td>1</td>\n",
       "      <td>1</td>\n",
       "      <td>79084.10</td>\n",
       "    </tr>\n",
       "  </tbody>\n",
       "</table>\n",
       "</div>"
      ],
      "text/plain": [
       "   CreditScore Geography  Gender  Age  Tenure    Balance  NumOfProducts  \\\n",
       "0          619    France       0   42       2       0.00              1   \n",
       "1          608     Spain       0   41       1   83807.86              1   \n",
       "2          502    France       0   42       8  159660.80              3   \n",
       "3          699    France       0   39       1       0.00              2   \n",
       "4          850     Spain       0   43       2  125510.82              1   \n",
       "\n",
       "   HasCrCard  IsActiveMember  EstimatedSalary  \n",
       "0          1               1        101348.88  \n",
       "1          0               1        112542.58  \n",
       "2          1               0        113931.57  \n",
       "3          0               0         93826.63  \n",
       "4          1               1         79084.10  "
      ]
     },
     "execution_count": 36,
     "metadata": {},
     "output_type": "execute_result"
    }
   ],
   "source": [
    "X.head()"
   ]
  },
  {
   "cell_type": "code",
   "execution_count": 37,
   "metadata": {
    "ExecuteTime": {
     "end_time": "2020-10-17T13:29:15.716728Z",
     "start_time": "2020-10-17T13:29:15.685456Z"
    }
   },
   "outputs": [],
   "source": [
    "label_X_country_encoder = LabelEncoder()\n",
    "temp_1 = label_X_country_encoder.fit_transform(X['Geography'])"
   ]
  },
  {
   "cell_type": "code",
   "execution_count": 38,
   "metadata": {
    "ExecuteTime": {
     "end_time": "2020-10-17T13:29:16.202946Z",
     "start_time": "2020-10-17T13:29:16.173495Z"
    }
   },
   "outputs": [
    {
     "data": {
      "text/plain": [
       "array(['France', 'Germany', 'Spain'], dtype=object)"
      ]
     },
     "execution_count": 38,
     "metadata": {},
     "output_type": "execute_result"
    }
   ],
   "source": [
    "label_X_country_encoder.classes_"
   ]
  },
  {
   "cell_type": "code",
   "execution_count": null,
   "metadata": {
    "ExecuteTime": {
     "end_time": "2020-10-17T13:29:19.853743Z",
     "start_time": "2020-10-17T13:29:19.819157Z"
    }
   },
   "outputs": [],
   "source": [
    "label_X_country_encoder.inverse_transform([0,1,2])"
   ]
  },
  {
   "cell_type": "code",
   "execution_count": 39,
   "metadata": {
    "ExecuteTime": {
     "end_time": "2020-10-17T13:54:30.094063Z",
     "start_time": "2020-10-17T13:54:30.009401Z"
    }
   },
   "outputs": [],
   "source": [
    "countryhotencoder = ColumnTransformer([(\"countries\", OneHotEncoder(drop='first'), ['Geography'])],\n",
    "                                      remainder=\"passthrough\")\n",
    "X = countryhotencoder.fit_transform(X)"
   ]
  },
  {
   "cell_type": "code",
   "execution_count": 41,
   "metadata": {
    "ExecuteTime": {
     "end_time": "2020-10-17T13:54:32.732778Z",
     "start_time": "2020-10-17T13:54:32.673698Z"
    }
   },
   "outputs": [],
   "source": [
    "X_train, X_validation, y_train, y_validation = train_test_split(X, y, test_size = 0.2, random_state = SEED)"
   ]
  },
  {
   "cell_type": "code",
   "execution_count": 42,
   "metadata": {
    "ExecuteTime": {
     "end_time": "2020-10-17T13:54:33.197952Z",
     "start_time": "2020-10-17T13:54:33.135509Z"
    }
   },
   "outputs": [
    {
     "data": {
      "text/plain": [
       "((8000, 11), (2000, 11), (2000,))"
      ]
     },
     "execution_count": 42,
     "metadata": {},
     "output_type": "execute_result"
    }
   ],
   "source": [
    "X_train.shape, X_validation.shape, y_validation.shape"
   ]
  },
  {
   "cell_type": "markdown",
   "metadata": {
    "ExecuteTime": {
     "end_time": "2020-10-15T19:12:11.422767Z",
     "start_time": "2020-10-15T19:12:11.388524Z"
    }
   },
   "source": [
    "### Data Normalization"
   ]
  },
  {
   "cell_type": "code",
   "execution_count": 43,
   "metadata": {
    "ExecuteTime": {
     "end_time": "2020-10-17T13:54:38.860392Z",
     "start_time": "2020-10-17T13:54:38.800630Z"
    }
   },
   "outputs": [],
   "source": [
    "#Makes training faster\n",
    "sc = StandardScaler()\n",
    "\n",
    "X_train = sc.fit_transform(X_train)\n",
    "X_validation = sc.transform(X_validation)\n"
   ]
  },
  {
   "cell_type": "markdown",
   "metadata": {
    "ExecuteTime": {
     "end_time": "2020-10-15T19:12:29.034635Z",
     "start_time": "2020-10-15T19:12:29.002208Z"
    }
   },
   "source": [
    "### Fitting ANN"
   ]
  },
  {
   "cell_type": "code",
   "execution_count": 44,
   "metadata": {
    "ExecuteTime": {
     "end_time": "2020-10-17T13:54:56.613952Z",
     "start_time": "2020-10-17T13:54:56.555379Z"
    }
   },
   "outputs": [],
   "source": [
    "import tensorflow as tf\n",
    "import tensorflow.keras.layers as L"
   ]
  },
  {
   "cell_type": "markdown",
   "metadata": {},
   "source": [
    "### Model Architecture"
   ]
  },
  {
   "cell_type": "code",
   "execution_count": 45,
   "metadata": {
    "ExecuteTime": {
     "end_time": "2020-10-17T13:54:58.398746Z",
     "start_time": "2020-10-17T13:54:58.317463Z"
    }
   },
   "outputs": [],
   "source": [
    "features = 11"
   ]
  },
  {
   "cell_type": "code",
   "execution_count": 57,
   "metadata": {
    "ExecuteTime": {
     "end_time": "2020-10-17T14:17:53.967221Z",
     "start_time": "2020-10-17T14:17:53.878007Z"
    }
   },
   "outputs": [],
   "source": [
    "model = tf.keras.models.Sequential(\n",
    "                                [L.Dense(32, activation='relu', input_shape = (features,), name='dense_8_tanh'),\n",
    "                                  L.Dense(16, activation='relu',name='dense_4_tanh'),\n",
    "                                  L.Dense(1, activation='sigmoid', name='dense_1_sigmoid')])\n"
   ]
  },
  {
   "cell_type": "code",
   "execution_count": 47,
   "metadata": {},
   "outputs": [
    {
     "data": {
      "text/plain": [
       "929"
      ]
     },
     "execution_count": 47,
     "metadata": {},
     "output_type": "execute_result"
    }
   ],
   "source": [
    "(11*32 + 32) + (32*16 + 16) + (16*1 + 1)"
   ]
  },
  {
   "cell_type": "markdown",
   "metadata": {},
   "source": [
    "### Check model architecture"
   ]
  },
  {
   "cell_type": "code",
   "execution_count": 48,
   "metadata": {
    "ExecuteTime": {
     "end_time": "2020-10-17T13:56:18.377746Z",
     "start_time": "2020-10-17T13:56:18.313815Z"
    }
   },
   "outputs": [
    {
     "name": "stdout",
     "output_type": "stream",
     "text": [
      "Model: \"sequential\"\n",
      "_________________________________________________________________\n",
      "Layer (type)                 Output Shape              Param #   \n",
      "=================================================================\n",
      "dense_8_tanh (Dense)         (None, 32)                384       \n",
      "_________________________________________________________________\n",
      "dense_4_tanh (Dense)         (None, 16)                528       \n",
      "_________________________________________________________________\n",
      "dense_1_sigmoid (Dense)      (None, 1)                 17        \n",
      "=================================================================\n",
      "Total params: 929\n",
      "Trainable params: 929\n",
      "Non-trainable params: 0\n",
      "_________________________________________________________________\n"
     ]
    }
   ],
   "source": [
    "model.summary()"
   ]
  },
  {
   "cell_type": "code",
   "execution_count": 49,
   "metadata": {
    "ExecuteTime": {
     "end_time": "2020-10-17T13:55:04.516413Z",
     "start_time": "2020-10-17T13:55:03.819346Z"
    }
   },
   "outputs": [
    {
     "data": {
      "image/png": "[encoded data removed]",
      "text/plain": [
       "<IPython.core.display.Image object>"
      ]
     },
     "execution_count": 49,
     "metadata": {},
     "output_type": "execute_result"
    }
   ],
   "source": [
    "tf.keras.utils.plot_model(\n",
    "    model,\n",
    "    to_file='model.png',\n",
    "    show_shapes=True,\n",
    "    show_layer_names=True,\n",
    ")"
   ]
  },
  {
   "cell_type": "markdown",
   "metadata": {},
   "source": [
    "### Optimizer"
   ]
  },
  {
   "cell_type": "code",
   "execution_count": 58,
   "metadata": {
    "ExecuteTime": {
     "end_time": "2020-10-17T14:17:57.109784Z",
     "start_time": "2020-10-17T14:17:57.036336Z"
    }
   },
   "outputs": [],
   "source": [
    "optimizer = tf.keras.optimizers.Adam(lr = 0.001)\n",
    "#optimizer = tf.keras.optimizers.SGD(lr = 0.001)"
   ]
  },
  {
   "cell_type": "markdown",
   "metadata": {},
   "source": [
    "### Loss function"
   ]
  },
  {
   "cell_type": "code",
   "execution_count": 59,
   "metadata": {
    "ExecuteTime": {
     "end_time": "2020-10-17T14:17:57.740701Z",
     "start_time": "2020-10-17T14:17:57.682946Z"
    }
   },
   "outputs": [],
   "source": [
    "loss = tf.keras.losses.BinaryCrossentropy()"
   ]
  },
  {
   "cell_type": "markdown",
   "metadata": {},
   "source": [
    "### Compile"
   ]
  },
  {
   "cell_type": "code",
   "execution_count": 60,
   "metadata": {
    "ExecuteTime": {
     "end_time": "2020-10-17T14:17:58.456539Z",
     "start_time": "2020-10-17T14:17:58.362657Z"
    }
   },
   "outputs": [],
   "source": [
    "model.compile(optimizer=optimizer,\n",
    "             loss=loss,\n",
    "             metrics=['accuracy'])"
   ]
  },
  {
   "cell_type": "markdown",
   "metadata": {},
   "source": [
    "### Training"
   ]
  },
  {
   "cell_type": "markdown",
   "metadata": {},
   "source": [
    "### Checking model performance"
   ]
  },
  {
   "cell_type": "code",
   "execution_count": 53,
   "metadata": {
    "ExecuteTime": {
     "end_time": "2020-10-17T14:18:12.669762Z",
     "start_time": "2020-10-17T14:18:05.861664Z"
    },
    "collapsed": true
   },
   "outputs": [
    {
     "name": "stdout",
     "output_type": "stream",
     "text": [
      "Train on 8000 samples, validate on 2000 samples\n",
      "Epoch 1/100\n",
      "8000/8000 [==============================] - 0s 62us/sample - loss: 0.5203 - accuracy: 0.7926 - val_loss: 0.4810 - val_accuracy: 0.8020\n",
      "Epoch 2/100\n",
      "8000/8000 [==============================] - 0s 6us/sample - loss: 0.4652 - accuracy: 0.7949 - val_loss: 0.4505 - val_accuracy: 0.8020\n",
      "Epoch 3/100\n",
      "8000/8000 [==============================] - 0s 7us/sample - loss: 0.4432 - accuracy: 0.7950 - val_loss: 0.4339 - val_accuracy: 0.8025\n",
      "Epoch 4/100\n",
      "8000/8000 [==============================] - 0s 10us/sample - loss: 0.4303 - accuracy: 0.7969 - val_loss: 0.4222 - val_accuracy: 0.8100\n",
      "Epoch 5/100\n",
      "8000/8000 [==============================] - 0s 7us/sample - loss: 0.4207 - accuracy: 0.8066 - val_loss: 0.4129 - val_accuracy: 0.8205\n",
      "Epoch 6/100\n",
      "8000/8000 [==============================] - 0s 7us/sample - loss: 0.4119 - accuracy: 0.8195 - val_loss: 0.4028 - val_accuracy: 0.8315\n",
      "Epoch 7/100\n",
      "8000/8000 [==============================] - 0s 7us/sample - loss: 0.4026 - accuracy: 0.8289 - val_loss: 0.3943 - val_accuracy: 0.8375\n",
      "Epoch 8/100\n",
      "8000/8000 [==============================] - 0s 7us/sample - loss: 0.3945 - accuracy: 0.8328 - val_loss: 0.3842 - val_accuracy: 0.8430\n",
      "Epoch 9/100\n",
      "8000/8000 [==============================] - 0s 6us/sample - loss: 0.3867 - accuracy: 0.8372 - val_loss: 0.3768 - val_accuracy: 0.8465\n",
      "Epoch 10/100\n",
      "8000/8000 [==============================] - 0s 7us/sample - loss: 0.3789 - accuracy: 0.8420 - val_loss: 0.3698 - val_accuracy: 0.8510\n",
      "Epoch 11/100\n",
      "8000/8000 [==============================] - 0s 7us/sample - loss: 0.3735 - accuracy: 0.8450 - val_loss: 0.3629 - val_accuracy: 0.8510\n",
      "Epoch 12/100\n",
      "8000/8000 [==============================] - 0s 7us/sample - loss: 0.3673 - accuracy: 0.8464 - val_loss: 0.3571 - val_accuracy: 0.8520\n",
      "Epoch 13/100\n",
      "8000/8000 [==============================] - 0s 8us/sample - loss: 0.3632 - accuracy: 0.8508 - val_loss: 0.3524 - val_accuracy: 0.8570\n",
      "Epoch 14/100\n",
      "8000/8000 [==============================] - 0s 7us/sample - loss: 0.3587 - accuracy: 0.8530 - val_loss: 0.3487 - val_accuracy: 0.8585\n",
      "Epoch 15/100\n",
      "8000/8000 [==============================] - 0s 8us/sample - loss: 0.3555 - accuracy: 0.8541 - val_loss: 0.3447 - val_accuracy: 0.8605\n",
      "Epoch 16/100\n",
      "8000/8000 [==============================] - 0s 7us/sample - loss: 0.3527 - accuracy: 0.8571 - val_loss: 0.3429 - val_accuracy: 0.8635\n",
      "Epoch 17/100\n",
      "8000/8000 [==============================] - 0s 7us/sample - loss: 0.3504 - accuracy: 0.8566 - val_loss: 0.3401 - val_accuracy: 0.8640\n",
      "Epoch 18/100\n",
      "8000/8000 [==============================] - 0s 8us/sample - loss: 0.3483 - accuracy: 0.8560 - val_loss: 0.3400 - val_accuracy: 0.8665\n",
      "Epoch 19/100\n",
      "8000/8000 [==============================] - 0s 8us/sample - loss: 0.3469 - accuracy: 0.8583 - val_loss: 0.3372 - val_accuracy: 0.8630\n",
      "Epoch 20/100\n",
      "8000/8000 [==============================] - 0s 8us/sample - loss: 0.3456 - accuracy: 0.8590 - val_loss: 0.3358 - val_accuracy: 0.8655\n",
      "Epoch 21/100\n",
      "8000/8000 [==============================] - 0s 8us/sample - loss: 0.3446 - accuracy: 0.8577 - val_loss: 0.3359 - val_accuracy: 0.8680\n",
      "Epoch 22/100\n",
      "8000/8000 [==============================] - 0s 7us/sample - loss: 0.3430 - accuracy: 0.8583 - val_loss: 0.3343 - val_accuracy: 0.8685\n",
      "Epoch 23/100\n",
      "8000/8000 [==============================] - 0s 8us/sample - loss: 0.3423 - accuracy: 0.8606 - val_loss: 0.3328 - val_accuracy: 0.8640\n",
      "Epoch 24/100\n",
      "8000/8000 [==============================] - 0s 8us/sample - loss: 0.3410 - accuracy: 0.8584 - val_loss: 0.3318 - val_accuracy: 0.8660\n",
      "Epoch 25/100\n",
      "8000/8000 [==============================] - 0s 7us/sample - loss: 0.3404 - accuracy: 0.8615 - val_loss: 0.3325 - val_accuracy: 0.8650\n",
      "Epoch 26/100\n",
      "8000/8000 [==============================] - 0s 7us/sample - loss: 0.3389 - accuracy: 0.8594 - val_loss: 0.3312 - val_accuracy: 0.8690\n",
      "Epoch 27/100\n",
      "8000/8000 [==============================] - 0s 7us/sample - loss: 0.3388 - accuracy: 0.8601 - val_loss: 0.3302 - val_accuracy: 0.8675\n",
      "Epoch 28/100\n",
      "8000/8000 [==============================] - 0s 7us/sample - loss: 0.3376 - accuracy: 0.8621 - val_loss: 0.3310 - val_accuracy: 0.8655\n",
      "Epoch 29/100\n",
      "8000/8000 [==============================] - 0s 7us/sample - loss: 0.3370 - accuracy: 0.8609 - val_loss: 0.3299 - val_accuracy: 0.8675\n",
      "Epoch 30/100\n",
      "8000/8000 [==============================] - 0s 7us/sample - loss: 0.3361 - accuracy: 0.8605 - val_loss: 0.3300 - val_accuracy: 0.8665\n",
      "Epoch 31/100\n",
      "8000/8000 [==============================] - 0s 7us/sample - loss: 0.3355 - accuracy: 0.8612 - val_loss: 0.3297 - val_accuracy: 0.8695\n",
      "Epoch 32/100\n",
      "8000/8000 [==============================] - 0s 7us/sample - loss: 0.3350 - accuracy: 0.8618 - val_loss: 0.3295 - val_accuracy: 0.8660\n",
      "Epoch 33/100\n",
      "8000/8000 [==============================] - 0s 7us/sample - loss: 0.3350 - accuracy: 0.8608 - val_loss: 0.3288 - val_accuracy: 0.8640\n",
      "Epoch 34/100\n",
      "8000/8000 [==============================] - 0s 8us/sample - loss: 0.3337 - accuracy: 0.8619 - val_loss: 0.3292 - val_accuracy: 0.8645\n",
      "Epoch 35/100\n",
      "8000/8000 [==============================] - 0s 7us/sample - loss: 0.3334 - accuracy: 0.8629 - val_loss: 0.3293 - val_accuracy: 0.8690\n",
      "Epoch 36/100\n",
      "8000/8000 [==============================] - 0s 6us/sample - loss: 0.3333 - accuracy: 0.8612 - val_loss: 0.3283 - val_accuracy: 0.8675\n",
      "Epoch 37/100\n",
      "8000/8000 [==============================] - 0s 7us/sample - loss: 0.3323 - accuracy: 0.8627 - val_loss: 0.3279 - val_accuracy: 0.8645\n",
      "Epoch 38/100\n",
      "8000/8000 [==============================] - 0s 6us/sample - loss: 0.3321 - accuracy: 0.8633 - val_loss: 0.3269 - val_accuracy: 0.8625\n",
      "Epoch 39/100\n",
      "8000/8000 [==============================] - 0s 6us/sample - loss: 0.3313 - accuracy: 0.8625 - val_loss: 0.3268 - val_accuracy: 0.8640\n",
      "Epoch 40/100\n",
      "8000/8000 [==============================] - 0s 6us/sample - loss: 0.3310 - accuracy: 0.8640 - val_loss: 0.3281 - val_accuracy: 0.8680\n",
      "Epoch 41/100\n",
      "8000/8000 [==============================] - 0s 6us/sample - loss: 0.3309 - accuracy: 0.8631 - val_loss: 0.3277 - val_accuracy: 0.8700\n",
      "Epoch 42/100\n",
      "8000/8000 [==============================] - 0s 6us/sample - loss: 0.3298 - accuracy: 0.8633 - val_loss: 0.3271 - val_accuracy: 0.8650\n",
      "Epoch 43/100\n",
      "8000/8000 [==============================] - 0s 6us/sample - loss: 0.3296 - accuracy: 0.8633 - val_loss: 0.3272 - val_accuracy: 0.8685\n",
      "Epoch 44/100\n",
      "8000/8000 [==============================] - 0s 6us/sample - loss: 0.3291 - accuracy: 0.8644 - val_loss: 0.3258 - val_accuracy: 0.8655\n",
      "Epoch 45/100\n",
      "8000/8000 [==============================] - 0s 5us/sample - loss: 0.3288 - accuracy: 0.8645 - val_loss: 0.3273 - val_accuracy: 0.8720\n",
      "Epoch 46/100\n",
      "8000/8000 [==============================] - 0s 6us/sample - loss: 0.3284 - accuracy: 0.8644 - val_loss: 0.3265 - val_accuracy: 0.8660\n",
      "Epoch 47/100\n",
      "8000/8000 [==============================] - 0s 6us/sample - loss: 0.3280 - accuracy: 0.8639 - val_loss: 0.3260 - val_accuracy: 0.8660\n",
      "Epoch 48/100\n",
      "8000/8000 [==============================] - 0s 6us/sample - loss: 0.3278 - accuracy: 0.8631 - val_loss: 0.3265 - val_accuracy: 0.8665\n",
      "Epoch 49/100\n",
      "8000/8000 [==============================] - 0s 6us/sample - loss: 0.3275 - accuracy: 0.8645 - val_loss: 0.3253 - val_accuracy: 0.8675\n",
      "Epoch 50/100\n",
      "8000/8000 [==============================] - 0s 6us/sample - loss: 0.3273 - accuracy: 0.8646 - val_loss: 0.3250 - val_accuracy: 0.8665\n",
      "Epoch 51/100\n",
      "8000/8000 [==============================] - 0s 6us/sample - loss: 0.3270 - accuracy: 0.8649 - val_loss: 0.3243 - val_accuracy: 0.8675\n",
      "Epoch 52/100\n",
      "8000/8000 [==============================] - 0s 6us/sample - loss: 0.3268 - accuracy: 0.8639 - val_loss: 0.3247 - val_accuracy: 0.8675\n",
      "Epoch 53/100\n",
      "8000/8000 [==============================] - 0s 6us/sample - loss: 0.3257 - accuracy: 0.8644 - val_loss: 0.3251 - val_accuracy: 0.8660\n",
      "Epoch 54/100\n",
      "8000/8000 [==============================] - 0s 6us/sample - loss: 0.3264 - accuracy: 0.8652 - val_loss: 0.3248 - val_accuracy: 0.8680\n",
      "Epoch 55/100\n",
      "8000/8000 [==============================] - 0s 6us/sample - loss: 0.3259 - accuracy: 0.8654 - val_loss: 0.3251 - val_accuracy: 0.8680\n",
      "Epoch 56/100\n"
     ]
    },
    {
     "name": "stdout",
     "output_type": "stream",
     "text": [
      "8000/8000 [==============================] - 0s 6us/sample - loss: 0.3252 - accuracy: 0.8650 - val_loss: 0.3253 - val_accuracy: 0.8670\n",
      "Epoch 57/100\n",
      "8000/8000 [==============================] - 0s 6us/sample - loss: 0.3250 - accuracy: 0.8656 - val_loss: 0.3255 - val_accuracy: 0.8675\n",
      "Epoch 58/100\n",
      "8000/8000 [==============================] - 0s 6us/sample - loss: 0.3248 - accuracy: 0.8646 - val_loss: 0.3251 - val_accuracy: 0.8680\n",
      "Epoch 59/100\n",
      "8000/8000 [==============================] - 0s 6us/sample - loss: 0.3240 - accuracy: 0.8651 - val_loss: 0.3251 - val_accuracy: 0.8695\n",
      "Epoch 60/100\n",
      "8000/8000 [==============================] - 0s 6us/sample - loss: 0.3243 - accuracy: 0.8655 - val_loss: 0.3243 - val_accuracy: 0.8680\n",
      "Epoch 61/100\n",
      "8000/8000 [==============================] - 0s 6us/sample - loss: 0.3239 - accuracy: 0.8652 - val_loss: 0.3256 - val_accuracy: 0.8700\n",
      "Epoch 62/100\n",
      "8000/8000 [==============================] - 0s 6us/sample - loss: 0.3234 - accuracy: 0.8659 - val_loss: 0.3241 - val_accuracy: 0.8680\n",
      "Epoch 63/100\n",
      "8000/8000 [==============================] - 0s 6us/sample - loss: 0.3243 - accuracy: 0.8668 - val_loss: 0.3242 - val_accuracy: 0.8680\n",
      "Epoch 64/100\n",
      "8000/8000 [==============================] - 0s 6us/sample - loss: 0.3233 - accuracy: 0.8673 - val_loss: 0.3238 - val_accuracy: 0.8695\n",
      "Epoch 65/100\n",
      "8000/8000 [==============================] - 0s 6us/sample - loss: 0.3228 - accuracy: 0.8660 - val_loss: 0.3240 - val_accuracy: 0.8675\n",
      "Epoch 66/100\n",
      "8000/8000 [==============================] - 0s 6us/sample - loss: 0.3227 - accuracy: 0.8661 - val_loss: 0.3253 - val_accuracy: 0.8690\n",
      "Epoch 67/100\n",
      "8000/8000 [==============================] - 0s 6us/sample - loss: 0.3221 - accuracy: 0.8675 - val_loss: 0.3244 - val_accuracy: 0.8670\n",
      "Epoch 68/100\n",
      "8000/8000 [==============================] - 0s 6us/sample - loss: 0.3223 - accuracy: 0.8660 - val_loss: 0.3242 - val_accuracy: 0.8670\n",
      "Epoch 69/100\n",
      "8000/8000 [==============================] - 0s 6us/sample - loss: 0.3218 - accuracy: 0.8664 - val_loss: 0.3230 - val_accuracy: 0.8670\n",
      "Epoch 70/100\n",
      "8000/8000 [==============================] - 0s 6us/sample - loss: 0.3217 - accuracy: 0.8660 - val_loss: 0.3233 - val_accuracy: 0.8680\n",
      "Epoch 71/100\n",
      "8000/8000 [==============================] - 0s 6us/sample - loss: 0.3209 - accuracy: 0.8677 - val_loss: 0.3240 - val_accuracy: 0.8680\n",
      "Epoch 72/100\n",
      "8000/8000 [==============================] - 0s 6us/sample - loss: 0.3208 - accuracy: 0.8660 - val_loss: 0.3231 - val_accuracy: 0.8670\n",
      "Epoch 73/100\n",
      "8000/8000 [==============================] - 0s 5us/sample - loss: 0.3207 - accuracy: 0.8674 - val_loss: 0.3231 - val_accuracy: 0.8690\n",
      "Epoch 74/100\n",
      "8000/8000 [==============================] - 0s 6us/sample - loss: 0.3209 - accuracy: 0.8660 - val_loss: 0.3231 - val_accuracy: 0.8680\n",
      "Epoch 75/100\n",
      "8000/8000 [==============================] - 0s 6us/sample - loss: 0.3209 - accuracy: 0.8656 - val_loss: 0.3233 - val_accuracy: 0.8660\n",
      "Epoch 76/100\n",
      "8000/8000 [==============================] - 0s 6us/sample - loss: 0.3200 - accuracy: 0.8675 - val_loss: 0.3239 - val_accuracy: 0.8695\n",
      "Epoch 77/100\n",
      "8000/8000 [==============================] - 0s 6us/sample - loss: 0.3196 - accuracy: 0.8669 - val_loss: 0.3252 - val_accuracy: 0.8665\n",
      "Epoch 78/100\n",
      "8000/8000 [==============================] - 0s 6us/sample - loss: 0.3202 - accuracy: 0.8674 - val_loss: 0.3237 - val_accuracy: 0.8670\n",
      "Epoch 79/100\n",
      "8000/8000 [==============================] - 0s 6us/sample - loss: 0.3194 - accuracy: 0.8668 - val_loss: 0.3241 - val_accuracy: 0.8675\n",
      "Epoch 80/100\n",
      "8000/8000 [==============================] - 0s 6us/sample - loss: 0.3192 - accuracy: 0.8669 - val_loss: 0.3243 - val_accuracy: 0.8665\n",
      "Epoch 81/100\n",
      "8000/8000 [==============================] - 0s 6us/sample - loss: 0.3187 - accuracy: 0.8674 - val_loss: 0.3253 - val_accuracy: 0.8675\n",
      "Epoch 82/100\n",
      "8000/8000 [==============================] - 0s 6us/sample - loss: 0.3194 - accuracy: 0.8665 - val_loss: 0.3240 - val_accuracy: 0.8660\n",
      "Epoch 83/100\n",
      "8000/8000 [==============================] - 0s 6us/sample - loss: 0.3183 - accuracy: 0.8665 - val_loss: 0.3245 - val_accuracy: 0.8665\n",
      "Epoch 84/100\n",
      "8000/8000 [==============================] - 0s 6us/sample - loss: 0.3182 - accuracy: 0.8680 - val_loss: 0.3240 - val_accuracy: 0.8670\n",
      "Epoch 85/100\n",
      "8000/8000 [==============================] - 0s 6us/sample - loss: 0.3184 - accuracy: 0.8652 - val_loss: 0.3245 - val_accuracy: 0.8680\n",
      "Epoch 86/100\n",
      "8000/8000 [==============================] - 0s 5us/sample - loss: 0.3184 - accuracy: 0.8666 - val_loss: 0.3244 - val_accuracy: 0.8655\n",
      "Epoch 87/100\n",
      "8000/8000 [==============================] - 0s 6us/sample - loss: 0.3173 - accuracy: 0.8684 - val_loss: 0.3252 - val_accuracy: 0.8670\n",
      "Epoch 88/100\n",
      "8000/8000 [==============================] - 0s 6us/sample - loss: 0.3177 - accuracy: 0.8673 - val_loss: 0.3239 - val_accuracy: 0.8685\n",
      "Epoch 89/100\n",
      "8000/8000 [==============================] - 0s 6us/sample - loss: 0.3170 - accuracy: 0.8685 - val_loss: 0.3255 - val_accuracy: 0.8685\n",
      "Epoch 90/100\n",
      "8000/8000 [==============================] - 0s 6us/sample - loss: 0.3169 - accuracy: 0.8679 - val_loss: 0.3229 - val_accuracy: 0.8675\n",
      "Epoch 91/100\n",
      "8000/8000 [==============================] - 0s 5us/sample - loss: 0.3167 - accuracy: 0.8675 - val_loss: 0.3239 - val_accuracy: 0.8685\n",
      "Epoch 92/100\n",
      "8000/8000 [==============================] - 0s 6us/sample - loss: 0.3162 - accuracy: 0.8680 - val_loss: 0.3244 - val_accuracy: 0.8660\n",
      "Epoch 93/100\n",
      "8000/8000 [==============================] - 0s 6us/sample - loss: 0.3171 - accuracy: 0.8680 - val_loss: 0.3250 - val_accuracy: 0.8690\n",
      "Epoch 94/100\n",
      "8000/8000 [==============================] - 0s 6us/sample - loss: 0.3160 - accuracy: 0.8681 - val_loss: 0.3244 - val_accuracy: 0.8685\n",
      "Epoch 95/100\n",
      "8000/8000 [==============================] - 0s 9us/sample - loss: 0.3159 - accuracy: 0.8680 - val_loss: 0.3246 - val_accuracy: 0.8660\n",
      "Epoch 96/100\n",
      "8000/8000 [==============================] - 0s 6us/sample - loss: 0.3161 - accuracy: 0.8687 - val_loss: 0.3249 - val_accuracy: 0.8675\n",
      "Epoch 97/100\n",
      "8000/8000 [==============================] - 0s 6us/sample - loss: 0.3156 - accuracy: 0.8676 - val_loss: 0.3241 - val_accuracy: 0.8655\n",
      "Epoch 98/100\n",
      "8000/8000 [==============================] - 0s 6us/sample - loss: 0.3153 - accuracy: 0.8684 - val_loss: 0.3237 - val_accuracy: 0.8685\n",
      "Epoch 99/100\n",
      "8000/8000 [==============================] - 0s 6us/sample - loss: 0.3156 - accuracy: 0.8676 - val_loss: 0.3247 - val_accuracy: 0.8660\n",
      "Epoch 100/100\n",
      "8000/8000 [==============================] - 0s 6us/sample - loss: 0.3148 - accuracy: 0.8696 - val_loss: 0.3242 - val_accuracy: 0.8655\n"
     ]
    }
   ],
   "source": [
    "\n",
    "history = model.fit(X_train,\n",
    "          y_train,\n",
    "          batch_size=256, \n",
    "          epochs=100,\n",
    "          verbose = 1,\n",
    "         validation_data=(X_validation, y_validation))\n"
   ]
  },
  {
   "cell_type": "code",
   "execution_count": 54,
   "metadata": {
    "ExecuteTime": {
     "end_time": "2020-10-17T14:18:17.070633Z",
     "start_time": "2020-10-17T14:18:16.671948Z"
    }
   },
   "outputs": [
    {
     "data": {
      "image/png": "[encoded data removed]",
      "text/plain": [
       "<Figure size 432x288 with 1 Axes>"
      ]
     },
     "metadata": {
      "needs_background": "light"
     },
     "output_type": "display_data"
    },
    {
     "data": {
      "image/png": "[encoded data removed]",
      "text/plain": [
       "<Figure size 432x288 with 1 Axes>"
      ]
     },
     "metadata": {
      "needs_background": "light"
     },
     "output_type": "display_data"
    }
   ],
   "source": [
    "\n",
    "acc      = history.history[     'accuracy' ]\n",
    "val_acc  = history.history[ 'val_accuracy' ]\n",
    "loss     = history.history[    'loss' ]\n",
    "val_loss = history.history['val_loss' ]\n",
    "\n",
    "epochs   = range(len(acc)) # Get number of epochs\n",
    "\n",
    "\n",
    "plt.plot  ( epochs,     acc ,label='training')\n",
    "plt.plot  ( epochs, val_acc,label='validation' )\n",
    "plt.title ('Training and validation accuracy')\n",
    "plt.legend()\n",
    "plt.figure()\n",
    "\n",
    "plt.plot  ( epochs,     loss , label='training')\n",
    "plt.plot  ( epochs, val_loss , label='validation')\n",
    "plt.title ('Training and validation loss'   )\n",
    "plt.legend()\n",
    "plt.show()"
   ]
  },
  {
   "cell_type": "markdown",
   "metadata": {},
   "source": [
    "### Callbacks"
   ]
  },
  {
   "cell_type": "code",
   "execution_count": 56,
   "metadata": {},
   "outputs": [
    {
     "data": {
      "text/plain": [
       "'./training3/cp-0002.ckpt'"
      ]
     },
     "execution_count": 56,
     "metadata": {},
     "output_type": "execute_result"
    }
   ],
   "source": [
    "\"./training3/cp-{epoch:04d}.ckpt\".format(epoch=2)"
   ]
  },
  {
   "cell_type": "code",
   "execution_count": 61,
   "metadata": {
    "ExecuteTime": {
     "end_time": "2020-10-17T14:02:04.714554Z",
     "start_time": "2020-10-17T14:01:19.053189Z"
    },
    "collapsed": true
   },
   "outputs": [
    {
     "name": "stdout",
     "output_type": "stream",
     "text": [
      "Train on 8000 samples, validate on 2000 samples\n",
      "Epoch 1/100\n",
      " 256/8000 [..............................] - ETA: 8s - loss: 0.7685 - accuracy: 0.4141WARNING:tensorflow:From /Users/vinodgattani/anaconda3/lib/python3.7/site-packages/tensorflow_core/python/ops/resource_variable_ops.py:1786: calling BaseResourceVariable.__init__ (from tensorflow.python.ops.resource_variable_ops) with constraint is deprecated and will be removed in a future version.\n",
      "Instructions for updating:\n",
      "If using Keras pass *_constraint arguments to layers.\n",
      "INFO:tensorflow:Assets written to: ./training3/cp-0001.ckpt/assets\n",
      "8000/8000 [==============================] - 1s 96us/sample - loss: 0.6681 - accuracy: 0.6100 - val_loss: 0.5564 - val_accuracy: 0.7940\n",
      "Epoch 2/100\n",
      " 256/8000 [..............................] - ETA: 0s - loss: 0.5847 - accuracy: 0.7695INFO:tensorflow:Assets written to: ./training3/cp-0002.ckpt/assets\n",
      "8000/8000 [==============================] - 0s 46us/sample - loss: 0.5232 - accuracy: 0.7933 - val_loss: 0.4830 - val_accuracy: 0.8020\n",
      "Epoch 3/100\n",
      " 256/8000 [..............................] - ETA: 0s - loss: 0.4925 - accuracy: 0.7969INFO:tensorflow:Assets written to: ./training3/cp-0003.ckpt/assets\n",
      "8000/8000 [==============================] - 0s 46us/sample - loss: 0.4768 - accuracy: 0.7949 - val_loss: 0.4518 - val_accuracy: 0.8020\n",
      "Epoch 4/100\n",
      " 256/8000 [..............................] - ETA: 0s - loss: 0.4592 - accuracy: 0.8047INFO:tensorflow:Assets written to: ./training3/cp-0004.ckpt/assets\n",
      "8000/8000 [==============================] - 0s 46us/sample - loss: 0.4539 - accuracy: 0.7962 - val_loss: 0.4338 - val_accuracy: 0.8060\n",
      "Epoch 5/100\n",
      " 256/8000 [..............................] - ETA: 0s - loss: 0.4959 - accuracy: 0.7578INFO:tensorflow:Assets written to: ./training3/cp-0005.ckpt/assets\n",
      "8000/8000 [==============================] - 0s 51us/sample - loss: 0.4396 - accuracy: 0.8046 - val_loss: 0.4206 - val_accuracy: 0.8190\n",
      "Epoch 6/100\n",
      " 256/8000 [..............................] - ETA: 0s - loss: 0.3755 - accuracy: 0.8594INFO:tensorflow:Assets written to: ./training3/cp-0006.ckpt/assets\n",
      "8000/8000 [==============================] - 0s 57us/sample - loss: 0.4289 - accuracy: 0.8070 - val_loss: 0.4105 - val_accuracy: 0.8310\n",
      "Epoch 7/100\n",
      " 256/8000 [..............................] - ETA: 0s - loss: 0.4973 - accuracy: 0.7812INFO:tensorflow:Assets written to: ./training3/cp-0007.ckpt/assets\n",
      "8000/8000 [==============================] - 0s 45us/sample - loss: 0.4200 - accuracy: 0.8146 - val_loss: 0.4020 - val_accuracy: 0.8365\n",
      "Epoch 8/100\n",
      " 256/8000 [..............................] - ETA: 0s - loss: 0.3795 - accuracy: 0.8555INFO:tensorflow:Assets written to: ./training3/cp-0008.ckpt/assets\n",
      "8000/8000 [==============================] - 0s 47us/sample - loss: 0.4113 - accuracy: 0.8219 - val_loss: 0.3937 - val_accuracy: 0.8440\n",
      "Epoch 9/100\n",
      "7680/8000 [===========================>..] - ETA: 0s - loss: 0.4048 - accuracy: 0.8289INFO:tensorflow:Assets written to: ./training3/cp-0009.ckpt/assets\n",
      "8000/8000 [==============================] - 0s 58us/sample - loss: 0.4032 - accuracy: 0.8292 - val_loss: 0.3854 - val_accuracy: 0.8465\n",
      "Epoch 10/100\n",
      " 256/8000 [..............................] - ETA: 0s - loss: 0.4416 - accuracy: 0.8164INFO:tensorflow:Assets written to: ./training3/cp-0010.ckpt/assets\n",
      "8000/8000 [==============================] - 0s 57us/sample - loss: 0.3939 - accuracy: 0.8341 - val_loss: 0.3766 - val_accuracy: 0.8510\n",
      "Epoch 11/100\n",
      " 256/8000 [..............................] - ETA: 0s - loss: 0.4147 - accuracy: 0.8359INFO:tensorflow:Assets written to: ./training3/cp-0011.ckpt/assets\n",
      "8000/8000 [==============================] - 0s 55us/sample - loss: 0.3851 - accuracy: 0.8396 - val_loss: 0.3672 - val_accuracy: 0.8530\n",
      "Epoch 12/100\n",
      " 256/8000 [..............................] - ETA: 0s - loss: 0.3701 - accuracy: 0.8633INFO:tensorflow:Assets written to: ./training3/cp-0012.ckpt/assets\n",
      "8000/8000 [==============================] - 0s 48us/sample - loss: 0.3768 - accuracy: 0.8456 - val_loss: 0.3597 - val_accuracy: 0.8565\n",
      "Epoch 13/100\n",
      " 256/8000 [..............................] - ETA: 0s - loss: 0.3760 - accuracy: 0.8633INFO:tensorflow:Assets written to: ./training3/cp-0013.ckpt/assets\n",
      "8000/8000 [==============================] - 0s 50us/sample - loss: 0.3693 - accuracy: 0.8486 - val_loss: 0.3530 - val_accuracy: 0.8615\n",
      "Epoch 14/100\n",
      " 256/8000 [..............................] - ETA: 0s - loss: 0.3888 - accuracy: 0.8438INFO:tensorflow:Assets written to: ./training3/cp-0014.ckpt/assets\n",
      "8000/8000 [==============================] - 0s 48us/sample - loss: 0.3638 - accuracy: 0.8512 - val_loss: 0.3488 - val_accuracy: 0.8645\n",
      "Epoch 15/100\n",
      " 256/8000 [..............................] - ETA: 0s - loss: 0.3512 - accuracy: 0.8633INFO:tensorflow:Assets written to: ./training3/cp-0015.ckpt/assets\n",
      "8000/8000 [==============================] - 0s 51us/sample - loss: 0.3586 - accuracy: 0.8522 - val_loss: 0.3437 - val_accuracy: 0.8705\n",
      "Epoch 16/100\n",
      " 256/8000 [..............................] - ETA: 0s - loss: 0.3652 - accuracy: 0.8359INFO:tensorflow:Assets written to: ./training3/cp-0016.ckpt/assets\n",
      "8000/8000 [==============================] - 0s 59us/sample - loss: 0.3548 - accuracy: 0.8545 - val_loss: 0.3417 - val_accuracy: 0.8700\n",
      "Epoch 17/100\n",
      " 256/8000 [..............................] - ETA: 0s - loss: 0.3716 - accuracy: 0.8359INFO:tensorflow:Assets written to: ./training3/cp-0017.ckpt/assets\n",
      "8000/8000 [==============================] - 0s 46us/sample - loss: 0.3517 - accuracy: 0.8555 - val_loss: 0.3393 - val_accuracy: 0.8715\n",
      "Epoch 18/100\n",
      " 256/8000 [..............................] - ETA: 0s - loss: 0.3704 - accuracy: 0.8398INFO:tensorflow:Assets written to: ./training3/cp-0018.ckpt/assets\n",
      "8000/8000 [==============================] - 0s 46us/sample - loss: 0.3493 - accuracy: 0.8555 - val_loss: 0.3372 - val_accuracy: 0.8635\n",
      "Epoch 19/100\n",
      " 256/8000 [..............................] - ETA: 0s - loss: 0.3304 - accuracy: 0.8789INFO:tensorflow:Assets written to: ./training3/cp-0019.ckpt/assets\n",
      "8000/8000 [==============================] - 0s 46us/sample - loss: 0.3473 - accuracy: 0.8590 - val_loss: 0.3366 - val_accuracy: 0.8695\n",
      "Epoch 20/100\n",
      " 256/8000 [..............................] - ETA: 0s - loss: 0.3436 - accuracy: 0.8438INFO:tensorflow:Assets written to: ./training3/cp-0020.ckpt/assets\n",
      "8000/8000 [==============================] - 0s 45us/sample - loss: 0.3456 - accuracy: 0.8590 - val_loss: 0.3349 - val_accuracy: 0.8670\n",
      "Epoch 21/100\n",
      " 256/8000 [..............................] - ETA: 0s - loss: 0.3693 - accuracy: 0.8516INFO:tensorflow:Assets written to: ./training3/cp-0021.ckpt/assets\n",
      "8000/8000 [==============================] - 0s 46us/sample - loss: 0.3437 - accuracy: 0.8599 - val_loss: 0.3336 - val_accuracy: 0.8690\n",
      "Epoch 22/100\n",
      " 256/8000 [..............................] - ETA: 0s - loss: 0.3915 - accuracy: 0.8203INFO:tensorflow:Assets written to: ./training3/cp-0022.ckpt/assets\n",
      "8000/8000 [==============================] - 0s 45us/sample - loss: 0.3426 - accuracy: 0.8586 - val_loss: 0.3325 - val_accuracy: 0.8660\n",
      "Epoch 23/100\n",
      " 256/8000 [..............................] - ETA: 0s - loss: 0.3839 - accuracy: 0.8398INFO:tensorflow:Assets written to: ./training3/cp-0023.ckpt/assets\n",
      "8000/8000 [==============================] - 0s 45us/sample - loss: 0.3417 - accuracy: 0.8610 - val_loss: 0.3329 - val_accuracy: 0.8720\n",
      "Epoch 24/100\n",
      " 256/8000 [..............................] - ETA: 0s - loss: 0.3693 - accuracy: 0.8750INFO:tensorflow:Assets written to: ./training3/cp-0024.ckpt/assets\n",
      "8000/8000 [==============================] - 0s 44us/sample - loss: 0.3403 - accuracy: 0.8604 - val_loss: 0.3313 - val_accuracy: 0.8695\n",
      "Epoch 25/100\n",
      " 256/8000 [..............................] - ETA: 0s - loss: 0.3530 - accuracy: 0.8516INFO:tensorflow:Assets written to: ./training3/cp-0025.ckpt/assets\n",
      "8000/8000 [==============================] - 0s 45us/sample - loss: 0.3393 - accuracy: 0.8606 - val_loss: 0.3312 - val_accuracy: 0.8695\n",
      "Epoch 26/100\n",
      " 256/8000 [..............................] - ETA: 0s - loss: 0.2628 - accuracy: 0.9102INFO:tensorflow:Assets written to: ./training3/cp-0026.ckpt/assets\n",
      "8000/8000 [==============================] - 0s 57us/sample - loss: 0.3387 - accuracy: 0.8601 - val_loss: 0.3313 - val_accuracy: 0.8700\n"
     ]
    },
    {
     "name": "stdout",
     "output_type": "stream",
     "text": [
      "Epoch 27/100\n",
      " 256/8000 [..............................] - ETA: 0s - loss: 0.3184 - accuracy: 0.8828INFO:tensorflow:Assets written to: ./training3/cp-0027.ckpt/assets\n",
      "8000/8000 [==============================] - 0s 44us/sample - loss: 0.3379 - accuracy: 0.8608 - val_loss: 0.3318 - val_accuracy: 0.8690\n",
      "Epoch 28/100\n",
      " 256/8000 [..............................] - ETA: 0s - loss: 0.2894 - accuracy: 0.8945INFO:tensorflow:Assets written to: ./training3/cp-0028.ckpt/assets\n",
      "8000/8000 [==============================] - 0s 44us/sample - loss: 0.3373 - accuracy: 0.8597 - val_loss: 0.3307 - val_accuracy: 0.8690\n",
      "Epoch 29/100\n",
      " 256/8000 [..............................] - ETA: 0s - loss: 0.3852 - accuracy: 0.8477INFO:tensorflow:Assets written to: ./training3/cp-0029.ckpt/assets\n",
      "8000/8000 [==============================] - 0s 44us/sample - loss: 0.3364 - accuracy: 0.8605 - val_loss: 0.3297 - val_accuracy: 0.8660\n",
      "Epoch 30/100\n",
      " 256/8000 [..............................] - ETA: 0s - loss: 0.2693 - accuracy: 0.9141INFO:tensorflow:Assets written to: ./training3/cp-0030.ckpt/assets\n",
      "8000/8000 [==============================] - 0s 45us/sample - loss: 0.3353 - accuracy: 0.8608 - val_loss: 0.3299 - val_accuracy: 0.8700\n",
      "Epoch 31/100\n",
      " 256/8000 [..............................] - ETA: 0s - loss: 0.3223 - accuracy: 0.8594INFO:tensorflow:Assets written to: ./training3/cp-0031.ckpt/assets\n",
      "8000/8000 [==============================] - 0s 47us/sample - loss: 0.3346 - accuracy: 0.8614 - val_loss: 0.3292 - val_accuracy: 0.8670\n",
      "Epoch 32/100\n",
      " 256/8000 [..............................] - ETA: 0s - loss: 0.3140 - accuracy: 0.8750INFO:tensorflow:Assets written to: ./training3/cp-0032.ckpt/assets\n",
      "8000/8000 [==============================] - 0s 45us/sample - loss: 0.3341 - accuracy: 0.8629 - val_loss: 0.3295 - val_accuracy: 0.8665\n",
      "Epoch 33/100\n",
      " 256/8000 [..............................] - ETA: 0s - loss: 0.3122 - accuracy: 0.8672INFO:tensorflow:Assets written to: ./training3/cp-0033.ckpt/assets\n",
      "8000/8000 [==============================] - 0s 44us/sample - loss: 0.3333 - accuracy: 0.8614 - val_loss: 0.3294 - val_accuracy: 0.8665\n",
      "Epoch 34/100\n",
      " 256/8000 [..............................] - ETA: 0s - loss: 0.4315 - accuracy: 0.8008INFO:tensorflow:Assets written to: ./training3/cp-0034.ckpt/assets\n",
      "8000/8000 [==============================] - 0s 44us/sample - loss: 0.3328 - accuracy: 0.8619 - val_loss: 0.3287 - val_accuracy: 0.8670\n",
      "Epoch 35/100\n",
      " 256/8000 [..............................] - ETA: 0s - loss: 0.3150 - accuracy: 0.8906INFO:tensorflow:Assets written to: ./training3/cp-0035.ckpt/assets\n",
      "8000/8000 [==============================] - 0s 44us/sample - loss: 0.3321 - accuracy: 0.8627 - val_loss: 0.3284 - val_accuracy: 0.8665\n",
      "Epoch 36/100\n",
      " 256/8000 [..............................] - ETA: 0s - loss: 0.3178 - accuracy: 0.8477INFO:tensorflow:Assets written to: ./training3/cp-0036.ckpt/assets\n",
      "8000/8000 [==============================] - 0s 46us/sample - loss: 0.3316 - accuracy: 0.8621 - val_loss: 0.3279 - val_accuracy: 0.8675\n",
      "Epoch 37/100\n",
      " 256/8000 [..............................] - ETA: 0s - loss: 0.3215 - accuracy: 0.8594INFO:tensorflow:Assets written to: ./training3/cp-0037.ckpt/assets\n",
      "8000/8000 [==============================] - 0s 43us/sample - loss: 0.3310 - accuracy: 0.8620 - val_loss: 0.3285 - val_accuracy: 0.8660\n",
      "Epoch 38/100\n",
      " 256/8000 [..............................] - ETA: 0s - loss: 0.3418 - accuracy: 0.8438INFO:tensorflow:Assets written to: ./training3/cp-0038.ckpt/assets\n",
      "8000/8000 [==============================] - 0s 57us/sample - loss: 0.3304 - accuracy: 0.8624 - val_loss: 0.3280 - val_accuracy: 0.8670\n",
      "Epoch 39/100\n",
      " 256/8000 [..............................] - ETA: 0s - loss: 0.3304 - accuracy: 0.8711INFO:tensorflow:Assets written to: ./training3/cp-0039.ckpt/assets\n",
      "8000/8000 [==============================] - 0s 44us/sample - loss: 0.3300 - accuracy: 0.8608 - val_loss: 0.3283 - val_accuracy: 0.8645\n",
      "Epoch 40/100\n",
      " 256/8000 [..............................] - ETA: 0s - loss: 0.3502 - accuracy: 0.8398INFO:tensorflow:Assets written to: ./training3/cp-0040.ckpt/assets\n",
      "8000/8000 [==============================] - 0s 45us/sample - loss: 0.3295 - accuracy: 0.8616 - val_loss: 0.3286 - val_accuracy: 0.8660\n",
      "Epoch 41/100\n",
      " 256/8000 [..............................] - ETA: 0s - loss: 0.3499 - accuracy: 0.8281INFO:tensorflow:Assets written to: ./training3/cp-0041.ckpt/assets\n",
      "8000/8000 [==============================] - 0s 45us/sample - loss: 0.3288 - accuracy: 0.8630 - val_loss: 0.3278 - val_accuracy: 0.8635\n",
      "Epoch 42/100\n",
      " 256/8000 [..............................] - ETA: 0s - loss: 0.3192 - accuracy: 0.8711INFO:tensorflow:Assets written to: ./training3/cp-0042.ckpt/assets\n",
      "8000/8000 [==============================] - 0s 46us/sample - loss: 0.3284 - accuracy: 0.8625 - val_loss: 0.3268 - val_accuracy: 0.8660\n",
      "Epoch 43/100\n",
      " 256/8000 [..............................] - ETA: 0s - loss: 0.3707 - accuracy: 0.8164INFO:tensorflow:Assets written to: ./training3/cp-0043.ckpt/assets\n",
      "8000/8000 [==============================] - 0s 45us/sample - loss: 0.3285 - accuracy: 0.8627 - val_loss: 0.3269 - val_accuracy: 0.8655\n",
      "Epoch 44/100\n",
      " 256/8000 [..............................] - ETA: 0s - loss: 0.2686 - accuracy: 0.8828INFO:tensorflow:Assets written to: ./training3/cp-0044.ckpt/assets\n",
      "8000/8000 [==============================] - 0s 45us/sample - loss: 0.3277 - accuracy: 0.8640 - val_loss: 0.3280 - val_accuracy: 0.8675\n",
      "Epoch 45/100\n",
      " 256/8000 [..............................] - ETA: 0s - loss: 0.3079 - accuracy: 0.8633INFO:tensorflow:Assets written to: ./training3/cp-0045.ckpt/assets\n",
      "8000/8000 [==============================] - 0s 49us/sample - loss: 0.3273 - accuracy: 0.8636 - val_loss: 0.3274 - val_accuracy: 0.8655\n",
      "Epoch 46/100\n",
      " 256/8000 [..............................] - ETA: 0s - loss: 0.3362 - accuracy: 0.8516INFO:tensorflow:Assets written to: ./training3/cp-0046.ckpt/assets\n",
      "8000/8000 [==============================] - 0s 51us/sample - loss: 0.3266 - accuracy: 0.8634 - val_loss: 0.3290 - val_accuracy: 0.8695\n",
      "Epoch 47/100\n",
      " 256/8000 [..............................] - ETA: 0s - loss: 0.3568 - accuracy: 0.8477INFO:tensorflow:Assets written to: ./training3/cp-0047.ckpt/assets\n",
      "8000/8000 [==============================] - 0s 55us/sample - loss: 0.3270 - accuracy: 0.8621 - val_loss: 0.3278 - val_accuracy: 0.8690\n",
      "Epoch 48/100\n",
      " 256/8000 [..............................] - ETA: 0s - loss: 0.3353 - accuracy: 0.8711INFO:tensorflow:Assets written to: ./training3/cp-0048.ckpt/assets\n",
      "8000/8000 [==============================] - 0s 47us/sample - loss: 0.3257 - accuracy: 0.8636 - val_loss: 0.3277 - val_accuracy: 0.8675\n",
      "Epoch 49/100\n",
      " 256/8000 [..............................] - ETA: 0s - loss: 0.2918 - accuracy: 0.9062INFO:tensorflow:Assets written to: ./training3/cp-0049.ckpt/assets\n",
      "8000/8000 [==============================] - 0s 48us/sample - loss: 0.3250 - accuracy: 0.8645 - val_loss: 0.3277 - val_accuracy: 0.8660\n",
      "Epoch 50/100\n",
      " 256/8000 [..............................] - ETA: 0s - loss: 0.4396 - accuracy: 0.8086INFO:tensorflow:Assets written to: ./training3/cp-0050.ckpt/assets\n",
      "8000/8000 [==============================] - 0s 47us/sample - loss: 0.3249 - accuracy: 0.8640 - val_loss: 0.3267 - val_accuracy: 0.8660\n",
      "Epoch 51/100\n",
      " 256/8000 [..............................] - ETA: 0s - loss: 0.3153 - accuracy: 0.8789INFO:tensorflow:Assets written to: ./training3/cp-0051.ckpt/assets\n",
      "8000/8000 [==============================] - 0s 59us/sample - loss: 0.3242 - accuracy: 0.8639 - val_loss: 0.3274 - val_accuracy: 0.8660\n",
      "Epoch 52/100\n",
      " 256/8000 [..............................] - ETA: 0s - loss: 0.2677 - accuracy: 0.8867INFO:tensorflow:Assets written to: ./training3/cp-0052.ckpt/assets\n",
      "8000/8000 [==============================] - 0s 52us/sample - loss: 0.3243 - accuracy: 0.8636 - val_loss: 0.3282 - val_accuracy: 0.8670\n",
      "Epoch 53/100\n",
      " 256/8000 [..............................] - ETA: 0s - loss: 0.3163 - accuracy: 0.8867INFO:tensorflow:Assets written to: ./training3/cp-0053.ckpt/assets\n",
      "8000/8000 [==============================] - 0s 58us/sample - loss: 0.3233 - accuracy: 0.8640 - val_loss: 0.3270 - val_accuracy: 0.8655\n",
      "Epoch 54/100\n"
     ]
    },
    {
     "name": "stdout",
     "output_type": "stream",
     "text": [
      " 256/8000 [..............................] - ETA: 0s - loss: 0.3179 - accuracy: 0.8438INFO:tensorflow:Assets written to: ./training3/cp-0054.ckpt/assets\n",
      "8000/8000 [==============================] - 0s 55us/sample - loss: 0.3234 - accuracy: 0.8651 - val_loss: 0.3272 - val_accuracy: 0.8670\n",
      "Epoch 55/100\n",
      " 256/8000 [..............................] - ETA: 0s - loss: 0.3472 - accuracy: 0.8477INFO:tensorflow:Assets written to: ./training3/cp-0055.ckpt/assets\n",
      "8000/8000 [==============================] - 0s 57us/sample - loss: 0.3227 - accuracy: 0.8649 - val_loss: 0.3268 - val_accuracy: 0.8655\n",
      "Epoch 56/100\n",
      " 256/8000 [..............................] - ETA: 0s - loss: 0.3462 - accuracy: 0.8711INFO:tensorflow:Assets written to: ./training3/cp-0056.ckpt/assets\n",
      "8000/8000 [==============================] - 0s 56us/sample - loss: 0.3229 - accuracy: 0.8643 - val_loss: 0.3269 - val_accuracy: 0.8665\n",
      "Epoch 57/100\n",
      " 256/8000 [..............................] - ETA: 0s - loss: 0.3097 - accuracy: 0.8750INFO:tensorflow:Assets written to: ./training3/cp-0057.ckpt/assets\n",
      "8000/8000 [==============================] - 0s 51us/sample - loss: 0.3221 - accuracy: 0.8651 - val_loss: 0.3272 - val_accuracy: 0.8675\n",
      "Epoch 58/100\n",
      " 256/8000 [..............................] - ETA: 0s - loss: 0.3143 - accuracy: 0.8594INFO:tensorflow:Assets written to: ./training3/cp-0058.ckpt/assets\n",
      "8000/8000 [==============================] - 0s 51us/sample - loss: 0.3217 - accuracy: 0.8645 - val_loss: 0.3272 - val_accuracy: 0.8665\n",
      "Epoch 59/100\n",
      " 256/8000 [..............................] - ETA: 0s - loss: 0.3575 - accuracy: 0.8516INFO:tensorflow:Assets written to: ./training3/cp-0059.ckpt/assets\n",
      "8000/8000 [==============================] - 0s 47us/sample - loss: 0.3213 - accuracy: 0.8658 - val_loss: 0.3271 - val_accuracy: 0.8660\n",
      "Epoch 60/100\n",
      " 256/8000 [..............................] - ETA: 0s - loss: 0.2607 - accuracy: 0.8906INFO:tensorflow:Assets written to: ./training3/cp-0060.ckpt/assets\n",
      "8000/8000 [==============================] - 0s 58us/sample - loss: 0.3212 - accuracy: 0.8645 - val_loss: 0.3279 - val_accuracy: 0.8675\n",
      "Epoch 61/100\n",
      " 256/8000 [..............................] - ETA: 0s - loss: 0.3152 - accuracy: 0.8633INFO:tensorflow:Assets written to: ./training3/cp-0061.ckpt/assets\n",
      "8000/8000 [==============================] - 1s 69us/sample - loss: 0.3209 - accuracy: 0.8662 - val_loss: 0.3273 - val_accuracy: 0.8685\n",
      "Epoch 62/100\n",
      " 256/8000 [..............................] - ETA: 0s - loss: 0.3226 - accuracy: 0.8633INFO:tensorflow:Assets written to: ./training3/cp-0062.ckpt/assets\n",
      "8000/8000 [==============================] - 0s 47us/sample - loss: 0.3202 - accuracy: 0.8656 - val_loss: 0.3268 - val_accuracy: 0.8655\n",
      "Epoch 63/100\n",
      " 256/8000 [..............................] - ETA: 0s - loss: 0.3109 - accuracy: 0.8828INFO:tensorflow:Assets written to: ./training3/cp-0063.ckpt/assets\n",
      "8000/8000 [==============================] - 0s 49us/sample - loss: 0.3198 - accuracy: 0.8655 - val_loss: 0.3266 - val_accuracy: 0.8650\n",
      "Epoch 64/100\n",
      " 256/8000 [..............................] - ETA: 0s - loss: 0.2697 - accuracy: 0.9023INFO:tensorflow:Assets written to: ./training3/cp-0064.ckpt/assets\n",
      "8000/8000 [==============================] - 0s 51us/sample - loss: 0.3197 - accuracy: 0.8668 - val_loss: 0.3277 - val_accuracy: 0.8670\n",
      "Epoch 65/100\n",
      " 256/8000 [..............................] - ETA: 0s - loss: 0.2931 - accuracy: 0.9023INFO:tensorflow:Assets written to: ./training3/cp-0065.ckpt/assets\n",
      "8000/8000 [==============================] - 0s 48us/sample - loss: 0.3197 - accuracy: 0.8659 - val_loss: 0.3273 - val_accuracy: 0.8670\n",
      "Epoch 66/100\n",
      " 256/8000 [..............................] - ETA: 0s - loss: 0.2948 - accuracy: 0.8789INFO:tensorflow:Assets written to: ./training3/cp-0066.ckpt/assets\n",
      "8000/8000 [==============================] - 0s 46us/sample - loss: 0.3195 - accuracy: 0.8649 - val_loss: 0.3281 - val_accuracy: 0.8685\n",
      "Epoch 67/100\n",
      " 256/8000 [..............................] - ETA: 0s - loss: 0.2705 - accuracy: 0.9062INFO:tensorflow:Assets written to: ./training3/cp-0067.ckpt/assets\n",
      "8000/8000 [==============================] - 0s 49us/sample - loss: 0.3189 - accuracy: 0.8662 - val_loss: 0.3281 - val_accuracy: 0.8685\n",
      "Epoch 68/100\n",
      " 256/8000 [..............................] - ETA: 0s - loss: 0.3566 - accuracy: 0.8477INFO:tensorflow:Assets written to: ./training3/cp-0068.ckpt/assets\n",
      "8000/8000 [==============================] - 0s 46us/sample - loss: 0.3184 - accuracy: 0.8660 - val_loss: 0.3273 - val_accuracy: 0.8665\n",
      "Epoch 69/100\n",
      " 256/8000 [..............................] - ETA: 0s - loss: 0.3058 - accuracy: 0.8477INFO:tensorflow:Assets written to: ./training3/cp-0069.ckpt/assets\n",
      "8000/8000 [==============================] - 0s 49us/sample - loss: 0.3180 - accuracy: 0.8660 - val_loss: 0.3283 - val_accuracy: 0.8680\n",
      "Epoch 70/100\n",
      " 256/8000 [..............................] - ETA: 0s - loss: 0.3291 - accuracy: 0.8672INFO:tensorflow:Assets written to: ./training3/cp-0070.ckpt/assets\n",
      "8000/8000 [==============================] - 0s 61us/sample - loss: 0.3172 - accuracy: 0.8660 - val_loss: 0.3263 - val_accuracy: 0.8650\n",
      "Epoch 71/100\n",
      " 256/8000 [..............................] - ETA: 0s - loss: 0.3651 - accuracy: 0.8555INFO:tensorflow:Assets written to: ./training3/cp-0071.ckpt/assets\n",
      "8000/8000 [==============================] - 1s 72us/sample - loss: 0.3176 - accuracy: 0.8670 - val_loss: 0.3265 - val_accuracy: 0.8660\n",
      "Epoch 72/100\n",
      " 256/8000 [..............................] - ETA: 0s - loss: 0.2587 - accuracy: 0.8828INFO:tensorflow:Assets written to: ./training3/cp-0072.ckpt/assets\n",
      "8000/8000 [==============================] - 0s 48us/sample - loss: 0.3170 - accuracy: 0.8662 - val_loss: 0.3269 - val_accuracy: 0.8660\n",
      "Epoch 73/100\n",
      " 256/8000 [..............................] - ETA: 0s - loss: 0.3077 - accuracy: 0.8750INFO:tensorflow:Assets written to: ./training3/cp-0073.ckpt/assets\n",
      "8000/8000 [==============================] - 0s 48us/sample - loss: 0.3173 - accuracy: 0.8664 - val_loss: 0.3263 - val_accuracy: 0.8650\n",
      "Epoch 74/100\n",
      " 256/8000 [..............................] - ETA: 0s - loss: 0.3264 - accuracy: 0.8398INFO:tensorflow:Assets written to: ./training3/cp-0074.ckpt/assets\n",
      "8000/8000 [==============================] - 0s 46us/sample - loss: 0.3165 - accuracy: 0.8658 - val_loss: 0.3266 - val_accuracy: 0.8665\n",
      "Epoch 75/100\n",
      " 256/8000 [..............................] - ETA: 0s - loss: 0.3142 - accuracy: 0.8789INFO:tensorflow:Assets written to: ./training3/cp-0075.ckpt/assets\n",
      "8000/8000 [==============================] - 0s 45us/sample - loss: 0.3159 - accuracy: 0.8656 - val_loss: 0.3286 - val_accuracy: 0.8695\n",
      "Epoch 76/100\n",
      " 256/8000 [..............................] - ETA: 0s - loss: 0.3057 - accuracy: 0.8672INFO:tensorflow:Assets written to: ./training3/cp-0076.ckpt/assets\n",
      "8000/8000 [==============================] - 0s 44us/sample - loss: 0.3158 - accuracy: 0.8668 - val_loss: 0.3267 - val_accuracy: 0.8650\n",
      "Epoch 77/100\n",
      " 256/8000 [..............................] - ETA: 0s - loss: 0.3613 - accuracy: 0.8516INFO:tensorflow:Assets written to: ./training3/cp-0077.ckpt/assets\n",
      "8000/8000 [==============================] - 0s 47us/sample - loss: 0.3161 - accuracy: 0.8673 - val_loss: 0.3270 - val_accuracy: 0.8635\n",
      "Epoch 78/100\n",
      " 256/8000 [..............................] - ETA: 0s - loss: 0.3762 - accuracy: 0.8281INFO:tensorflow:Assets written to: ./training3/cp-0078.ckpt/assets\n",
      "8000/8000 [==============================] - 0s 44us/sample - loss: 0.3157 - accuracy: 0.8670 - val_loss: 0.3271 - val_accuracy: 0.8655\n",
      "Epoch 79/100\n",
      " 256/8000 [..............................] - ETA: 0s - loss: 0.3442 - accuracy: 0.8672INFO:tensorflow:Assets written to: ./training3/cp-0079.ckpt/assets\n",
      "8000/8000 [==============================] - 0s 45us/sample - loss: 0.3155 - accuracy: 0.8664 - val_loss: 0.3269 - val_accuracy: 0.8645\n",
      "Epoch 80/100\n",
      " 256/8000 [..............................] - ETA: 0s - loss: 0.3495 - accuracy: 0.8633INFO:tensorflow:Assets written to: ./training3/cp-0080.ckpt/assets\n",
      "8000/8000 [==============================] - 0s 45us/sample - loss: 0.3149 - accuracy: 0.8684 - val_loss: 0.3274 - val_accuracy: 0.8645\n",
      "Epoch 81/100\n"
     ]
    },
    {
     "name": "stdout",
     "output_type": "stream",
     "text": [
      " 256/8000 [..............................] - ETA: 0s - loss: 0.3505 - accuracy: 0.8750INFO:tensorflow:Assets written to: ./training3/cp-0081.ckpt/assets\n",
      "8000/8000 [==============================] - 0s 49us/sample - loss: 0.3146 - accuracy: 0.8681 - val_loss: 0.3269 - val_accuracy: 0.8640\n",
      "Epoch 82/100\n",
      " 256/8000 [..............................] - ETA: 0s - loss: 0.2671 - accuracy: 0.8945INFO:tensorflow:Assets written to: ./training3/cp-0082.ckpt/assets\n",
      "8000/8000 [==============================] - 0s 56us/sample - loss: 0.3145 - accuracy: 0.8673 - val_loss: 0.3281 - val_accuracy: 0.8650\n",
      "Epoch 83/100\n",
      " 256/8000 [..............................] - ETA: 0s - loss: 0.3063 - accuracy: 0.8477INFO:tensorflow:Assets written to: ./training3/cp-0083.ckpt/assets\n",
      "8000/8000 [==============================] - 1s 70us/sample - loss: 0.3143 - accuracy: 0.8661 - val_loss: 0.3271 - val_accuracy: 0.8640\n",
      "Epoch 84/100\n",
      " 256/8000 [..............................] - ETA: 0s - loss: 0.3547 - accuracy: 0.8164INFO:tensorflow:Assets written to: ./training3/cp-0084.ckpt/assets\n",
      "8000/8000 [==============================] - 0s 54us/sample - loss: 0.3140 - accuracy: 0.8680 - val_loss: 0.3286 - val_accuracy: 0.8665\n",
      "Epoch 85/100\n",
      " 256/8000 [..............................] - ETA: 0s - loss: 0.3133 - accuracy: 0.8789INFO:tensorflow:Assets written to: ./training3/cp-0085.ckpt/assets\n",
      "8000/8000 [==============================] - 0s 47us/sample - loss: 0.3140 - accuracy: 0.8681 - val_loss: 0.3280 - val_accuracy: 0.8660\n",
      "Epoch 86/100\n",
      " 256/8000 [..............................] - ETA: 0s - loss: 0.3052 - accuracy: 0.8711INFO:tensorflow:Assets written to: ./training3/cp-0086.ckpt/assets\n",
      "8000/8000 [==============================] - 0s 52us/sample - loss: 0.3137 - accuracy: 0.8685 - val_loss: 0.3280 - val_accuracy: 0.8685\n",
      "Epoch 87/100\n",
      " 256/8000 [..............................] - ETA: 0s - loss: 0.3118 - accuracy: 0.8633INFO:tensorflow:Assets written to: ./training3/cp-0087.ckpt/assets\n",
      "8000/8000 [==============================] - 0s 46us/sample - loss: 0.3129 - accuracy: 0.8676 - val_loss: 0.3286 - val_accuracy: 0.8665\n",
      "Epoch 88/100\n",
      " 256/8000 [..............................] - ETA: 0s - loss: 0.3283 - accuracy: 0.8555INFO:tensorflow:Assets written to: ./training3/cp-0088.ckpt/assets\n",
      "8000/8000 [==============================] - 0s 49us/sample - loss: 0.3135 - accuracy: 0.8676 - val_loss: 0.3290 - val_accuracy: 0.8650\n",
      "Epoch 89/100\n",
      " 256/8000 [..............................] - ETA: 0s - loss: 0.2948 - accuracy: 0.8633INFO:tensorflow:Assets written to: ./training3/cp-0089.ckpt/assets\n",
      "8000/8000 [==============================] - 0s 48us/sample - loss: 0.3122 - accuracy: 0.8679 - val_loss: 0.3285 - val_accuracy: 0.8640\n",
      "Epoch 90/100\n",
      " 256/8000 [..............................] - ETA: 0s - loss: 0.2989 - accuracy: 0.8828INFO:tensorflow:Assets written to: ./training3/cp-0090.ckpt/assets\n",
      "8000/8000 [==============================] - 0s 53us/sample - loss: 0.3126 - accuracy: 0.8677 - val_loss: 0.3281 - val_accuracy: 0.8660\n",
      "Epoch 91/100\n",
      " 256/8000 [..............................] - ETA: 0s - loss: 0.3094 - accuracy: 0.8828INFO:tensorflow:Assets written to: ./training3/cp-0091.ckpt/assets\n",
      "8000/8000 [==============================] - 0s 46us/sample - loss: 0.3129 - accuracy: 0.8686 - val_loss: 0.3281 - val_accuracy: 0.8650\n",
      "Epoch 92/100\n",
      " 256/8000 [..............................] - ETA: 0s - loss: 0.2816 - accuracy: 0.8906INFO:tensorflow:Assets written to: ./training3/cp-0092.ckpt/assets\n",
      "8000/8000 [==============================] - 0s 47us/sample - loss: 0.3122 - accuracy: 0.8695 - val_loss: 0.3299 - val_accuracy: 0.8660\n",
      "Epoch 93/100\n",
      " 256/8000 [..............................] - ETA: 0s - loss: 0.3172 - accuracy: 0.8516INFO:tensorflow:Assets written to: ./training3/cp-0093.ckpt/assets\n",
      "8000/8000 [==============================] - 0s 44us/sample - loss: 0.3126 - accuracy: 0.8684 - val_loss: 0.3283 - val_accuracy: 0.8670\n",
      "Epoch 94/100\n",
      " 256/8000 [..............................] - ETA: 0s - loss: 0.2863 - accuracy: 0.8867INFO:tensorflow:Assets written to: ./training3/cp-0094.ckpt/assets\n",
      "8000/8000 [==============================] - 0s 45us/sample - loss: 0.3116 - accuracy: 0.8684 - val_loss: 0.3286 - val_accuracy: 0.8645\n",
      "Epoch 95/100\n",
      " 256/8000 [..............................] - ETA: 0s - loss: 0.3615 - accuracy: 0.8477INFO:tensorflow:Assets written to: ./training3/cp-0095.ckpt/assets\n",
      "8000/8000 [==============================] - 0s 44us/sample - loss: 0.3120 - accuracy: 0.8696 - val_loss: 0.3278 - val_accuracy: 0.8630\n",
      "Epoch 96/100\n",
      " 256/8000 [..............................] - ETA: 0s - loss: 0.2870 - accuracy: 0.8672INFO:tensorflow:Assets written to: ./training3/cp-0096.ckpt/assets\n",
      "8000/8000 [==============================] - 0s 56us/sample - loss: 0.3119 - accuracy: 0.8660 - val_loss: 0.3286 - val_accuracy: 0.8640\n",
      "Epoch 97/100\n",
      " 256/8000 [..............................] - ETA: 0s - loss: 0.2610 - accuracy: 0.8945INFO:tensorflow:Assets written to: ./training3/cp-0097.ckpt/assets\n",
      "8000/8000 [==============================] - 0s 44us/sample - loss: 0.3112 - accuracy: 0.8694 - val_loss: 0.3289 - val_accuracy: 0.8650\n",
      "Epoch 98/100\n",
      " 256/8000 [..............................] - ETA: 0s - loss: 0.2897 - accuracy: 0.8750INFO:tensorflow:Assets written to: ./training3/cp-0098.ckpt/assets\n",
      "8000/8000 [==============================] - 0s 44us/sample - loss: 0.3106 - accuracy: 0.8695 - val_loss: 0.3296 - val_accuracy: 0.8645\n",
      "Epoch 99/100\n",
      " 256/8000 [..............................] - ETA: 0s - loss: 0.3055 - accuracy: 0.8594INFO:tensorflow:Assets written to: ./training3/cp-0099.ckpt/assets\n",
      "8000/8000 [==============================] - 0s 45us/sample - loss: 0.3106 - accuracy: 0.8685 - val_loss: 0.3290 - val_accuracy: 0.8655\n",
      "Epoch 100/100\n",
      " 256/8000 [..............................] - ETA: 0s - loss: 0.2815 - accuracy: 0.8789INFO:tensorflow:Assets written to: ./training3/cp-0100.ckpt/assets\n",
      "8000/8000 [==============================] - 0s 44us/sample - loss: 0.3109 - accuracy: 0.8690 - val_loss: 0.3287 - val_accuracy: 0.8655\n"
     ]
    },
    {
     "data": {
      "text/plain": [
       "<tensorflow.python.keras.callbacks.History at 0x14c160390>"
      ]
     },
     "execution_count": 61,
     "metadata": {},
     "output_type": "execute_result"
    }
   ],
   "source": [
    "checkpoint_path = \"./training3/cp-{epoch:04d}.ckpt\"\n",
    "\n",
    "model_checkpoint_callback = tf.keras.callbacks.ModelCheckpoint(checkpoint_path,)\n",
    "\n",
    "model.fit(X_train,\n",
    "          y_train,\n",
    "          batch_size=256,\n",
    "          epochs=100,\n",
    "          verbose = 1,\n",
    "         validation_data=(X_validation, y_validation),\n",
    "         callbacks=[model_checkpoint_callback])"
   ]
  },
  {
   "cell_type": "code",
   "execution_count": 62,
   "metadata": {},
   "outputs": [
    {
     "data": {
      "image/png": "[encoded data removed]",
      "text/plain": [
       "<Figure size 432x288 with 1 Axes>"
      ]
     },
     "metadata": {
      "needs_background": "light"
     },
     "output_type": "display_data"
    },
    {
     "data": {
      "image/png": "[encoded data removed]",
      "text/plain": [
       "<Figure size 432x288 with 1 Axes>"
      ]
     },
     "metadata": {
      "needs_background": "light"
     },
     "output_type": "display_data"
    }
   ],
   "source": [
    "\n",
    "acc      = history.history[     'accuracy' ]\n",
    "val_acc  = history.history[ 'val_accuracy' ]\n",
    "loss     = history.history[    'loss' ]\n",
    "val_loss = history.history['val_loss' ]\n",
    "\n",
    "epochs   = range(len(acc)) # Get number of epochs\n",
    "\n",
    "\n",
    "plt.plot  ( epochs,     acc ,label='training')\n",
    "plt.plot  ( epochs, val_acc,label='validation' )\n",
    "plt.title ('Training and validation accuracy')\n",
    "plt.legend()\n",
    "plt.figure()\n",
    "\n",
    "plt.plot  ( epochs,     loss , label='training')\n",
    "plt.plot  ( epochs, val_loss , label='validation')\n",
    "plt.title ('Training and validation loss'   )\n",
    "plt.legend()\n",
    "plt.show()"
   ]
  },
  {
   "cell_type": "code",
   "execution_count": 63,
   "metadata": {
    "ExecuteTime": {
     "end_time": "2020-10-17T14:02:55.186530Z",
     "start_time": "2020-10-17T14:02:55.033300Z"
    }
   },
   "outputs": [
    {
     "data": {
      "text/plain": [
       "'./training3/cp-0060.ckpt'"
      ]
     },
     "execution_count": 63,
     "metadata": {},
     "output_type": "execute_result"
    }
   ],
   "source": [
    "\"./training3/cp-{epoch:04d}.ckpt\".format(epoch=60)"
   ]
  },
  {
   "cell_type": "code",
   "execution_count": 64,
   "metadata": {
    "ExecuteTime": {
     "end_time": "2020-10-17T14:03:02.412111Z",
     "start_time": "2020-10-17T14:03:02.120083Z"
    }
   },
   "outputs": [
    {
     "name": "stdout",
     "output_type": "stream",
     "text": [
      "Model: \"sequential_1\"\n",
      "_________________________________________________________________\n",
      "Layer (type)                 Output Shape              Param #   \n",
      "=================================================================\n",
      "dense_8_tanh (Dense)         (None, 32)                384       \n",
      "_________________________________________________________________\n",
      "dense_4_tanh (Dense)         (None, 16)                528       \n",
      "_________________________________________________________________\n",
      "dense_1_sigmoid (Dense)      (None, 1)                 17        \n",
      "=================================================================\n",
      "Total params: 929\n",
      "Trainable params: 929\n",
      "Non-trainable params: 0\n",
      "_________________________________________________________________\n"
     ]
    }
   ],
   "source": [
    "new_model = tf.keras.models.load_model(\"./training3/cp-{epoch:04d}.ckpt\".format(epoch=60))\n",
    "\n",
    "# Check its architecture\n",
    "new_model.summary()"
   ]
  },
  {
   "cell_type": "code",
   "execution_count": 66,
   "metadata": {
    "ExecuteTime": {
     "end_time": "2020-10-15T19:53:48.096780Z",
     "start_time": "2020-10-15T19:53:47.880957Z"
    }
   },
   "outputs": [
    {
     "name": "stdout",
     "output_type": "stream",
     "text": [
      "2000/2000 [==============================] - 0s 134us/sample - loss: 0.3279 - accuracy: 0.8675\n",
      "Restored model, accuracy: 86.75%\n"
     ]
    }
   ],
   "source": [
    "loss, acc = new_model.evaluate(X_validation,  y_validation, verbose=1)\n",
    "print('Restored model, accuracy: {:5.2f}%'.format(100*acc))"
   ]
  },
  {
   "cell_type": "code",
   "execution_count": 68,
   "metadata": {},
   "outputs": [
    {
     "name": "stdout",
     "output_type": "stream",
     "text": [
      "INFO:tensorflow:Assets written to: ./churn_model_v01/assets\n"
     ]
    }
   ],
   "source": [
    "new_model.save('./churn_model_v01')"
   ]
  },
  {
   "cell_type": "code",
   "execution_count": 69,
   "metadata": {},
   "outputs": [],
   "source": [
    "reloaded_model = tf.keras.models.load_model('./churn_model_v01')"
   ]
  },
  {
   "cell_type": "code",
   "execution_count": 70,
   "metadata": {},
   "outputs": [
    {
     "name": "stdout",
     "output_type": "stream",
     "text": [
      "2000/2000 [==============================] - 0s 62us/sample - loss: 0.3279 - accuracy: 0.8675\n",
      "Restored model, accuracy: 86.75%\n"
     ]
    }
   ],
   "source": [
    "loss, acc = reloaded_model.evaluate(X_validation,\n",
    "                                    y_validation,\n",
    "                                    verbose=1)\n",
    "print('Restored model, accuracy: {:5.2f}%'.format(100*acc))"
   ]
  },
  {
   "cell_type": "code",
   "execution_count": null,
   "metadata": {},
   "outputs": [],
   "source": []
  },
  {
   "cell_type": "markdown",
   "metadata": {},
   "source": [
    "### Model evaluation"
   ]
  },
  {
   "cell_type": "code",
   "execution_count": 71,
   "metadata": {
    "ExecuteTime": {
     "end_time": "2020-10-17T14:03:32.335705Z",
     "start_time": "2020-10-17T14:03:32.274417Z"
    }
   },
   "outputs": [],
   "source": [
    "from sklearn.metrics import confusion_matrix, precision_score, recall_score, accuracy_score"
   ]
  },
  {
   "cell_type": "code",
   "execution_count": 72,
   "metadata": {
    "ExecuteTime": {
     "end_time": "2020-10-17T14:03:48.600613Z",
     "start_time": "2020-10-17T14:03:48.255206Z"
    }
   },
   "outputs": [],
   "source": [
    "y_train_prob=new_model.predict(X_train)\n",
    "y_validation_prob=new_model.predict(X_validation)"
   ]
  },
  {
   "cell_type": "code",
   "execution_count": 73,
   "metadata": {
    "ExecuteTime": {
     "end_time": "2020-10-17T14:03:53.778391Z",
     "start_time": "2020-10-17T14:03:53.691721Z"
    }
   },
   "outputs": [
    {
     "data": {
      "text/plain": [
       "array([[0.10072759],\n",
       "       [0.06375992],\n",
       "       [0.34823367],\n",
       "       [0.00764902],\n",
       "       [0.26151052]], dtype=float32)"
      ]
     },
     "execution_count": 73,
     "metadata": {},
     "output_type": "execute_result"
    }
   ],
   "source": [
    "y_train_prob[0:5]"
   ]
  },
  {
   "cell_type": "code",
   "execution_count": 74,
   "metadata": {
    "ExecuteTime": {
     "end_time": "2020-10-17T14:05:02.026999Z",
     "start_time": "2020-10-17T14:05:01.951557Z"
    }
   },
   "outputs": [],
   "source": [
    "def evaluation_metrics(threshold):\n",
    "    \n",
    "\n",
    "    \n",
    "    y_train_pred = y_train_prob >= threshold\n",
    "    y_validation_pred=y_validation_prob >= threshold\n",
    "    \n",
    "    precision = precision_score(y_train, y_train_pred)\n",
    "    recall = recall_score(y_train, y_train_pred)\n",
    "    accuracy = accuracy_score(y_train, y_train_pred)\n",
    "    cm = confusion_matrix(y_train, y_train_pred)\n",
    "    \n",
    "    print(f\"Train Precision: {precision:.2%}\")\n",
    "    print(f\"Train Recall: {recall:.2%}\")\n",
    "    print(f\"Train Accuracy: {accuracy:.2%}\")\n",
    "    print(f\"Train Confusion Matrix: {cm}\")\n",
    "    \n",
    "    print(\"\\n\\n\\n\")\n",
    "    precision = precision_score(y_validation, y_validation_pred)\n",
    "    recall = recall_score(y_validation, y_validation_pred)\n",
    "    accuracy = accuracy_score(y_validation, y_validation_pred)\n",
    "    cm = confusion_matrix(y_validation, y_validation_pred)\n",
    "    \n",
    "    print(f\"Validation Precision: {precision:.2%}\")\n",
    "    print(f\"Validation Recall: {recall:.2%}\")\n",
    "    print(f\"Validation Accuracy: {accuracy:.2%}\")\n",
    "    print(f\"Validation Confusion Matrix: {cm}\")"
   ]
  },
  {
   "cell_type": "code",
   "execution_count": 75,
   "metadata": {
    "ExecuteTime": {
     "end_time": "2020-10-17T14:05:06.419558Z",
     "start_time": "2020-10-17T14:05:06.301285Z"
    }
   },
   "outputs": [
    {
     "name": "stdout",
     "output_type": "stream",
     "text": [
      "Train Precision: 76.65%\n",
      "Train Recall: 49.42%\n",
      "Train Accuracy: 86.54%\n",
      "Train Confusion Matrix: [[6112  247]\n",
      " [ 830  811]]\n",
      "\n",
      "\n",
      "\n",
      "\n",
      "Validation Precision: 73.65%\n",
      "Validation Recall: 51.52%\n",
      "Validation Accuracy: 86.75%\n",
      "Validation Confusion Matrix: [[1531   73]\n",
      " [ 192  204]]\n"
     ]
    }
   ],
   "source": [
    "evaluation_metrics(0.5)"
   ]
  },
  {
   "cell_type": "code",
   "execution_count": 76,
   "metadata": {},
   "outputs": [
    {
     "name": "stdout",
     "output_type": "stream",
     "text": [
      "Train Precision: 93.12%\n",
      "Train Recall: 27.24%\n",
      "Train Accuracy: 84.66%\n",
      "Train Confusion Matrix: [[6326   33]\n",
      " [1194  447]]\n",
      "\n",
      "\n",
      "\n",
      "\n",
      "Validation Precision: 94.87%\n",
      "Validation Recall: 28.03%\n",
      "Validation Accuracy: 85.45%\n",
      "Validation Confusion Matrix: [[1598    6]\n",
      " [ 285  111]]\n"
     ]
    }
   ],
   "source": [
    "evaluation_metrics(0.8)"
   ]
  },
  {
   "cell_type": "code",
   "execution_count": 77,
   "metadata": {
    "ExecuteTime": {
     "end_time": "2020-10-17T14:05:33.322405Z",
     "start_time": "2020-10-17T14:05:33.210651Z"
    }
   },
   "outputs": [
    {
     "name": "stdout",
     "output_type": "stream",
     "text": [
      "Train Precision: 49.16%\n",
      "Train Recall: 80.13%\n",
      "Train Accuracy: 78.92%\n",
      "Train Confusion Matrix: [[4999 1360]\n",
      " [ 326 1315]]\n",
      "\n",
      "\n",
      "\n",
      "\n",
      "Validation Precision: 47.68%\n",
      "Validation Recall: 80.30%\n",
      "Validation Accuracy: 78.65%\n",
      "Validation Confusion Matrix: [[1255  349]\n",
      " [  78  318]]\n"
     ]
    }
   ],
   "source": [
    "evaluation_metrics(0.2)"
   ]
  },
  {
   "cell_type": "markdown",
   "metadata": {
    "ExecuteTime": {
     "end_time": "2020-10-17T08:31:39.240927Z",
     "start_time": "2020-10-17T08:31:39.164941Z"
    }
   },
   "source": [
    "##### Number of Layers:\n",
    "\n",
    "##### Activation:\n",
    "input layer: relu becasue we are in an input layer. uses the ReLu activation function for  ϕ\n",
    "output layer: sigmoid becasue we are in an output layer. uses the Sigmoid activation function for  ϕ . This is used instead of the ReLu function becasue it generates probabilities for the outcome. We want the probability that each customer leaves the bank.\n",
    "\n",
    "##### Type of optimization / backpropagation technique to use: \n",
    "We will use Adam. Adam is a very efficeint variation of Stochastic Gradient Descent. For Adam and its variant, learning rate or the decay rate does not really matter too much.\n",
    "\n",
    "##### Learning Rate:\n",
    "default learning rate 0.001.\n",
    "\n",
    "##### Number of Neurons in a layer:\n",
    "We will keep it 6 as per our initial calculation above.\n",
    "\n",
    "\n",
    "##### Loss:\n",
    "loss: binary_crossentropy This is the loss function used within adam. This should be the logarthmic loss. If our dependent (output variable) is Binary, it is binary_crossentropy. If Categorical, then it is called categorical_crossentropy\n",
    "\n",
    "Rebuilding the model using these optimised parameters"
   ]
  }
 ],
 "metadata": {
  "kernelspec": {
   "display_name": "Python 3",
   "language": "python",
   "name": "python3"
  },
  "language_info": {
   "codemirror_mode": {
    "name": "ipython",
    "version": 3
   },
   "file_extension": ".py",
   "mimetype": "text/x-python",
   "name": "python",
   "nbconvert_exporter": "python",
   "pygments_lexer": "ipython3",
   "version": "3.7.4"
  }
 },
 "nbformat": 4,
 "nbformat_minor": 2
}
