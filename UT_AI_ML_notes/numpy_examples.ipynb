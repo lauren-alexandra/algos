{
 "cells": [
  {
   "cell_type": "markdown",
   "metadata": {},
   "source": [
    "# NumPy\n",
    "\n",
    "numpy is python's package for doing math that is more advanced than +-*/\n",
    "\n",
    "This includes special functions like cosine, exponential, sqrt, ...\n",
    "\n",
    "On top of this we can use numpy to generate samples from many types of random variables\n",
    "\n",
    "numpy also has a powerful data type to define vectors, matrices, and tensors\n",
    "\n",
    "With these data types numpy also allows us to do linear algebra - matrix multiplication and matrix-vector solutions"
   ]
  },
  {
   "cell_type": "code",
   "execution_count": 1,
   "metadata": {},
   "outputs": [],
   "source": [
    "# the first step of using numpy is to tell python to use it\n",
    "import numpy as np"
   ]
  },
  {
   "cell_type": "code",
   "execution_count": 2,
   "metadata": {},
   "outputs": [
    {
     "name": "stdout",
     "output_type": "stream",
     "text": [
      "-1.0\n",
      "1.1\n",
      "5.2\n"
     ]
    }
   ],
   "source": [
    "print(np.cos(np.pi))\n",
    "print(np.sqrt(1.21))\n",
    "print(np.log(np.exp(5.2)))"
   ]
  },
  {
   "cell_type": "code",
   "execution_count": 3,
   "metadata": {},
   "outputs": [
    {
     "name": "stdout",
     "output_type": "stream",
     "text": [
      "[1 2 3]\n",
      "\n",
      "[[1 2 1]\n",
      " [4 5 9]\n",
      " [1 8 9]]\n",
      "\n",
      "[[1 4 1]\n",
      " [2 5 8]\n",
      " [1 9 9]]\n"
     ]
    }
   ],
   "source": [
    "# we can create numpy arrays by converting lists\n",
    "# this is a vector\n",
    "vec = np.array([1,2,3])\n",
    "print(vec)\n",
    "# we can create matrices by converting lists of lists\n",
    "mat = np.array([[1,2,1],[4,5,9],[1,8,9]])\n",
    "print('')\n",
    "print(mat)\n",
    "print('')\n",
    "print(mat.T)"
   ]
  },
  {
   "cell_type": "code",
   "execution_count": 4,
   "metadata": {},
   "outputs": [
    {
     "name": "stdout",
     "output_type": "stream",
     "text": [
      "[ 0  1  2  3  4  5  6  7  8  9 10 11 12 13 14]\n",
      "\n",
      "[ 3  9 15]\n"
     ]
    }
   ],
   "source": [
    "# there are lots of other ways to create numpy arrays\n",
    "vec2 = np.arange(0,15)\n",
    "print(vec2)\n",
    "print('')\n",
    "vec3 = np.arange(3,21,6)\n",
    "print(vec3)\n"
   ]
  },
  {
   "cell_type": "code",
   "execution_count": 5,
   "metadata": {},
   "outputs": [
    {
     "name": "stdout",
     "output_type": "stream",
     "text": [
      "[0.         0.55555556 1.11111111 1.66666667 2.22222222 2.77777778\n",
      " 3.33333333 3.88888889 4.44444444 5.        ]\n",
      "\n",
      "[[0.         0.55555556]\n",
      " [1.11111111 1.66666667]\n",
      " [2.22222222 2.77777778]\n",
      " [3.33333333 3.88888889]\n",
      " [4.44444444 5.        ]]\n",
      "[[0.         0.55555556]\n",
      " [1.11111111 1.66666667]\n",
      " [2.22222222 2.77777778]\n",
      " [3.33333333 3.88888889]\n",
      " [4.44444444 5.        ]]\n",
      "[0.         0.55555556 1.11111111 1.66666667 2.22222222 2.77777778\n",
      " 3.33333333 3.88888889 4.44444444 5.        ]\n"
     ]
    }
   ],
   "source": [
    "\n",
    "vec4 = np.linspace(0,5,10)\n",
    "print(vec4)\n",
    "print('')\n",
    "print(vec4.reshape(5,2))\n",
    "vec4_reshaped = vec4.reshape(5,2)\n",
    "print(vec4_reshaped)\n",
    "print(vec4)"
   ]
  },
  {
   "cell_type": "code",
   "execution_count": 6,
   "metadata": {},
   "outputs": [
    {
     "name": "stdout",
     "output_type": "stream",
     "text": [
      "[[0. 0. 0.]\n",
      " [0. 0. 0.]\n",
      " [0. 0. 0.]\n",
      " [0. 0. 0.]\n",
      " [0. 0. 0.]]\n",
      "\n",
      "[[1. 1. 1. 1. 1.]\n",
      " [1. 1. 1. 1. 1.]\n",
      " [1. 1. 1. 1. 1.]]\n",
      "\n",
      "[[1. 0. 0. 0. 0.]\n",
      " [0. 1. 0. 0. 0.]\n",
      " [0. 0. 1. 0. 0.]\n",
      " [0. 0. 0. 1. 0.]\n",
      " [0. 0. 0. 0. 1.]]\n"
     ]
    }
   ],
   "source": [
    "mat2 = np.zeros([5,3])\n",
    "print(mat2)\n",
    "mat3 = np.ones((3,5))\n",
    "print('')\n",
    "print(mat3)\n",
    "mat4 = np.eye(5)\n",
    "print('')\n",
    "print(mat4)"
   ]
  },
  {
   "cell_type": "code",
   "execution_count": 7,
   "metadata": {},
   "outputs": [
    {
     "name": "stdout",
     "output_type": "stream",
     "text": [
      "[1 2 3 4 5]\n",
      "[3 4 5 6 7]\n",
      "[ 4  6  8 10 12]\n",
      "[ 3  8 15 24 35]\n",
      "[1.         0.5        0.33333333 0.25       0.2       ]\n",
      "[1.73205081 2.         2.23606798 2.44948974 2.64575131]\n"
     ]
    }
   ],
   "source": [
    "# we can +-*/ arrays together if they're the right size\n",
    "vec5 = np.arange(1,6)\n",
    "vec6 = np.arange(3,8)\n",
    "print(vec5)\n",
    "print(vec6)\n",
    "print(vec5+vec6)\n",
    "print(vec5*vec6)\n",
    "print(1/vec5)\n",
    "print(np.sqrt(vec6))"
   ]
  },
  {
   "cell_type": "code",
   "execution_count": 8,
   "metadata": {},
   "outputs": [
    {
     "name": "stdout",
     "output_type": "stream",
     "text": [
      "[[1 2 1]\n",
      " [4 5 9]\n",
      " [1 8 9]]\n",
      "\n",
      "[1 2 3]\n",
      "\n",
      "[ 8 41 44]\n"
     ]
    }
   ],
   "source": [
    "# we can do matrix multiplication\n",
    "print(mat)\n",
    "print('')\n",
    "print(vec)\n",
    "print()\n",
    "product = np.matmul(mat,vec)\n",
    "print(product)"
   ]
  },
  {
   "cell_type": "code",
   "execution_count": 9,
   "metadata": {},
   "outputs": [
    {
     "name": "stdout",
     "output_type": "stream",
     "text": [
      "[1. 2. 3.]\n",
      "\n",
      "[[ 0.5         0.18518519 -0.24074074]\n",
      " [ 0.5        -0.14814815  0.09259259]\n",
      " [-0.5         0.11111111  0.05555556]]\n"
     ]
    }
   ],
   "source": [
    "print(np.linalg.solve(mat,product))\n",
    "print('')\n",
    "print(np.linalg.inv(mat))"
   ]
  },
  {
   "cell_type": "code",
   "execution_count": 10,
   "metadata": {},
   "outputs": [
    {
     "name": "stdout",
     "output_type": "stream",
     "text": [
      "['blue' 'red' 'orange' 'purple' 'purple' 'orange' 'Red' '6']\n",
      "['6' 'Red' 'blue' 'orange' 'purple' 'red']\n"
     ]
    }
   ],
   "source": [
    "# we can find the unique values in an array\n",
    "vec7 = np.array(['blue','red','orange','purple','purple','orange','Red',6])\n",
    "print(vec7)\n",
    "print(np.unique(vec7))"
   ]
  },
  {
   "cell_type": "code",
   "execution_count": 11,
   "metadata": {},
   "outputs": [
    {
     "name": "stdout",
     "output_type": "stream",
     "text": [
      "[[0.7117605  0.56692782 0.62339087 0.47158234 0.75762645]\n",
      " [0.88353537 0.47744839 0.42900707 0.42505963 0.81554688]\n",
      " [0.53074691 0.6028693  0.11463859 0.9266729  0.08427807]\n",
      " [0.91551802 0.55370249 0.84831081 0.69309148 0.76535878]\n",
      " [0.78244628 0.0462181  0.76480391 0.25454845 0.35806834]]\n",
      "\n",
      "[[-1.48849136 -0.52360643 -0.58894001 -0.59655677  1.01385462]\n",
      " [-0.85246913 -0.75718229 -0.97032793 -1.43197553  0.26935388]\n",
      " [-0.88158313  0.65222564 -0.41103008  0.10740765  0.51004255]\n",
      " [ 1.35335362  0.69672758 -2.24702955  0.0748173  -1.00118685]\n",
      " [-0.39319145 -0.30037164 -0.75065677  0.02309209  0.1593808 ]\n",
      " [ 0.64619132  0.27884423 -1.34330259 -0.86657753 -0.641305  ]\n",
      " [ 1.39007682  0.30595605 -1.17349511  0.57759032 -0.48374884]\n",
      " [ 0.76341774  0.72121787 -0.15300778  0.88336528 -1.04135942]\n",
      " [-0.16351938  1.26179032  1.78942768  2.11640413  1.49898176]\n",
      " [-0.13161913 -1.18313144  0.63916249 -0.77410888 -1.44019292]]\n"
     ]
    }
   ],
   "source": [
    "# we can also use numpy to generate samples of a random variable\n",
    "rand_mat = np.random.rand(5,5) # uniform random variable\n",
    "print(rand_mat)\n",
    "rand_mat2 = np.random.randn(10,5) # standard normal random variable\n",
    "print('')\n",
    "print(rand_mat2)"
   ]
  },
  {
   "cell_type": "code",
   "execution_count": 12,
   "metadata": {},
   "outputs": [
    {
     "name": "stdout",
     "output_type": "stream",
     "text": [
      "0.5761263090528012\n",
      "0.9532536471410243\n"
     ]
    }
   ],
   "source": [
    "# we can also use numpy for statistical tools on arrays\n",
    "print(np.mean(rand_mat))\n",
    "print(np.std(rand_mat2))"
   ]
  },
  {
   "cell_type": "code",
   "execution_count": 13,
   "metadata": {},
   "outputs": [
    {
     "name": "stdout",
     "output_type": "stream",
     "text": [
      "0.04621810013901406\n",
      "2.116404126055973\n"
     ]
    }
   ],
   "source": [
    "print(np.min(rand_mat))\n",
    "print(np.max(rand_mat2))"
   ]
  },
  {
   "cell_type": "code",
   "execution_count": 14,
   "metadata": {},
   "outputs": [],
   "source": [
    "# break here for next video!"
   ]
  },
  {
   "cell_type": "code",
   "execution_count": 15,
   "metadata": {},
   "outputs": [
    {
     "name": "stdout",
     "output_type": "stream",
     "text": [
      "[-1.10805189 -1.44872111  0.63743101 -0.49772341 -0.17970357 -0.16006396\n",
      " -0.20497889 -0.04204174  0.29160242 -1.47240915 -0.40859898  0.77512096\n",
      "  1.32203859 -0.08788851 -1.07403685 -0.4478987  -0.18173012  0.23132058\n",
      "  0.0377355 ]\n",
      "-0.20497889061089802\n"
     ]
    }
   ],
   "source": [
    "# how do we access entries in a numpy vector\n",
    "rand_vec = np.random.randn(19)\n",
    "print(rand_vec)\n",
    "print(rand_vec[6])"
   ]
  },
  {
   "cell_type": "code",
   "execution_count": 16,
   "metadata": {},
   "outputs": [
    {
     "name": "stdout",
     "output_type": "stream",
     "text": [
      "[-0.17970357 -0.16006396 -0.20497889 -0.04204174  0.29160242]\n"
     ]
    }
   ],
   "source": [
    "# we can access multiple entries at once using :\n",
    "print(rand_vec[4:9])"
   ]
  },
  {
   "cell_type": "code",
   "execution_count": 17,
   "metadata": {},
   "outputs": [
    {
     "name": "stdout",
     "output_type": "stream",
     "text": [
      "[ 0  3  6  9 12]\n",
      "[-1.10805189 -0.49772341 -0.20497889 -1.47240915  1.32203859]\n"
     ]
    }
   ],
   "source": [
    "# we can also access multiple non-consecutive entries using np.arange\n",
    "print(np.arange(0,15,3))\n",
    "print(rand_vec[np.arange(0,15,3)])"
   ]
  },
  {
   "cell_type": "code",
   "execution_count": 18,
   "metadata": {},
   "outputs": [
    {
     "name": "stdout",
     "output_type": "stream",
     "text": [
      "[[0.7117605  0.56692782 0.62339087 0.47158234 0.75762645]\n",
      " [0.88353537 0.47744839 0.42900707 0.42505963 0.81554688]\n",
      " [0.53074691 0.6028693  0.11463859 0.9266729  0.08427807]\n",
      " [0.91551802 0.55370249 0.84831081 0.69309148 0.76535878]\n",
      " [0.78244628 0.0462181  0.76480391 0.25454845 0.35806834]]\n",
      "0.4290070650461748\n",
      "0.4290070650461748\n"
     ]
    }
   ],
   "source": [
    "# what about matrices\n",
    "print(rand_mat)\n",
    "print(rand_mat[1][2])\n",
    "print(rand_mat[1,2])\n"
   ]
  },
  {
   "cell_type": "code",
   "execution_count": 19,
   "metadata": {},
   "outputs": [
    {
     "name": "stdout",
     "output_type": "stream",
     "text": [
      "[[0.56692782 0.62339087]\n",
      " [0.47744839 0.42900707]]\n"
     ]
    }
   ],
   "source": [
    "print(rand_mat[0:2,1:3])"
   ]
  },
  {
   "cell_type": "code",
   "execution_count": 20,
   "metadata": {},
   "outputs": [
    {
     "name": "stdout",
     "output_type": "stream",
     "text": [
      "[-1.10805189 -1.44872111  0.63743101 -0.49772341 -0.17970357 -0.16006396\n",
      " -0.20497889 -0.04204174  0.29160242 -1.47240915 -0.40859898  0.77512096\n",
      "  1.32203859 -0.08788851 -1.07403685 -0.4478987  -0.18173012  0.23132058\n",
      "  0.0377355 ]\n",
      "\n",
      "[-1.10805189 -1.44872111  0.63743101  4.          4.         -0.16006396\n",
      " -0.20497889 -0.04204174  0.29160242 -1.47240915 -0.40859898  0.77512096\n",
      "  1.32203859 -0.08788851 -1.07403685 -0.4478987  -0.18173012  0.23132058\n",
      "  0.0377355 ]\n",
      "\n",
      "[-1.10805189 -1.44872111  0.63743101  1.          2.         -0.16006396\n",
      " -0.20497889 -0.04204174  0.29160242 -1.47240915 -0.40859898  0.77512096\n",
      "  1.32203859 -0.08788851 -1.07403685 -0.4478987  -0.18173012  0.23132058\n",
      "  0.0377355 ]\n"
     ]
    }
   ],
   "source": [
    "# let's change some values in an array!\n",
    "print(rand_vec)\n",
    "rand_vec[3:5] = 4\n",
    "print('')\n",
    "print(rand_vec)\n",
    "rand_vec[3:5] = [1,2]\n",
    "print('')\n",
    "print(rand_vec)"
   ]
  },
  {
   "cell_type": "code",
   "execution_count": 21,
   "metadata": {},
   "outputs": [
    {
     "name": "stdout",
     "output_type": "stream",
     "text": [
      "[[0.7117605  0.56692782 0.62339087 0.47158234 0.75762645]\n",
      " [0.88353537 0.47744839 0.42900707 0.42505963 0.81554688]\n",
      " [0.53074691 0.6028693  0.11463859 0.9266729  0.08427807]\n",
      " [0.91551802 0.55370249 0.84831081 0.69309148 0.76535878]\n",
      " [0.78244628 0.0462181  0.76480391 0.25454845 0.35806834]]\n",
      "\n",
      "[[0.7117605  0.56692782 0.62339087 0.47158234 0.75762645]\n",
      " [0.88353537 0.47744839 0.42900707 0.         0.        ]\n",
      " [0.53074691 0.6028693  0.11463859 0.         0.        ]\n",
      " [0.91551802 0.55370249 0.84831081 0.69309148 0.76535878]\n",
      " [0.78244628 0.0462181  0.76480391 0.25454845 0.35806834]]\n"
     ]
    }
   ],
   "source": [
    "print(rand_mat)\n",
    "rand_mat[1:3,3:5] = 0\n",
    "print('')\n",
    "print(rand_mat)"
   ]
  },
  {
   "cell_type": "code",
   "execution_count": 22,
   "metadata": {},
   "outputs": [
    {
     "name": "stdout",
     "output_type": "stream",
     "text": [
      "[[0.7117605  0.56692782 0.62339087]\n",
      " [0.88353537 0.47744839 0.42900707]]\n",
      "[[3. 3. 3.]\n",
      " [3. 3. 3.]]\n"
     ]
    }
   ],
   "source": [
    "sub_mat = rand_mat[0:2,0:3]\n",
    "print(sub_mat)\n",
    "sub_mat[:] = 3\n",
    "print(sub_mat)\n"
   ]
  },
  {
   "cell_type": "code",
   "execution_count": 23,
   "metadata": {},
   "outputs": [
    {
     "name": "stdout",
     "output_type": "stream",
     "text": [
      "[[3.         3.         3.         0.47158234 0.75762645]\n",
      " [3.         3.         3.         0.         0.        ]\n",
      " [0.53074691 0.6028693  0.11463859 0.         0.        ]\n",
      " [0.91551802 0.55370249 0.84831081 0.69309148 0.76535878]\n",
      " [0.78244628 0.0462181  0.76480391 0.25454845 0.35806834]]\n"
     ]
    }
   ],
   "source": [
    "print(rand_mat)"
   ]
  },
  {
   "cell_type": "code",
   "execution_count": 24,
   "metadata": {},
   "outputs": [
    {
     "name": "stdout",
     "output_type": "stream",
     "text": [
      "[[99. 99. 99.]\n",
      " [99. 99. 99.]]\n",
      "[[3.         3.         3.         0.47158234 0.75762645]\n",
      " [3.         3.         3.         0.         0.        ]\n",
      " [0.53074691 0.6028693  0.11463859 0.         0.        ]\n",
      " [0.91551802 0.55370249 0.84831081 0.69309148 0.76535878]\n",
      " [0.78244628 0.0462181  0.76480391 0.25454845 0.35806834]]\n"
     ]
    }
   ],
   "source": [
    "sub_mat2 = rand_mat[0:2,0:3].copy()\n",
    "sub_mat2[:] = 99\n",
    "print(sub_mat2)\n",
    "print(rand_mat)\n"
   ]
  },
  {
   "cell_type": "code",
   "execution_count": 25,
   "metadata": {},
   "outputs": [],
   "source": [
    "# break here for next video"
   ]
  },
  {
   "cell_type": "code",
   "execution_count": 26,
   "metadata": {},
   "outputs": [
    {
     "name": "stdout",
     "output_type": "stream",
     "text": [
      "[ 0.11356397  0.28177487  0.2036546  -1.28496335  0.36154295  0.37940373\n",
      " -0.36841235 -0.4932052   0.38414155  0.78704754 -0.40114044  0.73287086\n",
      "  0.39797809 -1.18214064 -0.12349215]\n",
      "[ True  True  True False  True  True False False  True  True False  True\n",
      "  True False False]\n",
      "[0.11356397 0.28177487 0.2036546  0.36154295 0.37940373 0.38414155\n",
      " 0.78704754 0.73287086 0.39797809]\n"
     ]
    }
   ],
   "source": [
    "# we can also access entries with logicals\n",
    "rand_vec = np.random.randn(15)\n",
    "\n",
    "print(rand_vec)\n",
    "print(rand_vec>0)\n",
    "print(rand_vec[rand_vec>0])"
   ]
  },
  {
   "cell_type": "code",
   "execution_count": 27,
   "metadata": {},
   "outputs": [
    {
     "name": "stdout",
     "output_type": "stream",
     "text": [
      "[[-1.48849136 -0.52360643 -0.58894001 -0.59655677  1.01385462]\n",
      " [-0.85246913 -0.75718229 -0.97032793 -1.43197553  0.26935388]\n",
      " [-0.88158313  0.65222564 -0.41103008  0.10740765  0.51004255]\n",
      " [ 1.35335362  0.69672758 -2.24702955  0.0748173  -1.00118685]\n",
      " [-0.39319145 -0.30037164 -0.75065677  0.02309209  0.1593808 ]\n",
      " [ 0.64619132  0.27884423 -1.34330259 -0.86657753 -0.641305  ]\n",
      " [ 1.39007682  0.30595605 -1.17349511  0.57759032 -0.48374884]\n",
      " [ 0.76341774  0.72121787 -0.15300778  0.88336528 -1.04135942]\n",
      " [-0.16351938  1.26179032  1.78942768  2.11640413  1.49898176]\n",
      " [-0.13161913 -1.18313144  0.63916249 -0.77410888 -1.44019292]]\n",
      "[1.01385462 0.26935388 0.65222564 0.10740765 0.51004255 1.35335362\n",
      " 0.69672758 0.0748173  0.02309209 0.1593808  0.64619132 0.27884423\n",
      " 1.39007682 0.30595605 0.57759032 0.76341774 0.72121787 0.88336528\n",
      " 1.26179032 1.78942768 2.11640413 1.49898176 0.63916249]\n"
     ]
    }
   ],
   "source": [
    "print(rand_mat2)\n",
    "print(rand_mat2[rand_mat2>0])"
   ]
  },
  {
   "cell_type": "code",
   "execution_count": 28,
   "metadata": {},
   "outputs": [
    {
     "name": "stdout",
     "output_type": "stream",
     "text": [
      "[ 0.11356397  0.28177487  0.2036546  -1.28496335  0.36154295  0.37940373\n",
      " -0.36841235 -0.4932052   0.38414155  0.78704754 -0.40114044  0.73287086\n",
      "  0.39797809 -1.18214064 -0.12349215]\n",
      "\n",
      "[ 0.11356397  0.28177487  0.2036546  -1.28496335  0.36154295  0.37940373\n",
      " -0.36841235 -0.4932052   0.38414155 -5.         -0.40114044 -5.\n",
      "  0.39797809 -1.18214064 -0.12349215]\n"
     ]
    }
   ],
   "source": [
    "\n",
    "print(rand_vec)\n",
    "print('')\n",
    "rand_vec[rand_vec>0.5] = -5\n",
    "print(rand_vec)"
   ]
  },
  {
   "cell_type": "code",
   "execution_count": 29,
   "metadata": {},
   "outputs": [],
   "source": [
    "# let's save some arrays on the disk for use later!\n",
    "np.save('saved_file_name',rand_mat2)\n"
   ]
  },
  {
   "cell_type": "code",
   "execution_count": 30,
   "metadata": {},
   "outputs": [],
   "source": [
    "np.savez('zipped_file_name',rand_mat=rand_mat,rand_mat2=rand_mat2)"
   ]
  },
  {
   "cell_type": "code",
   "execution_count": 31,
   "metadata": {},
   "outputs": [
    {
     "name": "stdout",
     "output_type": "stream",
     "text": [
      "[[-1.48849136 -0.52360643 -0.58894001 -0.59655677  1.01385462]\n",
      " [-0.85246913 -0.75718229 -0.97032793 -1.43197553  0.26935388]\n",
      " [-0.88158313  0.65222564 -0.41103008  0.10740765  0.51004255]\n",
      " [ 1.35335362  0.69672758 -2.24702955  0.0748173  -1.00118685]\n",
      " [-0.39319145 -0.30037164 -0.75065677  0.02309209  0.1593808 ]\n",
      " [ 0.64619132  0.27884423 -1.34330259 -0.86657753 -0.641305  ]\n",
      " [ 1.39007682  0.30595605 -1.17349511  0.57759032 -0.48374884]\n",
      " [ 0.76341774  0.72121787 -0.15300778  0.88336528 -1.04135942]\n",
      " [-0.16351938  1.26179032  1.78942768  2.11640413  1.49898176]\n",
      " [-0.13161913 -1.18313144  0.63916249 -0.77410888 -1.44019292]]\n",
      "\n",
      "<numpy.lib.npyio.NpzFile object at 0x7f94a212b1d0>\n"
     ]
    }
   ],
   "source": [
    "# now let's load it\n",
    "loaded_vec = np.load('saved_file_name.npy')\n",
    "loaded_zip = np.load('zipped_file_name.npz')\n",
    "\n",
    "print(loaded_vec)\n",
    "print('')\n",
    "print(loaded_zip)"
   ]
  },
  {
   "cell_type": "code",
   "execution_count": 32,
   "metadata": {},
   "outputs": [
    {
     "name": "stdout",
     "output_type": "stream",
     "text": [
      "[[3.         3.         3.         0.47158234 0.75762645]\n",
      " [3.         3.         3.         0.         0.        ]\n",
      " [0.53074691 0.6028693  0.11463859 0.         0.        ]\n",
      " [0.91551802 0.55370249 0.84831081 0.69309148 0.76535878]\n",
      " [0.78244628 0.0462181  0.76480391 0.25454845 0.35806834]]\n",
      "\n",
      "[[-1.48849136 -0.52360643 -0.58894001 -0.59655677  1.01385462]\n",
      " [-0.85246913 -0.75718229 -0.97032793 -1.43197553  0.26935388]\n",
      " [-0.88158313  0.65222564 -0.41103008  0.10740765  0.51004255]\n",
      " [ 1.35335362  0.69672758 -2.24702955  0.0748173  -1.00118685]\n",
      " [-0.39319145 -0.30037164 -0.75065677  0.02309209  0.1593808 ]\n",
      " [ 0.64619132  0.27884423 -1.34330259 -0.86657753 -0.641305  ]\n",
      " [ 1.39007682  0.30595605 -1.17349511  0.57759032 -0.48374884]\n",
      " [ 0.76341774  0.72121787 -0.15300778  0.88336528 -1.04135942]\n",
      " [-0.16351938  1.26179032  1.78942768  2.11640413  1.49898176]\n",
      " [-0.13161913 -1.18313144  0.63916249 -0.77410888 -1.44019292]]\n",
      "[[3.         3.         3.         0.47158234 0.75762645]\n",
      " [3.         3.         3.         0.         0.        ]\n",
      " [0.53074691 0.6028693  0.11463859 0.         0.        ]\n",
      " [0.91551802 0.55370249 0.84831081 0.69309148 0.76535878]\n",
      " [0.78244628 0.0462181  0.76480391 0.25454845 0.35806834]]\n"
     ]
    }
   ],
   "source": [
    "print(loaded_zip['rand_mat'])\n",
    "print('')\n",
    "print(loaded_zip['rand_mat2'])\n",
    "\n",
    "new_array  = loaded_zip['rand_mat']\n",
    "print(new_array)"
   ]
  },
  {
   "cell_type": "code",
   "execution_count": 33,
   "metadata": {},
   "outputs": [
    {
     "name": "stdout",
     "output_type": "stream",
     "text": [
      "[[3.         3.         3.         0.47158234 0.75762645]\n",
      " [3.         3.         3.         0.         0.        ]\n",
      " [0.53074691 0.6028693  0.11463859 0.         0.        ]\n",
      " [0.91551802 0.55370249 0.84831081 0.69309148 0.76535878]\n",
      " [0.78244628 0.0462181  0.76480391 0.25454845 0.35806834]]\n",
      "\n",
      "[[3.         3.         3.         0.47158234 0.75762645]\n",
      " [3.         3.         3.         0.         0.        ]\n",
      " [0.53074691 0.6028693  0.11463859 0.         0.        ]\n",
      " [0.91551802 0.55370249 0.84831081 0.69309148 0.76535878]\n",
      " [0.78244628 0.0462181  0.76480391 0.25454845 0.35806834]]\n"
     ]
    }
   ],
   "source": [
    "# we can also save/load as text files...but only single variables\n",
    "np.savetxt('text_file_name.txt',rand_mat,delimiter=',')\n",
    "rand_mat_txt = np.loadtxt('text_file_name.txt',delimiter=',')\n",
    "print(rand_mat)\n",
    "print('')\n",
    "print(rand_mat_txt)"
   ]
  }
 ],
 "metadata": {
  "kernelspec": {
   "display_name": "Python 3",
   "language": "python",
   "name": "python3"
  },
  "language_info": {
   "codemirror_mode": {
    "name": "ipython",
    "version": 3
   },
   "file_extension": ".py",
   "mimetype": "text/x-python",
   "name": "python",
   "nbconvert_exporter": "python",
   "pygments_lexer": "ipython3",
   "version": "3.7.3"
  }
 },
 "nbformat": 4,
 "nbformat_minor": 2
}
