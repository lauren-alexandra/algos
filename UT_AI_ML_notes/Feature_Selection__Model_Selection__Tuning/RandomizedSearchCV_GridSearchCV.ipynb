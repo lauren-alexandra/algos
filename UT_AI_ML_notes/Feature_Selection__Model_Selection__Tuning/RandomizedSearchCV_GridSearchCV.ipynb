{
 "cells": [
  {
   "cell_type": "code",
   "execution_count": 1,
   "metadata": {
    "colab": {},
    "colab_type": "code",
    "id": "iWuzCQLW3wXF"
   },
   "outputs": [],
   "source": [
    "%matplotlib inline"
   ]
  },
  {
   "cell_type": "code",
   "execution_count": 2,
   "metadata": {
    "colab": {},
    "colab_type": "code",
    "id": "p2MVdy__3wXM"
   },
   "outputs": [],
   "source": [
    "import numpy as np\n",
    "from time import time\n",
    "from scipy.stats import randint as sp_randint\n",
    "from sklearn.model_selection import GridSearchCV\n",
    "from sklearn.model_selection import RandomizedSearchCV\n",
    "from sklearn.datasets import load_digits\n",
    "from sklearn.ensemble import RandomForestClassifier"
   ]
  },
  {
   "cell_type": "code",
   "execution_count": 3,
   "metadata": {
    "colab": {},
    "colab_type": "code",
    "id": "bfdKxeQF3wXR"
   },
   "outputs": [],
   "source": [
    "# get data\n",
    "digits = load_digits()  # Source : http://archive.ics.uci.edu/ml/datasets/Pen-Based+Recognition+of+Handwritten+Digits\n",
    "X, y = digits.data, digits.target"
   ]
  },
  {
   "cell_type": "code",
   "execution_count": 4,
   "metadata": {
    "colab": {},
    "colab_type": "code",
    "id": "EDAhL7Yc3wXY"
   },
   "outputs": [],
   "source": [
    "# build a classifier\n",
    "clf = RandomForestClassifier(n_estimators=50)"
   ]
  },
  {
   "cell_type": "code",
   "execution_count": 5,
   "metadata": {
    "colab": {},
    "colab_type": "code",
    "id": "wY-kKYFd3wXb"
   },
   "outputs": [],
   "source": [
    "# specify parameters and distributions to sample from\n",
    "param_dist = {\"max_depth\": [3, None],\n",
    "              \"max_features\": sp_randint(1, 11),\n",
    "              \"min_samples_split\": sp_randint(2, 11),\n",
    "              \"min_samples_leaf\": sp_randint(1, 11),\n",
    "              \"bootstrap\": [True, False],\n",
    "              \"criterion\": [\"gini\", \"entropy\"]}"
   ]
  },
  {
   "cell_type": "code",
   "execution_count": 6,
   "metadata": {
    "colab": {},
    "colab_type": "code",
    "id": "HsdZfVy43wXe"
   },
   "outputs": [],
   "source": [
    "# run randomized search\n",
    "samples = 10  # number of random samples \n",
    "randomCV = RandomizedSearchCV(clf, param_distributions=param_dist, n_iter=samples) #default cv = 3"
   ]
  },
  {
   "cell_type": "code",
   "execution_count": 7,
   "metadata": {
    "colab": {},
    "colab_type": "code",
    "id": "FnDYMJxz3wXi",
    "outputId": "c6ac3a88-6eb7-4cc8-a241-82d89b7d4307"
   },
   "outputs": [
    {
     "name": "stdout",
     "output_type": "stream",
     "text": [
      "{'bootstrap': True, 'criterion': 'gini', 'max_depth': None, 'max_features': 9, 'min_samples_leaf': 4, 'min_samples_split': 5}\n"
     ]
    }
   ],
   "source": [
    "randomCV.fit(X, y)\n",
    "\n",
    " \n",
    "print(randomCV.best_params_)\n"
   ]
  },
  {
   "cell_type": "code",
   "execution_count": 8,
   "metadata": {
    "colab": {},
    "colab_type": "code",
    "id": "BYAjFmNl3wXm"
   },
   "outputs": [],
   "source": [
    "# use a full grid over all parameters\n",
    "param_grid = {\"max_depth\": [3, None],\n",
    "              \"max_features\": [1, 3, 10],\n",
    "              \"min_samples_split\": [2, 3, 10],\n",
    "              \"min_samples_leaf\": [1, 3, 10],\n",
    "              \"bootstrap\": [True, False],\n",
    "              \"criterion\": [\"gini\", \"entropy\"]}"
   ]
  },
  {
   "cell_type": "code",
   "execution_count": 9,
   "metadata": {
    "colab": {},
    "colab_type": "code",
    "id": "flbwV9CY3wXp",
    "outputId": "27b96b5b-4368-4fe6-c1c1-8d7213324915"
   },
   "outputs": [
    {
     "data": {
      "text/plain": [
       "GridSearchCV(estimator=RandomForestClassifier(n_estimators=50),\n",
       "             param_grid={'bootstrap': [True, False],\n",
       "                         'criterion': ['gini', 'entropy'],\n",
       "                         'max_depth': [3, None], 'max_features': [1, 3, 10],\n",
       "                         'min_samples_leaf': [1, 3, 10],\n",
       "                         'min_samples_split': [2, 3, 10]})"
      ]
     },
     "execution_count": 9,
     "metadata": {},
     "output_type": "execute_result"
    }
   ],
   "source": [
    "# run grid search\n",
    "grid_search = GridSearchCV(clf, param_grid=param_grid)\n",
    "start = time()\n",
    "grid_search.fit(X, y)"
   ]
  },
  {
   "cell_type": "code",
   "execution_count": 10,
   "metadata": {
    "colab": {},
    "colab_type": "code",
    "id": "VexE_JsR3wXs",
    "outputId": "3f6a08ba-ffa7-4b89-9f38-1262abb69f15"
   },
   "outputs": [
    {
     "data": {
      "text/plain": [
       "{'bootstrap': True,\n",
       " 'criterion': 'entropy',\n",
       " 'max_depth': None,\n",
       " 'max_features': 3,\n",
       " 'min_samples_leaf': 1,\n",
       " 'min_samples_split': 3}"
      ]
     },
     "execution_count": 10,
     "metadata": {},
     "output_type": "execute_result"
    }
   ],
   "source": [
    "grid_search.best_params_"
   ]
  },
  {
   "cell_type": "code",
   "execution_count": 11,
   "metadata": {
    "colab": {},
    "colab_type": "code",
    "id": "_EjiJe6E3wXv",
    "outputId": "9854d20b-c116-4c6a-bf22-97e1d46c64b1"
   },
   "outputs": [
    {
     "data": {
      "text/plain": [
       "array([0.81862117, 0.81524915, 0.81134633, 0.80411792, 0.82861343,\n",
       "       0.81804085, 0.78242495, 0.79633086, 0.82025534, 0.8408666 ,\n",
       "       0.84252863, 0.84085732, 0.83805478, 0.82417673, 0.84697617,\n",
       "       0.83419375, 0.82805014, 0.83753482, 0.82361188, 0.82250387,\n",
       "       0.81581089, 0.84142216, 0.82138347, 0.82304704, 0.82693129,\n",
       "       0.82526617, 0.80913959, 0.92488858, 0.92322965, 0.91765862,\n",
       "       0.9131987 , 0.91599195, 0.90651501, 0.87701486, 0.8792572 ,\n",
       "       0.87702105, 0.93825132, 0.93323584, 0.92155215, 0.93157072,\n",
       "       0.92933457, 0.92489477, 0.91653668, 0.89985299, 0.90709223,\n",
       "       0.93435005, 0.92322656, 0.91933767, 0.92433612, 0.93267874,\n",
       "       0.91877592, 0.90596565, 0.90042247, 0.91320334, 0.82029403,\n",
       "       0.80800836, 0.81916435, 0.80412566, 0.81358248, 0.8069251 ,\n",
       "       0.81247601, 0.81803931, 0.8119251 , 0.83751934, 0.83584803,\n",
       "       0.84976478, 0.83027236, 0.84862736, 0.82973847, 0.84309037,\n",
       "       0.83808109, 0.83028938, 0.82193748, 0.84030176, 0.81580935,\n",
       "       0.81914578, 0.82248994, 0.8208403 , 0.82750232, 0.81526153,\n",
       "       0.82638502, 0.92656298, 0.92600743, 0.91598112, 0.91596565,\n",
       "       0.919316  , 0.90820025, 0.88203652, 0.87535747, 0.87090684,\n",
       "       0.93880687, 0.94268957, 0.92211235, 0.93324048, 0.92155525,\n",
       "       0.92433457, 0.90987156, 0.90541473, 0.91041473, 0.93659084,\n",
       "       0.92823584, 0.92433612, 0.92655834, 0.92434076, 0.93157382,\n",
       "       0.91042866, 0.91099814, 0.91154906, 0.8141628 , 0.81191272,\n",
       "       0.82306407, 0.80803157, 0.81973073, 0.80858248, 0.81414732,\n",
       "       0.82473383, 0.8086026 , 0.83529557, 0.84922779, 0.83084339,\n",
       "       0.83530176, 0.84086351, 0.83140978, 0.83862581, 0.83807645,\n",
       "       0.84698236, 0.81860105, 0.81526927, 0.81747137, 0.81581708,\n",
       "       0.80802693, 0.81859641, 0.82084803, 0.81135871, 0.81749613,\n",
       "       0.93435005, 0.93489941, 0.92878985, 0.91988548, 0.91932064,\n",
       "       0.91321572, 0.8909316 , 0.88871402, 0.88261374, 0.94214175,\n",
       "       0.93992262, 0.92712473, 0.93712782, 0.92935469, 0.92657227,\n",
       "       0.91877592, 0.91598731, 0.91765398, 0.93547199, 0.93936397,\n",
       "       0.9360229 , 0.92934695, 0.92600279, 0.93434386, 0.91432064,\n",
       "       0.91655215, 0.91766326, 0.79968121, 0.82193593, 0.81359796,\n",
       "       0.80023832, 0.80470443, 0.80579232, 0.80467812, 0.81414732,\n",
       "       0.81079387, 0.82750542, 0.82472919, 0.84532188, 0.84251934,\n",
       "       0.84863355, 0.83195605, 0.84531879, 0.83084649, 0.82860415,\n",
       "       0.81693129, 0.80467967, 0.81582637, 0.81915042, 0.82025379,\n",
       "       0.82973383, 0.81970133, 0.82027391, 0.80912721, 0.9349087 ,\n",
       "       0.93602755, 0.93212473, 0.91766171, 0.92098886, 0.91876354,\n",
       "       0.87701795, 0.90150727, 0.89150108, 0.93658929, 0.93713401,\n",
       "       0.93712473, 0.93602445, 0.92989941, 0.92656453, 0.9104364 ,\n",
       "       0.91987775, 0.91765398, 0.93324822, 0.9365862 , 0.93046735,\n",
       "       0.93045806, 0.92656298, 0.93046425, 0.92156144, 0.90876509,\n",
       "       0.9226679 ])"
      ]
     },
     "execution_count": 11,
     "metadata": {},
     "output_type": "execute_result"
    }
   ],
   "source": [
    "grid_search.cv_results_['mean_test_score']"
   ]
  },
  {
   "cell_type": "code",
   "execution_count": 12,
   "metadata": {
    "colab": {},
    "colab_type": "code",
    "id": "Qn-_f2f-3wXy",
    "outputId": "7fe5efb0-7143-49d3-e4d9-630aa0c833c7"
   },
   "outputs": [
    {
     "data": {
      "text/plain": [
       "RandomForestClassifier(criterion='entropy', max_features=3, min_samples_split=3,\n",
       "                       n_estimators=50)"
      ]
     },
     "execution_count": 12,
     "metadata": {},
     "output_type": "execute_result"
    }
   ],
   "source": [
    "grid_search.best_estimator_"
   ]
  },
  {
   "cell_type": "code",
   "execution_count": null,
   "metadata": {
    "colab": {},
    "colab_type": "code",
    "id": "W7oP6_oS3wX0"
   },
   "outputs": [],
   "source": []
  }
 ],
 "metadata": {
  "colab": {
   "name": "RandomizedSearchCV_GridSearchCV.ipynb",
   "provenance": [],
   "version": "0.3.2"
  },
  "kernelspec": {
   "display_name": "Python 3",
   "language": "python",
   "name": "python3"
  },
  "language_info": {
   "codemirror_mode": {
    "name": "ipython",
    "version": 3
   },
   "file_extension": ".py",
   "mimetype": "text/x-python",
   "name": "python",
   "nbconvert_exporter": "python",
   "pygments_lexer": "ipython3",
   "version": "3.7.3"
  }
 },
 "nbformat": 4,
 "nbformat_minor": 1
}
