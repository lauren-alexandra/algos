{
 "cells": [
  {
   "cell_type": "markdown",
   "metadata": {},
   "source": [
    "### Source\n",
    "\n",
    "- https://www.debuggex.com/cheatsheet/regex/python\n",
    "- https://www.w3schools.com/python/python_regex.asp\n",
    "- https://www.geeksforgeeks.org/regular-expression-python-examples-set-1/\n",
    "- https://regex101.com/"
   ]
  },
  {
   "cell_type": "code",
   "execution_count": 1,
   "metadata": {
    "ExecuteTime": {
     "end_time": "2020-11-21T14:14:47.550876Z",
     "start_time": "2020-11-21T14:14:47.545972Z"
    }
   },
   "outputs": [
    {
     "name": "stdout",
     "output_type": "stream",
     "text": [
      "['e', 'a', 'd', 'b', 'e', 'a']\n"
     ]
    }
   ],
   "source": [
    "# Module Regular Expression is imported using __import__(). \n",
    "import re \n",
    "  \n",
    "# compile() creates regular expression character class [a-e], \n",
    "# which is equivalent to [abcde]. \n",
    "# class [abcde] will match with string with 'a', 'b', 'c', 'd', 'e'. \n",
    "p = re.compile('[a-e]') \n",
    "  \n",
    "# findall() searches for the Regular Expression and return a list upon finding \n",
    "print(p.findall(\"Aye, said Mr. Gibenson Stark\")) "
   ]
  },
  {
   "cell_type": "code",
   "execution_count": 2,
   "metadata": {
    "ExecuteTime": {
     "end_time": "2020-11-21T14:14:48.145880Z",
     "start_time": "2020-11-21T14:14:48.133076Z"
    }
   },
   "outputs": [
    {
     "data": {
      "text/plain": [
       "['e', 'a', 'd', 'b', 'e', 'a']"
      ]
     },
     "execution_count": 2,
     "metadata": {},
     "output_type": "execute_result"
    }
   ],
   "source": [
    "re.findall('[a-e]', \"Aye, said Mr. Gibenson Stark\")"
   ]
  },
  {
   "cell_type": "code",
   "execution_count": 5,
   "metadata": {
    "ExecuteTime": {
     "end_time": "2020-11-21T14:15:35.862861Z",
     "start_time": "2020-11-21T14:15:35.856726Z"
    }
   },
   "outputs": [
    {
     "name": "stdout",
     "output_type": "stream",
     "text": [
      "['1', '1', '4', '1', '8', '8', '6']\n",
      "['1886']\n"
     ]
    }
   ],
   "source": [
    "# \\d is equivalent to [0-9]. \n",
    "p = re.compile('\\d') \n",
    "print(p.findall(\"I went to him at 11 A.M. on 4th July 1886\")) \n",
    "  \n",
    "# \\d+ will match a group on [0-9], group of one or greater size \n",
    "p = re.compile('\\d{4,4}') \n",
    "print(p.findall(\"I went to him at 11 A.M. on 4th July 1886\")) "
   ]
  },
  {
   "cell_type": "code",
   "execution_count": 6,
   "metadata": {
    "ExecuteTime": {
     "end_time": "2020-11-21T14:16:42.074963Z",
     "start_time": "2020-11-21T14:16:42.065795Z"
    }
   },
   "outputs": [
    {
     "name": "stdout",
     "output_type": "stream",
     "text": [
      "['H', 'e', 's', 'a', 'i', 'd', 'i', 'n', 's', 'o', 'm', 'e', '_', 'l', 'a', 'n', 'g']\n",
      "['I', 'went', 'to', 'him', 'at', '11', 'A', 'M', 'he', 'said', 'in', 'some_language']\n",
      "[' ', ' ', '*', '*', '*', ' ', ' ', '.']\n"
     ]
    }
   ],
   "source": [
    "p = re.compile('\\w') \n",
    "print(p.findall(\"He said * in some_lang.\")) \n",
    "  \n",
    "# \\w+ matches to group of alphanumeric character. \n",
    "p = re.compile('\\w+') \n",
    "print(p.findall(\"I went to him at 11 A.M., he said *** in some_language.\")) \n",
    "  \n",
    "# \\W matches to non alphanumeric characters.\n",
    "p = re.compile('\\W') \n",
    "print(p.findall(\"he said *** in some_language.\")) "
   ]
  },
  {
   "cell_type": "code",
   "execution_count": 5,
   "metadata": {
    "ExecuteTime": {
     "end_time": "2020-11-21T10:08:50.887837Z",
     "start_time": "2020-11-21T10:08:50.880367Z"
    }
   },
   "outputs": [
    {
     "name": "stdout",
     "output_type": "stream",
     "text": [
      "['ab', 'abb', 'a', 'abbb']\n"
     ]
    }
   ],
   "source": [
    "p = re.compile('ab*') \n",
    "print(p.findall(\"ababbaabbb\")) "
   ]
  },
  {
   "cell_type": "code",
   "execution_count": 8,
   "metadata": {
    "ExecuteTime": {
     "end_time": "2020-11-21T14:17:44.304272Z",
     "start_time": "2020-11-21T14:17:44.298268Z"
    }
   },
   "outputs": [
    {
     "data": {
      "text/plain": [
       "['wqw', 'eqe']"
      ]
     },
     "execution_count": 8,
     "metadata": {},
     "output_type": "execute_result"
    }
   ],
   "source": [
    "\"wqw eqe\".split(\" \")"
   ]
  },
  {
   "cell_type": "code",
   "execution_count": 9,
   "metadata": {
    "ExecuteTime": {
     "end_time": "2020-11-21T14:18:17.777742Z",
     "start_time": "2020-11-21T14:18:17.738009Z"
    }
   },
   "outputs": [
    {
     "name": "stdout",
     "output_type": "stream",
     "text": [
      "['Words', 'words', 'Words']\n",
      "['Word', 's', 'words', 'Words']\n",
      "['On', '12th', 'Jan', '2016', 'at', '11', '02', 'AM']\n",
      "['On ', 'th Jan ', ', at ', ':', ' AM']\n"
     ]
    }
   ],
   "source": [
    "print(re.split('\\W+', 'Words, words , Words')) \n",
    "print(re.split('\\W+', \"Word's words Words\")) \n",
    "  \n",
    "# Here ':', ' ' ,',' are not AlphaNumeric thus, the point where splitting occurs \n",
    "print(re.split('\\W+', 'On 12th Jan 2016, at 11:02 AM')) \n",
    "  \n",
    "# '\\d+' denotes Numeric Characters or group of characters \n",
    "# Splitting occurs at '12', '2016', '11', '02' only \n",
    "print(re.split('\\d+', 'On 12th Jan 2016, at 11:02 AM')) "
   ]
  },
  {
   "cell_type": "code",
   "execution_count": 7,
   "metadata": {
    "ExecuteTime": {
     "end_time": "2020-11-21T10:09:39.077486Z",
     "start_time": "2020-11-21T10:09:39.073753Z"
    }
   },
   "outputs": [],
   "source": [
    "p = re.compile('\\W+') "
   ]
  },
  {
   "cell_type": "code",
   "execution_count": 8,
   "metadata": {
    "ExecuteTime": {
     "end_time": "2020-11-21T10:09:50.523635Z",
     "start_time": "2020-11-21T10:09:50.517183Z"
    }
   },
   "outputs": [
    {
     "data": {
      "text/plain": [
       "['Words', 'words', 'Words']"
      ]
     },
     "execution_count": 8,
     "metadata": {},
     "output_type": "execute_result"
    }
   ],
   "source": [
    "p.split('Words, words , Words')"
   ]
  },
  {
   "cell_type": "code",
   "execution_count": 12,
   "metadata": {
    "ExecuteTime": {
     "end_time": "2020-11-21T14:19:01.548155Z",
     "start_time": "2020-11-21T14:19:01.540520Z"
    }
   },
   "outputs": [
    {
     "name": "stdout",
     "output_type": "stream",
     "text": [
      "['On ', 'th Jan 2016, at 11:02 AM']\n",
      "['', 'y, ', 'oy oh ', 'oy, ', 'om', ' h', 'r', '']\n",
      "['A', 'y, Boy oh ', 'oy, ', 'om', ' h', 'r', '']\n"
     ]
    }
   ],
   "source": [
    "print(re.split('\\d+', 'On 12th Jan 2016, at 11:02 AM', 1)) \n",
    "  \n",
    "# 'Boy' and 'boy' will be treated same when flags = re.IGNORECASE \n",
    "print(re.split('[a-f]+', 'Aey, Boy oh boy, come here', flags = re.IGNORECASE)) \n",
    "print(re.split('[a-f]+', 'Aey, Boy oh boy, come here')) "
   ]
  },
  {
   "cell_type": "code",
   "execution_count": 10,
   "metadata": {
    "ExecuteTime": {
     "end_time": "2020-11-21T14:20:01.347786Z",
     "start_time": "2020-11-21T14:20:01.340806Z"
    }
   },
   "outputs": [
    {
     "data": {
      "text/plain": [
       "'t Brussels conference '"
      ]
     },
     "execution_count": 10,
     "metadata": {},
     "output_type": "execute_result"
    }
   ],
   "source": [
    "re.sub(r\"http\\S+\", \"\", \"t Brussels conference httP://t.co/Ge9Lp7hpyG\",\n",
    "       flags = re.IGNORECASE)"
   ]
  },
  {
   "cell_type": "code",
   "execution_count": 17,
   "metadata": {
    "ExecuteTime": {
     "end_time": "2020-11-21T14:20:24.305323Z",
     "start_time": "2020-11-21T14:20:24.298146Z"
    }
   },
   "outputs": [
    {
     "name": "stdout",
     "output_type": "stream",
     "text": [
      "S~*ject has ~*er booked already\n",
      "S~*ject has Uber booked already\n",
      "S~*ject has Uber booked already\n",
      "Baked Beans & Spam\n"
     ]
    }
   ],
   "source": [
    "print(re.sub('ub', '~*' , 'Subject has Uber booked already', flags = re.IGNORECASE)) \n",
    "  \n",
    "# Consider the Case Sensitivity, 'Ub' in \"Uber\", will not be reaplced. \n",
    "print(re.sub('ub', '~*' , 'Subject has Uber booked already')) \n",
    "  \n",
    "# As count has been given value 1, the maximum times replacement occurs is 1 \n",
    "print(re.sub('ub', '~*' , 'Subject has Uber booked already', count=1, flags = re.IGNORECASE)) \n",
    "  \n",
    "# 'r' before the patter denotes RE, \\s is for start and end of a String. \n",
    "print(re.sub(r'\\sAND\\s', ' & ', 'Baked Beans And Spam', flags=re.IGNORECASE)) "
   ]
  },
  {
   "cell_type": "code",
   "execution_count": 20,
   "metadata": {
    "ExecuteTime": {
     "end_time": "2020-11-21T14:21:21.722774Z",
     "start_time": "2020-11-21T14:21:21.717092Z"
    }
   },
   "outputs": [
    {
     "data": {
      "text/plain": [
       "'S~*ject has Uber booked already'"
      ]
     },
     "execution_count": 20,
     "metadata": {},
     "output_type": "execute_result"
    }
   ],
   "source": [
    "p = re.compile(r'ub')\n",
    "p.sub('~*', 'Subject has Uber booked already')"
   ]
  },
  {
   "cell_type": "code",
   "execution_count": null,
   "metadata": {},
   "outputs": [],
   "source": [
    "~"
   ]
  },
  {
   "cell_type": "code",
   "execution_count": 11,
   "metadata": {
    "ExecuteTime": {
     "end_time": "2020-11-21T14:21:55.054913Z",
     "start_time": "2020-11-21T14:21:55.051333Z"
    }
   },
   "outputs": [],
   "source": [
    "t = re.subn('ub', '~*' , 'Subject has Uber booked already', flags = re.IGNORECASE) "
   ]
  },
  {
   "cell_type": "code",
   "execution_count": 12,
   "metadata": {
    "ExecuteTime": {
     "end_time": "2020-11-21T14:21:56.939020Z",
     "start_time": "2020-11-21T14:21:56.933441Z"
    }
   },
   "outputs": [
    {
     "data": {
      "text/plain": [
       "('S~*ject has ~*er booked already', 2)"
      ]
     },
     "execution_count": 12,
     "metadata": {},
     "output_type": "execute_result"
    }
   ],
   "source": [
    "t"
   ]
  },
  {
   "cell_type": "code",
   "execution_count": 11,
   "metadata": {
    "ExecuteTime": {
     "end_time": "2020-11-21T10:10:34.959749Z",
     "start_time": "2020-11-21T10:10:34.952027Z"
    }
   },
   "outputs": [
    {
     "name": "stdout",
     "output_type": "stream",
     "text": [
      "('S~*ject has Uber booked already', 1)\n",
      "('S~*ject has ~*er booked already', 2)\n",
      "2\n",
      "S~*ject has ~*er booked already\n"
     ]
    }
   ],
   "source": [
    "print(re.subn('ub', '~*' , 'Subject has Uber booked already')) \n",
    "t = re.subn('ub', '~*' , 'Subject has Uber booked already', flags = re.IGNORECASE) \n",
    "print(t) \n",
    "print(len(t)) \n",
    "  \n",
    "# This will give same output as sub() would have  \n",
    "print(t[0]) "
   ]
  },
  {
   "cell_type": "code",
   "execution_count": null,
   "metadata": {},
   "outputs": [],
   "source": []
  }
 ],
 "metadata": {
  "kernelspec": {
   "display_name": "Python 3",
   "language": "python",
   "name": "python3"
  },
  "language_info": {
   "codemirror_mode": {
    "name": "ipython",
    "version": 3
   },
   "file_extension": ".py",
   "mimetype": "text/x-python",
   "name": "python",
   "nbconvert_exporter": "python",
   "pygments_lexer": "ipython3",
   "version": "3.8.5"
  }
 },
 "nbformat": 4,
 "nbformat_minor": 2
}
